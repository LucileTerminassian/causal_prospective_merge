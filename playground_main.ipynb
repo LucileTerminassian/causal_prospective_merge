{
 "cells": [
  {
   "cell_type": "code",
   "execution_count": 11,
   "metadata": {},
   "outputs": [],
   "source": [
    "import numpy as np\n",
    "import pandas as pd\n",
    "import torch\n",
    "\n",
    "torch.set_default_tensor_type(torch.FloatTensor)  # set the default to float32\n",
    "\n",
    "from rct_data_generator import *\n",
    "from outcome_models import *\n",
    "from plotting_functions import *\n",
    "from mcmc_bayes_update import *\n",
    "from eig_comp_utils import *"
   ]
  },
  {
   "cell_type": "markdown",
   "metadata": {},
   "source": [
    "### 1. Simulating the data"
   ]
  },
  {
   "cell_type": "code",
   "execution_count": 12,
   "metadata": {},
   "outputs": [],
   "source": [
    "rng = np.random.RandomState(42)\n",
    "n_rct_before_split = 10**4\n",
    "n_host = 200  # number of samples in the host dataset?\n",
    "\n",
    "## NUMBER of sample for candidate datasets\n",
    "# Candidate 1 is the mirror image of host\n",
    "n_mirror = 500\n",
    "n_cand2 = 500\n",
    "\n",
    "# what are these?\n",
    "sigma_prior = 1.0\n",
    "sigma_rand_error = 1.0\n",
    "power_x, power_x_t = 1, 1  # ??\n",
    "causal_param_first_index = 3\n",
    "std_true_y = 0.01  # Standard deviation for the true Y"
   ]
  },
  {
   "cell_type": "code",
   "execution_count": 33,
   "metadata": {},
   "outputs": [],
   "source": [
    "# outcome_function = lambda X, T, eps: 1 + 1 * X[:,0] - 1 * X[:,1] + 1 * T + 1* X[:,0]*T + -1* X[:,1]*T + eps\n",
    "# p_assigned_to_host = lambda X_1, X_2, T, eps: sigmoid(1 + 2 * X_1 - X_2 + T + eps)\n",
    "# p_assigned_to_cand2 = lambda X_1, X_2, T, eps: sigmoid(1 - 2 * X_1 + eps)\n",
    "def outcome_function(X: np.ndarray, T: np.ndarray, eps: np.ndarray) -> np.ndarray:\n",
    "    # y = intercept + 1*X_0 - 1*X_1 + 1*T + 1*X_0*T - 1*X_1*T + noise\n",
    "    assert X.shape[0] == T.shape[0] == eps.shape[0], \"Shape mismatch\"\n",
    "    return (\n",
    "        1.0\n",
    "        + 1.0 * X[:, 0]\n",
    "        - 1.0 * X[:, 1]\n",
    "        + 1.0 * T\n",
    "        + 1.0 * X[:, 0] * T\n",
    "        - 1.0 * X[:, 1] * T\n",
    "        + eps\n",
    "    )\n",
    "\n",
    "\n",
    "def p_assigned_to_host(X_1, X_2, T, eps):\n",
    "    # ??\n",
    "    return sigmoid(1.0 + 2.0 * X_1 - X_2 + T + eps)\n",
    "\n",
    "\n",
    "def p_assigned_to_cand2(X_1, X_2, T, eps):\n",
    "    # ??\n",
    "    return sigmoid(1.0 - 2.0 * X_1 + eps)"
   ]
  },
  {
   "cell_type": "code",
   "execution_count": 34,
   "metadata": {},
   "outputs": [],
   "source": [
    "X0 = np.random.randint(0, 2, size=n_rct_before_split)\n",
    "X1 = np.random.normal(size=n_rct_before_split)\n",
    "x_distributions = {0: X0, 1: X1}  # distributions of covariates?"
   ]
  },
  {
   "cell_type": "code",
   "execution_count": 35,
   "metadata": {},
   "outputs": [
    {
     "name": "stdout",
     "output_type": "stream",
     "text": [
      "(10000, 2) (10000,)\n"
     ]
    }
   ],
   "source": [
    "# is this the whole \"population\"?\n",
    "X_rct, T_rct = generate_rct(n_rct_before_split, x_distributions)\n",
    "print(X_rct.shape, T_rct.shape)"
   ]
  },
  {
   "cell_type": "code",
   "execution_count": 36,
   "metadata": {},
   "outputs": [
    {
     "name": "stdout",
     "output_type": "stream",
     "text": [
      "   intercept   X0        X1  T  T*X0      T*X1         Y\n",
      "0        1.0  1.0  2.976466  0   0.0  0.000000  0.983934\n",
      "1        1.0  0.0 -0.703661  1   0.0 -0.703661  3.994097\n",
      "2        1.0  0.0 -0.509006  1   0.0 -0.509006  3.987352\n",
      "   intercept   X0        X1  T  T*X0      T*X1         Y\n",
      "0        1.0  1.0 -0.220907  1   1.0 -0.220907  1.993787\n",
      "1        1.0  1.0  0.934841  1   1.0  0.934841  2.007558\n",
      "2        1.0  1.0  0.724814  0   0.0  0.000000  0.986771\n"
     ]
    }
   ],
   "source": [
    "design_data_host, design_data_mirror = generate_host_and_mirror(\n",
    "    X=X_rct,\n",
    "    T=T_rct,\n",
    "    f_assigned_to_host=p_assigned_to_cand2,\n",
    "    n_host=n_host,\n",
    "    n_mirror=n_mirror,\n",
    "    power_x=power_x,\n",
    "    power_x_t=power_x_t,\n",
    "    outcome_function=outcome_function,\n",
    "    std_true_y=std_true_y,\n",
    ")  # two data frames: host and \"mirror\"\n",
    "print(design_data_host.head(3))  # [n_host, how many and what are the cols??]\n",
    "# should be the same as host but reversed treatment?\n",
    "print(design_data_mirror.head(3))  # [n_mirror, how many and what are the cols??]"
   ]
  },
  {
   "cell_type": "code",
   "execution_count": 37,
   "metadata": {},
   "outputs": [],
   "source": [
    "pre_X_cand2, pre_T_cand2 = generate_rct(n_rct_before_split, x_distributions)\n",
    "design_data_cand2 = generate_cand2(\n",
    "    X=pre_X_cand2,\n",
    "    T=pre_T_cand2,\n",
    "    f_assigned_to_cand2=p_assigned_to_cand2,\n",
    "    n_cand2=n_cand2,\n",
    "    power_x=power_x,\n",
    "    power_x_t=power_x_t,\n",
    "    outcome_function=outcome_function,\n",
    "    std_true_y=std_true_y,\n",
    ")"
   ]
  },
  {
   "cell_type": "code",
   "execution_count": 38,
   "metadata": {},
   "outputs": [],
   "source": [
    "X_mirror, Y_mirror = design_data_mirror.drop(columns=[\"Y\"]), design_data_mirror[\"Y\"]\n",
    "X_cand2, Y_cand2 = design_data_cand2.drop(columns=[\"Y\"]), design_data_cand2[\"Y\"]"
   ]
  },
  {
   "cell_type": "markdown",
   "metadata": {},
   "source": [
    "### 2. Simulating from prior and plotting\n",
    "Note: I don't think this is the right way to compare if our estimates are getting better but it will do for now"
   ]
  },
  {
   "cell_type": "code",
   "execution_count": 40,
   "metadata": {},
   "outputs": [],
   "source": [
    "# Initialize prior parameters\n",
    "post_mean = np.array([0.0, 0.0, 0.0, 0.0, 0.0, 0.0])  # is this prior??\n",
    "\n",
    "beta_0, sigma_0_sq, inv_cov_0 = (\n",
    "    post_mean,\n",
    "    sigma_rand_error**2,\n",
    "    1 / sigma_prior * np.eye(len(post_mean)),\n",
    ")\n",
    "prior_hyperparameters = {\n",
    "    \"beta_0\": beta_0,\n",
    "    \"sigma_0_sq\": sigma_0_sq,\n",
    "    \"inv_cov_0\": inv_cov_0,\n",
    "}\n",
    "bayes_reg = BayesianLinearRegression(prior_hyperparameters)"
   ]
  },
  {
   "cell_type": "code",
   "execution_count": 41,
   "metadata": {},
   "outputs": [
    {
     "data": {
      "image/png": "[encoded data removed]",
      "text/plain": [
       "<Figure size 1000x600 with 1 Axes>"
      ]
     },
     "metadata": {},
     "output_type": "display_data"
    }
   ],
   "source": [
    "### Bayesian update through host dataset\n",
    "X_host, Y_host = design_data_host.drop(columns=[\"Y\"]), design_data_host[\"Y\"]\n",
    "post_host_parameters = bayes_reg.fit(np.array(X_host.values), np.array(Y_host.values))\n",
    "\n",
    "# Generate Y_prior\n",
    "Y_prior = np.dot(X_host, beta_0) + np.random.normal(0, sigma_rand_error, len(X_host))\n",
    "\n",
    "# Generate Y_post_host\n",
    "beta_post_host_vec = post_host_parameters[\n",
    "    \"posterior_mean\"\n",
    "].flatten()  # Extract posterior mean\n",
    "cov_matrix_post_host = post_host_parameters[\"posterior_cov_matrix\"]\n",
    "Y_post_host = np.dot(X_host, beta_post_host_vec) + np.random.normal(\n",
    "    0, 1, len(X_host)\n",
    ")  # Assuming standard deviation for Y_post_host is 1\n",
    "\n",
    "plot_densities(\n",
    "    Y_prior,\n",
    "    Y_post_host,\n",
    "    design_data_host[\"Y\"],\n",
    "    names=[\"Y_prior\", \"Y_post_host\", \"True Y\"],\n",
    "    title=\"Y_post_host vs Y_prior vs True Y\",\n",
    ")"
   ]
  },
  {
   "cell_type": "code",
   "execution_count": 7,
   "metadata": {},
   "outputs": [],
   "source": [
    "# ### Bayesian update through candidate datasets\n",
    "# sigma_cand = 1\n",
    "# prior_hyperparameters_cand = {'beta_0': beta_post_host_vec, 'sigma_0_sq': sigma_cand}\n",
    "\n",
    "# ## With candidate = mirror dataset\n",
    "# bayes_reg_mirror = BayesianLinearRegression(prior_hyperparameters_cand)\n",
    "# X_mirror, Y_mirror = design_data_mirror.drop(columns=['Y']), design_data_mirror['Y']\n",
    "# post_mirror_parameters = bayes_reg_mirror.fit(X_mirror, Y_mirror)\n",
    "\n",
    "# # Generate Y_post_mirror\n",
    "# post_mirror_mean = post_mirror_parameters['posterior_mean'].flatten()  # Extract posterior mean\n",
    "# Y_post_mirror = np.dot(X_mirror, post_mirror_mean) + np.random.normal(0, 1, len(X_mirror))  # Assuming standard deviation for Y_post_host is 1\n",
    "\n",
    "# ## With candidate = cand2 dataset\n",
    "# bayes_reg_cand2 = BayesianLinearRegression(prior_hyperparameters_cand)\n",
    "# X_cand2, Y_cand2 = design_data_cand2.drop(columns=['Y']), design_data_cand2['Y']\n",
    "# post_cand2_parameters = bayes_reg_cand2.fit(X_cand2, Y_cand2)\n",
    "\n",
    "# # Generate Y_post_cand2\n",
    "# post_cand2_mean = post_cand2_parameters['posterior_mean'].flatten()  # Extract posterior mean\n",
    "# Y_post_cand2 = np.dot(X_cand2, post_cand2_mean) + np.random.normal(0, 1, len(X_cand2))  # Assuming standard deviation for Y_post_host is 1\n",
    "\n",
    "# plot_densities(Y_post_mirror, Y_post_cand2, design_data_host['Y'],\n",
    "#                 names = ['Y_post_mirror', 'Y_post_cand2', 'True Y'],\n",
    "#                 title = 'Y_post_mirror vs Y_post_cand2 vs True Y')"
   ]
  },
  {
   "cell_type": "code",
   "execution_count": 42,
   "metadata": {},
   "outputs": [
    {
     "name": "stderr",
     "output_type": "stream",
     "text": [
      "Warmup:   0%|          | 0/1110 [00:00, ?it/s]"
     ]
    },
    {
     "name": "stderr",
     "output_type": "stream",
     "text": [
      "Sample: 100%|██████████| 1110/1110 [00:34, 31.88it/s, step size=5.11e-02, acc. prob=0.916]\n"
     ]
    },
    {
     "name": "stdout",
     "output_type": "stream",
     "text": [
      "Inference ran for 0.58 minutes\n",
      "\n",
      "                mean       std    median      5.0%     95.0%     n_eff     r_hat\n",
      "    beta_0      2.00      0.13      2.00      1.79      2.20    670.22      1.00\n",
      "    beta_1     -0.98      0.20     -0.99     -1.34     -0.67    395.87      1.00\n",
      "    beta_2     -0.00      0.10     -0.00     -0.16      0.14    913.13      1.00\n",
      "    beta_3      1.96      0.17      1.97      1.68      2.24    623.26      1.00\n",
      "    beta_4     -0.95      0.28     -0.95     -1.41     -0.50    340.80      1.00\n",
      "    beta_5      0.00      0.13      0.01     -0.21      0.23    619.61      1.00\n",
      "\n",
      "Number of divergences: 0\n"
     ]
    }
   ],
   "source": [
    "# Number of samples used to estimate outer expectation\n",
    "n_samples_for_expectation = 100\n",
    "m_samples_for_expectation = int(np.ceil(np.sqrt(n_samples_for_expectation)))\n",
    "# Incorporating sqrt constraint into MCMC samples\n",
    "n_mcmc = n_samples_for_expectation * (m_samples_for_expectation + 1)\n",
    "\n",
    "warmup_steps = 10\n",
    "max_tree_depth = 7\n",
    "sigma_rand_error = sigma_0_sq\n",
    "\n",
    "X_torch = torch.tensor(X_host.values)\n",
    "Y_torch = torch.tensor(Y_host.values)\n",
    "\n",
    "## Bayesian update using the host dataset\n",
    "mcmc_host = MCMC_Bayesian_update(\n",
    "    X_torch=X_torch,\n",
    "    Y_torch=Y_torch,\n",
    "    model=model_normal,\n",
    "    mu_0=beta_0,\n",
    "    sigma_prior=sigma_prior,\n",
    "    sigma_rand_error=sigma_rand_error,\n",
    "    sigma_rand_error_fixed=True,\n",
    "    n_mcmc=n_mcmc,\n",
    "    warmup_steps=warmup_steps,\n",
    "    max_tree_depth=max_tree_depth,\n",
    ")\n",
    "mcmc_host.summary()\n",
    "\n",
    "beta_post_host = pd.DataFrame(mcmc_host.get_samples())\n",
    "\n",
    "# Shuffling to remove any dependence between adjacent samples\n",
    "beta_post_host = beta_post_host.sample(frac=1)\n",
    "\n",
    "beta_post_host.head()\n",
    "# We delete the column with the std\n",
    "beta_post_host_without_std = beta_post_host.iloc[:, :-1]"
   ]
  },
  {
   "cell_type": "code",
   "execution_count": 50,
   "metadata": {},
   "outputs": [
    {
     "name": "stdout",
     "output_type": "stream",
     "text": [
      "            beta_0       beta_1       beta_2       beta_3       beta_4  \\\n",
      "count  1100.000000  1100.000000  1100.000000  1100.000000  1100.000000   \n",
      "mean      1.996781    -0.983563    -0.002950     1.964813    -0.948628   \n",
      "std       0.126571     0.202631     0.096163     0.173467     0.276310   \n",
      "min       1.610035    -1.552340    -0.337226     1.376790    -1.761126   \n",
      "25%       1.913366    -1.127989    -0.068099     1.844846    -1.125539   \n",
      "50%       1.999231    -0.988671    -0.004640     1.965751    -0.945705   \n",
      "75%       2.081393    -0.849883     0.064869     2.082660    -0.776097   \n",
      "max       2.467403    -0.346741     0.304913     2.568251     0.080923   \n",
      "\n",
      "            beta_5  \n",
      "count  1100.000000  \n",
      "mean      0.003144  \n",
      "std       0.134038  \n",
      "min      -0.410791  \n",
      "25%      -0.090208  \n",
      "50%       0.007703  \n",
      "75%       0.093744  \n",
      "max       0.410847  \n",
      "[ 1.99683761e+00 -9.93564122e-01 -7.08350210e-04  1.96103500e+00\n",
      " -9.38668629e-01 -2.35969185e-03]\n"
     ]
    }
   ],
   "source": [
    "print(beta_post_host.describe())\n",
    "# what's the true??\n",
    "print(beta_post_host_vec)"
   ]
  },
  {
   "cell_type": "code",
   "execution_count": 44,
   "metadata": {},
   "outputs": [
    {
     "data": {
      "text/html": [
       "<div>\n",
       "<style scoped>\n",
       "    .dataframe tbody tr th:only-of-type {\n",
       "        vertical-align: middle;\n",
       "    }\n",
       "\n",
       "    .dataframe tbody tr th {\n",
       "        vertical-align: top;\n",
       "    }\n",
       "\n",
       "    .dataframe thead th {\n",
       "        text-align: right;\n",
       "    }\n",
       "</style>\n",
       "<table border=\"1\" class=\"dataframe\">\n",
       "  <thead>\n",
       "    <tr style=\"text-align: right;\">\n",
       "      <th></th>\n",
       "      <th>beta_0</th>\n",
       "      <th>beta_1</th>\n",
       "      <th>beta_2</th>\n",
       "      <th>beta_3</th>\n",
       "      <th>beta_4</th>\n",
       "      <th>beta_5</th>\n",
       "    </tr>\n",
       "  </thead>\n",
       "  <tbody>\n",
       "    <tr>\n",
       "      <th>beta_0</th>\n",
       "      <td>0.016020</td>\n",
       "      <td>-0.014688</td>\n",
       "      <td>0.001558</td>\n",
       "      <td>-0.015866</td>\n",
       "      <td>0.014678</td>\n",
       "      <td>-0.001956</td>\n",
       "    </tr>\n",
       "    <tr>\n",
       "      <th>beta_1</th>\n",
       "      <td>-0.014688</td>\n",
       "      <td>0.041059</td>\n",
       "      <td>0.000608</td>\n",
       "      <td>0.013694</td>\n",
       "      <td>-0.039267</td>\n",
       "      <td>-0.001510</td>\n",
       "    </tr>\n",
       "    <tr>\n",
       "      <th>beta_2</th>\n",
       "      <td>0.001558</td>\n",
       "      <td>0.000608</td>\n",
       "      <td>0.009247</td>\n",
       "      <td>-0.002373</td>\n",
       "      <td>0.000625</td>\n",
       "      <td>-0.009742</td>\n",
       "    </tr>\n",
       "    <tr>\n",
       "      <th>beta_3</th>\n",
       "      <td>-0.015866</td>\n",
       "      <td>0.013694</td>\n",
       "      <td>-0.002373</td>\n",
       "      <td>0.030091</td>\n",
       "      <td>-0.028349</td>\n",
       "      <td>0.003515</td>\n",
       "    </tr>\n",
       "    <tr>\n",
       "      <th>beta_4</th>\n",
       "      <td>0.014678</td>\n",
       "      <td>-0.039267</td>\n",
       "      <td>0.000625</td>\n",
       "      <td>-0.028349</td>\n",
       "      <td>0.076347</td>\n",
       "      <td>-0.002255</td>\n",
       "    </tr>\n",
       "    <tr>\n",
       "      <th>beta_5</th>\n",
       "      <td>-0.001956</td>\n",
       "      <td>-0.001510</td>\n",
       "      <td>-0.009742</td>\n",
       "      <td>0.003515</td>\n",
       "      <td>-0.002255</td>\n",
       "      <td>0.017966</td>\n",
       "    </tr>\n",
       "  </tbody>\n",
       "</table>\n",
       "</div>"
      ],
      "text/plain": [
       "          beta_0    beta_1    beta_2    beta_3    beta_4    beta_5\n",
       "beta_0  0.016020 -0.014688  0.001558 -0.015866  0.014678 -0.001956\n",
       "beta_1 -0.014688  0.041059  0.000608  0.013694 -0.039267 -0.001510\n",
       "beta_2  0.001558  0.000608  0.009247 -0.002373  0.000625 -0.009742\n",
       "beta_3 -0.015866  0.013694 -0.002373  0.030091 -0.028349  0.003515\n",
       "beta_4  0.014678 -0.039267  0.000625 -0.028349  0.076347 -0.002255\n",
       "beta_5 -0.001956 -0.001510 -0.009742  0.003515 -0.002255  0.017966"
      ]
     },
     "execution_count": 44,
     "metadata": {},
     "output_type": "execute_result"
    }
   ],
   "source": [
    "beta_post_host.cov()"
   ]
  },
  {
   "cell_type": "code",
   "execution_count": 45,
   "metadata": {},
   "outputs": [
    {
     "data": {
      "text/html": [
       "<div>\n",
       "<style scoped>\n",
       "    .dataframe tbody tr th:only-of-type {\n",
       "        vertical-align: middle;\n",
       "    }\n",
       "\n",
       "    .dataframe tbody tr th {\n",
       "        vertical-align: top;\n",
       "    }\n",
       "\n",
       "    .dataframe thead th {\n",
       "        text-align: right;\n",
       "    }\n",
       "</style>\n",
       "<table border=\"1\" class=\"dataframe\">\n",
       "  <thead>\n",
       "    <tr style=\"text-align: right;\">\n",
       "      <th></th>\n",
       "      <th>beta_0</th>\n",
       "      <th>beta_1</th>\n",
       "      <th>beta_2</th>\n",
       "      <th>beta_3</th>\n",
       "      <th>beta_4</th>\n",
       "      <th>beta_5</th>\n",
       "    </tr>\n",
       "  </thead>\n",
       "  <tbody>\n",
       "    <tr>\n",
       "      <th>beta_0</th>\n",
       "      <td>-0.000295</td>\n",
       "      <td>0.000537</td>\n",
       "      <td>0.000455</td>\n",
       "      <td>0.000025</td>\n",
       "      <td>0.000266</td>\n",
       "      <td>-0.000899</td>\n",
       "    </tr>\n",
       "    <tr>\n",
       "      <th>beta_1</th>\n",
       "      <td>0.000537</td>\n",
       "      <td>-0.002768</td>\n",
       "      <td>0.000396</td>\n",
       "      <td>-0.000743</td>\n",
       "      <td>0.002648</td>\n",
       "      <td>-0.001206</td>\n",
       "    </tr>\n",
       "    <tr>\n",
       "      <th>beta_2</th>\n",
       "      <td>0.000455</td>\n",
       "      <td>0.000396</td>\n",
       "      <td>0.000306</td>\n",
       "      <td>-0.001286</td>\n",
       "      <td>0.000861</td>\n",
       "      <td>-0.000867</td>\n",
       "    </tr>\n",
       "    <tr>\n",
       "      <th>beta_3</th>\n",
       "      <td>0.000025</td>\n",
       "      <td>-0.000743</td>\n",
       "      <td>-0.001286</td>\n",
       "      <td>0.001068</td>\n",
       "      <td>-0.001410</td>\n",
       "      <td>0.002076</td>\n",
       "    </tr>\n",
       "    <tr>\n",
       "      <th>beta_4</th>\n",
       "      <td>0.000266</td>\n",
       "      <td>0.002648</td>\n",
       "      <td>0.000861</td>\n",
       "      <td>-0.001410</td>\n",
       "      <td>-0.002761</td>\n",
       "      <td>-0.000568</td>\n",
       "    </tr>\n",
       "    <tr>\n",
       "      <th>beta_5</th>\n",
       "      <td>-0.000899</td>\n",
       "      <td>-0.001206</td>\n",
       "      <td>-0.000867</td>\n",
       "      <td>0.002076</td>\n",
       "      <td>-0.000568</td>\n",
       "      <td>0.001732</td>\n",
       "    </tr>\n",
       "  </tbody>\n",
       "</table>\n",
       "</div>"
      ],
      "text/plain": [
       "          beta_0    beta_1    beta_2    beta_3    beta_4    beta_5\n",
       "beta_0 -0.000295  0.000537  0.000455  0.000025  0.000266 -0.000899\n",
       "beta_1  0.000537 -0.002768  0.000396 -0.000743  0.002648 -0.001206\n",
       "beta_2  0.000455  0.000396  0.000306 -0.001286  0.000861 -0.000867\n",
       "beta_3  0.000025 -0.000743 -0.001286  0.001068 -0.001410  0.002076\n",
       "beta_4  0.000266  0.002648  0.000861 -0.001410 -0.002761 -0.000568\n",
       "beta_5 -0.000899 -0.001206 -0.000867  0.002076 -0.000568  0.001732"
      ]
     },
     "execution_count": 45,
     "metadata": {},
     "output_type": "execute_result"
    }
   ],
   "source": [
    "pd.DataFrame(beta_post_host.cov() - cov_matrix_post_host)"
   ]
  },
  {
   "cell_type": "markdown",
   "metadata": {},
   "source": [
    "### 3. Calculating EIG observational"
   ]
  },
  {
   "cell_type": "markdown",
   "metadata": {},
   "source": [
    "For the mirror dataset"
   ]
  },
  {
   "cell_type": "markdown",
   "metadata": {},
   "source": [
    "First, we calculate EIG using samples by getting the model predictions and putting them in the correct form"
   ]
  },
  {
   "cell_type": "code",
   "execution_count": 13,
   "metadata": {},
   "outputs": [],
   "source": [
    "X_mirror_arr = X_mirror.values\n",
    "Y_pred_mirror = predict_with_all_sampled_linear(beta_post_host, X_mirror_arr)\n",
    "\n",
    "pred_list_mirror = predictions_in_EIG_obs_form(\n",
    "    Y_pred_mirror, n_samples_for_expectation, m_samples_for_expectation\n",
    ")"
   ]
  },
  {
   "cell_type": "code",
   "execution_count": 14,
   "metadata": {},
   "outputs": [
    {
     "data": {
      "text/plain": [
       "6.2143311819169185"
      ]
     },
     "execution_count": 14,
     "metadata": {},
     "output_type": "execute_result"
    }
   ],
   "source": [
    "compute_EIG_obs_from_samples(pred_list_mirror, sigma_rand_error)"
   ]
  },
  {
   "cell_type": "markdown",
   "metadata": {},
   "source": [
    "Now to calculate for the causal"
   ]
  },
  {
   "cell_type": "code",
   "execution_count": 15,
   "metadata": {},
   "outputs": [],
   "source": [
    "sample_func = return_causal_samp_func_linear(\n",
    "    X=X_torch,\n",
    "    Y=Y_torch,\n",
    "    causal_param_first_index=3,\n",
    "    mu_0=beta_0,\n",
    "    sigma_prior=sigma_prior,\n",
    "    sigma_rand_error=sigma_rand_error,\n",
    "    sigma_rand_error_fixed=True,\n",
    "    warmup_steps=warmup_steps,\n",
    "    max_tree_depth=max_tree_depth,\n",
    ")\n",
    "pred_func = lambda beta: beta @ (X_mirror).T"
   ]
  },
  {
   "cell_type": "code",
   "execution_count": 16,
   "metadata": {},
   "outputs": [],
   "source": [
    "# pred_in_causal_form = predictions_in_EIG_causal_form(pred_func, theta_samples=beta_post_host.values[:40], theta_sampling_function=sample_func, n_non_causal_expectation=100, causal_param_first_index=3)"
   ]
  },
  {
   "cell_type": "code",
   "execution_count": 17,
   "metadata": {},
   "outputs": [],
   "source": [
    "# compute_EIG_causal_from_samples(pred_list_mirror,pred_in_causal_form, sigma_rand_error)"
   ]
  },
  {
   "cell_type": "markdown",
   "metadata": {},
   "source": [
    "Now, trying to calculate in closed form"
   ]
  },
  {
   "cell_type": "code",
   "execution_count": 18,
   "metadata": {},
   "outputs": [
    {
     "data": {
      "text/plain": [
       "3.8274889813495943"
      ]
     },
     "execution_count": 18,
     "metadata": {},
     "output_type": "execute_result"
    }
   ],
   "source": [
    "compute_EIG_obs_closed_form(X_mirror_arr, cov_matrix_post_host, sigma_rand_error)"
   ]
  },
  {
   "cell_type": "code",
   "execution_count": 19,
   "metadata": {},
   "outputs": [
    {
     "data": {
      "text/plain": [
       "0.9947338527725553"
      ]
     },
     "execution_count": 19,
     "metadata": {},
     "output_type": "execute_result"
    }
   ],
   "source": [
    "compute_EIG_causal_closed_form(X_mirror_arr, cov_matrix_post_host, sigma_rand_error, 3)"
   ]
  },
  {
   "cell_type": "markdown",
   "metadata": {},
   "source": [
    "For the cand2 dataset"
   ]
  },
  {
   "cell_type": "code",
   "execution_count": 20,
   "metadata": {},
   "outputs": [],
   "source": [
    "X_cand2_arr = X_cand2.values\n",
    "Y_pred_cand2 = predict_with_all_sampled_linear(beta_post_host, X_cand2_arr)\n",
    "\n",
    "pred_list_cand2 = predictions_in_EIG_obs_form(\n",
    "    Y_pred_cand2, n_samples_for_expectation, m_samples_for_expectation\n",
    ")"
   ]
  },
  {
   "cell_type": "code",
   "execution_count": 21,
   "metadata": {},
   "outputs": [
    {
     "data": {
      "text/plain": [
       "8.01836274625009"
      ]
     },
     "execution_count": 21,
     "metadata": {},
     "output_type": "execute_result"
    }
   ],
   "source": [
    "compute_EIG_obs_from_samples(pred_list_cand2, sigma_rand_error)"
   ]
  },
  {
   "cell_type": "markdown",
   "metadata": {},
   "source": [
    "Now, trying to calculate in closed form"
   ]
  },
  {
   "cell_type": "code",
   "execution_count": 94,
   "metadata": {},
   "outputs": [
    {
     "data": {
      "text/plain": [
       "3.6900844875155885"
      ]
     },
     "execution_count": 94,
     "metadata": {},
     "output_type": "execute_result"
    }
   ],
   "source": [
    "compute_EIG_obs_closed_form(X_cand2_arr, cov_matrix_post_host, sigma_rand_error)"
   ]
  },
  {
   "cell_type": "code",
   "execution_count": 95,
   "metadata": {},
   "outputs": [
    {
     "data": {
      "text/plain": [
       "1.0969206417854989"
      ]
     },
     "execution_count": 95,
     "metadata": {},
     "output_type": "execute_result"
    }
   ],
   "source": [
    "compute_EIG_causal_closed_form(X_cand2_arr, cov_matrix_post_host, sigma_rand_error, 3)"
   ]
  },
  {
   "cell_type": "markdown",
   "metadata": {},
   "source": [
    "### Sanity Experiments"
   ]
  },
  {
   "cell_type": "code",
   "execution_count": null,
   "metadata": {},
   "outputs": [],
   "source": []
  },
  {
   "cell_type": "code",
   "execution_count": 96,
   "metadata": {},
   "outputs": [],
   "source": [
    "from scipy.stats import multivariate_normal"
   ]
  },
  {
   "cell_type": "code",
   "execution_count": 97,
   "metadata": {},
   "outputs": [],
   "source": [
    "mvn = multivariate_normal(mean=beta_post_host_vec, cov=cov_matrix_post_host)"
   ]
  },
  {
   "cell_type": "code",
   "execution_count": 98,
   "metadata": {},
   "outputs": [],
   "source": [
    "n_samples_for_expectation = 2000\n",
    "m_samples_for_expectation = int(np.ceil(np.sqrt(n_samples_for_expectation)))"
   ]
  },
  {
   "cell_type": "code",
   "execution_count": 99,
   "metadata": {},
   "outputs": [],
   "source": [
    "beta = mvn.rvs(n_samples_for_expectation * (m_samples_for_expectation + 1))"
   ]
  },
  {
   "cell_type": "code",
   "execution_count": 100,
   "metadata": {},
   "outputs": [
    {
     "data": {
      "text/plain": [
       "(92000, 6)"
      ]
     },
     "execution_count": 100,
     "metadata": {},
     "output_type": "execute_result"
    }
   ],
   "source": [
    "beta.shape"
   ]
  },
  {
   "cell_type": "code",
   "execution_count": 101,
   "metadata": {},
   "outputs": [],
   "source": [
    "sigma_rand_error = 1"
   ]
  },
  {
   "cell_type": "code",
   "execution_count": 102,
   "metadata": {},
   "outputs": [],
   "source": [
    "y_pred_vec = predict_with_all_sampled_linear(pd.DataFrame(beta), X_mirror_arr)"
   ]
  },
  {
   "cell_type": "code",
   "execution_count": 103,
   "metadata": {},
   "outputs": [],
   "source": [
    "y_pred_form = predictions_in_EIG_obs_form(\n",
    "    y_pred_vec, n_samples_for_expectation, m_samples_for_expectation\n",
    ")"
   ]
  },
  {
   "cell_type": "code",
   "execution_count": 104,
   "metadata": {},
   "outputs": [
    {
     "data": {
      "text/plain": [
       "5.049881177021348"
      ]
     },
     "execution_count": 104,
     "metadata": {},
     "output_type": "execute_result"
    }
   ],
   "source": [
    "compute_EIG_obs_from_samples(y_pred_form, sigma_rand_error)"
   ]
  },
  {
   "cell_type": "code",
   "execution_count": 105,
   "metadata": {},
   "outputs": [
    {
     "name": "stderr",
     "output_type": "stream",
     "text": [
      "Sample:  21%|██        | 232/1110 [00:21, 110.29it/s, step size=4.74e-02, acc. prob=0.942]"
     ]
    },
    {
     "data": {
      "text/plain": [
       "713.9648671493129"
      ]
     },
     "execution_count": 105,
     "metadata": {},
     "output_type": "execute_result"
    }
   ],
   "source": [
    "calc_posterior_predictive_entropy(y_pred_form, sigma_rand_error)"
   ]
  },
  {
   "cell_type": "code",
   "execution_count": 106,
   "metadata": {},
   "outputs": [
    {
     "data": {
      "text/plain": [
       "3.6701673232749767"
      ]
     },
     "execution_count": 106,
     "metadata": {},
     "output_type": "execute_result"
    }
   ],
   "source": [
    "compute_EIG_obs_closed_form(X_mirror_arr, cov_matrix_post_host, sigma_rand_error)"
   ]
  },
  {
   "cell_type": "code",
   "execution_count": 107,
   "metadata": {},
   "outputs": [
    {
     "data": {
      "text/plain": [
       "713.1394339256113"
      ]
     },
     "execution_count": 107,
     "metadata": {},
     "output_type": "execute_result"
    }
   ],
   "source": [
    "n_e = len(y_pred_form[0][0])\n",
    "X = X_mirror_arr\n",
    "sign, log_det_term = np.linalg.slogdet(\n",
    "    X @ ((cov_matrix_post_host) @ X.T) + (sigma_rand_error**2) * np.eye(n_e)\n",
    ")\n",
    "1 / 2 * log_det_term + n_e / 2 * (1 + np.log(2 * np.pi))"
   ]
  },
  {
   "cell_type": "code",
   "execution_count": 108,
   "metadata": {},
   "outputs": [],
   "source": [
    "beta_repeat = np.tile(beta_post_host_vec, (len(beta), 1))"
   ]
  },
  {
   "cell_type": "code",
   "execution_count": 109,
   "metadata": {},
   "outputs": [],
   "source": [
    "y_pred_vec_repeat = predict_with_all_sampled_linear(\n",
    "    pd.DataFrame(beta_repeat), X_mirror_arr\n",
    ")"
   ]
  },
  {
   "cell_type": "code",
   "execution_count": 110,
   "metadata": {},
   "outputs": [
    {
     "data": {
      "text/plain": [
       "(92000, 500)"
      ]
     },
     "execution_count": 110,
     "metadata": {},
     "output_type": "execute_result"
    }
   ],
   "source": [
    "y_pred_vec.shape"
   ]
  },
  {
   "cell_type": "code",
   "execution_count": 111,
   "metadata": {},
   "outputs": [
    {
     "data": {
      "text/plain": [
       "(92000, 500)"
      ]
     },
     "execution_count": 111,
     "metadata": {},
     "output_type": "execute_result"
    }
   ],
   "source": [
    "y_pred_vec_repeat.shape"
   ]
  },
  {
   "cell_type": "code",
   "execution_count": 112,
   "metadata": {},
   "outputs": [],
   "source": [
    "y_pred_form_repeat = predictions_in_EIG_obs_form(\n",
    "    y_pred_vec_repeat, n_samples_for_expectation, m_samples_for_expectation\n",
    ")"
   ]
  },
  {
   "cell_type": "code",
   "execution_count": 113,
   "metadata": {},
   "outputs": [],
   "source": [
    "cov_matrix_post_host_zero = np.zeros_like(cov_matrix_post_host)"
   ]
  },
  {
   "cell_type": "code",
   "execution_count": 114,
   "metadata": {},
   "outputs": [],
   "source": [
    "sigma_repeat = 0.0001"
   ]
  },
  {
   "cell_type": "code",
   "execution_count": 115,
   "metadata": {},
   "outputs": [
    {
     "data": {
      "text/plain": [
       "-0.2012644936221477"
      ]
     },
     "execution_count": 115,
     "metadata": {},
     "output_type": "execute_result"
    }
   ],
   "source": [
    "compute_EIG_obs_from_samples(y_pred_form_repeat, sigma_repeat)"
   ]
  },
  {
   "cell_type": "code",
   "execution_count": 116,
   "metadata": {},
   "outputs": [
    {
     "data": {
      "text/plain": [
       "-9.094947017729282e-12"
      ]
     },
     "execution_count": 116,
     "metadata": {},
     "output_type": "execute_result"
    }
   ],
   "source": [
    "compute_EIG_obs_closed_form(X_mirror_arr, cov_matrix_post_host_zero, sigma_repeat)"
   ]
  },
  {
   "cell_type": "code",
   "execution_count": 117,
   "metadata": {},
   "outputs": [
    {
     "data": {
      "text/plain": [
       "-3895.700919385764"
      ]
     },
     "execution_count": 117,
     "metadata": {},
     "output_type": "execute_result"
    }
   ],
   "source": [
    "n_e = len(y_pred_form_repeat[0][0])\n",
    "X = X_mirror_arr\n",
    "sign, log_det_term = np.linalg.slogdet(\n",
    "    X @ ((cov_matrix_post_host_zero) @ X.T) + (sigma_repeat**2) * np.eye(n_e)\n",
    ")\n",
    "1 / 2 * log_det_term + n_e / 2 * (1 + np.log(2 * np.pi))"
   ]
  },
  {
   "cell_type": "code",
   "execution_count": 118,
   "metadata": {},
   "outputs": [
    {
     "data": {
      "text/plain": [
       "-3895.6722024874466"
      ]
     },
     "execution_count": 118,
     "metadata": {},
     "output_type": "execute_result"
    }
   ],
   "source": [
    "calc_posterior_predictive_entropy(y_pred_form_repeat, sigma_repeat)"
   ]
  },
  {
   "cell_type": "code",
   "execution_count": 119,
   "metadata": {},
   "outputs": [],
   "source": [
    "cov_matrix_post_host_id = np.eye(6)\n",
    "mvn_id = multivariate_normal(mean=beta_post_host_vec, cov=cov_matrix_post_host_id)\n",
    "n_samples_for_expectation = 500\n",
    "m_samples_for_expectation = int(np.ceil(np.sqrt(n_samples_for_expectation)))\n",
    "beta_id = mvn_id.rvs(n_samples_for_expectation * (m_samples_for_expectation + 1))"
   ]
  },
  {
   "cell_type": "code",
   "execution_count": 120,
   "metadata": {},
   "outputs": [],
   "source": [
    "sigma_rand_error = 1"
   ]
  },
  {
   "cell_type": "code",
   "execution_count": 121,
   "metadata": {},
   "outputs": [],
   "source": [
    "y_pred_vec_id = predict_with_all_sampled_linear(pd.DataFrame(beta_id), X_mirror_arr)\n",
    "y_pred_form_id = predictions_in_EIG_obs_form(\n",
    "    y_pred_vec_id, n_samples_for_expectation, m_samples_for_expectation\n",
    ")"
   ]
  },
  {
   "cell_type": "code",
   "execution_count": 122,
   "metadata": {},
   "outputs": [
    {
     "data": {
      "text/plain": [
       "360.17254162456425"
      ]
     },
     "execution_count": 122,
     "metadata": {},
     "output_type": "execute_result"
    }
   ],
   "source": [
    "compute_EIG_obs_from_samples(y_pred_form_id, sigma_rand_error)"
   ]
  },
  {
   "cell_type": "code",
   "execution_count": 123,
   "metadata": {},
   "outputs": [
    {
     "data": {
      "text/plain": [
       "30.066570743698733"
      ]
     },
     "execution_count": 123,
     "metadata": {},
     "output_type": "execute_result"
    }
   ],
   "source": [
    "sign, log_det_term = np.linalg.slogdet(\n",
    "    X_mirror_arr.T @ X_mirror_arr + cov_matrix_post_host\n",
    ")\n",
    "log_det_term"
   ]
  },
  {
   "cell_type": "code",
   "execution_count": 124,
   "metadata": {},
   "outputs": [
    {
     "data": {
      "text/plain": [
       "7.3403346465499535"
      ]
     },
     "execution_count": 124,
     "metadata": {},
     "output_type": "execute_result"
    }
   ],
   "source": [
    "sign, log_det_term = np.linalg.slogdet(\n",
    "    X_mirror_arr @ (cov_matrix_post_host @ X_mirror_arr.T) + np.eye(len(X_mirror_arr))\n",
    ")\n",
    "log_det_term"
   ]
  },
  {
   "cell_type": "code",
   "execution_count": 125,
   "metadata": {},
   "outputs": [
    {
     "data": {
      "text/plain": [
       "15.080597854446653"
      ]
     },
     "execution_count": 125,
     "metadata": {},
     "output_type": "execute_result"
    }
   ],
   "source": [
    "compute_EIG_obs_closed_form(X_mirror_arr, cov_matrix_post_host_id, sigma_rand_error)"
   ]
  },
  {
   "cell_type": "markdown",
   "metadata": {},
   "source": [
    "Below calculates from samples"
   ]
  },
  {
   "cell_type": "code",
   "execution_count": 126,
   "metadata": {},
   "outputs": [
    {
     "data": {
      "text/plain": [
       "1070.4829435254615"
      ]
     },
     "execution_count": 126,
     "metadata": {},
     "output_type": "execute_result"
    }
   ],
   "source": [
    "calc_posterior_predictive_entropy(y_pred_form_id, sigma_rand_error)"
   ]
  },
  {
   "cell_type": "markdown",
   "metadata": {},
   "source": [
    "Closed form of same term"
   ]
  },
  {
   "cell_type": "code",
   "execution_count": 127,
   "metadata": {},
   "outputs": [
    {
     "data": {
      "text/plain": [
       "724.549864456783"
      ]
     },
     "execution_count": 127,
     "metadata": {},
     "output_type": "execute_result"
    }
   ],
   "source": [
    "n_e = len(y_pred_form_repeat[0][0])\n",
    "X = X_mirror_arr\n",
    "sign, log_det_term = np.linalg.slogdet(\n",
    "    X @ ((cov_matrix_post_host_id) @ X.T) + (sigma_rand_error**2) * np.eye(n_e)\n",
    ")\n",
    "1 / 2 * log_det_term + n_e / 2 * (1 + np.log(2 * np.pi))"
   ]
  },
  {
   "cell_type": "code",
   "execution_count": 128,
   "metadata": {},
   "outputs": [
    {
     "data": {
      "text/plain": [
       "709.4692666023363"
      ]
     },
     "execution_count": 128,
     "metadata": {},
     "output_type": "execute_result"
    }
   ],
   "source": [
    "n_e / 2 * (1 + np.log(2 * np.pi))"
   ]
  },
  {
   "cell_type": "code",
   "execution_count": 129,
   "metadata": {},
   "outputs": [
    {
     "data": {
      "text/plain": [
       "-10185.749338094736"
      ]
     },
     "execution_count": 129,
     "metadata": {},
     "output_type": "execute_result"
    }
   ],
   "source": [
    "sign, log_det = np.linalg.slogdet(X @ ((100000 * cov_matrix_post_host_id) @ X.T))\n",
    "log_det"
   ]
  },
  {
   "cell_type": "code",
   "execution_count": 130,
   "metadata": {},
   "outputs": [
    {
     "data": {
      "text/plain": [
       "-0.0"
      ]
     },
     "execution_count": 130,
     "metadata": {},
     "output_type": "execute_result"
    }
   ],
   "source": [
    "np.linalg.det(X @ ((cov_matrix_post_host_id) @ X.T))"
   ]
  },
  {
   "cell_type": "code",
   "execution_count": 131,
   "metadata": {},
   "outputs": [],
   "source": [
    "pred_list = y_pred_form_id\n",
    "sigma = sigma_rand_error\n",
    "n_e = len(pred_list[0][0])\n",
    "covariance = cov.CovViaDiagonal(sigma**2 * np.ones(n_e))\n",
    "sample_list = []\n",
    "\n",
    "for y_pred, y_pred_multiple in pred_list:\n",
    "    mvn = multivariate_normal(mean=y_pred, cov=covariance)\n",
    "    y_sample = mvn.rvs()\n",
    "    sample_list.append(log_posterior_predictive(y_sample, y_pred_multiple, covariance))"
   ]
  },
  {
   "cell_type": "code",
   "execution_count": null,
   "metadata": {},
   "outputs": [],
   "source": [
    "pred_list = y_pred_form_id\n",
    "sigma = sigma_rand_error\n",
    "n_e = len(pred_list[0][0])\n",
    "covariance = cov.CovViaDiagonal(sigma**2 * np.ones(n_e))\n",
    "sample_list = []\n",
    "\n",
    "for y_pred, y_pred_multiple in pred_list:\n",
    "    mvn = multivariate_normal(mean=y_pred, cov=covariance)\n",
    "    y_sample = mvn.rvs()\n",
    "    sample_list.append(log_posterior_predictive(y_sample, y_pred_multiple, covariance))"
   ]
  },
  {
   "cell_type": "code",
   "execution_count": 150,
   "metadata": {},
   "outputs": [],
   "source": [
    "mvn = multivariate_normal(mean=y_pred_vec_id[0], cov=covariance)\n",
    "y_sample = mvn.rvs()"
   ]
  },
  {
   "cell_type": "code",
   "execution_count": 151,
   "metadata": {},
   "outputs": [],
   "source": [
    "y = y_sample\n",
    "y_pred_theta_samples = y_pred_vec_id[1:]\n",
    "n_e = len(y)\n",
    "\n",
    "log_likelihood_list = []\n",
    "for y_pred in y_pred_theta_samples:\n",
    "    log_likelihood_list.append(\n",
    "        multivariate_normal_log_likelihood(y, y_pred, covariance)\n",
    "    )\n",
    "lsum = logsumexp(log_likelihood_list)"
   ]
  },
  {
   "cell_type": "code",
   "execution_count": 152,
   "metadata": {},
   "outputs": [
    {
     "data": {
      "text/plain": [
       "-739.3374130390305"
      ]
     },
     "execution_count": 152,
     "metadata": {},
     "output_type": "execute_result"
    }
   ],
   "source": [
    "max(log_likelihood_list)"
   ]
  },
  {
   "cell_type": "code",
   "execution_count": 144,
   "metadata": {},
   "outputs": [
    {
     "data": {
      "text/plain": [
       "-1093.7017073821157"
      ]
     },
     "execution_count": 144,
     "metadata": {},
     "output_type": "execute_result"
    }
   ],
   "source": [
    "lsum + np.log(len(log_likelihood_list))"
   ]
  },
  {
   "cell_type": "code",
   "execution_count": 135,
   "metadata": {},
   "outputs": [],
   "source": [
    "prior_matrix = np.eye(6)"
   ]
  },
  {
   "cell_type": "code",
   "execution_count": 136,
   "metadata": {},
   "outputs": [
    {
     "data": {
      "text/plain": [
       "26.286291705017188"
      ]
     },
     "execution_count": 136,
     "metadata": {},
     "output_type": "execute_result"
    }
   ],
   "source": [
    "sign, log_det_term_post = np.linalg.slogdet(\n",
    "    (1 / sigma**2) * X_host.T @ X_host + np.linalg.inv(prior_matrix)\n",
    ")\n",
    "sign, log_det_term_prior = np.linalg.slogdet(np.linalg.inv(prior_matrix))\n",
    "1 / 2 * log_det_term_post - 1 / 2 * log_det_term_prior"
   ]
  }
 ],
 "metadata": {
  "kernelspec": {
   "display_name": "Python 3",
   "language": "python",
   "name": "python3"
  },
  "language_info": {
   "codemirror_mode": {
    "name": "ipython",
    "version": 3
   },
   "file_extension": ".py",
   "mimetype": "text/x-python",
   "name": "python",
   "nbconvert_exporter": "python",
   "pygments_lexer": "ipython3",
   "version": "3.12.2"
  }
 },
 "nbformat": 4,
 "nbformat_minor": 2
}
