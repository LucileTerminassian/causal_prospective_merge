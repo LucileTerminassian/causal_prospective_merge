{
 "cells": [
  {
   "cell_type": "code",
   "execution_count": null,
   "metadata": {},
   "outputs": [],
   "source": [
    "import numpy as np\n",
    "import pandas as pd\n",
    "import torch\n",
    "torch.set_default_tensor_type(torch.FloatTensor) \n",
    "import copy\n",
    "import sys\n",
    "import os\n",
    "\n",
    "notebook_dir = os.getcwd()\n",
    "parent_dir = os.path.dirname(notebook_dir)\n",
    "# Add the parent directory to the Python path\n",
    "sys.path.append(parent_dir)\n",
    "\n",
    "from rct_data_generator import *\n",
    "from outcome_models import *\n",
    "from plotting_functions import *\n",
    "from mcmc_bayes_update import *\n",
    "from eig_comp_utils import *\n",
    "from research_exp_utils import *\n",
    "import uci_dataset as dataset"
   ]
  },
  {
   "cell_type": "markdown",
   "metadata": {},
   "source": [
    "### 1. Simulating the data"
   ]
  },
  {
   "cell_type": "code",
   "execution_count": null,
   "metadata": {},
   "outputs": [],
   "source": [
    "rng = np.random.RandomState(42)\n",
    "\n",
    "n_rct_before_split = 10**4\n",
    "n_host = 200\n",
    "sigma_prior = 1\n",
    "sigma_rand_error = 1\n",
    "\n",
    "power_x, power_x_t = 1, 0 # keep them 1 and 0 for BART\n",
    "include_intercept = 1 # 0 if no intercept\n",
    "std_true_y = 1 # Standard deviation for the true Y\n"
   ]
  },
  {
   "cell_type": "code",
   "execution_count": null,
   "metadata": {},
   "outputs": [],
   "source": [
    "abalone = dataset.load_abalone()\n",
    "\n",
    "abalone['Sex'] = abalone['Sex'].map({'M': 0, 'F': 1})\n",
    "abalone.dropna(inplace=True)\n",
    "resampled_abalone = [abalone.sample(frac=1, replace=True) for _ in range(5*(10**3))]\n",
    "# Concatenate resampled DataFrames\n",
    "abalone = pd.concat(resampled_abalone, ignore_index=True)\n",
    "\n",
    "causal_param_first_index = power_x * np.shape(abalone)[1] + include_intercept\n",
    "\n",
    "abalone = abalone.iloc[:n_rct_before_split,:]\n"
   ]
  },
  {
   "cell_type": "code",
   "execution_count": null,
   "metadata": {},
   "outputs": [],
   "source": [
    "initial_x_dim = np.shape(abalone)[1]\n",
    "initial_n_entire_data = np.shape(abalone)[0]\n",
    "x_distributions={}\n",
    "\n",
    "for column in abalone.columns:\n",
    "    x_distributions[column] = abalone[column].values\n",
    "\n",
    "# simulate T\n",
    "T_rct = np.random.randint(2, size=initial_n_entire_data)\n",
    "\n",
    "# TODO change this\n",
    "p_assigned_to_host = lambda X, T, eps: sigmoid(1 + 5*X['Sex'] - X['Weight.viscera'] + 12*np.sqrt(X['Diameter']) + 12*X['Weight.shell'] + 30*T + eps)\n",
    "p_assigned_to_cand2 = lambda X, T, eps: sigmoid(1 + 20*X['Sex'] - X['Weight.viscera'] + 12*np.sqrt(X['Diameter']) + 12* X['Weight.shell'] + 30*T + eps)\n",
    "\n",
    "d = include_intercept + initial_x_dim*(power_x) + 1 + len(x_distributions)*(power_x_t)\n",
    "\n",
    "outcome_function = lambda X, T, eps : include_intercept + 1 * X['Sex'] - 1 * np.log(X['Weight.viscera']) + X['Weight.whole'] - X['Height'] \\\n",
    "    + 4 * T + 2* X['Weight.shucked']*T + 24* X['Weight.shell']*T + 0* X['Weight.shucked']*T + eps \n"
   ]
  },
  {
   "cell_type": "markdown",
   "metadata": {},
   "source": [
    "Simulation parameters"
   ]
  },
  {
   "cell_type": "code",
   "execution_count": null,
   "metadata": {},
   "outputs": [],
   "source": [
    "# Prior parameters for Bayesian update on host\n",
    "prior_mean = torch.zeros(d+include_intercept)\n",
    "beta_0, sigma_0_sq, inv_cov_0 = prior_mean, sigma_rand_error**2 ,  1 / sigma_prior * np.eye(len(prior_mean))\n",
    "prior_hyperparameters = {'beta_0': beta_0, 'sigma_0_sq': sigma_0_sq,\"inv_cov_0\":inv_cov_0}\n",
    "\n",
    "beta_0, sigma_0_sq, inv_cov_0 = (\n",
    "    prior_mean,\n",
    "    sigma_rand_error**2,\n",
    "    1 / sigma_prior * np.eye(len(prior_mean)),\n",
    ")\n",
    "prior_hyperparameters = {\n",
    "    \"beta_0\": beta_0,\n",
    "    \"sigma_0_sq\": sigma_0_sq,\n",
    "    \"inv_cov_0\": inv_cov_0,\n",
    "}\n"
   ]
  },
  {
   "cell_type": "code",
   "execution_count": null,
   "metadata": {},
   "outputs": [],
   "source": [
    "n_both_candidates_list = [200, 500, 1000]\n",
    "proportion = 1 #n_cand2 = prorportion * n_both_candidates_list\n",
    "std_true_y = 1\n",
    "\n",
    "\n",
    "data_parameters = {\n",
    "    \"n_both_candidates_list\": n_both_candidates_list,\n",
    "    \"proportion\": proportion,\n",
    "    \"n_rct_before_split\": n_rct_before_split,\n",
    "    \"x_distributions\": x_distributions,\n",
    "    \"p_assigned_to_cand2\": p_assigned_to_cand2,\n",
    "    \"p_assigned_to_host\": p_assigned_to_host,\n",
    "    \"n_host\": n_host,\n",
    "    \"power_x\": power_x,\n",
    "    \"power_x_t\": power_x_t,\n",
    "    \"outcome_function\": outcome_function,\n",
    "    \"std_true_y\": std_true_y,\n",
    "    \"causal_param_first_index\": causal_param_first_index,\n",
    "}"
   ]
  },
  {
   "cell_type": "markdown",
   "metadata": {},
   "source": [
    "### 2. EIG from samples for varying sample sizes"
   ]
  },
  {
   "cell_type": "code",
   "execution_count": null,
   "metadata": {},
   "outputs": [],
   "source": [
    "n_samples_outer_expectation_obs = 100\n",
    "n_samples_inner_expectation_obs = 200\n",
    "n_samples_outer_expectation_caus = 100\n",
    "n_samples_inner_expectation_caus = 200\n",
    "\n",
    "sampling_parameters = {'n_samples_inner_expectation_obs':n_samples_inner_expectation_obs, 'n_samples_outer_expectation_obs':n_samples_outer_expectation_obs, \\\n",
    "                       'n_samples_inner_expectation_caus':n_samples_inner_expectation_caus, 'n_samples_outer_expectation_caus':n_samples_outer_expectation_caus}\n",
    "\n",
    "prior_hyperparameters = {'sigma_0_sq':1, 'p_categorical_pr':0, 'p_categorical_trt':0 }\n",
    "predictive_model_parameters={\"num_trees_pr\":200,\"num_trees_trt\":100}\n",
    "conditional_model_param={\"num_trees_pr\":200}"
   ]
  },
  {
   "cell_type": "code",
   "execution_count": null,
   "metadata": {},
   "outputs": [],
   "source": [
    "n_seeds=4\n",
    "plot_additional = True\n",
    "\n",
    "text_l1 ='p_assigned_to_host = p_assigned_to_cand2, approx 0.75 of treated in host, '\n",
    "text_l2 = 'n_host = '+str(n_host)+', sigma_prior = sigma_rand_error = '+str(sigma_rand_error)\n",
    "text_l3 = 'outcome_function = 1 + 1 * X[:,0] - 1 * X[:,1] + 1 * X[:,2] + 4 * T + 2* X[:,0]*T + 24* X[:,1]*T + 0* X[:,2]*T + eps'"
   ]
  },
  {
   "cell_type": "code",
   "execution_count": null,
   "metadata": {},
   "outputs": [],
   "source": [
    "exact_data = generate_exact_data_varying_sample_size(\n",
    "    data_parameters, include_intercept=bool(include_intercept)\n",
    ")\n",
    "exact_data[200][\"host\"]"
   ]
  },
  {
   "cell_type": "code",
   "execution_count": 10,
   "metadata": {},
   "outputs": [],
   "source": [
    "\n",
    "dict_additional_plots_obs_from_samples, dict_additional_plots_caus_from_samples = (\n",
    "    bart_eig_from_samples_varying_sample_size(\n",
    "        exact_data,\n",
    "        data_parameters,\n",
    "        prior_hyperparameters,\n",
    "        predictive_model_parameters,\n",
    "        conditional_model_param,\n",
    "        sampling_parameters\n",
    "    )\n",
    ")"
   ]
  },
  {
   "cell_type": "code",
   "execution_count": null,
   "metadata": {},
   "outputs": [],
   "source": [
    "EIG_obs_closed_form_across_seeds, EIG_caus_closed_form_across_seeds = [], []\n",
    "\n",
    "for i in range(n_seeds):\n",
    "    nonexact_data = generate_data_varying_sample_size(\n",
    "        data_parameters, include_intercept=bool(include_intercept)\n",
    "    )\n",
    "    EIGs = bart_eig_from_samples_varying_sample_size(\n",
    "        nonexact_data,\n",
    "        data_parameters,\n",
    "        prior_hyperparameters,\n",
    "        predictive_model_parameters,\n",
    "        conditional_model_param,\n",
    "        sampling_parameters\n",
    "    )\n",
    "    EIG_obs_closed_form_across_seeds.append(\n",
    "        [cand_values for cand_values in EIGs[0].values()]\n",
    "    )\n",
    "    EIG_caus_closed_form_across_seeds.append(\n",
    "        [cand_values for cand_values in EIGs[1].values()]\n",
    "    )\n",
    "\n",
    "\n",
    "EIG_obs_closed_form_across_seeds = np.vstack(EIG_obs_closed_form_across_seeds)  \n",
    "EIG_caus_closed_form_across_seeds = np.vstack(EIG_caus_closed_form_across_seeds)\n"
   ]
  },
  {
   "cell_type": "code",
   "execution_count": null,
   "metadata": {},
   "outputs": [],
   "source": [
    "text_l1 = \"p_assigned_to_host=p_assigned_to_cand2, approx 0.8 treated in host\"\n",
    "text_l2 = (\n",
    "    \"n_samples_inner_expectation_obs = \"\n",
    "    + str(n_samples_inner_expectation_obs)\n",
    "    + \"n_samples_outer_expectation_obs = \"\n",
    "    + str(n_samples_outer_expectation_obs)\n",
    "    + \", n_host = \"\n",
    "    + str(n_host)\n",
    "    + \", sigma_prior = sigma_rand_error = \"\n",
    "    + str(sigma_rand_error)\n",
    ")\n",
    "text_l4 = (\n",
    "    \"n_host = 200, sigma_prior = sigma_rand_error = 1, n_samples_inner_expectation_caus = \"\n",
    "    + str(n_samples_inner_expectation_caus)\n",
    ")"
   ]
  },
  {
   "cell_type": "code",
   "execution_count": null,
   "metadata": {},
   "outputs": [],
   "source": [
    "path_obs_closed_form = \"\"\n",
    "\n",
    "plot_array(\n",
    "    x=n_both_candidates_list,  # sample sizes\n",
    "    arr=EIG_obs_closed_form_across_seeds,\n",
    "    axis_names=[\"Sample size of candidate datasets\", \"EIG predictive\"],\n",
    "    dict_additional_plots=dict_additional_plots_obs_from_samples,\n",
    "    text=text_l1 + \"\\n\" + text_l2 + \"\\n\" + text_l3,\n",
    "    title=\"EIG predictive complementary - EIG predictive twin\",\n",
    ")"
   ]
  },
  {
   "cell_type": "code",
   "execution_count": null,
   "metadata": {},
   "outputs": [],
   "source": [
    "# path_obs_samples = '/Users/lucile/causal_info_gain/plots/eig_obs_samples'\n",
    "path_caus_samples = 0\n",
    "\n",
    "plot_array(\n",
    "    x = n_both_candidates_list,\n",
    "    arr = EIG_caus_closed_form_across_seeds,\n",
    "    axis_names=[\"Sample size of candidate datasets\", \"EIG predictive\"],\n",
    "    dict_additional_plots=dict_additional_plots_caus_from_samples,\n",
    "    text=text_l1 + \"\\n\" + text_l2 + \"\\n\" + text_l3 + \"\\n\" + text_l4,\n",
    "    title=\"EIG predictive complementary - EIG predictive twin\"\n",
    ")"
   ]
  }
 ],
 "metadata": {
  "kernelspec": {
   "display_name": "pjake_kernel",
   "language": "python",
   "name": "pjake_kernel"
  },
  "language_info": {
   "codemirror_mode": {
    "name": "ipython",
    "version": 3
   },
   "file_extension": ".py",
   "mimetype": "text/x-python",
   "name": "python",
   "nbconvert_exporter": "python",
   "pygments_lexer": "ipython3",
   "version": "3.9.7"
  }
 },
 "nbformat": 4,
 "nbformat_minor": 2
}
