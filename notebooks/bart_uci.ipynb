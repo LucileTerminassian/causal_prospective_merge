{
 "cells": [
  {
   "cell_type": "code",
   "execution_count": 1,
   "metadata": {},
   "outputs": [
    {
     "name": "stderr",
     "output_type": "stream",
     "text": [
      "/Users/lucile/causal_info_gain/pjake/lib/python3.9/site-packages/torch/__init__.py:696: UserWarning: torch.set_default_tensor_type() is deprecated as of PyTorch 2.1, please use torch.set_default_dtype() and torch.set_default_device() as alternatives. (Triggered internally at /Users/runner/work/pytorch/pytorch/pytorch/torch/csrc/tensor/python_tensor.cpp:453.)\n",
      "  _C._set_default_tensor_type(t)\n"
     ]
    }
   ],
   "source": [
    "import numpy as np\n",
    "import pandas as pd\n",
    "import torch\n",
    "torch.set_default_tensor_type(torch.FloatTensor) \n",
    "import copy\n",
    "import sys\n",
    "import os\n",
    "\n",
    "notebook_dir = os.getcwd()\n",
    "parent_dir = os.path.dirname(notebook_dir)\n",
    "# Add the parent directory to the Python path\n",
    "sys.path.append(parent_dir)\n",
    "\n",
    "from rct_data_generator import *\n",
    "from outcome_models import *\n",
    "from plotting_functions import *\n",
    "from mcmc_bayes_update import *\n",
    "from eig_comp_utils import *\n",
    "from research_exp_utils import *\n",
    "import uci_dataset as dataset"
   ]
  },
  {
   "cell_type": "markdown",
   "metadata": {},
   "source": [
    "### 1. Simulating the data"
   ]
  },
  {
   "cell_type": "code",
   "execution_count": 2,
   "metadata": {},
   "outputs": [],
   "source": [
    "rng = np.random.RandomState(42)\n",
    "\n",
    "n_rct_before_split = 10**4\n",
    "n_host = 50\n",
    "sigma_prior = 1\n",
    "sigma_rand_error = 1\n",
    "\n",
    "power_x, power_x_t = 1, 0 # keep them 1 and 0 for BART\n",
    "include_intercept = 1 # 0 if no intercept\n",
    "std_true_y = 1 # Standard deviation for the true Y\n"
   ]
  },
  {
   "cell_type": "code",
   "execution_count": 3,
   "metadata": {},
   "outputs": [],
   "source": [
    "abalone = dataset.load_abalone()\n",
    "\n",
    "abalone['Sex'] = abalone['Sex'].map({'M': 0, 'F': 1})\n",
    "abalone.dropna(inplace=True)\n",
    "resampled_abalone = [abalone.sample(frac=1, replace=True) for _ in range(5*(10**3))]\n",
    "# Concatenate resampled DataFrames\n",
    "abalone = pd.concat(resampled_abalone, ignore_index=True)\n",
    "\n",
    "causal_param_first_index = power_x * np.shape(abalone)[1] + include_intercept\n",
    "\n",
    "abalone = abalone.iloc[:n_rct_before_split,:]\n"
   ]
  },
  {
   "cell_type": "code",
   "execution_count": 4,
   "metadata": {},
   "outputs": [],
   "source": [
    "initial_x_dim = np.shape(abalone)[1]\n",
    "initial_n_entire_data = np.shape(abalone)[0]\n",
    "x_distributions={}\n",
    "\n",
    "for column in abalone.columns:\n",
    "    x_distributions[column] = abalone[column].values\n",
    "\n",
    "# simulate T\n",
    "T_rct = np.random.randint(2, size=initial_n_entire_data)\n",
    "\n",
    "# TODO change this\n",
    "p_assigned_to_host = lambda X, T, eps: sigmoid(1 + 5*X['Sex'] - X['Weight.viscera'] + 12*np.sqrt(X['Diameter']) + 12*X['Weight.shell'] + 30*T + eps)\n",
    "p_assigned_to_cand2 = lambda X, T, eps: sigmoid(1 + 20*X['Sex'] - X['Weight.viscera'] + 12*np.sqrt(X['Diameter']) + 12* X['Weight.shell'] + 30*T + eps)\n",
    "\n",
    "d = include_intercept + initial_x_dim*(power_x) + 1 + len(x_distributions)*(power_x_t)\n",
    "\n",
    "outcome_function = lambda X, T, eps : include_intercept + 1 * X['Sex'] - 1 * np.log(X['Weight.viscera']) + X['Weight.whole'] - X['Height'] \\\n",
    "    + 4 * T + 2* X['Weight.shucked']*T + 24* X['Weight.shell']*T + 0* X['Weight.shucked']*T + eps \n"
   ]
  },
  {
   "cell_type": "markdown",
   "metadata": {},
   "source": [
    "Simulation parameters"
   ]
  },
  {
   "cell_type": "code",
   "execution_count": 5,
   "metadata": {},
   "outputs": [],
   "source": [
    "# Prior parameters for Bayesian update on host\n",
    "prior_mean = torch.zeros(d+include_intercept)\n",
    "beta_0, sigma_0_sq, inv_cov_0 = prior_mean, sigma_rand_error**2 ,  1 / sigma_prior * np.eye(len(prior_mean))\n",
    "prior_hyperparameters = {'beta_0': beta_0, 'sigma_0_sq': sigma_0_sq,\"inv_cov_0\":inv_cov_0}\n",
    "\n",
    "beta_0, sigma_0_sq, inv_cov_0 = (\n",
    "    prior_mean,\n",
    "    sigma_rand_error**2,\n",
    "    1 / sigma_prior * np.eye(len(prior_mean)),\n",
    ")\n",
    "prior_hyperparameters = {\n",
    "    \"beta_0\": beta_0,\n",
    "    \"sigma_0_sq\": sigma_0_sq,\n",
    "    \"inv_cov_0\": inv_cov_0,\n",
    "}\n"
   ]
  },
  {
   "cell_type": "code",
   "execution_count": 6,
   "metadata": {},
   "outputs": [],
   "source": [
    "n_both_candidates_list = [10, 20, 50]\n",
    "proportion = 1 #n_cand2 = prorportion * n_both_candidates_list\n",
    "std_true_y = 1\n",
    "\n",
    "\n",
    "data_parameters = {\n",
    "    \"n_both_candidates_list\": n_both_candidates_list,\n",
    "    \"proportion\": proportion,\n",
    "    \"n_rct_before_split\": n_rct_before_split,\n",
    "    \"x_distributions\": x_distributions,\n",
    "    \"p_assigned_to_cand2\": p_assigned_to_cand2,\n",
    "    \"p_assigned_to_host\": p_assigned_to_host,\n",
    "    \"n_host\": n_host,\n",
    "    \"power_x\": power_x,\n",
    "    \"power_x_t\": power_x_t,\n",
    "    \"outcome_function\": outcome_function,\n",
    "    \"std_true_y\": std_true_y,\n",
    "    \"causal_param_first_index\": causal_param_first_index,\n",
    "}"
   ]
  },
  {
   "cell_type": "markdown",
   "metadata": {},
   "source": [
    "### 2. EIG from samples for varying sample sizes"
   ]
  },
  {
   "cell_type": "code",
   "execution_count": 7,
   "metadata": {},
   "outputs": [],
   "source": [
    "n_samples_outer_expectation_obs = 50\n",
    "n_samples_inner_expectation_obs = 50\n",
    "n_samples_outer_expectation_caus = 50\n",
    "n_samples_inner_expectation_caus = 50\n",
    "\n",
    "sampling_parameters = {'n_samples_inner_expectation_obs':n_samples_inner_expectation_obs, 'n_samples_outer_expectation_obs':n_samples_outer_expectation_obs, \\\n",
    "                       'n_samples_inner_expectation_caus':n_samples_inner_expectation_caus, 'n_samples_outer_expectation_caus':n_samples_outer_expectation_caus}\n",
    "\n",
    "prior_hyperparameters = {'sigma_0_sq':1, 'p_categorical_pr':0, 'p_categorical_trt':0 }\n",
    "predictive_model_parameters={\"num_trees_pr\":200,\"num_trees_trt\":100}\n",
    "conditional_model_param={\"num_trees_pr\":200}"
   ]
  },
  {
   "cell_type": "code",
   "execution_count": 8,
   "metadata": {},
   "outputs": [],
   "source": [
    "n_seeds=2\n",
    "plot_additional = True\n",
    "\n",
    "text_l1 ='p_assigned_to_host = p_assigned_to_cand2, approx 0.75 of treated in host, '\n",
    "text_l2 = 'n_host = '+str(n_host)+', sigma_prior = sigma_rand_error = '+str(sigma_rand_error)\n",
    "text_l3 = 'outcome_function = 1 + 1 * X[:,0] - 1 * X[:,1] + 1 * X[:,2] + 4 * T + 2* X[:,0]*T + 24* X[:,1]*T + 0* X[:,2]*T + eps'"
   ]
  },
  {
   "cell_type": "code",
   "execution_count": 9,
   "metadata": {},
   "outputs": [
    {
     "ename": "KeyboardInterrupt",
     "evalue": "",
     "output_type": "error",
     "traceback": [
      "\u001b[0;31m---------------------------------------------------------------------------\u001b[0m",
      "\u001b[0;31mKeyboardInterrupt\u001b[0m                         Traceback (most recent call last)",
      "Cell \u001b[0;32mIn[9], line 1\u001b[0m\n\u001b[0;32m----> 1\u001b[0m exact_data \u001b[38;5;241m=\u001b[39m \u001b[43mgenerate_exact_data_varying_sample_size\u001b[49m\u001b[43m(\u001b[49m\n\u001b[1;32m      2\u001b[0m \u001b[43m    \u001b[49m\u001b[43mdata_parameters\u001b[49m\u001b[43m,\u001b[49m\u001b[43m \u001b[49m\u001b[43minclude_intercept\u001b[49m\u001b[38;5;241;43m=\u001b[39;49m\u001b[38;5;28;43mbool\u001b[39;49m\u001b[43m(\u001b[49m\u001b[43minclude_intercept\u001b[49m\u001b[43m)\u001b[49m\n\u001b[1;32m      3\u001b[0m \u001b[43m)\u001b[49m\n\u001b[1;32m      4\u001b[0m exact_data[\u001b[38;5;241m200\u001b[39m][\u001b[38;5;124m\"\u001b[39m\u001b[38;5;124mhost\u001b[39m\u001b[38;5;124m\"\u001b[39m]\n",
      "File \u001b[0;32m~/causal_info_gain/causal_prospective_merge/rct_data_generator.py:356\u001b[0m, in \u001b[0;36mgenerate_exact_data_varying_sample_size\u001b[0;34m(data_parameters, X_rct, T_rct, include_intercept)\u001b[0m\n\u001b[1;32m    353\u001b[0m     \u001b[38;5;28;01massert\u001b[39;00m X_rct \u001b[38;5;129;01mis\u001b[39;00m \u001b[38;5;129;01mnot\u001b[39;00m \u001b[38;5;28;01mNone\u001b[39;00m \u001b[38;5;129;01mand\u001b[39;00m T_rct \u001b[38;5;129;01mis\u001b[39;00m \u001b[38;5;129;01mnot\u001b[39;00m \u001b[38;5;28;01mNone\u001b[39;00m, \u001b[38;5;124m\"\u001b[39m\u001b[38;5;124mNeed both X_rct and T_rct\u001b[39m\u001b[38;5;124m\"\u001b[39m\n\u001b[1;32m    354\u001b[0m     XandT \u001b[38;5;241m=\u001b[39m pd\u001b[38;5;241m.\u001b[39mconcat([X_rct, pd\u001b[38;5;241m.\u001b[39mDataFrame(T_rct, columns\u001b[38;5;241m=\u001b[39m[\u001b[38;5;124m\"\u001b[39m\u001b[38;5;124mT\u001b[39m\u001b[38;5;124m\"\u001b[39m])], axis\u001b[38;5;241m=\u001b[39m\u001b[38;5;241m1\u001b[39m)\n\u001b[0;32m--> 356\u001b[0m design_data_host, _ \u001b[38;5;241m=\u001b[39m \u001b[43msubsample_two_complementary_datasets\u001b[49m\u001b[43m(\u001b[49m\n\u001b[1;32m    357\u001b[0m \u001b[43m    \u001b[49m\u001b[43mXandT\u001b[49m\u001b[38;5;241;43m=\u001b[39;49m\u001b[43mXandT\u001b[49m\u001b[43m,\u001b[49m\n\u001b[1;32m    358\u001b[0m \u001b[43m    \u001b[49m\u001b[43mf_assigned_to_host\u001b[49m\u001b[38;5;241;43m=\u001b[39;49m\u001b[43mdata_parameters\u001b[49m\u001b[43m[\u001b[49m\u001b[38;5;124;43m\"\u001b[39;49m\u001b[38;5;124;43mp_assigned_to_host\u001b[39;49m\u001b[38;5;124;43m\"\u001b[39;49m\u001b[43m]\u001b[49m\u001b[43m,\u001b[49m\n\u001b[1;32m    359\u001b[0m \u001b[43m    \u001b[49m\u001b[43mn_host\u001b[49m\u001b[38;5;241;43m=\u001b[39;49m\u001b[43mn_host\u001b[49m\u001b[43m,\u001b[49m\n\u001b[1;32m    360\u001b[0m \u001b[43m    \u001b[49m\u001b[43mn_complementary\u001b[49m\u001b[38;5;241;43m=\u001b[39;49m\u001b[43mlength\u001b[49m\u001b[43m,\u001b[49m\n\u001b[1;32m    361\u001b[0m \u001b[43m    \u001b[49m\u001b[43mpower_x\u001b[49m\u001b[38;5;241;43m=\u001b[39;49m\u001b[43mpower_x\u001b[49m\u001b[43m,\u001b[49m\n\u001b[1;32m    362\u001b[0m \u001b[43m    \u001b[49m\u001b[43mpower_x_t\u001b[49m\u001b[38;5;241;43m=\u001b[39;49m\u001b[43mpower_x_t\u001b[49m\u001b[43m,\u001b[49m\n\u001b[1;32m    363\u001b[0m \u001b[43m    \u001b[49m\u001b[43moutcome_function\u001b[49m\u001b[38;5;241;43m=\u001b[39;49m\u001b[43moutcome_function\u001b[49m\u001b[43m,\u001b[49m\n\u001b[1;32m    364\u001b[0m \u001b[43m    \u001b[49m\u001b[43mstd_true_y\u001b[49m\u001b[38;5;241;43m=\u001b[39;49m\u001b[43mstd_true_y\u001b[49m\u001b[43m,\u001b[49m\n\u001b[1;32m    365\u001b[0m \u001b[43m    \u001b[49m\u001b[43minclude_intercept\u001b[49m\u001b[38;5;241;43m=\u001b[39;49m\u001b[43minclude_intercept\u001b[49m\u001b[43m,\u001b[49m\n\u001b[1;32m    366\u001b[0m \u001b[43m    \u001b[49m\u001b[43mseed\u001b[49m\u001b[38;5;241;43m=\u001b[39;49m\u001b[43mseed\u001b[49m\u001b[43m,\u001b[49m\n\u001b[1;32m    367\u001b[0m \u001b[43m\u001b[49m\u001b[43m)\u001b[49m  \u001b[38;5;66;03m# complementary data isn't used.\u001b[39;00m\n\u001b[1;32m    369\u001b[0m \u001b[38;5;66;03m# get the covariates only (no intercept)\u001b[39;00m\n\u001b[1;32m    370\u001b[0m X_host \u001b[38;5;241m=\u001b[39m design_data_host[XandT\u001b[38;5;241m.\u001b[39mcolumns]\n",
      "File \u001b[0;32m~/causal_info_gain/causal_prospective_merge/rct_data_generator.py:194\u001b[0m, in \u001b[0;36msubsample_two_complementary_datasets\u001b[0;34m(XandT, f_assigned_to_host, n_host, n_complementary, power_x, power_x_t, outcome_function, std_true_y, include_intercept, seed)\u001b[0m\n\u001b[1;32m    192\u001b[0m count_complementary, count_host \u001b[38;5;241m=\u001b[39m \u001b[38;5;241m0\u001b[39m, \u001b[38;5;241m0\u001b[39m\n\u001b[1;32m    193\u001b[0m \u001b[38;5;28;01mfor\u001b[39;00m _, x_and_t \u001b[38;5;129;01min\u001b[39;00m XandT\u001b[38;5;241m.\u001b[39miterrows():\n\u001b[0;32m--> 194\u001b[0m     proba_assigned_to_host \u001b[38;5;241m=\u001b[39m \u001b[43mf_assigned_to_host\u001b[49m\u001b[43m(\u001b[49m\n\u001b[1;32m    195\u001b[0m \u001b[43m        \u001b[49m\u001b[43mx_and_t\u001b[49m\u001b[38;5;241;43m.\u001b[39;49m\u001b[43mdrop\u001b[49m\u001b[43m(\u001b[49m\u001b[38;5;124;43m\"\u001b[39;49m\u001b[38;5;124;43mT\u001b[39;49m\u001b[38;5;124;43m\"\u001b[39;49m\u001b[43m)\u001b[49m\u001b[43m,\u001b[49m\u001b[43m \u001b[49m\u001b[43mx_and_t\u001b[49m\u001b[43m[\u001b[49m\u001b[38;5;124;43m\"\u001b[39;49m\u001b[38;5;124;43mT\u001b[39;49m\u001b[38;5;124;43m\"\u001b[39;49m\u001b[43m]\u001b[49m\u001b[43m,\u001b[49m\u001b[43m \u001b[49m\u001b[43mnp\u001b[49m\u001b[38;5;241;43m.\u001b[39;49m\u001b[43mrandom\u001b[49m\u001b[38;5;241;43m.\u001b[39;49m\u001b[43mnormal\u001b[49m\u001b[43m(\u001b[49m\u001b[43m)\u001b[49m\n\u001b[1;32m    196\u001b[0m \u001b[43m    \u001b[49m\u001b[43m)\u001b[49m\n\u001b[1;32m    197\u001b[0m     is_assigned_to_host \u001b[38;5;241m=\u001b[39m np\u001b[38;5;241m.\u001b[39mrandom\u001b[38;5;241m.\u001b[39mbinomial(\u001b[38;5;241m1\u001b[39m, proba_assigned_to_host)  \u001b[38;5;66;03m# 0 or 1\u001b[39;00m\n\u001b[1;32m    199\u001b[0m     \u001b[38;5;28;01mif\u001b[39;00m is_assigned_to_host \u001b[38;5;129;01mand\u001b[39;00m count_host \u001b[38;5;241m<\u001b[39m n_host:\n",
      "Cell \u001b[0;32mIn[4], line 12\u001b[0m, in \u001b[0;36m<lambda>\u001b[0;34m(X, T, eps)\u001b[0m\n\u001b[1;32m      9\u001b[0m T_rct \u001b[38;5;241m=\u001b[39m np\u001b[38;5;241m.\u001b[39mrandom\u001b[38;5;241m.\u001b[39mrandint(\u001b[38;5;241m2\u001b[39m, size\u001b[38;5;241m=\u001b[39minitial_n_entire_data)\n\u001b[1;32m     11\u001b[0m \u001b[38;5;66;03m# TODO change this\u001b[39;00m\n\u001b[0;32m---> 12\u001b[0m p_assigned_to_host \u001b[38;5;241m=\u001b[39m \u001b[38;5;28;01mlambda\u001b[39;00m X, T, eps: sigmoid(\u001b[38;5;241;43m1\u001b[39;49m\u001b[43m \u001b[49m\u001b[38;5;241;43m+\u001b[39;49m\u001b[43m \u001b[49m\u001b[38;5;241;43m5\u001b[39;49m\u001b[38;5;241;43m*\u001b[39;49m\u001b[43mX\u001b[49m\u001b[43m[\u001b[49m\u001b[38;5;124;43m'\u001b[39;49m\u001b[38;5;124;43mSex\u001b[39;49m\u001b[38;5;124;43m'\u001b[39;49m\u001b[43m]\u001b[49m\u001b[43m \u001b[49m\u001b[38;5;241;43m-\u001b[39;49m\u001b[43m \u001b[49m\u001b[43mX\u001b[49m\u001b[43m[\u001b[49m\u001b[38;5;124;43m'\u001b[39;49m\u001b[38;5;124;43mWeight.viscera\u001b[39;49m\u001b[38;5;124;43m'\u001b[39;49m\u001b[43m]\u001b[49m\u001b[43m \u001b[49m\u001b[38;5;241;43m+\u001b[39;49m\u001b[43m \u001b[49m\u001b[38;5;241;43m12\u001b[39;49m\u001b[38;5;241;43m*\u001b[39;49m\u001b[43mnp\u001b[49m\u001b[38;5;241;43m.\u001b[39;49m\u001b[43msqrt\u001b[49m\u001b[43m(\u001b[49m\u001b[43mX\u001b[49m\u001b[43m[\u001b[49m\u001b[38;5;124;43m'\u001b[39;49m\u001b[38;5;124;43mDiameter\u001b[39;49m\u001b[38;5;124;43m'\u001b[39;49m\u001b[43m]\u001b[49m\u001b[43m)\u001b[49m\u001b[43m \u001b[49m\u001b[38;5;241;43m+\u001b[39;49m\u001b[43m \u001b[49m\u001b[38;5;241;43m12\u001b[39;49m\u001b[38;5;241;43m*\u001b[39;49m\u001b[43mX\u001b[49m\u001b[43m[\u001b[49m\u001b[38;5;124;43m'\u001b[39;49m\u001b[38;5;124;43mWeight.shell\u001b[39;49m\u001b[38;5;124;43m'\u001b[39;49m\u001b[43m]\u001b[49m \u001b[38;5;241m+\u001b[39m \u001b[38;5;241m30\u001b[39m\u001b[38;5;241m*\u001b[39mT \u001b[38;5;241m+\u001b[39m eps)\n\u001b[1;32m     13\u001b[0m p_assigned_to_cand2 \u001b[38;5;241m=\u001b[39m \u001b[38;5;28;01mlambda\u001b[39;00m X, T, eps: sigmoid(\u001b[38;5;241m1\u001b[39m \u001b[38;5;241m+\u001b[39m \u001b[38;5;241m20\u001b[39m\u001b[38;5;241m*\u001b[39mX[\u001b[38;5;124m'\u001b[39m\u001b[38;5;124mSex\u001b[39m\u001b[38;5;124m'\u001b[39m] \u001b[38;5;241m-\u001b[39m X[\u001b[38;5;124m'\u001b[39m\u001b[38;5;124mWeight.viscera\u001b[39m\u001b[38;5;124m'\u001b[39m] \u001b[38;5;241m+\u001b[39m \u001b[38;5;241m12\u001b[39m\u001b[38;5;241m*\u001b[39mnp\u001b[38;5;241m.\u001b[39msqrt(X[\u001b[38;5;124m'\u001b[39m\u001b[38;5;124mDiameter\u001b[39m\u001b[38;5;124m'\u001b[39m]) \u001b[38;5;241m+\u001b[39m \u001b[38;5;241m12\u001b[39m\u001b[38;5;241m*\u001b[39m X[\u001b[38;5;124m'\u001b[39m\u001b[38;5;124mWeight.shell\u001b[39m\u001b[38;5;124m'\u001b[39m] \u001b[38;5;241m+\u001b[39m \u001b[38;5;241m30\u001b[39m\u001b[38;5;241m*\u001b[39mT \u001b[38;5;241m+\u001b[39m eps)\n\u001b[1;32m     15\u001b[0m d \u001b[38;5;241m=\u001b[39m include_intercept \u001b[38;5;241m+\u001b[39m initial_x_dim\u001b[38;5;241m*\u001b[39m(power_x) \u001b[38;5;241m+\u001b[39m \u001b[38;5;241m1\u001b[39m \u001b[38;5;241m+\u001b[39m \u001b[38;5;28mlen\u001b[39m(x_distributions)\u001b[38;5;241m*\u001b[39m(power_x_t)\n",
      "\u001b[0;31mKeyboardInterrupt\u001b[0m: "
     ]
    }
   ],
   "source": [
    "exact_data = generate_exact_data_varying_sample_size(\n",
    "    data_parameters, include_intercept=bool(include_intercept)\n",
    ")\n",
    "exact_data[200][\"host\"]"
   ]
  },
  {
   "cell_type": "code",
   "execution_count": null,
   "metadata": {},
   "outputs": [],
   "source": [
    "\n",
    "dict_additional_plots_obs_from_samples, dict_additional_plots_caus_from_samples = (\n",
    "    bart_eig_from_samples_varying_sample_size(\n",
    "        exact_data,\n",
    "        data_parameters,\n",
    "        prior_hyperparameters,\n",
    "        predictive_model_parameters,\n",
    "        conditional_model_param,\n",
    "        sampling_parameters\n",
    "    )\n",
    ")"
   ]
  },
  {
   "cell_type": "code",
   "execution_count": null,
   "metadata": {},
   "outputs": [],
   "source": [
    "EIG_obs_closed_form_across_seeds, EIG_caus_closed_form_across_seeds = [], []\n",
    "\n",
    "for i in range(n_seeds):\n",
    "    nonexact_data = generate_data_varying_sample_size(\n",
    "        data_parameters, include_intercept=bool(include_intercept)\n",
    "    )\n",
    "    EIGs = bart_eig_from_samples_varying_sample_size(\n",
    "        nonexact_data,\n",
    "        data_parameters,\n",
    "        prior_hyperparameters,\n",
    "        predictive_model_parameters,\n",
    "        conditional_model_param,\n",
    "        sampling_parameters\n",
    "    )\n",
    "    EIG_obs_closed_form_across_seeds.append(\n",
    "        [cand_values for cand_values in EIGs[0].values()]\n",
    "    )\n",
    "    EIG_caus_closed_form_across_seeds.append(\n",
    "        [cand_values for cand_values in EIGs[1].values()]\n",
    "    )\n",
    "\n",
    "\n",
    "EIG_obs_closed_form_across_seeds = np.vstack(EIG_obs_closed_form_across_seeds)  \n",
    "EIG_caus_closed_form_across_seeds = np.vstack(EIG_caus_closed_form_across_seeds)\n"
   ]
  },
  {
   "cell_type": "code",
   "execution_count": null,
   "metadata": {},
   "outputs": [],
   "source": [
    "text_l1 = \"p_assigned_to_host=p_assigned_to_cand2, approx 0.8 treated in host\"\n",
    "text_l2 = (\n",
    "    \"n_samples_inner_expectation_obs = \"\n",
    "    + str(n_samples_inner_expectation_obs)\n",
    "    + \"n_samples_outer_expectation_obs = \"\n",
    "    + str(n_samples_outer_expectation_obs)\n",
    "    + \", n_host = \"\n",
    "    + str(n_host)\n",
    "    + \", sigma_prior = sigma_rand_error = \"\n",
    "    + str(sigma_rand_error)\n",
    ")\n",
    "text_l4 = (\n",
    "    \"n_host = 200, sigma_prior = sigma_rand_error = 1, n_samples_inner_expectation_caus = \"\n",
    "    + str(n_samples_inner_expectation_caus)\n",
    ")"
   ]
  },
  {
   "cell_type": "code",
   "execution_count": null,
   "metadata": {},
   "outputs": [],
   "source": [
    "path_obs_closed_form = \"\"\n",
    "\n",
    "plot_array(\n",
    "    x=n_both_candidates_list,  # sample sizes\n",
    "    arr=EIG_obs_closed_form_across_seeds,\n",
    "    axis_names=[\"Sample size of candidate datasets\", \"EIG predictive\"],\n",
    "    dict_additional_plots=dict_additional_plots_obs_from_samples,\n",
    "    text=text_l1 + \"\\n\" + text_l2 + \"\\n\" + text_l3,\n",
    "    title=\"EIG predictive complementary - EIG predictive twin\",\n",
    ")"
   ]
  },
  {
   "cell_type": "code",
   "execution_count": null,
   "metadata": {},
   "outputs": [],
   "source": [
    "# path_obs_samples = '/Users/lucile/causal_info_gain/plots/eig_obs_samples'\n",
    "path_caus_samples = 0\n",
    "\n",
    "plot_array(\n",
    "    x = n_both_candidates_list,\n",
    "    arr = EIG_caus_closed_form_across_seeds,\n",
    "    axis_names=[\"Sample size of candidate datasets\", \"EIG predictive\"],\n",
    "    dict_additional_plots=dict_additional_plots_caus_from_samples,\n",
    "    text=text_l1 + \"\\n\" + text_l2 + \"\\n\" + text_l3 + \"\\n\" + text_l4,\n",
    "    title=\"EIG predictive complementary - EIG predictive twin\"\n",
    ")"
   ]
  }
 ],
 "metadata": {
  "kernelspec": {
   "display_name": "pjake_kernel",
   "language": "python",
   "name": "pjake_kernel"
  },
  "language_info": {
   "codemirror_mode": {
    "name": "ipython",
    "version": 3
   },
   "file_extension": ".py",
   "mimetype": "text/x-python",
   "name": "python",
   "nbconvert_exporter": "python",
   "pygments_lexer": "ipython3",
   "version": "3.9.7"
  }
 },
 "nbformat": 4,
 "nbformat_minor": 2
}
