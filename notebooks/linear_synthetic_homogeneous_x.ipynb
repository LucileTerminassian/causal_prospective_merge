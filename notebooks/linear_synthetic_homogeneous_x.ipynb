{
 "cells": [
  {
   "cell_type": "code",
   "execution_count": 1,
   "metadata": {},
   "outputs": [
    {
     "name": "stderr",
     "output_type": "stream",
     "text": [
      "/Users/lucile/causal_info_gain/pjake/lib/python3.9/site-packages/torch/__init__.py:696: UserWarning: torch.set_default_tensor_type() is deprecated as of PyTorch 2.1, please use torch.set_default_dtype() and torch.set_default_device() as alternatives. (Triggered internally at /Users/runner/work/pytorch/pytorch/pytorch/torch/csrc/tensor/python_tensor.cpp:453.)\n",
      "  _C._set_default_tensor_type(t)\n"
     ]
    }
   ],
   "source": [
    "import matplotlib.pyplot as plt\n",
    "import numpy as np\n",
    "import pandas as pd\n",
    "import torch\n",
    "torch.set_default_tensor_type(torch.FloatTensor)\n",
    "import sys\n",
    "import os, random\n",
    "\n",
    "notebook_dir = os.getcwd()\n",
    "parent_dir = os.path.dirname(notebook_dir)\n",
    "# Add the parent directory to the Python path\n",
    "sys.path.append(parent_dir)\n",
    "\n",
    "from rct_data_generator import *\n",
    "from outcome_models import *\n",
    "from plotting_functions import *\n",
    "from mcmc_bayes_update import *\n",
    "from eig_comp_utils import *\n",
    "from research_exp_utils import *"
   ]
  },
  {
   "cell_type": "code",
   "execution_count": 2,
   "metadata": {},
   "outputs": [],
   "source": [
    "rng = np.random.RandomState(42)\n",
    "\n",
    "varying_sample_sizes = [100, 120, 140, 160, 180, 200]\n",
    "fixed_n_complementary = 100\n",
    "n_host = 100 \n",
    " # set to None if both candidates have the same sample size\n",
    "\n",
    "\n",
    "n_rct_before_split = 10**5\n",
    "std_true_y = 1\n",
    "sigma_prior = 1\n",
    "sigma_rand_error = 1\n",
    "include_intercept = 1  # 0 if no intercept\n",
    "power_x, power_x_t = 1, 1\n",
    "\n",
    "np.random.seed(42)\n",
    "random.seed(42)\n",
    "\n",
    "X0 = np.random.beta(12, 3, size=n_rct_before_split)\n",
    "X1 = np.random.normal(loc=4, scale=1, size=n_rct_before_split)\n",
    "X2 = np.random.beta(1, 7, size=n_rct_before_split)\n",
    "x_distributions = {\"X_0\": X0, \"X_1\": X1, \"X_2\": X2}\n",
    "XandT = generate_rct(x_distributions, seed=0)\n",
    "d = (\n",
    "    include_intercept\n",
    "    + len(x_distributions) * (power_x)\n",
    "    + 1\n",
    "    + len(x_distributions) * (power_x_t)\n",
    ")\n",
    "\n",
    "\n",
    "causal_param_first_index = power_x*len(x_distributions) + include_intercept \n",
    "\n",
    "outcome_function = (\n",
    "    # y = 1 + 1*X_0 - 1*X_1 + 1*X_2 + 4*T + 2*X_0*T + 2*X_1*T + 0*X_2*T + eps\n",
    "    lambda X, T, eps: include_intercept  # intercept, non-causal => 0 no intercept\n",
    "    + 1 * X[\"X_0\"]  # non-causal\n",
    "    - 1 * X[\"X_1\"]  # non-causal\n",
    "    + 1 * X[\"X_2\"]  # non-causal\n",
    "    + 5 * T  # causal\n",
    "    + 2 * X[\"X_0\"] * T  # causal\n",
    "    + 2 * X[\"X_1\"] * T  # causal\n",
    "    - 4 * X[\"X_2\"] * T  # causal\n",
    "    + eps\n",
    ")\n",
    "\n",
    "CATE_function = lambda X: outcome_function(X,np.ones(len(X)), 0 )-outcome_function(X,np.zeros(len(X)),0)\n",
    "\n",
    "if include_intercept:\n",
    "    true_params = np.array([1, 1, -1, 1, 5, 2, 2, -4])  # intercept, non-causal => 0\n",
    "else:\n",
    "    true_params = np.array([1, -1, 1, 5, 2, 2, -4])  # copied from above\n",
    "std_true_y = 1  # Standard deviation for the true Y"
   ]
  },
  {
   "cell_type": "code",
   "execution_count": 3,
   "metadata": {},
   "outputs": [],
   "source": [
    "# Prior parameters for Bayesian update on host\n",
    "if include_intercept:\n",
    "    prior_mean = np.array([0, 0, 0, 0, 0, 0, 0, 0])\n",
    "else:\n",
    "    prior_mean = np.array([0, 0, 0, 0, 0, 0, 0])\n",
    "assert len(prior_mean) == d, \"Shape error\"\n",
    "\n",
    "beta_0, sigma_0_sq, inv_cov_0 = (\n",
    "    prior_mean,\n",
    "    sigma_rand_error**2,\n",
    "    1 / sigma_prior * np.eye(len(prior_mean)),\n",
    ")\n",
    "prior_hyperparameters = {\n",
    "    \"beta_0\": beta_0,\n",
    "    \"sigma_0_sq\": sigma_0_sq,\n",
    "    \"inv_cov_0\": inv_cov_0,\n",
    "}\n"
   ]
  },
  {
   "cell_type": "code",
   "execution_count": 4,
   "metadata": {},
   "outputs": [],
   "source": [
    "n_seeds = 50\n",
    "data_parameters = {\n",
    "    \"fixed_n_complementary\": fixed_n_complementary,\n",
    "    \"varying_sample_sizes\": varying_sample_sizes,\n",
    "    \"n_rct_before_split\": n_rct_before_split,\n",
    "    \"x_distributions\": x_distributions,\n",
    "    \"p_assigned_to_cand2\": None,\n",
    "    \"p_assigned_to_host\": None,\n",
    "    \"n_host\": n_host,\n",
    "    \"power_x\": power_x,\n",
    "    \"power_x_t\": power_x_t,\n",
    "    \"outcome_function\": outcome_function,\n",
    "    \"std_true_y\": std_true_y,\n",
    "    \"causal_param_first_index\": causal_param_first_index,\n",
    "}"
   ]
  },
  {
   "cell_type": "code",
   "execution_count": 5,
   "metadata": {},
   "outputs": [],
   "source": [
    "indices_host, indices_twin, indices_comp = {}, {}, {}\n",
    "data = {}\n",
    "\n",
    "for i, size in enumerate(varying_sample_sizes):\n",
    "    \n",
    "    indices_host[i] = np.random.choice(range(n_rct_before_split), size=size, replace=False)\n",
    "    indices_twin[i] = np.random.choice(range(n_rct_before_split), size=size, replace=False)\n",
    "    indices_comp[i] = np.random.choice(range(n_rct_before_split), size=size, replace=False)\n",
    "\n",
    "    host, twin, comp = XandT.iloc[indices_host[i]], XandT.iloc[indices_twin[i]], XandT.iloc[indices_comp[i]]\n",
    "\n",
    "    data[i]={'host': host, \"twin\": twin, 'comp': comp}\n"
   ]
  },
  {
   "cell_type": "code",
   "execution_count": 6,
   "metadata": {},
   "outputs": [
    {
     "ename": "KeyError",
     "evalue": "100",
     "output_type": "error",
     "traceback": [
      "\u001b[0;31m---------------------------------------------------------------------------\u001b[0m",
      "\u001b[0;31mKeyError\u001b[0m                                  Traceback (most recent call last)",
      "Cell \u001b[0;32mIn[6], line 4\u001b[0m\n\u001b[1;32m      1\u001b[0m EIG_obs_closed_form_across_seeds, EIG_caus_closed_form_across_seeds \u001b[38;5;241m=\u001b[39m [], []\n\u001b[1;32m      3\u001b[0m \u001b[38;5;28;01mfor\u001b[39;00m i \u001b[38;5;129;01min\u001b[39;00m \u001b[38;5;28mrange\u001b[39m(n_seeds):\n\u001b[0;32m----> 4\u001b[0m     EIGs \u001b[38;5;241m=\u001b[39m \u001b[43mlinear_eig_closed_form_varying_sample_size\u001b[49m\u001b[43m(\u001b[49m\u001b[43m  \u001b[49m\n\u001b[1;32m      5\u001b[0m \u001b[43m        \u001b[49m\u001b[43mdata\u001b[49m\u001b[43m[\u001b[49m\u001b[43mi\u001b[49m\u001b[43m]\u001b[49m\u001b[43m,\u001b[49m\n\u001b[1;32m      6\u001b[0m \u001b[43m        \u001b[49m\u001b[43mdata_parameters\u001b[49m\u001b[43m,\u001b[49m\n\u001b[1;32m      7\u001b[0m \u001b[43m        \u001b[49m\u001b[43mprior_hyperparameters\u001b[49m\u001b[43m,\u001b[49m\n\u001b[1;32m      8\u001b[0m \u001b[43m        \u001b[49m\u001b[43mverbose\u001b[49m\u001b[38;5;241;43m=\u001b[39;49m\u001b[38;5;28;43;01mFalse\u001b[39;49;00m\u001b[43m,\u001b[49m\n\u001b[1;32m      9\u001b[0m \u001b[43m    \u001b[49m\u001b[43m)\u001b[49m\n\u001b[1;32m     10\u001b[0m     EIG_obs_closed_form_across_seeds\u001b[38;5;241m.\u001b[39mappend(\n\u001b[1;32m     11\u001b[0m         [cand_values \u001b[38;5;28;01mfor\u001b[39;00m cand_values \u001b[38;5;129;01min\u001b[39;00m EIGs[\u001b[38;5;241m0\u001b[39m]\u001b[38;5;241m.\u001b[39mvalues()]\n\u001b[1;32m     12\u001b[0m     )\n\u001b[1;32m     13\u001b[0m     EIG_caus_closed_form_across_seeds\u001b[38;5;241m.\u001b[39mappend(\n\u001b[1;32m     14\u001b[0m         [cand_values \u001b[38;5;28;01mfor\u001b[39;00m cand_values \u001b[38;5;129;01min\u001b[39;00m EIGs[\u001b[38;5;241m1\u001b[39m]\u001b[38;5;241m.\u001b[39mvalues()]\n\u001b[1;32m     15\u001b[0m     )\n",
      "File \u001b[0;32m~/causal_info_gain/causal_prospective_merge/research_exp_utils.py:22\u001b[0m, in \u001b[0;36mlinear_eig_closed_form_varying_sample_size\u001b[0;34m(data, data_parameters, prior_hyperparameters, verbose)\u001b[0m\n\u001b[1;32m     14\u001b[0m \u001b[38;5;28;01mdef\u001b[39;00m \u001b[38;5;21mlinear_eig_closed_form_varying_sample_size\u001b[39m(\n\u001b[1;32m     15\u001b[0m     data: \u001b[38;5;28mdict\u001b[39m[\u001b[38;5;28mint\u001b[39m, \u001b[38;5;28mdict\u001b[39m],\n\u001b[1;32m     16\u001b[0m     data_parameters: \u001b[38;5;28mdict\u001b[39m[\u001b[38;5;28mstr\u001b[39m],\n\u001b[0;32m   (...)\u001b[0m\n\u001b[1;32m     19\u001b[0m ):\n\u001b[1;32m     20\u001b[0m     \u001b[38;5;66;03m# this now works with both exact and \"non-exact\" `data`\u001b[39;00m\n\u001b[1;32m     21\u001b[0m     sample_sizes \u001b[38;5;241m=\u001b[39m data_parameters[\u001b[38;5;124m\"\u001b[39m\u001b[38;5;124mvarying_sample_sizes\u001b[39m\u001b[38;5;124m\"\u001b[39m]\n\u001b[0;32m---> 22\u001b[0m     candidates_names \u001b[38;5;241m=\u001b[39m \u001b[43mdata\u001b[49m\u001b[43m[\u001b[49m\u001b[43msample_sizes\u001b[49m\u001b[43m[\u001b[49m\u001b[38;5;241;43m0\u001b[39;49m\u001b[43m]\u001b[49m\u001b[43m]\u001b[49m\u001b[38;5;241m.\u001b[39mkeys() \u001b[38;5;241m-\u001b[39m [\u001b[38;5;124m\"\u001b[39m\u001b[38;5;124mhost\u001b[39m\u001b[38;5;124m\"\u001b[39m]\n\u001b[1;32m     24\u001b[0m     \u001b[38;5;66;03m# dict of the form {candidate_name: {sample_size: EIG}}\u001b[39;00m\n\u001b[1;32m     25\u001b[0m     EIG_obs \u001b[38;5;241m=\u001b[39m {name: [] \u001b[38;5;28;01mfor\u001b[39;00m name \u001b[38;5;129;01min\u001b[39;00m candidates_names}\n",
      "\u001b[0;31mKeyError\u001b[0m: 100"
     ]
    }
   ],
   "source": [
    "EIG_obs_closed_form_across_seeds, EIG_caus_closed_form_across_seeds = [], []\n",
    "\n",
    "for i in range(n_seeds):\n",
    "    EIGs = linear_eig_closed_form_varying_sample_size(  \n",
    "        data[i],\n",
    "        data_parameters,\n",
    "        prior_hyperparameters,\n",
    "        verbose=False,\n",
    "    )\n",
    "    EIG_obs_closed_form_across_seeds.append(\n",
    "        [cand_values for cand_values in EIGs[0].values()]\n",
    "    )\n",
    "    EIG_caus_closed_form_across_seeds.append(\n",
    "        [cand_values for cand_values in EIGs[1].values()]\n",
    "    )\n",
    "\n",
    "\n",
    "EIG_obs_closed_form_across_seeds = np.vstack(EIG_obs_closed_form_across_seeds)  \n",
    "EIG_caus_closed_form_across_seeds = np.vstack(EIG_caus_closed_form_across_seeds)\n"
   ]
  },
  {
   "cell_type": "code",
   "execution_count": null,
   "metadata": {},
   "outputs": [],
   "source": [
    "def turn_into_diff(arr):\n",
    "    n, d = np.shape(arr)[0], np.shape(arr)[1]\n",
    "    result = np.zeros((n//2, d))\n",
    "    for i in range (n//2):\n",
    "        result[i,:]=arr[2*i,:]-arr[(2*i) +1,:]\n",
    "    return result\n",
    "\n",
    "proportions = np.array(varying_sample_sizes)/fixed_n_complementary\n",
    "proportions"
   ]
  },
  {
   "cell_type": "code",
   "execution_count": null,
   "metadata": {},
   "outputs": [],
   "source": [
    "dict_diff_EIG_closed_form_across_seeds = {'predictive closed form': turn_into_diff(EIG_obs_closed_form_across_seeds),\\\n",
    "                                         'causal closed form':turn_into_diff(EIG_caus_closed_form_across_seeds)}\n",
    "\n",
    "\n",
    "color_dict = {'predictive closed form': 'green', 'causal closed form': 'red'}\n",
    "\n",
    "plot_dict(\n",
    "    x = proportions,\n",
    "    dict = dict_diff_EIG_closed_form_across_seeds,\n",
    "    axis_names=[r'$\\frac{n_{twin}}{n_{complementary}}$', 'EIG(comp)-EIG(twin)', \"Mean MSE difference\"],\n",
    "    dict_additional_plots=None,\n",
    "    title= None,\n",
    "    color_dict=color_dict,\n",
    "    save=None\n",
    ")\n"
   ]
  }
 ],
 "metadata": {
  "kernelspec": {
   "display_name": "pjake_kernel",
   "language": "python",
   "name": "pjake_kernel"
  },
  "language_info": {
   "codemirror_mode": {
    "name": "ipython",
    "version": 3
   },
   "file_extension": ".py",
   "mimetype": "text/x-python",
   "name": "python",
   "nbconvert_exporter": "python",
   "pygments_lexer": "ipython3",
   "version": "3.9.7"
  }
 },
 "nbformat": 4,
 "nbformat_minor": 2
}
