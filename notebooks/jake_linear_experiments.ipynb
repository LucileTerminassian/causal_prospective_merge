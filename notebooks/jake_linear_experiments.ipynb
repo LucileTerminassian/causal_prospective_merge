{
 "cells": [
  {
   "cell_type": "code",
   "execution_count": 1,
   "metadata": {},
   "outputs": [
    {
     "name": "stderr",
     "output_type": "stream",
     "text": [
      "/Users/jake/Python/causal_prospective_merge/.conda/lib/python3.11/site-packages/torch/__init__.py:696: UserWarning: torch.set_default_tensor_type() is deprecated as of PyTorch 2.1, please use torch.set_default_dtype() and torch.set_default_device() as alternatives. (Triggered internally at /Users/runner/work/_temp/anaconda/conda-bld/pytorch_1708025536958/work/torch/csrc/tensor/python_tensor.cpp:453.)\n",
      "  _C._set_default_tensor_type(t)\n",
      "/Users/jake/Python/causal_prospective_merge/.conda/lib/python3.11/site-packages/tqdm/auto.py:21: TqdmWarning: IProgress not found. Please update jupyter and ipywidgets. See https://ipywidgets.readthedocs.io/en/stable/user_install.html\n",
      "  from .autonotebook import tqdm as notebook_tqdm\n"
     ]
    }
   ],
   "source": [
    "import torch\n",
    "torch.set_default_tensor_type(torch.FloatTensor) \n",
    "import copy\n",
    "\n",
    "from rct_data_generator import *\n",
    "from outcome_models import *\n",
    "from plotting_functions import *\n",
    "from mcmc_bayes_update import *\n",
    "from eig_comp_utils import *\n",
    "from research_exp_utils import *\n",
    "from rct_data_generator import generate_host_and_mirror\n"
   ]
  },
  {
   "cell_type": "markdown",
   "metadata": {},
   "source": [
    "## Set-up"
   ]
  },
  {
   "cell_type": "code",
   "execution_count": 2,
   "metadata": {},
   "outputs": [],
   "source": [
    "n_host_sample = 100 \n",
    "sigma_error = 0.01\n",
    "d = 5\n",
    "A = torch.randn((d,d))\n",
    "A = 1/(torch.det(A)) * A\n",
    "\n",
    "T_allocation_host = torch.randn(d)\n",
    "T_allocation_host = 100/torch.norm(T_allocation_host)*T_allocation_host\n",
    "\n",
    "mu_nc = torch.randn(d)\n",
    "mu_nc = 1/torch.norm(mu_nc)*mu_nc\n",
    "\n",
    "mu_c = torch.randn(d)\n",
    "mu_c = 1/torch.norm(mu_c)*mu_c\n",
    "\n",
    "mu = torch.concat([mu_nc,mu_c])"
   ]
  },
  {
   "cell_type": "code",
   "execution_count": 3,
   "metadata": {},
   "outputs": [],
   "source": [
    "\n",
    "X_host_no_T = (torch.randn((n_host_sample,d)) @ A ) \n",
    "T_host = torch.bernoulli(torch.sigmoid(X_host_no_T@ T_allocation_host))\n",
    "X_host_times_T = (T_host.unsqueeze(dim=0).T * X_host_no_T)\n",
    "X_host = torch.concat([X_host_no_T,X_host_times_T],dim=1)\n",
    "\n",
    "Y_host = X_host @ mu\n",
    "Y_host = (1/Y_host.std()) * (Y_host-Y_host.mean()) + sigma_error * torch.randn_like(Y_host)\n"
   ]
  },
  {
   "cell_type": "code",
   "execution_count": 4,
   "metadata": {},
   "outputs": [],
   "source": [
    "sigma_error = 1\n",
    "prior_mean = torch.zeros(2 * d)\n",
    "beta_0, sigma_0_sq,inv_cov_0 = prior_mean, sigma_error,torch.eye(2*d)\n",
    "prior_hyperparameters = {'beta_0': beta_0, 'sigma_0_sq': sigma_0_sq,\"inv_cov_0\":inv_cov_0}\n",
    "bayesian_regression = BayesianLinearRegression(prior_hyperparameters)\n",
    "bayesian_regression.set_causal_index(10)"
   ]
  },
  {
   "cell_type": "code",
   "execution_count": 5,
   "metadata": {},
   "outputs": [
    {
     "data": {
      "text/plain": [
       "{'posterior_mean': tensor([-0.2916, -0.8471, -0.4645, -0.7058,  0.7675,  0.8116, -1.1813, -1.2299,\n",
       "          0.0079,  0.0462]),\n",
       " 'posterior_cov_matrix': tensor([[ 0.1530,  0.0073, -0.0422, -0.1303, -0.0672, -0.0931,  0.0107,  0.0425,\n",
       "           0.0318, -0.0206],\n",
       "         [ 0.0073,  0.1801, -0.0399, -0.0149,  0.0419,  0.0055, -0.1169,  0.0147,\n",
       "           0.0153, -0.0125],\n",
       "         [-0.0422, -0.0399,  0.1501, -0.0249, -0.1270,  0.0401,  0.0123, -0.0897,\n",
       "          -0.0291,  0.0314],\n",
       "         [-0.1303, -0.0149, -0.0249,  0.3208,  0.2766,  0.0260, -0.0017, -0.0370,\n",
       "          -0.0722, -0.0075],\n",
       "         [-0.0672,  0.0419, -0.1270,  0.2766,  0.3809, -0.0192, -0.0241,  0.0204,\n",
       "          -0.0159, -0.0621],\n",
       "         [-0.0931,  0.0055,  0.0401,  0.0260, -0.0192,  0.2615,  0.0472, -0.0804,\n",
       "          -0.1730, -0.0785],\n",
       "         [ 0.0107, -0.1169,  0.0123, -0.0017, -0.0241,  0.0472,  0.4002, -0.0531,\n",
       "          -0.0574,  0.0466],\n",
       "         [ 0.0425,  0.0147, -0.0897, -0.0370,  0.0204, -0.0804, -0.0531,  0.2809,\n",
       "          -0.0235, -0.1871],\n",
       "         [ 0.0318,  0.0153, -0.0291, -0.0722, -0.0159, -0.1730, -0.0574, -0.0235,\n",
       "           0.4253,  0.3451],\n",
       "         [-0.0206, -0.0125,  0.0314, -0.0075, -0.0621, -0.0785,  0.0466, -0.1871,\n",
       "           0.3451,  0.5189]])}"
      ]
     },
     "execution_count": 5,
     "metadata": {},
     "output_type": "execute_result"
    }
   ],
   "source": [
    "bayesian_regression.fit(X_host,Y_host)"
   ]
  },
  {
   "cell_type": "code",
   "execution_count": 6,
   "metadata": {},
   "outputs": [],
   "source": [
    "# bayesian_regression.closed_form_obs_EIG(X_host),bayesian_regression.closed_form_causal_EIG(X_host)"
   ]
  },
  {
   "cell_type": "code",
   "execution_count": 7,
   "metadata": {},
   "outputs": [],
   "source": [
    "# bayesian_regression.samples_obs_EIG(X_host,100,10),bayesian_regression.samples_causal_EIG(X_host,100,10)"
   ]
  },
  {
   "cell_type": "code",
   "execution_count": 8,
   "metadata": {},
   "outputs": [],
   "source": [
    "T_zero = torch.zeros_like(T_host)\n",
    "T_one = 1 - T_zero\n",
    "\n",
    "X_host_times_T_zero = (T_zero.unsqueeze(dim=0).T * X_host_no_T)\n",
    "X_host_times_T_one = (T_one.unsqueeze(dim=0).T * X_host_no_T)\n",
    "\n",
    "X_host_T_zero = torch.concat([X_host_no_T,X_host_times_T_zero],dim=1)\n",
    "X_host_T_one = torch.concat([X_host_no_T,X_host_times_T_one],dim=1)\n",
    "\n",
    "Y_host = X_host @ mu\n",
    "Y_host = (1/Y_host.norm()) * Y_host + sigma_error * torch.randn_like(Y_host)"
   ]
  },
  {
   "cell_type": "code",
   "execution_count": 9,
   "metadata": {},
   "outputs": [],
   "source": [
    "# bayesian_regression.closed_form_obs_EIG(X_host_T_zero),bayesian_regression.closed_form_causal_EIG(X_host_T_zero)"
   ]
  },
  {
   "cell_type": "code",
   "execution_count": 10,
   "metadata": {},
   "outputs": [],
   "source": [
    "# bayesian_regression.samples_obs_EIG(X_host_T_zero,100,500),bayesian_regression.samples_causal_EIG(X_host_T_zero,100,500)"
   ]
  },
  {
   "cell_type": "code",
   "execution_count": 11,
   "metadata": {},
   "outputs": [],
   "source": [
    "# bayesian_regression.closed_form_obs_EIG(X_host_T_one),bayesian_regression.closed_form_causal_EIG(X_host_T_one)"
   ]
  },
  {
   "cell_type": "code",
   "execution_count": 12,
   "metadata": {},
   "outputs": [],
   "source": [
    "# bayesian_regression.samples_obs_EIG(X_host_T_one,100,150),bayesian_regression.samples_causal_EIG(X_host_T_one,100,150)"
   ]
  },
  {
   "cell_type": "markdown",
   "metadata": {},
   "source": [
    "## Experiment"
   ]
  },
  {
   "cell_type": "code",
   "execution_count": 13,
   "metadata": {},
   "outputs": [],
   "source": [
    "n_host_sample = 200 \n",
    "sigma_error = 0\n",
    "d = 10 \n",
    "n_repeats = 40\n"
   ]
  },
  {
   "cell_type": "markdown",
   "metadata": {},
   "source": [
    "## BART"
   ]
  },
  {
   "cell_type": "code",
   "execution_count": 14,
   "metadata": {},
   "outputs": [],
   "source": [
    "from outcome_models import BayesianCausalForest\n",
    "from tqdm import tqdm"
   ]
  },
  {
   "cell_type": "code",
   "execution_count": null,
   "metadata": {},
   "outputs": [],
   "source": [
    "X_host_np = np.array(X_host,dtype=np.float32)\n",
    "T_host_np = np.array(T_host,dtype=np.int32)\n",
    "Y_host_np = np.array(Y_host,dtype=np.float32)"
   ]
  },
  {
   "cell_type": "code",
   "execution_count": null,
   "metadata": {},
   "outputs": [],
   "source": [
    "prior_hyperparameters = {'sigma_0_sq':1, 'p_categorical_pr':0, 'p_categorical_trt':0 }\n",
    "bcf = BayesianCausalForest(prior_hyperparameters,predictive_model_parameters={\"num_trees_pr\":200,\"num_trees_trt\":100},conditional_model_param={\"num_trees_pr\":200})\n",
    "bcf.store_train_data(X=X_host_np,T=T_host_np,Y=Y_host_np)\n",
    "bcf.joint_EIG_calc(X_host_np[:50],T_host_np[:50],\n",
    "                   n_samples_inner_expectation_obs=100,n_samples_outer_expectation_obs=50,\n",
    "                   n_samples_inner_expectation_caus=100,n_samples_outer_expectation_caus=50)"
   ]
  },
  {
   "cell_type": "code",
   "execution_count": 17,
   "metadata": {},
   "outputs": [],
   "source": [
    "bcf.store_train_data(X=X_host_np,T=T_host_np,Y=Y_host_np)"
   ]
  },
  {
   "cell_type": "code",
   "execution_count": 18,
   "metadata": {},
   "outputs": [],
   "source": [
    "n_samples_inner_expectation=10\n",
    "n_samples_outer_expectation=10\n",
    "X = X_host_np\n",
    "T = T_host_np\n",
    "\n",
    "n_samples = n_samples_outer_expectation*(n_samples_inner_expectation+1)\n"
   ]
  },
  {
   "cell_type": "code",
   "execution_count": 19,
   "metadata": {},
   "outputs": [],
   "source": [
    "predicitions = bcf.posterior_sample_predictions(X=X, T=T,  n_samples=n_samples)"
   ]
  },
  {
   "cell_type": "code",
   "execution_count": 20,
   "metadata": {},
   "outputs": [],
   "source": [
    "from eig_comp_utils import predictions_in_EIG_obs_form,compute_EIG_obs_from_samples"
   ]
  },
  {
   "cell_type": "code",
   "execution_count": 21,
   "metadata": {},
   "outputs": [],
   "source": [
    "# pred_in_form = predictions_in_EIG_obs_form(predicitions,n_outer_expectation=n_samples_outer_expectation,m_inner_expectation=n_samples_inner_expectation)"
   ]
  },
  {
   "cell_type": "code",
   "execution_count": 22,
   "metadata": {},
   "outputs": [],
   "source": [
    "# compute_EIG_obs_from_samples(pred_in_form,1)"
   ]
  },
  {
   "cell_type": "code",
   "execution_count": 23,
   "metadata": {},
   "outputs": [],
   "source": [
    "# bcf.samples_obs_EIG(X_host_np,T_host_np,n_samples_inner_expectation=50,n_samples_outer_expectation=50)"
   ]
  },
  {
   "cell_type": "code",
   "execution_count": 24,
   "metadata": {},
   "outputs": [
    {
     "name": "stdout",
     "output_type": "stream",
     "text": [
      "Sampling from Posterior\n",
      "Getting conditional samples\n"
     ]
    },
    {
     "name": "stderr",
     "output_type": "stream",
     "text": [
      "  0%|          | 0/50 [00:00<?, ?it/s]/Users/jake/Python/causal_prospective_merge/.conda/lib/python3.11/site-packages/xbcausalforest/xbcf_python.py:286: RuntimeWarning: divide by zero encountered in scalar divide\n",
      "  self.params[\"tau_trt\"] = 0.1 * np.var(y) / self.params[\"num_trees_trt\"]\n",
      "100%|██████████| 50/50 [00:45<00:00,  1.11it/s]\n"
     ]
    },
    {
     "data": {
      "text/plain": [
       "{'Posterior Predictive Entropy': 72.53898823460844,\n",
       " 'Obs EIG': 1.59206157437481,\n",
       " 'Causal EIG': -1.7993240049358121}"
      ]
     },
     "execution_count": 24,
     "metadata": {},
     "output_type": "execute_result"
    }
   ],
   "source": [
    "bcf.joint_EIG_calc(X_host_np[:50],T_host_np[:50],\n",
    "                   n_samples_inner_expectation_obs=100,n_samples_outer_expectation_obs=50,\n",
    "                   n_samples_inner_expectation_caus=100,n_samples_outer_expectation_caus=50)"
   ]
  },
  {
   "cell_type": "code",
   "execution_count": null,
   "metadata": {},
   "outputs": [],
   "source": [
    "bcf.samples_obs_EIG(X_host_np,T_host_np,n_samples_inner_expectation=50,n_samples_outer_expectation=50)"
   ]
  },
  {
   "cell_type": "code",
   "execution_count": null,
   "metadata": {},
   "outputs": [],
   "source": [
    "predicitions,tau = bcf.posterior_sample_predictions(X=X, T=T,  n_samples=50,return_tau=True)"
   ]
  },
  {
   "cell_type": "code",
   "execution_count": null,
   "metadata": {},
   "outputs": [
    {
     "data": {
      "text/plain": [
       "array([[ 0.08247684,  0.85198329,  0.23105522, ...,  0.21843077,\n",
       "         0.0092008 , -0.01692819],\n",
       "       [ 0.08159968,  0.71138705,  0.23105522, ...,  0.19254763,\n",
       "         0.0092008 , -0.00534278],\n",
       "       [ 0.08361413,  0.85198329,  0.23105522, ...,  0.19941064,\n",
       "         0.0092008 , -0.0083654 ],\n",
       "       ...,\n",
       "       [ 0.11895726,  0.85198329,  0.23105522, ...,  0.21843077,\n",
       "         0.0092008 , -0.02980164],\n",
       "       [ 0.11895726,  0.7328    ,  0.2775234 , ...,  0.24791655,\n",
       "         0.01687149, -0.01442364],\n",
       "       [ 0.08159968,  0.71138705,  0.21997896, ...,  0.19254763,\n",
       "         0.0092008 ,  0.00165294]])"
      ]
     },
     "execution_count": 27,
     "metadata": {},
     "output_type": "execute_result"
    }
   ],
   "source": [
    "bcf.model.tauhats_adjusted"
   ]
  },
  {
   "cell_type": "code",
   "execution_count": null,
   "metadata": {},
   "outputs": [],
   "source": [
    "Y = Y_host_np"
   ]
  },
  {
   "cell_type": "code",
   "execution_count": null,
   "metadata": {},
   "outputs": [
    {
     "name": "stdout",
     "output_type": "stream",
     "text": [
      "Getting conditional samples\n"
     ]
    },
    {
     "name": "stderr",
     "output_type": "stream",
     "text": [
      " 36%|███▌      | 18/50 [00:34<01:01,  1.92s/it]\n"
     ]
    },
    {
     "ename": "KeyboardInterrupt",
     "evalue": "",
     "output_type": "error",
     "traceback": [
      "\u001b[0;31m---------------------------------------------------------------------------\u001b[0m",
      "\u001b[0;31mKeyboardInterrupt\u001b[0m                         Traceback (most recent call last)",
      "Cell \u001b[0;32mIn[29], line 5\u001b[0m\n\u001b[1;32m      3\u001b[0m \u001b[38;5;28;01mfor\u001b[39;00m i \u001b[38;5;129;01min\u001b[39;00m tqdm(\u001b[38;5;28mrange\u001b[39m(\u001b[38;5;28mlen\u001b[39m(tau))):\n\u001b[1;32m      4\u001b[0m     Y_resid \u001b[38;5;241m=\u001b[39m Y \u001b[38;5;241m-\u001b[39m tau[i]\n\u001b[0;32m----> 5\u001b[0m     conditional_predictions \u001b[38;5;241m=\u001b[39m \u001b[43mbcf\u001b[49m\u001b[38;5;241;43m.\u001b[39;49m\u001b[43mposterior_conditional_predictions\u001b[49m\u001b[43m(\u001b[49m\u001b[43mX\u001b[49m\u001b[38;5;241;43m=\u001b[39;49m\u001b[43mX\u001b[49m\u001b[43m,\u001b[49m\u001b[43mT\u001b[49m\u001b[38;5;241;43m=\u001b[39;49m\u001b[43mT\u001b[49m\u001b[43m,\u001b[49m\u001b[43mY_residuals\u001b[49m\u001b[38;5;241;43m=\u001b[39;49m\u001b[43mY_resid\u001b[49m\u001b[43m,\u001b[49m\u001b[43mn_samples\u001b[49m\u001b[38;5;241;43m=\u001b[39;49m\u001b[38;5;241;43m200\u001b[39;49m\u001b[43m)\u001b[49m\n\u001b[1;32m      6\u001b[0m     causal_sample\u001b[38;5;241m.\u001b[39mappend((predicitions[i],conditional_predictions))\n",
      "File \u001b[0;32m~/Python/causal_prospective_merge/outcome_models.py:258\u001b[0m, in \u001b[0;36mBayesianCausalForest.posterior_conditional_predictions\u001b[0;34m(self, X, T, Y_residuals, n_samples, return_tau)\u001b[0m\n\u001b[1;32m    253\u001b[0m      \u001b[38;5;28;01massert\u001b[39;00m(\u001b[38;5;124m\"\u001b[39m\u001b[38;5;124mMust store training data first\u001b[39m\u001b[38;5;124m\"\u001b[39m)\n\u001b[1;32m    256\u001b[0m \u001b[38;5;28mself\u001b[39m\u001b[38;5;241m.\u001b[39mmodel \u001b[38;5;241m=\u001b[39m XBCF(num_trees_trt\u001b[38;5;241m=\u001b[39m\u001b[38;5;241m0\u001b[39m,num_sweeps\u001b[38;5;241m=\u001b[39mn_samples,p_categorical_pr \u001b[38;5;241m=\u001b[39m \u001b[38;5;28mself\u001b[39m\u001b[38;5;241m.\u001b[39mp_categorical_pr,p_categorical_trt \u001b[38;5;241m=\u001b[39m \u001b[38;5;28mself\u001b[39m\u001b[38;5;241m.\u001b[39mp_categorical_trt,\u001b[38;5;241m*\u001b[39m\u001b[38;5;241m*\u001b[39m\u001b[38;5;28mself\u001b[39m\u001b[38;5;241m.\u001b[39mcond_model_param)\n\u001b[0;32m--> 258\u001b[0m \u001b[38;5;28;43mself\u001b[39;49m\u001b[38;5;241;43m.\u001b[39;49m\u001b[43mmodel\u001b[49m\u001b[38;5;241;43m.\u001b[39;49m\u001b[43mfit\u001b[49m\u001b[43m(\u001b[49m\n\u001b[1;32m    259\u001b[0m \u001b[43m        \u001b[49m\u001b[43mx_t\u001b[49m\u001b[43m \u001b[49m\u001b[38;5;241;43m=\u001b[39;49m\u001b[43m \u001b[49m\u001b[43mnp\u001b[49m\u001b[38;5;241;43m.\u001b[39;49m\u001b[43mzeros_like\u001b[49m\u001b[43m(\u001b[49m\u001b[38;5;28;43mself\u001b[39;49m\u001b[38;5;241;43m.\u001b[39;49m\u001b[43mX_train\u001b[49m\u001b[43m)\u001b[49m\u001b[43m,\u001b[49m\u001b[43m \u001b[49m\u001b[38;5;66;43;03m# Covariates treatment effect\u001b[39;49;00m\n\u001b[1;32m    260\u001b[0m \u001b[43m        \u001b[49m\u001b[43mx\u001b[49m\u001b[43m \u001b[49m\u001b[38;5;241;43m=\u001b[39;49m\u001b[43m \u001b[49m\u001b[38;5;28;43mself\u001b[39;49m\u001b[38;5;241;43m.\u001b[39;49m\u001b[43mX_train_prog\u001b[49m\u001b[43m,\u001b[49m\u001b[43m \u001b[49m\u001b[38;5;66;43;03m# Covariates outcome (including propensity score)\u001b[39;49;00m\n\u001b[1;32m    261\u001b[0m \u001b[43m        \u001b[49m\u001b[43my\u001b[49m\u001b[43m \u001b[49m\u001b[38;5;241;43m=\u001b[39;49m\u001b[43m \u001b[49m\u001b[43mY_residuals\u001b[49m\u001b[43m,\u001b[49m\u001b[43m  \u001b[49m\u001b[38;5;66;43;03m# Outcome\u001b[39;49;00m\n\u001b[1;32m    262\u001b[0m \u001b[43m        \u001b[49m\u001b[43mz\u001b[49m\u001b[43m \u001b[49m\u001b[38;5;241;43m=\u001b[39;49m\u001b[43m \u001b[49m\u001b[38;5;28;43mself\u001b[39;49m\u001b[38;5;241;43m.\u001b[39;49m\u001b[43mT_train\u001b[49m\u001b[43m,\u001b[49m\u001b[43m \u001b[49m\u001b[38;5;66;43;03m# Treatment group\u001b[39;49;00m\n\u001b[1;32m    263\u001b[0m \u001b[43m        \u001b[49m\u001b[43m)\u001b[49m\n\u001b[1;32m    266\u001b[0m \u001b[38;5;28;01mif\u001b[39;00m \u001b[38;5;28mself\u001b[39m\u001b[38;5;241m.\u001b[39mpropensity_is_fit:\n\u001b[1;32m    267\u001b[0m     T_pred \u001b[38;5;241m=\u001b[39m \u001b[38;5;28mself\u001b[39m\u001b[38;5;241m.\u001b[39mprop_model\u001b[38;5;241m.\u001b[39mpredict(\u001b[38;5;28mself\u001b[39m\u001b[38;5;241m.\u001b[39mX)\n",
      "File \u001b[0;32m~/Python/causal_prospective_merge/.conda/lib/python3.11/site-packages/xbcausalforest/xbcf_python.py:447\u001b[0m, in \u001b[0;36mXBCF.fit\u001b[0;34m(self, x_t, x, y, z)\u001b[0m\n\u001b[1;32m    441\u001b[0m     \u001b[38;5;28mself\u001b[39m\u001b[38;5;241m.\u001b[39m_xbcf_cpp \u001b[38;5;241m=\u001b[39m XBCFcpp(\u001b[38;5;241m*\u001b[39margs)  \u001b[38;5;66;03m# Makes C++ object\u001b[39;00m\n\u001b[1;32m    442\u001b[0m \u001b[38;5;66;03m# print(type(fit_x_t[0][0]))\u001b[39;00m\n\u001b[1;32m    443\u001b[0m \u001b[38;5;66;03m# print(type(fit_x[0][0]))\u001b[39;00m\n\u001b[1;32m    444\u001b[0m \u001b[38;5;66;03m# print(type(fit_y[0]))\u001b[39;00m\n\u001b[1;32m    445\u001b[0m \u001b[38;5;66;03m# print(type(fit_z[0]))\u001b[39;00m\n\u001b[1;32m    446\u001b[0m \u001b[38;5;66;03m# fit #\u001b[39;00m\n\u001b[0;32m--> 447\u001b[0m \u001b[38;5;28;43mself\u001b[39;49m\u001b[38;5;241;43m.\u001b[39;49m\u001b[43m_xbcf_cpp\u001b[49m\u001b[38;5;241;43m.\u001b[39;49m\u001b[43m_fit\u001b[49m\u001b[43m(\u001b[49m\u001b[43mfit_x_t\u001b[49m\u001b[43m,\u001b[49m\u001b[43m \u001b[49m\u001b[43mfit_x\u001b[49m\u001b[43m,\u001b[49m\u001b[43m \u001b[49m\u001b[43mfit_y\u001b[49m\u001b[43m,\u001b[49m\u001b[43m \u001b[49m\u001b[43mfit_z\u001b[49m\u001b[43m)\u001b[49m\n\u001b[1;32m    449\u001b[0m muhats \u001b[38;5;241m=\u001b[39m \u001b[38;5;28mself\u001b[39m\u001b[38;5;241m.\u001b[39m_xbcf_cpp\u001b[38;5;241m.\u001b[39mget_muhats(\u001b[38;5;28mself\u001b[39m\u001b[38;5;241m.\u001b[39mparams[\u001b[38;5;124m\"\u001b[39m\u001b[38;5;124mnum_sweeps\u001b[39m\u001b[38;5;124m\"\u001b[39m] \u001b[38;5;241m*\u001b[39m fit_x\u001b[38;5;241m.\u001b[39mshape[\u001b[38;5;241m0\u001b[39m])\n\u001b[1;32m    450\u001b[0m tauhats \u001b[38;5;241m=\u001b[39m \u001b[38;5;28mself\u001b[39m\u001b[38;5;241m.\u001b[39m_xbcf_cpp\u001b[38;5;241m.\u001b[39mget_tauhats(\n\u001b[1;32m    451\u001b[0m     \u001b[38;5;28mself\u001b[39m\u001b[38;5;241m.\u001b[39mparams[\u001b[38;5;124m\"\u001b[39m\u001b[38;5;124mnum_sweeps\u001b[39m\u001b[38;5;124m\"\u001b[39m] \u001b[38;5;241m*\u001b[39m fit_x_t\u001b[38;5;241m.\u001b[39mshape[\u001b[38;5;241m0\u001b[39m]\n\u001b[1;32m    452\u001b[0m )\n",
      "File \u001b[0;32m~/Python/causal_prospective_merge/.conda/lib/python3.11/site-packages/xbcausalforest/xbcf_cpp_.py:110\u001b[0m, in \u001b[0;36mXBCFcpp._fit\u001b[0;34m(self, n_t, n_p, n_y, n_z)\u001b[0m\n\u001b[1;32m    109\u001b[0m \u001b[38;5;28;01mdef\u001b[39;00m \u001b[38;5;21m_fit\u001b[39m(\u001b[38;5;28mself\u001b[39m, n_t: \u001b[38;5;124m\"\u001b[39m\u001b[38;5;124mint\u001b[39m\u001b[38;5;124m\"\u001b[39m, n_p: \u001b[38;5;124m\"\u001b[39m\u001b[38;5;124mint\u001b[39m\u001b[38;5;124m\"\u001b[39m, n_y: \u001b[38;5;124m\"\u001b[39m\u001b[38;5;124mint\u001b[39m\u001b[38;5;124m\"\u001b[39m, n_z: \u001b[38;5;124m\"\u001b[39m\u001b[38;5;124mint\u001b[39m\u001b[38;5;124m\"\u001b[39m) \u001b[38;5;241m-\u001b[39m\u001b[38;5;241m>\u001b[39m \u001b[38;5;124m\"\u001b[39m\u001b[38;5;124mvoid\u001b[39m\u001b[38;5;124m\"\u001b[39m:\n\u001b[0;32m--> 110\u001b[0m     \u001b[38;5;28;01mreturn\u001b[39;00m \u001b[43m_xbcf_cpp_\u001b[49m\u001b[38;5;241;43m.\u001b[39;49m\u001b[43mXBCFcpp__fit\u001b[49m\u001b[43m(\u001b[49m\u001b[38;5;28;43mself\u001b[39;49m\u001b[43m,\u001b[49m\u001b[43m \u001b[49m\u001b[43mn_t\u001b[49m\u001b[43m,\u001b[49m\u001b[43m \u001b[49m\u001b[43mn_p\u001b[49m\u001b[43m,\u001b[49m\u001b[43m \u001b[49m\u001b[43mn_y\u001b[49m\u001b[43m,\u001b[49m\u001b[43m \u001b[49m\u001b[43mn_z\u001b[49m\u001b[43m)\u001b[49m\n",
      "\u001b[0;31mKeyboardInterrupt\u001b[0m: "
     ]
    }
   ],
   "source": [
    "causal_sample = []\n",
    "print(\"Getting conditional samples\")\n",
    "for i in tqdm(range(len(tau))):\n",
    "    Y_resid = Y - tau[i]\n",
    "    conditional_predictions = bcf.posterior_conditional_predictions(X=X,T=T,Y_residuals=Y_resid,n_samples=200)\n",
    "    causal_sample.append((predicitions[i],conditional_predictions))"
   ]
  },
  {
   "cell_type": "code",
   "execution_count": null,
   "metadata": {},
   "outputs": [],
   "source": [
    "causal_sample = []\n",
    "print(\"Getting conditional samples\")\n",
    "for i in tqdm(range(len(tau))):\n",
    "    Y_resid = Y - tau[i]\n",
    "    conditional_predictions = bcf.posterior_conditional_predictions(X=X,T=T,Y_residuals=Y_resid,n_samples=200)\n",
    "    causal_sample.append((predicitions[i],conditional_predictions))"
   ]
  },
  {
   "cell_type": "code",
   "execution_count": null,
   "metadata": {},
   "outputs": [],
   "source": [
    "from eig_comp_utils import compute_EIG_causal_from_samples"
   ]
  },
  {
   "cell_type": "code",
   "execution_count": null,
   "metadata": {},
   "outputs": [
    {
     "data": {
      "text/plain": [
       "2.013498975721575"
      ]
     },
     "execution_count": 25,
     "metadata": {},
     "output_type": "execute_result"
    }
   ],
   "source": [
    "compute_EIG_causal_from_samples(pred_in_form,causal_sample,1)"
   ]
  },
  {
   "cell_type": "code",
   "execution_count": null,
   "metadata": {},
   "outputs": [
    {
     "name": "stderr",
     "output_type": "stream",
     "text": [
      "/Users/jake/Python/causal_prospective_merge/.conda/lib/python3.11/site-packages/xbcausalforest/xbcf_python.py:286: RuntimeWarning: divide by zero encountered in scalar divide\n",
      "  self.params[\"tau_trt\"] = 0.1 * np.var(y) / self.params[\"num_trees_trt\"]\n"
     ]
    }
   ],
   "source": [
    "preds,tau = bcf.posterior_conditional_predictions(X=X,T=T,Y_residuals=Y_resid,n_samples=200,return_tau=True)"
   ]
  },
  {
   "cell_type": "code",
   "execution_count": null,
   "metadata": {},
   "outputs": [
    {
     "data": {
      "text/plain": [
       "(100, 200)"
      ]
     },
     "execution_count": 55,
     "metadata": {},
     "output_type": "execute_result"
    }
   ],
   "source": [
    "preds.shape"
   ]
  },
  {
   "cell_type": "code",
   "execution_count": null,
   "metadata": {},
   "outputs": [],
   "source": [
    "import xbcausalforest as xbcf"
   ]
  },
  {
   "cell_type": "code",
   "execution_count": null,
   "metadata": {},
   "outputs": [],
   "source": [
    "NUM_TREES_PR = 200 \n",
    "NUM_TREES_TRT = 80"
   ]
  },
  {
   "cell_type": "code",
   "execution_count": null,
   "metadata": {},
   "outputs": [],
   "source": [
    "cf = XBCF(\n",
    "    #model=\"Normal\",\n",
    "    parallel=True, \n",
    "    num_sweeps=200, \n",
    "    burnin=100,\n",
    "    max_depth=250,\n",
    "    num_trees_pr=NUM_TREES_PR,\n",
    "    num_trees_trt=NUM_TREES_TRT,\n",
    "    num_cutpoints=100,\n",
    "    Nmin=1,\n",
    "    #mtry_pr=X1.shape[1], # default 0 seems to be 'all'\n",
    "    #mtry_trt=X.shape[1], \n",
    "    tau_pr = 0.6 * np.var(Y_host_np)/NUM_TREES_PR, #0.6 * np.var(y) / /NUM_TREES_PR,\n",
    "    tau_trt = 0.1 * np.var(Y_host_np)/NUM_TREES_TRT, #0.1 * np.var(y) / /NUM_TREES_TRT,\n",
    "    alpha_pr= 0.95, # shrinkage (splitting probability)\n",
    "    beta_pr= 2, # shrinkage (tree depth)\n",
    "    alpha_trt= 0.95, # shrinkage for treatment part\n",
    "    beta_trt= 2,\n",
    "    p_categorical_pr = 0,\n",
    "    p_categorical_trt = 0,\n",
    "    # standardize y and unstandardize for prediction\n",
    "         )"
   ]
  },
  {
   "cell_type": "code",
   "execution_count": null,
   "metadata": {},
   "outputs": [
    {
     "data": {
      "text/plain": [
       "XBCF(num_sweeps = 200, burnin = 100, max_depth = 250, Nmin = 1, num_cutpoints = 100, no_split_penality = 4.605170185988092, mtry_pr = 10, mtry_trt = 10, p_categorical_pr = 0, p_categorical_trt = 0, num_trees_pr = 200, alpha_pr = 0.95, beta_pr = 2.0, tau_pr = 0.0029744889736175533, kap_pr = 16.0, s_pr = 4.0, pr_scale = False, num_trees_trt = 80, alpha_trt = 0.95, beta_trt = 2.0, tau_trt = 0.0012393704056739808, kap_trt = 16.0, s_trt = 4.0, trt_scale = False, verbose = False, parallel = True, set_random_seed = False, random_seed = 0, sample_weights_flag = True, a_scaling = True, b_scaling = True)"
      ]
     },
     "execution_count": 21,
     "metadata": {},
     "output_type": "execute_result"
    }
   ],
   "source": [
    "cf.fit(\n",
    "    x_t=X_host_np,\n",
    "    x= X_host_np,\n",
    "    y=Y_host_np,\n",
    "    z=T_host_np\n",
    ")"
   ]
  },
  {
   "cell_type": "code",
   "execution_count": null,
   "metadata": {},
   "outputs": [],
   "source": [
    "predicitions = cf.predict(X_host_np,X_host_np,return_mean=False,return_muhat=True)"
   ]
  },
  {
   "cell_type": "code",
   "execution_count": null,
   "metadata": {},
   "outputs": [],
   "source": [
    "b = cf.b\n",
    "b_adj = (b/( np.expand_dims(b[:,1]-b[:,0],axis= 1)))\n",
    "\n",
    "tau_adj = predicitions[0]* (b_adj.T[T_host_np])\n",
    "preds = (tau_adj + predicitions[1])"
   ]
  },
  {
   "cell_type": "code",
   "execution_count": null,
   "metadata": {},
   "outputs": [],
   "source": [
    "Y_adj = (np.expand_dims(Y_host_np,axis=1) - tau_adj).T[0]"
   ]
  },
  {
   "cell_type": "code",
   "execution_count": null,
   "metadata": {},
   "outputs": [
    {
     "name": "stderr",
     "output_type": "stream",
     "text": [
      "/Users/jake/Python/causal_prospective_merge/.conda/lib/python3.11/site-packages/xbcausalforest/xbcf_python.py:286: RuntimeWarning: divide by zero encountered in scalar divide\n",
      "  self.params[\"tau_trt\"] = 0.1 * np.var(y) / self.params[\"num_trees_trt\"]\n"
     ]
    },
    {
     "data": {
      "text/plain": [
       "XBCF(num_sweeps = 200, burnin = 100, max_depth = 250, Nmin = 1, num_cutpoints = 100, no_split_penality = 4.605170185988092, mtry_pr = 10, mtry_trt = 10, p_categorical_pr = 0, p_categorical_trt = 0, num_trees_pr = 200, alpha_pr = 0.95, beta_pr = 2.0, tau_pr = 0.0027849969323278634, kap_pr = 16.0, s_pr = 4.0, pr_scale = False, num_trees_trt = 0, alpha_trt = 0.95, beta_trt = 2.0, tau_trt = inf, kap_trt = 16.0, s_trt = 4.0, trt_scale = False, verbose = False, parallel = True, set_random_seed = False, random_seed = 0, sample_weights_flag = True, a_scaling = True, b_scaling = True)"
      ]
     },
     "execution_count": 25,
     "metadata": {},
     "output_type": "execute_result"
    }
   ],
   "source": [
    "cf = XBCF(\n",
    "    #model=\"Normal\",\n",
    "    parallel=True, \n",
    "    num_sweeps=200, \n",
    "    burnin=100,\n",
    "    max_depth=250,\n",
    "    num_trees_pr=NUM_TREES_PR,\n",
    "    num_trees_trt=0,\n",
    "    num_cutpoints=100,\n",
    "    Nmin=1,\n",
    "    #mtry_pr=X1.shape[1], # default 0 seems to be 'all'\n",
    "    #mtry_trt=X.shape[1], \n",
    "    tau_pr = 0.6 * np.var(Y_host_np)/NUM_TREES_PR, #0.6 * np.var(y) / /NUM_TREES_PR,\n",
    "    tau_trt = 0.1 * np.var(Y_host_np)/NUM_TREES_TRT, #0.1 * np.var(y) / /NUM_TREES_TRT,\n",
    "    alpha_pr= 0.95, # shrinkage (splitting probability)\n",
    "    beta_pr= 2, # shrinkage (tree depth)\n",
    "    alpha_trt= 0.95, # shrinkage for treatment part\n",
    "    beta_trt= 2,\n",
    "    p_categorical_pr = 0,\n",
    "    p_categorical_trt = 0,\n",
    "    # standardize y and unstandardize for prediction\n",
    "         )\n",
    "\n",
    "cf.fit(\n",
    "    x_t = np.zeros_like(X_host_np),\n",
    "    x = X_host_np,\n",
    "    y = Y_adj,\n",
    "    z = T_host_np\n",
    ")"
   ]
  },
  {
   "cell_type": "code",
   "execution_count": null,
   "metadata": {},
   "outputs": [],
   "source": [
    "predicitions = cf.predict(np.zeros_like(X_host_np),X_host_np,return_mean=False,return_muhat=True)"
   ]
  },
  {
   "cell_type": "code",
   "execution_count": null,
   "metadata": {},
   "outputs": [
    {
     "data": {
      "text/plain": [
       "(array([[ 0.,  0.,  0., ...,  0., -0.,  0.],\n",
       "        [ 0.,  0.,  0., ...,  0., -0.,  0.],\n",
       "        [ 0.,  0.,  0., ...,  0., -0.,  0.],\n",
       "        ...,\n",
       "        [ 0.,  0.,  0., ...,  0., -0.,  0.],\n",
       "        [ 0.,  0.,  0., ...,  0., -0.,  0.],\n",
       "        [ 0.,  0.,  0., ...,  0., -0.,  0.]]),\n",
       " array([[ 0.062448  ,  0.36889832, -0.02182688, ...,  0.40745114,\n",
       "          0.08932317, -0.01795297],\n",
       "        [ 0.54190005,  0.55311663,  0.31037042, ...,  0.55837775,\n",
       "          0.84239695,  0.46283443],\n",
       "        [-1.37596441, -1.23473215, -1.13664206, ..., -1.50755527,\n",
       "         -1.16834067, -1.10944947],\n",
       "        ...,\n",
       "        [-0.91072695, -0.66860846, -1.09486624, ..., -0.77695684,\n",
       "         -1.15556815, -1.04539682],\n",
       "        [-0.10020598, -0.42414434, -0.16395756, ..., -0.48657292,\n",
       "         -0.1416557 ,  0.10174316],\n",
       "        [ 0.14673005,  0.2849502 ,  0.0815876 , ...,  0.22618989,\n",
       "         -0.09158059,  0.06720227]]))"
      ]
     },
     "execution_count": 27,
     "metadata": {},
     "output_type": "execute_result"
    }
   ],
   "source": [
    "predicitions"
   ]
  },
  {
   "cell_type": "code",
   "execution_count": null,
   "metadata": {},
   "outputs": [],
   "source": [
    "b = cf.b\n",
    "b_adj = (b/( np.expand_dims(b[:,1]-b[:,0],axis= 1)))\n",
    "\n",
    "tau_adj = predicitions[0]* (b_adj.T[T_host_np])\n",
    "preds = (tau_adj + predicitions[1])"
   ]
  },
  {
   "cell_type": "code",
   "execution_count": null,
   "metadata": {},
   "outputs": [
    {
     "data": {
      "text/plain": [
       "0.9287824086259364"
      ]
     },
     "execution_count": 29,
     "metadata": {},
     "output_type": "execute_result"
    }
   ],
   "source": [
    "(Y_adj**2).mean()"
   ]
  },
  {
   "cell_type": "code",
   "execution_count": null,
   "metadata": {},
   "outputs": [
    {
     "data": {
      "text/plain": [
       "0.015277002089668952"
      ]
     },
     "execution_count": 30,
     "metadata": {},
     "output_type": "execute_result"
    }
   ],
   "source": [
    "((Y_adj-preds.mean(axis=1))**2).mean()"
   ]
  },
  {
   "cell_type": "code",
   "execution_count": null,
   "metadata": {},
   "outputs": [
    {
     "data": {
      "text/plain": [
       "array([[ 0.,  0., -0., ...,  0., -0.,  0.],\n",
       "       [-0., -0., -0., ..., -0.,  0.,  0.],\n",
       "       [ 0.,  0., -0., ...,  0., -0.,  0.],\n",
       "       ...,\n",
       "       [ 0.,  0., -0., ...,  0., -0.,  0.],\n",
       "       [-0., -0., -0., ..., -0.,  0.,  0.],\n",
       "       [-0., -0., -0., ..., -0.,  0.,  0.]])"
      ]
     },
     "execution_count": 31,
     "metadata": {},
     "output_type": "execute_result"
    }
   ],
   "source": [
    "tau_adj"
   ]
  },
  {
   "cell_type": "code",
   "execution_count": null,
   "metadata": {},
   "outputs": [
    {
     "data": {
      "text/plain": [
       "(array([[ 0.,  0.,  0., ...,  0., -0.,  0.],\n",
       "        [ 0.,  0.,  0., ...,  0., -0.,  0.],\n",
       "        [ 0.,  0.,  0., ...,  0., -0.,  0.],\n",
       "        ...,\n",
       "        [ 0.,  0.,  0., ...,  0., -0.,  0.],\n",
       "        [ 0.,  0.,  0., ...,  0., -0.,  0.],\n",
       "        [ 0.,  0.,  0., ...,  0., -0.,  0.]]),\n",
       " array([[ 0.062448  ,  0.36889832, -0.02182688, ...,  0.40745114,\n",
       "          0.08932317, -0.01795297],\n",
       "        [ 0.54190005,  0.55311663,  0.31037042, ...,  0.55837775,\n",
       "          0.84239695,  0.46283443],\n",
       "        [-1.37596441, -1.23473215, -1.13664206, ..., -1.50755527,\n",
       "         -1.16834067, -1.10944947],\n",
       "        ...,\n",
       "        [-0.91072695, -0.66860846, -1.09486624, ..., -0.77695684,\n",
       "         -1.15556815, -1.04539682],\n",
       "        [-0.10020598, -0.42414434, -0.16395756, ..., -0.48657292,\n",
       "         -0.1416557 ,  0.10174316],\n",
       "        [ 0.14673005,  0.2849502 ,  0.0815876 , ...,  0.22618989,\n",
       "         -0.09158059,  0.06720227]]))"
      ]
     },
     "execution_count": 32,
     "metadata": {},
     "output_type": "execute_result"
    }
   ],
   "source": [
    "predicitions"
   ]
  },
  {
   "cell_type": "code",
   "execution_count": null,
   "metadata": {},
   "outputs": [
    {
     "data": {
      "text/plain": [
       "0.024142782849967778"
      ]
     },
     "execution_count": 33,
     "metadata": {},
     "output_type": "execute_result"
    }
   ],
   "source": [
    "((preds.mean(axis=1)-Y_host_np)**2).mean()"
   ]
  },
  {
   "cell_type": "code",
   "execution_count": null,
   "metadata": {},
   "outputs": [
    {
     "data": {
      "text/plain": [
       "array([[ 0.062448  ,  0.36889832, -0.02182688, ...,  0.40745114,\n",
       "         0.08932317, -0.01795297],\n",
       "       [ 0.54190005,  0.55311663,  0.31037042, ...,  0.55837775,\n",
       "         0.84239695,  0.46283443],\n",
       "       [-1.37596441, -1.23473215, -1.13664206, ..., -1.50755527,\n",
       "        -1.16834067, -1.10944947],\n",
       "       ...,\n",
       "       [-0.91072695, -0.66860846, -1.09486624, ..., -0.77695684,\n",
       "        -1.15556815, -1.04539682],\n",
       "       [-0.10020598, -0.42414434, -0.16395756, ..., -0.48657292,\n",
       "        -0.1416557 ,  0.10174316],\n",
       "       [ 0.14673005,  0.2849502 ,  0.0815876 , ...,  0.22618989,\n",
       "        -0.09158059,  0.06720227]])"
      ]
     },
     "execution_count": 34,
     "metadata": {},
     "output_type": "execute_result"
    }
   ],
   "source": [
    "preds"
   ]
  },
  {
   "cell_type": "code",
   "execution_count": null,
   "metadata": {},
   "outputs": [
    {
     "data": {
      "text/plain": [
       "array([-1.0027681e-02,  3.3784306e-01, -1.2541382e+00,  3.1256959e-01,\n",
       "       -4.7415957e-01,  4.5077965e-01,  2.4700131e+00, -6.7570603e-01,\n",
       "       -1.4678315e+00, -5.0529778e-01, -2.2587560e-01, -5.4501891e-02,\n",
       "       -1.3739359e+00, -1.4328986e-01, -3.6615300e-01, -2.5677934e-02,\n",
       "        9.6452802e-01,  5.3417987e-01,  1.0382600e+00,  1.7982579e-03,\n",
       "        1.0459331e+00, -3.3536810e-01,  1.2266842e+00, -1.4169722e+00,\n",
       "        5.5360150e-02, -1.7924825e+00, -6.7738706e-01, -1.5795844e+00,\n",
       "       -7.6324731e-02,  7.2360235e-01, -2.9838771e-01,  1.4375595e+00,\n",
       "       -1.3860397e-01, -7.7572024e-01,  2.6350304e-01,  4.5717143e-02,\n",
       "       -2.2918837e+00, -4.2746985e-01, -1.2554047e+00, -3.5815999e-01,\n",
       "        1.5554879e+00,  1.1510255e+00, -1.6451495e+00, -9.9534285e-01,\n",
       "       -1.4149719e-01,  2.4940895e-01, -2.8302634e-01, -2.0933665e-01,\n",
       "        5.3453165e-01, -2.0229363e+00,  2.2036110e-01,  3.7880665e-01,\n",
       "       -5.5487955e-01,  3.8057946e-02, -5.8195662e-01, -1.9363624e-01,\n",
       "        2.0649143e-01, -1.7847770e+00,  9.0109164e-01, -1.7082016e-01,\n",
       "        1.1251444e+00,  3.6216795e-01, -8.9984876e-01,  2.7132648e-01,\n",
       "        7.4584925e-01,  3.8168618e-01,  1.1913819e+00, -2.2527617e-01,\n",
       "        6.2538111e-01,  2.0125897e+00, -1.4777447e+00, -2.0016649e+00,\n",
       "        6.2700808e-02,  1.2390007e+00, -1.5165367e+00,  7.8768277e-01,\n",
       "        1.1780722e-01, -7.6435572e-01, -8.3210480e-01, -2.8836435e-01,\n",
       "        1.5391991e+00,  5.7130891e-01, -2.7674906e-02,  7.9010725e-01,\n",
       "        4.5824885e-01, -5.3114134e-01,  4.8600364e-01, -3.8364270e-01,\n",
       "       -6.0025948e-01, -1.8984165e-02,  1.3169426e+00,  2.8634696e+00,\n",
       "       -2.3911212e-01,  1.4244347e+00, -5.9525639e-02,  2.5382080e+00,\n",
       "        3.9847836e-01, -9.5607150e-01, -3.2899728e-01,  2.8009561e-01],\n",
       "      dtype=float32)"
      ]
     },
     "execution_count": 35,
     "metadata": {},
     "output_type": "execute_result"
    }
   ],
   "source": [
    "Y_host_np"
   ]
  },
  {
   "cell_type": "code",
   "execution_count": null,
   "metadata": {},
   "outputs": [],
   "source": [
    "zero_one = b_adj\n",
    "zero_one[:,0] = 0\n",
    "zero_one[:,1] = 1"
   ]
  },
  {
   "cell_type": "code",
   "execution_count": null,
   "metadata": {},
   "outputs": [
    {
     "data": {
      "text/plain": [
       "array([[0., 1.],\n",
       "       [0., 1.],\n",
       "       [0., 1.],\n",
       "       [0., 1.],\n",
       "       [0., 1.],\n",
       "       [0., 1.],\n",
       "       [0., 1.],\n",
       "       [0., 1.],\n",
       "       [0., 1.],\n",
       "       [0., 1.],\n",
       "       [0., 1.],\n",
       "       [0., 1.],\n",
       "       [0., 1.],\n",
       "       [0., 1.],\n",
       "       [0., 1.],\n",
       "       [0., 1.],\n",
       "       [0., 1.],\n",
       "       [0., 1.],\n",
       "       [0., 1.],\n",
       "       [0., 1.],\n",
       "       [0., 1.],\n",
       "       [0., 1.],\n",
       "       [0., 1.],\n",
       "       [0., 1.],\n",
       "       [0., 1.],\n",
       "       [0., 1.],\n",
       "       [0., 1.],\n",
       "       [0., 1.],\n",
       "       [0., 1.],\n",
       "       [0., 1.],\n",
       "       [0., 1.],\n",
       "       [0., 1.],\n",
       "       [0., 1.],\n",
       "       [0., 1.],\n",
       "       [0., 1.],\n",
       "       [0., 1.],\n",
       "       [0., 1.],\n",
       "       [0., 1.],\n",
       "       [0., 1.],\n",
       "       [0., 1.],\n",
       "       [0., 1.],\n",
       "       [0., 1.],\n",
       "       [0., 1.],\n",
       "       [0., 1.],\n",
       "       [0., 1.],\n",
       "       [0., 1.],\n",
       "       [0., 1.],\n",
       "       [0., 1.],\n",
       "       [0., 1.],\n",
       "       [0., 1.],\n",
       "       [0., 1.],\n",
       "       [0., 1.],\n",
       "       [0., 1.],\n",
       "       [0., 1.],\n",
       "       [0., 1.],\n",
       "       [0., 1.],\n",
       "       [0., 1.],\n",
       "       [0., 1.],\n",
       "       [0., 1.],\n",
       "       [0., 1.],\n",
       "       [0., 1.],\n",
       "       [0., 1.],\n",
       "       [0., 1.],\n",
       "       [0., 1.],\n",
       "       [0., 1.],\n",
       "       [0., 1.],\n",
       "       [0., 1.],\n",
       "       [0., 1.],\n",
       "       [0., 1.],\n",
       "       [0., 1.],\n",
       "       [0., 1.],\n",
       "       [0., 1.],\n",
       "       [0., 1.],\n",
       "       [0., 1.],\n",
       "       [0., 1.],\n",
       "       [0., 1.],\n",
       "       [0., 1.],\n",
       "       [0., 1.],\n",
       "       [0., 1.],\n",
       "       [0., 1.],\n",
       "       [0., 1.],\n",
       "       [0., 1.],\n",
       "       [0., 1.],\n",
       "       [0., 1.],\n",
       "       [0., 1.],\n",
       "       [0., 1.],\n",
       "       [0., 1.],\n",
       "       [0., 1.],\n",
       "       [0., 1.],\n",
       "       [0., 1.],\n",
       "       [0., 1.],\n",
       "       [0., 1.],\n",
       "       [0., 1.],\n",
       "       [0., 1.],\n",
       "       [0., 1.],\n",
       "       [0., 1.],\n",
       "       [0., 1.],\n",
       "       [0., 1.],\n",
       "       [0., 1.],\n",
       "       [0., 1.],\n",
       "       [0., 1.],\n",
       "       [0., 1.],\n",
       "       [0., 1.],\n",
       "       [0., 1.],\n",
       "       [0., 1.],\n",
       "       [0., 1.],\n",
       "       [0., 1.],\n",
       "       [0., 1.],\n",
       "       [0., 1.],\n",
       "       [0., 1.],\n",
       "       [0., 1.],\n",
       "       [0., 1.],\n",
       "       [0., 1.],\n",
       "       [0., 1.],\n",
       "       [0., 1.],\n",
       "       [0., 1.],\n",
       "       [0., 1.],\n",
       "       [0., 1.],\n",
       "       [0., 1.],\n",
       "       [0., 1.],\n",
       "       [0., 1.],\n",
       "       [0., 1.],\n",
       "       [0., 1.],\n",
       "       [0., 1.],\n",
       "       [0., 1.],\n",
       "       [0., 1.],\n",
       "       [0., 1.],\n",
       "       [0., 1.],\n",
       "       [0., 1.],\n",
       "       [0., 1.],\n",
       "       [0., 1.],\n",
       "       [0., 1.],\n",
       "       [0., 1.],\n",
       "       [0., 1.],\n",
       "       [0., 1.],\n",
       "       [0., 1.],\n",
       "       [0., 1.],\n",
       "       [0., 1.],\n",
       "       [0., 1.],\n",
       "       [0., 1.],\n",
       "       [0., 1.],\n",
       "       [0., 1.],\n",
       "       [0., 1.],\n",
       "       [0., 1.],\n",
       "       [0., 1.],\n",
       "       [0., 1.],\n",
       "       [0., 1.],\n",
       "       [0., 1.],\n",
       "       [0., 1.],\n",
       "       [0., 1.],\n",
       "       [0., 1.],\n",
       "       [0., 1.],\n",
       "       [0., 1.],\n",
       "       [0., 1.],\n",
       "       [0., 1.],\n",
       "       [0., 1.],\n",
       "       [0., 1.],\n",
       "       [0., 1.],\n",
       "       [0., 1.],\n",
       "       [0., 1.],\n",
       "       [0., 1.],\n",
       "       [0., 1.],\n",
       "       [0., 1.],\n",
       "       [0., 1.],\n",
       "       [0., 1.],\n",
       "       [0., 1.],\n",
       "       [0., 1.],\n",
       "       [0., 1.],\n",
       "       [0., 1.],\n",
       "       [0., 1.],\n",
       "       [0., 1.],\n",
       "       [0., 1.],\n",
       "       [0., 1.],\n",
       "       [0., 1.],\n",
       "       [0., 1.],\n",
       "       [0., 1.],\n",
       "       [0., 1.],\n",
       "       [0., 1.],\n",
       "       [0., 1.],\n",
       "       [0., 1.],\n",
       "       [0., 1.],\n",
       "       [0., 1.],\n",
       "       [0., 1.],\n",
       "       [0., 1.],\n",
       "       [0., 1.],\n",
       "       [0., 1.],\n",
       "       [0., 1.],\n",
       "       [0., 1.],\n",
       "       [0., 1.],\n",
       "       [0., 1.],\n",
       "       [0., 1.],\n",
       "       [0., 1.],\n",
       "       [0., 1.],\n",
       "       [0., 1.],\n",
       "       [0., 1.],\n",
       "       [0., 1.],\n",
       "       [0., 1.],\n",
       "       [0., 1.],\n",
       "       [0., 1.],\n",
       "       [0., 1.]])"
      ]
     },
     "execution_count": 37,
     "metadata": {},
     "output_type": "execute_result"
    }
   ],
   "source": [
    "zero_one"
   ]
  },
  {
   "cell_type": "code",
   "execution_count": null,
   "metadata": {},
   "outputs": [
    {
     "data": {
      "text/plain": [
       "array([[ 0.062448  ,  0.36889832, -0.02182688, ...,  0.40745114,\n",
       "         0.08932317, -0.01795297],\n",
       "       [ 0.        ,  0.        ,  0.        , ...,  0.        ,\n",
       "         0.        ,  0.        ],\n",
       "       [-1.37596441, -1.23473215, -1.13664206, ..., -1.50755527,\n",
       "        -1.16834067, -1.10944947],\n",
       "       ...,\n",
       "       [-0.91072695, -0.66860846, -1.09486624, ..., -0.77695684,\n",
       "        -1.15556815, -1.04539682],\n",
       "       [-0.        , -0.        , -0.        , ..., -0.        ,\n",
       "        -0.        ,  0.        ],\n",
       "       [ 0.        ,  0.        ,  0.        , ...,  0.        ,\n",
       "        -0.        ,  0.        ]])"
      ]
     },
     "execution_count": 38,
     "metadata": {},
     "output_type": "execute_result"
    }
   ],
   "source": [
    "(preds * (zero_one.T[T_host_np]))"
   ]
  },
  {
   "cell_type": "code",
   "execution_count": null,
   "metadata": {},
   "outputs": [
    {
     "data": {
      "text/plain": [
       "array([1, 0, 1, 1, 1, 0, 0, 0, 1, 1, 1, 1, 1, 1, 0, 1, 0, 0, 1, 0, 1, 1,\n",
       "       1, 0, 0, 1, 0, 0, 0, 0, 1, 1, 1, 0, 0, 0, 1, 1, 1, 1, 0, 0, 1, 1,\n",
       "       1, 1, 1, 1, 0, 1, 0, 0, 1, 1, 1, 1, 0, 1, 0, 1, 1, 1, 1, 1, 1, 1,\n",
       "       0, 1, 1, 0, 0, 0, 0, 1, 1, 0, 1, 1, 0, 1, 0, 1, 0, 1, 1, 1, 1, 1,\n",
       "       0, 0, 1, 0, 1, 1, 0, 0, 1, 1, 0, 0], dtype=int32)"
      ]
     },
     "execution_count": 39,
     "metadata": {},
     "output_type": "execute_result"
    }
   ],
   "source": [
    "T_host_np"
   ]
  },
  {
   "cell_type": "code",
   "execution_count": null,
   "metadata": {},
   "outputs": [
    {
     "data": {
      "text/plain": [
       "(100, 200)"
      ]
     },
     "execution_count": 40,
     "metadata": {},
     "output_type": "execute_result"
    }
   ],
   "source": [
    "b_adj.T[T_host_np].shape"
   ]
  },
  {
   "cell_type": "code",
   "execution_count": null,
   "metadata": {},
   "outputs": [
    {
     "data": {
      "text/plain": [
       "array([   1.        ,    1.79263863,   16.85242175,    1.27232554,\n",
       "          1.95618683,   -0.81307613,   -2.90397183,   -0.88551136,\n",
       "          0.81156604,    2.34651251,    0.85757365,   -0.45146257,\n",
       "          1.57298871,   -1.04484782,   -0.84375621,    0.70354786,\n",
       "          6.5773465 ,   78.16367847,    1.09559407,    1.04183923,\n",
       "          0.96606927,    2.46862989,   -6.17447733,    0.45069441,\n",
       "         -8.30438462,    3.30564216,   -1.75249179,    1.36468276,\n",
       "          1.63963622,   -3.60870995,   -4.35719005,   -0.89769291,\n",
       "         55.39759803,   -1.01059817,   -1.72822839,   -1.38167704,\n",
       "          0.65313602,   -0.96055083,   -0.50261003,   -0.87914368,\n",
       "         -4.37855778,    1.12313459,   -9.39800577,   -0.74272738,\n",
       "          0.73814445,   -0.81535814,    3.11883491,   -1.31026382,\n",
       "         13.39771173,   -4.6314851 ,   -0.93088136,    3.0983337 ,\n",
       "         -6.36670132,   -2.74815534,    0.65435172,   -8.08609789,\n",
       "         -1.30175958,    1.6412005 ,    0.48467231,   -1.53750619,\n",
       "          5.94364227,  -16.93011994,    1.30320629,   -0.59179482,\n",
       "          5.4780726 ,   -0.97900099,   -9.28635928,    1.04621972,\n",
       "         -2.37075604,   -2.45935916,    1.46104591,    0.74180938,\n",
       "          2.26985516,   -0.5212387 ,    1.56121504,    0.80445181,\n",
       "          0.85050051,   -0.80250159,   -1.15473402,    2.91544735,\n",
       "          1.4503378 ,   -0.52351964,    3.05558673,    0.30530461,\n",
       "         -1.31473304,    4.5944163 ,    2.30561667,   -1.12351888,\n",
       "          1.07435826,   -7.16664241,    1.73178542,   -1.73014867,\n",
       "         -1.57579245,   -2.86325086,   15.57294091,    0.61369098,\n",
       "          1.51773644,    1.66344574,    0.44517466,  -14.58468042,\n",
       "          1.88424119,   -2.1017988 ,    0.81878515,    2.29042981,\n",
       "         -1.80446314,   -0.56795519,   -4.15434358,   -1.615772  ,\n",
       "          1.54272944,   -0.46818508,   -1.77154946,   -1.17850428,\n",
       "         -2.89821792,    4.95922068,    1.70732669,   -1.4594992 ,\n",
       "         -1.25821358,   -0.60530135,   -1.33446104,    0.70850434,\n",
       "          1.34127908,   23.96300461,   -3.97046932,    0.81272893,\n",
       "          1.49882023,    2.0309903 ,    0.69673581,    8.81651104,\n",
       "          0.92782949,   -0.68271268,    1.12304945,    0.80034968,\n",
       "         -0.38568937,    1.63907135,   -1.22689066,   -0.82163197,\n",
       "         -4.61349471,    1.33080822,    0.92114762,   -0.81341747,\n",
       "          8.63449941,    0.57840344,   -3.71980221,  -45.05242045,\n",
       "         -0.97425787,   -0.50058193,   -1.87000147,   -0.64995054,\n",
       "          0.77419894,    0.70707478,   -4.81033207,    1.35134225,\n",
       "         -0.50194764,   -1.27005382,   -4.10433499,    1.34361441,\n",
       "         -1.47685848,    1.20352664,    1.84552244,    0.57181067,\n",
       "          7.94939782,   -2.47946041,   -0.83164168,   -0.52072824,\n",
       "         -1.77691382,   -3.1899907 ,   -0.54831073,   -2.28694031,\n",
       "          3.19242189, -245.83083183,  -15.23630594,    0.80897164,\n",
       "          1.82114261,    1.8203711 ,   -0.70884332,    0.60948129,\n",
       "          0.60030079,   -2.41786022,    1.87407169,    1.40872387,\n",
       "          0.68787622,    0.81406653,    0.66325525,    0.53663998,\n",
       "         -1.17908915,    0.45110579,    2.17097509,    2.03385861,\n",
       "          3.10289217,   -0.94222282,    6.39726053,    0.61947652,\n",
       "         -2.23881317,  -11.74153932,   -0.52182372,    0.89567391,\n",
       "         -1.09532604,    3.01447295,   -0.72516393,    1.35885693])"
      ]
     },
     "execution_count": 41,
     "metadata": {},
     "output_type": "execute_result"
    }
   ],
   "source": [
    "1/(b[:,1]-b[:,0])"
   ]
  }
 ],
 "metadata": {
  "kernelspec": {
   "display_name": "pjake_kernel",
   "language": "python",
   "name": "pjake_kernel"
  },
  "language_info": {
   "codemirror_mode": {
    "name": "ipython",
    "version": 3
   },
   "file_extension": ".py",
   "mimetype": "text/x-python",
   "name": "python",
   "nbconvert_exporter": "python",
   "pygments_lexer": "ipython3",
   "version": "3.9.7"
  }
 },
 "nbformat": 4,
 "nbformat_minor": 2
}
