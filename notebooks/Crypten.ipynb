{
 "cells": [
  {
   "cell_type": "code",
   "execution_count": 62,
   "metadata": {},
   "outputs": [],
   "source": [
    "import crypten\n",
    "import torch\n",
    "\n",
    "crypten.init()\n",
    "from crypten.config import cfg"
   ]
  },
  {
   "cell_type": "code",
   "execution_count": 63,
   "metadata": {},
   "outputs": [],
   "source": [
    "from crypten.config import cfg\n"
   ]
  },
  {
   "cell_type": "code",
   "execution_count": 64,
   "metadata": {},
   "outputs": [],
   "source": [
    "# cfg.set_config(reciprocal_nr_iters= 100)"
   ]
  },
  {
   "cell_type": "code",
   "execution_count": 65,
   "metadata": {},
   "outputs": [],
   "source": [
    "def chol_LD_Crypten(crypt_PSD_mat):\n",
    "\n",
    "    L_enc = crypten.cryptensor(torch.zeros(crypt_PSD_mat.shape))\n",
    "    D_enc = crypten.cryptensor(torch.zeros(crypt_PSD_mat.shape[0]))\n",
    "\n",
    "    for i in (range(crypt_PSD_mat.shape[0])):\n",
    "        L_enc[i,i] = 1 \n",
    "        for j in range(crypt_PSD_mat.shape[0]):\n",
    "            if i == j:\n",
    "                if i == 0:\n",
    "                    D_enc[i] = crypt_PSD_mat[i,i]\n",
    "                else:\n",
    "                    D_enc[i] = (crypt_PSD_mat[j,j] - L_enc[j,:j].t() @ (L_enc[j,:j]*D_enc[:j]))\n",
    "            if i > j:\n",
    "                    if j>0:\n",
    "                        L_enc[i,j] = (crypt_PSD_mat[i,j] - L_enc[i,:j].t()@ (L_enc[j,:j]*D_enc[:j])).div(D_enc[j])\n",
    "                    else:\n",
    "                        L_enc[i,j] = (crypt_PSD_mat[i,j]).div(D_enc[j])\n",
    "    \n",
    "    return L_enc, D_enc\n",
    "\n",
    "def logdet_Crypten(crypt_PSD_mat):\n",
    "        _,D_enc = chol_LD_Crypten(crypt_PSD_mat)\n",
    "        D_log_enc = D_enc.log()\n",
    "        return D_log_enc.sum()\n",
    "        "
   ]
  },
  {
   "cell_type": "code",
   "execution_count": 66,
   "metadata": {},
   "outputs": [],
   "source": [
    "a = torch.randn((3,3))\n",
    "A = a.T @ a + torch.eye(3)\n",
    "A_enc = crypten.cryptensor(A)"
   ]
  },
  {
   "cell_type": "code",
   "execution_count": 67,
   "metadata": {},
   "outputs": [
    {
     "data": {
      "text/plain": [
       "(tensor([[ 1.0000,  0.0000,  0.0000],\n",
       "         [-0.7799,  1.0000,  0.0000],\n",
       "         [-0.0382, -0.0490,  1.0000]]),\n",
       " tensor([2.4639, 2.1603, 1.4012]))"
      ]
     },
     "execution_count": 67,
     "metadata": {},
     "output_type": "execute_result"
    }
   ],
   "source": [
    "L_enc, D_enc = chol_LD_Crypten(A_enc) \n",
    "L_enc.get_plain_text(), D_enc.get_plain_text()"
   ]
  },
  {
   "cell_type": "code",
   "execution_count": 68,
   "metadata": {},
   "outputs": [
    {
     "data": {
      "text/plain": [
       "tensor([2.4639, 2.1603, 1.4011])"
      ]
     },
     "execution_count": 68,
     "metadata": {},
     "output_type": "execute_result"
    }
   ],
   "source": [
    "LD = torch.linalg.ldl_factor(A).LD\n",
    "D = torch.diag(LD)\n",
    "D"
   ]
  },
  {
   "cell_type": "code",
   "execution_count": 69,
   "metadata": {},
   "outputs": [
    {
     "data": {
      "text/plain": [
       "torch.return_types.slogdet(\n",
       "sign=tensor(1.),\n",
       "logabsdet=tensor(2.0093))"
      ]
     },
     "execution_count": 69,
     "metadata": {},
     "output_type": "execute_result"
    }
   ],
   "source": [
    "torch.slogdet(A)"
   ]
  },
  {
   "cell_type": "code",
   "execution_count": 70,
   "metadata": {},
   "outputs": [
    {
     "data": {
      "text/plain": [
       "tensor(2.0081)"
      ]
     },
     "execution_count": 70,
     "metadata": {},
     "output_type": "execute_result"
    }
   ],
   "source": [
    "logdet_Crypten(A_enc).get_plain_text()"
   ]
  },
  {
   "cell_type": "markdown",
   "metadata": {},
   "source": [
    "Implementing linear EIG calc in crypten"
   ]
  },
  {
   "cell_type": "code",
   "execution_count": 195,
   "metadata": {},
   "outputs": [],
   "source": [
    "n_host_sample = 2000 \n",
    "sigma_error = 1\n",
    "d = 5\n",
    "A = torch.randn((d,d))\n",
    "A = 1/(torch.det(A)) * A\n",
    "\n",
    "T_allocation_host = torch.randn(d)\n",
    "T_allocation_host = 100/torch.norm(T_allocation_host)*T_allocation_host\n",
    "\n",
    "mu_nc = torch.randn(d)\n",
    "mu_nc = 1/torch.norm(mu_nc)*mu_nc\n",
    "\n",
    "mu_c = torch.randn(d)\n",
    "mu_c = 1/torch.norm(mu_c)*mu_c\n",
    "\n",
    "mu = torch.concat([mu_nc,mu_c])"
   ]
  },
  {
   "cell_type": "code",
   "execution_count": 196,
   "metadata": {},
   "outputs": [],
   "source": [
    "X_host_no_T = (torch.randn((n_host_sample,d)) @ A ) \n",
    "T_host = torch.bernoulli(torch.sigmoid(X_host_no_T@ T_allocation_host))\n",
    "X_host_times_T = (T_host.unsqueeze(dim=0).T * X_host_no_T)\n",
    "X_host = torch.concat([X_host_no_T,X_host_times_T],dim=1)\n",
    "\n",
    "Y_host = X_host @ mu\n",
    "Y_host = (1/Y_host.std()) * (Y_host-Y_host.mean()) + sigma_error * torch.randn_like(Y_host)"
   ]
  },
  {
   "cell_type": "code",
   "execution_count": 197,
   "metadata": {},
   "outputs": [],
   "source": [
    "X_host_no_T = (torch.randn((n_host_sample,d)) @ A ) \n",
    "T_host = torch.bernoulli(torch.sigmoid(X_host_no_T@ T_allocation_host))\n",
    "X_host_times_T = (T_host.unsqueeze(dim=0).T * X_host_no_T)\n",
    "X_host = torch.concat([X_host_no_T,X_host_times_T],dim=1)"
   ]
  },
  {
   "cell_type": "code",
   "execution_count": 198,
   "metadata": {},
   "outputs": [],
   "source": [
    "sigma_error = 1\n",
    "prior_mean = torch.zeros(2 * d)\n",
    "beta_0, sigma_0_sq,inv_cov_0 = prior_mean, sigma_error,torch.eye(2*d)"
   ]
  },
  {
   "cell_type": "code",
   "execution_count": 208,
   "metadata": {},
   "outputs": [],
   "source": [
    "X_host_no_T_2 = (torch.randn((n_host_sample,d)) @ A ) \n",
    "T_host_2 = torch.bernoulli(torch.sigmoid(X_host_no_T@ T_allocation_host))\n",
    "X_host_times_T_2 = (T_host.unsqueeze(dim=0).T * X_host_no_T)\n",
    "X_host_2 = torch.concat([X_host_no_T,X_host_times_T],dim=1)"
   ]
  },
  {
   "cell_type": "code",
   "execution_count": 209,
   "metadata": {},
   "outputs": [
    {
     "data": {
      "text/plain": [
       "tensor(6.9315)"
      ]
     },
     "execution_count": 209,
     "metadata": {},
     "output_type": "execute_result"
    }
   ],
   "source": [
    "torch.logdet((X_host.T @ X_host) @ torch.linalg.inv((X_host_2.T @ X_host_2)) + torch.eye(2*d))"
   ]
  },
  {
   "cell_type": "code",
   "execution_count": 210,
   "metadata": {},
   "outputs": [
    {
     "data": {
      "text/plain": [
       "tensor(6.5459)"
      ]
     },
     "execution_count": 210,
     "metadata": {},
     "output_type": "execute_result"
    }
   ],
   "source": [
    "B = crypten.mpc.MPCTensor(((X_host.T @ X_host)))\n",
    "C = crypten.mpc.MPCTensor(torch.linalg.inv((X_host_2.T @ X_host_2)))\n",
    "logdet_Crypten(B @ C + torch.eye(2*d)).get_plain_text()"
   ]
  },
  {
   "cell_type": "code",
   "execution_count": 211,
   "metadata": {},
   "outputs": [
    {
     "data": {
      "text/plain": [
       "torch.return_types.linalg_ldl_factor(\n",
       "LD=tensor([[ 1.0000e+00,  0.0000e+00,  0.0000e+00,  0.0000e+00,  0.0000e+00,\n",
       "          0.0000e+00,  0.0000e+00,  0.0000e+00,  0.0000e+00,  0.0000e+00],\n",
       "        [-5.7221e-06,  1.0000e+00,  0.0000e+00,  0.0000e+00,  0.0000e+00,\n",
       "          0.0000e+00,  0.0000e+00,  0.0000e+00,  0.0000e+00,  0.0000e+00],\n",
       "        [-3.8147e-06,  8.2013e-05,  9.9996e-01,  0.0000e+00,  0.0000e+00,\n",
       "          0.0000e+00,  0.0000e+00,  0.0000e+00,  0.0000e+00,  0.0000e+00],\n",
       "        [-1.4305e-06, -8.1851e-12,  1.7167e-05,  1.0000e+00,  0.0000e+00,\n",
       "          0.0000e+00,  0.0000e+00,  0.0000e+00,  0.0000e+00,  0.0000e+00],\n",
       "        [-7.6294e-06,  1.5258e-05,  7.6284e-06, -1.5259e-05,  1.0000e+00,\n",
       "          0.0000e+00,  0.0000e+00,  0.0000e+00,  0.0000e+00,  0.0000e+00],\n",
       "        [ 2.8610e-06,  3.8146e-06, -3.8152e-06, -2.2888e-05,  1.1444e-05,\n",
       "          9.9999e-01,  0.0000e+00,  0.0000e+00,  0.0000e+00,  0.0000e+00],\n",
       "        [-3.8147e-06,  2.6702e-05,  1.3350e-05, -3.0518e-05,  1.9072e-05,\n",
       "         -1.1445e-05,  9.9991e-01,  0.0000e+00,  0.0000e+00,  0.0000e+00],\n",
       "        [-7.6294e-06,  5.1496e-05,  1.9032e-06, -3.4332e-05,  3.4330e-05,\n",
       "         -1.3353e-05, -9.9194e-05,  1.0001e+00,  0.0000e+00,  0.0000e+00],\n",
       "        [-1.4305e-06, -8.1851e-12,  1.7167e-05,  2.2888e-05,  2.0737e-10,\n",
       "          3.8153e-06,  1.5261e-05, -1.5255e-05,  9.9995e-01,  0.0000e+00],\n",
       "        [-3.8147e-06, -2.1827e-11,  7.6297e-06,  1.5259e-05,  1.4552e-10,\n",
       "          1.1445e-05,  3.0521e-05, -3.0511e-05, -9.1558e-05,  1.0000e+00]]),\n",
       "pivots=tensor([ 1,  2,  3,  4,  5,  6,  7,  8,  9, 10], dtype=torch.int32))"
      ]
     },
     "execution_count": 211,
     "metadata": {},
     "output_type": "execute_result"
    }
   ],
   "source": [
    "torch.linalg.ldl_factor((X_host.T @ X_host) @ torch.linalg.inv((X_host.T @ X_host)))"
   ]
  },
  {
   "cell_type": "code",
   "execution_count": 202,
   "metadata": {},
   "outputs": [
    {
     "data": {
      "text/plain": [
       "tensor([[  7899.1099,   8018.7383,   2116.7344,   -763.3619,  -8738.0908,\n",
       "           4323.2778,   4352.1602,   1029.1210,   -378.6817,  -4779.8799],\n",
       "        [  8018.7383,  42040.4297,  38230.3984,   2255.5239, -10139.5957,\n",
       "           4352.1602,  21202.4531,  18866.3945,   1336.1771,  -5086.8818],\n",
       "        [  2116.7344,  38230.3984,  56501.1328,  -4394.6880,  -5863.3267,\n",
       "           1029.1210,  18866.3945,  28028.5078,  -2251.7041,  -2944.0967],\n",
       "        [  -763.3619,   2255.5239,  -4394.6880,   6783.1279,   7662.6147,\n",
       "           -378.6817,   1336.1771,  -2251.7041,   3629.0737,   4036.5630],\n",
       "        [ -8738.0908, -10139.5957,  -5863.3267,   7662.6147,  21135.7070,\n",
       "          -4779.8799,  -5086.8818,  -2944.0967,   4036.5630,  11025.7285],\n",
       "        [  4323.2778,   4352.1602,   1029.1210,   -378.6817,  -4779.8799,\n",
       "           4323.2778,   4352.1602,   1029.1210,   -378.6817,  -4779.8799],\n",
       "        [  4352.1602,  21202.4531,  18866.3945,   1336.1771,  -5086.8818,\n",
       "           4352.1602,  21202.4531,  18866.3945,   1336.1771,  -5086.8818],\n",
       "        [  1029.1210,  18866.3945,  28028.5078,  -2251.7041,  -2944.0967,\n",
       "           1029.1210,  18866.3945,  28028.5078,  -2251.7041,  -2944.0967],\n",
       "        [  -378.6817,   1336.1771,  -2251.7041,   3629.0737,   4036.5630,\n",
       "           -378.6817,   1336.1771,  -2251.7041,   3629.0737,   4036.5630],\n",
       "        [ -4779.8799,  -5086.8818,  -2944.0967,   4036.5630,  11025.7285,\n",
       "          -4779.8799,  -5086.8818,  -2944.0967,   4036.5630,  11025.7285]])"
      ]
     },
     "execution_count": 202,
     "metadata": {},
     "output_type": "execute_result"
    }
   ],
   "source": [
    "(X_host.T @ X_host)"
   ]
  },
  {
   "cell_type": "code",
   "execution_count": 203,
   "metadata": {},
   "outputs": [
    {
     "data": {
      "text/plain": [
       "tensor([[  7899.1099,   8018.7383,   2116.7344,   -763.3619,  -8738.0908,\n",
       "           4323.2778,   4352.1602,   1029.1210,   -378.6817,  -4779.8799],\n",
       "        [  8018.7383,  42040.4297,  38230.3984,   2255.5239, -10139.5957,\n",
       "           4352.1602,  21202.4531,  18866.3945,   1336.1771,  -5086.8818],\n",
       "        [  2116.7344,  38230.3984,  56501.1328,  -4394.6880,  -5863.3267,\n",
       "           1029.1210,  18866.3945,  28028.5078,  -2251.7041,  -2944.0967],\n",
       "        [  -763.3619,   2255.5239,  -4394.6880,   6783.1279,   7662.6147,\n",
       "           -378.6817,   1336.1771,  -2251.7041,   3629.0737,   4036.5630],\n",
       "        [ -8738.0908, -10139.5957,  -5863.3267,   7662.6147,  21135.7070,\n",
       "          -4779.8799,  -5086.8818,  -2944.0967,   4036.5630,  11025.7285],\n",
       "        [  4323.2778,   4352.1602,   1029.1210,   -378.6817,  -4779.8799,\n",
       "           4323.2778,   4352.1602,   1029.1210,   -378.6817,  -4779.8799],\n",
       "        [  4352.1602,  21202.4531,  18866.3945,   1336.1771,  -5086.8818,\n",
       "           4352.1602,  21202.4531,  18866.3945,   1336.1771,  -5086.8818],\n",
       "        [  1029.1210,  18866.3945,  28028.5078,  -2251.7041,  -2944.0967,\n",
       "           1029.1210,  18866.3945,  28028.5078,  -2251.7041,  -2944.0967],\n",
       "        [  -378.6817,   1336.1771,  -2251.7041,   3629.0737,   4036.5630,\n",
       "           -378.6817,   1336.1771,  -2251.7041,   3629.0737,   4036.5630],\n",
       "        [ -4779.8799,  -5086.8818,  -2944.0967,   4036.5630,  11025.7285,\n",
       "          -4779.8799,  -5086.8818,  -2944.0967,   4036.5630,  11025.7285]])"
      ]
     },
     "execution_count": 203,
     "metadata": {},
     "output_type": "execute_result"
    }
   ],
   "source": [
    "B.get_plain_text()"
   ]
  },
  {
   "cell_type": "code",
   "execution_count": 204,
   "metadata": {},
   "outputs": [
    {
     "data": {
      "text/plain": [
       "tensor([[ 15799.2197,  16037.4766,   4233.4688,  -1526.7239, -17476.1816,\n",
       "           8646.5557,   8704.3203,   2058.2419,   -757.3634,  -9559.7598],\n",
       "        [ 16037.4766,  84081.8594,  76460.7969,   4511.0479, -20279.1914,\n",
       "           8704.3203,  42404.9062,  37732.7891,   2672.3542, -10173.7637],\n",
       "        [  4233.4688,  76460.7969, 113003.2656,  -8789.3760, -11726.6533,\n",
       "           2058.2419,  37732.7891,  56057.0156,  -4503.4082,  -5888.1934],\n",
       "        [ -1526.7239,   4511.0479,  -8789.3760,  13567.2559,  15325.2295,\n",
       "           -757.3634,   2672.3542,  -4503.4082,   7258.1475,   8073.1260],\n",
       "        [-17476.1816, -20279.1914, -11726.6533,  15325.2295,  42272.4141,\n",
       "          -9559.7598, -10173.7637,  -5888.1934,   8073.1260,  22051.4570],\n",
       "        [  8646.5557,   8704.3203,   2058.2419,   -757.3634,  -9559.7598,\n",
       "           8647.5557,   8704.3203,   2058.2419,   -757.3634,  -9559.7598],\n",
       "        [  8704.3203,  42404.9062,  37732.7891,   2672.3542, -10173.7637,\n",
       "           8704.3203,  42405.9062,  37732.7891,   2672.3542, -10173.7637],\n",
       "        [  2058.2419,  37732.7891,  56057.0156,  -4503.4082,  -5888.1934,\n",
       "           2058.2419,  37732.7891,  56058.0156,  -4503.4082,  -5888.1934],\n",
       "        [  -757.3634,   2672.3542,  -4503.4082,   7258.1475,   8073.1260,\n",
       "           -757.3634,   2672.3542,  -4503.4082,   7259.1475,   8073.1260],\n",
       "        [ -9559.7598, -10173.7637,  -5888.1934,   8073.1260,  22051.4570,\n",
       "          -9559.7598, -10173.7637,  -5888.1934,   8073.1260,  22052.4570]])"
      ]
     },
     "execution_count": 204,
     "metadata": {},
     "output_type": "execute_result"
    }
   ],
   "source": [
    "(B + B + torch.eye(2*d)).get_plain_text()"
   ]
  },
  {
   "cell_type": "code",
   "execution_count": 205,
   "metadata": {},
   "outputs": [
    {
     "data": {
      "text/plain": [
       "(tensor([[ 1.0000e+00,  0.0000e+00,  0.0000e+00,  0.0000e+00,  0.0000e+00,\n",
       "           0.0000e+00,  0.0000e+00,  0.0000e+00,  0.0000e+00,  0.0000e+00],\n",
       "         [ 1.4815e+09,  1.0000e+00,  0.0000e+00,  0.0000e+00,  0.0000e+00,\n",
       "           0.0000e+00,  0.0000e+00,  0.0000e+00,  0.0000e+00,  0.0000e+00],\n",
       "         [-1.1515e+09, -1.8658e+09,  1.0000e+00,  0.0000e+00,  0.0000e+00,\n",
       "           0.0000e+00,  0.0000e+00,  0.0000e+00,  0.0000e+00,  0.0000e+00],\n",
       "         [ 1.1783e+09, -9.7138e+08, -9.3201e+08,  1.0000e+00,  0.0000e+00,\n",
       "           0.0000e+00,  0.0000e+00,  0.0000e+00,  0.0000e+00,  0.0000e+00],\n",
       "         [-1.6907e+09, -2.3217e+08,  2.0131e+09, -1.9774e+09,  1.0000e+00,\n",
       "           0.0000e+00,  0.0000e+00,  0.0000e+00,  0.0000e+00,  0.0000e+00],\n",
       "         [-1.5457e+09,  1.0809e+09,  8.7649e+08, -8.4053e+08, -5.5151e+08,\n",
       "           1.0000e+00,  0.0000e+00,  0.0000e+00,  0.0000e+00,  0.0000e+00],\n",
       "         [-1.7891e+09,  2.0728e+09, -1.3313e+09,  1.2855e+09, -1.3245e+09,\n",
       "           2.3197e+08,  1.0000e+00,  0.0000e+00,  0.0000e+00,  0.0000e+00],\n",
       "         [-8.8949e+08,  1.2559e+09,  9.2040e+07, -1.1154e+07, -2.0601e+09,\n",
       "          -1.8645e+09, -7.8399e+08,  1.0000e+00,  0.0000e+00,  0.0000e+00],\n",
       "         [-6.6721e+08, -2.0274e+09,  4.3055e+08,  6.6382e+08,  9.2556e+08,\n",
       "          -4.2082e+08, -1.5746e+09,  1.2463e+09,  1.0000e+00,  0.0000e+00],\n",
       "         [ 2.0138e+09, -9.5478e+08,  3.1603e+08,  5.1208e+08, -9.2793e+08,\n",
       "          -1.5752e+09,  8.8585e+08, -4.0398e+07, -8.6122e+08,  1.0000e+00]]),\n",
       " tensor([ 1.5799e+04,  1.2650e+09, -2.1247e+09,  3.4951e+08,  1.7828e+09,\n",
       "         -1.2138e+09, -2.1974e+08, -1.3153e+09,  1.3938e+09, -1.8096e+09]))"
      ]
     },
     "execution_count": 205,
     "metadata": {},
     "output_type": "execute_result"
    }
   ],
   "source": [
    "L,D = chol_LD_Crypten((B + B + torch.eye(2*d)))\n",
    "L.get_plain_text(),D.get_plain_text()"
   ]
  },
  {
   "cell_type": "code",
   "execution_count": 206,
   "metadata": {},
   "outputs": [
    {
     "data": {
      "text/plain": [
       "tensor(-6.1170e+10)"
      ]
     },
     "execution_count": 206,
     "metadata": {},
     "output_type": "execute_result"
    }
   ],
   "source": [
    "logdet_Crypten(B + B + torch.eye(2*d)).get_plain_text()"
   ]
  }
 ],
 "metadata": {
  "kernelspec": {
   "display_name": "Crypten",
   "language": "python",
   "name": "python3"
  },
  "language_info": {
   "codemirror_mode": {
    "name": "ipython",
    "version": 3
   },
   "file_extension": ".py",
   "mimetype": "text/x-python",
   "name": "python",
   "nbconvert_exporter": "python",
   "pygments_lexer": "ipython3",
   "version": "3.7.12"
  }
 },
 "nbformat": 4,
 "nbformat_minor": 2
}
