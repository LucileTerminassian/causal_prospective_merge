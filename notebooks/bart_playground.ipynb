{
 "cells": [
  {
   "cell_type": "code",
   "execution_count": 1,
   "metadata": {},
   "outputs": [],
   "source": [
    "from pathlib import Path\n",
    "\n",
    "import arviz as az\n",
    "import matplotlib.pyplot as plt\n",
    "import numpy as np\n",
    "import pandas as pd\n",
    "import pymc as pm\n",
    "import pymc_bart as pmb\n",
    "import torch \n",
    "from sklearn.model_selection import train_test_split"
   ]
  },
  {
   "cell_type": "code",
   "execution_count": 2,
   "metadata": {},
   "outputs": [],
   "source": [
    "coal = np.loadtxt(pm.get_data(\"coal.csv\"))"
   ]
  },
  {
   "cell_type": "code",
   "execution_count": 3,
   "metadata": {},
   "outputs": [],
   "source": [
    "# discretize data\n",
    "years = int(coal.max() - coal.min())\n",
    "bins = years // 4\n",
    "hist, x_edges = np.histogram(coal, bins=bins)\n",
    "# compute the location of the centers of the discretized data\n",
    "x_centers = x_edges[:-1] + (x_edges[1] - x_edges[0]) / 2\n",
    "# xdata needs to be 2D for BART\n",
    "x_data = x_centers[:, None]\n",
    "# express data as the rate number of disaster per year\n",
    "y_data = hist"
   ]
  },
  {
   "cell_type": "code",
   "execution_count": 4,
   "metadata": {},
   "outputs": [],
   "source": [
    "n_host_sample = 80 \n",
    "sigma_error = 1 \n",
    "d = 10 \n",
    "A = torch.randn((d,d))\n",
    "A = 1/(torch.det(A)) * A\n",
    "\n",
    "T_allocation_host = torch.randn(d)\n",
    "T_allocation_host = 100/torch.norm(T_allocation_host)*T_allocation_host\n",
    "\n",
    "mu_nc = torch.randn(d)\n",
    "mu_nc = 1/torch.norm(mu_nc)*mu_nc\n",
    "\n",
    "mu_c = torch.randn(d)\n",
    "mu_c = 1/torch.norm(mu_c)*mu_c\n",
    "\n",
    "mu = torch.concat([mu_nc,mu_c])\n",
    "\n",
    "\n",
    "X_host_no_T = (torch.randn((n_host_sample,d)) @ A ) \n",
    "T_host = torch.bernoulli(torch.sigmoid(X_host_no_T@ T_allocation_host))\n",
    "X_host_times_T = (T_host.unsqueeze(dim=0).T * X_host_no_T)\n",
    "X_host = torch.concat([X_host_no_T,X_host_times_T],dim=1)\n",
    "\n",
    "Y_host = X_host @ mu\n",
    "Y_host = (1/Y_host.norm()) * Y_host + sigma_error * torch.randn_like(Y_host)"
   ]
  },
  {
   "cell_type": "markdown",
   "metadata": {},
   "source": [
    "## Causal Random Forests"
   ]
  },
  {
   "cell_type": "code",
   "execution_count": 5,
   "metadata": {},
   "outputs": [],
   "source": [
    "from xbcausalforest import XBCF"
   ]
  },
  {
   "cell_type": "code",
   "execution_count": 6,
   "metadata": {},
   "outputs": [],
   "source": [
    "n_host_sample = 80 \n",
    "sigma_error = 1 \n",
    "d = 10 \n",
    "A = torch.randn((d,d))\n",
    "A = 1/(torch.det(A)) * A\n",
    "\n",
    "T_allocation_host = torch.randn(d)\n",
    "T_allocation_host = 100/torch.norm(T_allocation_host)*T_allocation_host\n",
    "\n",
    "mu_nc = torch.randn(d)\n",
    "mu_nc = 1/torch.norm(mu_nc)*mu_nc\n",
    "\n",
    "mu_c = torch.randn(d)\n",
    "mu_c = 1/torch.norm(mu_c)*mu_c\n",
    "\n",
    "mu = torch.concat([mu_nc,mu_c])\n",
    "\n",
    "\n",
    "X_host_no_T = (torch.randn((n_host_sample,d)) @ A ) \n",
    "T_host = torch.bernoulli(torch.sigmoid(X_host_no_T@ T_allocation_host))\n",
    "X_host_times_T = (T_host.unsqueeze(dim=0).T * X_host_no_T)\n",
    "X_host = torch.concat([X_host_no_T,X_host_times_T],dim=1)\n",
    "\n",
    "Y_host = X_host @ mu\n",
    "Y_host = (1/Y_host.norm()) * Y_host + sigma_error * torch.randn_like(Y_host)\n",
    "\n",
    "Y = np.array(Y_host,dtype=np.float32)\n",
    "T = np.array(T_host,dtype=np.int32)\n",
    "X = np.array(X_host_no_T,dtype=np.float32)"
   ]
  },
  {
   "cell_type": "code",
   "execution_count": 7,
   "metadata": {},
   "outputs": [],
   "source": [
    "NUM_TREES_PR  = 200\n",
    "NUM_TREES_TRT = 100\n",
    "\n",
    "cf = XBCF(\n",
    "    #model=\"Normal\",\n",
    "    parallel=True, \n",
    "    num_sweeps=50, \n",
    "    burnin=15,\n",
    "    max_depth=250,\n",
    "    num_trees_pr=NUM_TREES_PR,\n",
    "    num_trees_trt=NUM_TREES_TRT,\n",
    "    num_cutpoints=100,\n",
    "    Nmin=1,\n",
    "    #mtry_pr=X1.shape[1], # default 0 seems to be 'all'\n",
    "    #mtry_trt=X.shape[1], \n",
    "    tau_pr = 0.6 * np.var(Y)/NUM_TREES_PR, #0.6 * np.var(y) / /NUM_TREES_PR,\n",
    "    tau_trt = 0.1 * np.var(Y)/NUM_TREES_TRT, #0.1 * np.var(y) / /NUM_TREES_TRT,\n",
    "    alpha_pr= 0.95, # shrinkage (splitting probability)\n",
    "    beta_pr= 2, # shrinkage (tree depth)\n",
    "    alpha_trt= 0.95, # shrinkage for treatment part\n",
    "    beta_trt= 2,\n",
    "    p_categorical_pr = 0,\n",
    "    p_categorical_trt = 0,\n",
    "    # standardize y and unstandardize for prediction\n",
    "         )"
   ]
  },
  {
   "cell_type": "code",
   "execution_count": 8,
   "metadata": {},
   "outputs": [],
   "source": [
    "cf = XBCF(\n",
    "    # #model=\"Normal\",\n",
    "    # parallel=True, \n",
    "    num_sweeps=500, \n",
    "    burnin=15,\n",
    "    max_depth=250,\n",
    "    # num_trees_pr=NUM_TREES_PR,\n",
    "    # num_trees_trt=NUM_TREES_TRT,\n",
    "    # num_cutpoints=100,\n",
    "    # Nmin=1,\n",
    "    # #mtry_pr=X1.shape[1], # default 0 seems to be 'all'\n",
    "    # #mtry_trt=X.shape[1], \n",
    "    # tau_pr = 0.6 * np.var(Y)/NUM_TREES_PR, #0.6 * np.var(y) / /NUM_TREES_PR,\n",
    "    # tau_trt = 0.1 * np.var(Y)/NUM_TREES_TRT, #0.1 * np.var(y) / /NUM_TREES_TRT,\n",
    "    # alpha_pr= 0.95, # shrinkage (splitting probability)\n",
    "    # beta_pr= 2, # shrinkage (tree depth)\n",
    "    # alpha_trt= 0.95, # shrinkage for treatment part\n",
    "    # beta_trt= 2,\n",
    "    p_categorical_pr = 0,\n",
    "    p_categorical_trt = 0,\n",
    "    # standardize_target=True, # standardize y and unstandardize for prediction\n",
    "         )"
   ]
  },
  {
   "cell_type": "code",
   "execution_count": 9,
   "metadata": {},
   "outputs": [
    {
     "data": {
      "text/plain": [
       "XBCF(num_sweeps = 500, burnin = 15, max_depth = 250, Nmin = 1, num_cutpoints = 100, no_split_penality = 4.605170185988092, mtry_pr = 10, mtry_trt = 10, p_categorical_pr = 0, p_categorical_trt = 0, num_trees_pr = 30, alpha_pr = 0.95, beta_pr = 1.25, tau_pr = 0.017154474258422852, kap_pr = 16.0, s_pr = 4.0, pr_scale = False, num_trees_trt = 10, alpha_trt = 0.25, beta_trt = 3.0, tau_trt = 0.008577237129211426, kap_trt = 16.0, s_trt = 4.0, trt_scale = False, verbose = False, parallel = False, set_random_seed = False, random_seed = 0, sample_weights_flag = True, a_scaling = True, b_scaling = True)"
      ]
     },
     "execution_count": 9,
     "metadata": {},
     "output_type": "execute_result"
    }
   ],
   "source": [
    "cf.fit(\n",
    "    x_t=np.zeros_like(X), # Covariates treatment effect\n",
    "    x=X, # Covariates outcome (including propensity score)\n",
    "    y=Y,  # Outcome\n",
    "    z=T, # Treatment group\n",
    ")"
   ]
  },
  {
   "cell_type": "code",
   "execution_count": 10,
   "metadata": {},
   "outputs": [
    {
     "data": {
      "text/plain": [
       "(80, 500)"
      ]
     },
     "execution_count": 10,
     "metadata": {},
     "output_type": "execute_result"
    }
   ],
   "source": [
    "cf.predict(X,return_mean=False).shape"
   ]
  },
  {
   "cell_type": "code",
   "execution_count": 11,
   "metadata": {},
   "outputs": [],
   "source": [
    "def setattrs(_self, **kwargs):\n",
    "    for k,v in kwargs.items():\n",
    "        setattr(_self, k, v)"
   ]
  },
  {
   "cell_type": "code",
   "execution_count": 12,
   "metadata": {},
   "outputs": [],
   "source": [
    "setattrs(cf, num_sweeps=50, burnin=15,)"
   ]
  },
  {
   "cell_type": "markdown",
   "metadata": {},
   "source": [
    "As can be seen from below, normal predict returns causal predictions and has a predictive version"
   ]
  },
  {
   "cell_type": "code",
   "execution_count": 13,
   "metadata": {},
   "outputs": [],
   "source": [
    "cf.sigma_draws"
   ]
  },
  {
   "cell_type": "code",
   "execution_count": 14,
   "metadata": {},
   "outputs": [
    {
     "data": {
      "text/plain": [
       "array([[0.26170915, 0.02497418, 0.24699971, ..., 0.03796825, 0.05030634,\n",
       "        0.04096697],\n",
       "       [0.26170915, 0.02893849, 0.24699971, ..., 0.03796825, 0.10935631,\n",
       "        0.04096697],\n",
       "       [0.35265137, 0.02497418, 0.24699971, ..., 0.03796825, 0.09756663,\n",
       "        0.04096697],\n",
       "       ...,\n",
       "       [0.37250956, 0.02893849, 0.24699971, ..., 0.03796825, 0.09756663,\n",
       "        0.04096697],\n",
       "       [0.35265137, 0.02497418, 0.24699971, ..., 0.03796825, 0.03851666,\n",
       "        0.04096697],\n",
       "       [0.24185096, 0.02497418, 0.24699971, ..., 0.03796825, 0.05030634,\n",
       "        0.04096697]])"
      ]
     },
     "execution_count": 14,
     "metadata": {},
     "output_type": "execute_result"
    }
   ],
   "source": [
    "cf.predict(X,X1=X,return_mean=False,return_muhat=True)"
   ]
  },
  {
   "cell_type": "code",
   "execution_count": 16,
   "metadata": {},
   "outputs": [],
   "source": [
    "from xbart import XBART"
   ]
  },
  {
   "cell_type": "code",
   "execution_count": 18,
   "metadata": {},
   "outputs": [
    {
     "data": {
      "text/plain": [
       "XBART(num_trees = 100, num_sweeps = 80, n_min = 1, num_cutpoints = 100, alpha = 0.95, beta = 1.25, tau = 0.01, burnin = 15, mtry = 10, max_depth_num = 250, kap = 16.0, s = 4.0, verbose = False, parallel = False, seed = 0, model_num = 0, no_split_penality = 4.605170185988092, sample_weights_flag = True, num_classes = 1)"
      ]
     },
     "execution_count": 18,
     "metadata": {},
     "output_type": "execute_result"
    }
   ],
   "source": [
    "xbt = XBART(num_trees=100, num_sweeps=80, burnin=15)\n",
    "xbt.fit(X,T)"
   ]
  },
  {
   "cell_type": "code",
   "execution_count": 20,
   "metadata": {},
   "outputs": [],
   "source": [
    "T_pred = xbt.predict(X)"
   ]
  },
  {
   "cell_type": "code",
   "execution_count": 27,
   "metadata": {},
   "outputs": [
    {
     "data": {
      "text/plain": [
       "(80, 10)"
      ]
     },
     "execution_count": 27,
     "metadata": {},
     "output_type": "execute_result"
    }
   ],
   "source": [
    "X.shape"
   ]
  },
  {
   "cell_type": "code",
   "execution_count": 29,
   "metadata": {},
   "outputs": [
    {
     "data": {
      "text/plain": [
       "array([[0.40121827],\n",
       "       [0.39763731],\n",
       "       [0.76150547],\n",
       "       [0.46239374],\n",
       "       [0.32782563],\n",
       "       [0.61289713],\n",
       "       [0.68540092],\n",
       "       [0.32389972],\n",
       "       [0.32491379],\n",
       "       [0.21437737],\n",
       "       [0.20183061],\n",
       "       [0.72825871],\n",
       "       [0.4630052 ],\n",
       "       [0.54614235],\n",
       "       [0.84809466],\n",
       "       [0.69020786],\n",
       "       [0.27827221],\n",
       "       [0.8299529 ],\n",
       "       [0.71838772],\n",
       "       [0.79360174],\n",
       "       [0.44701289],\n",
       "       [0.43966144],\n",
       "       [0.43842493],\n",
       "       [0.62883467],\n",
       "       [0.88753249],\n",
       "       [0.62805918],\n",
       "       [0.92784613],\n",
       "       [0.76074891],\n",
       "       [0.78085155],\n",
       "       [0.5915168 ],\n",
       "       [0.25756157],\n",
       "       [0.20812121],\n",
       "       [1.03351158],\n",
       "       [0.7047798 ],\n",
       "       [0.17563739],\n",
       "       [0.20022266],\n",
       "       [0.78148528],\n",
       "       [0.85210205],\n",
       "       [0.27341944],\n",
       "       [0.59632999],\n",
       "       [0.31063355],\n",
       "       [0.7298172 ],\n",
       "       [0.43100984],\n",
       "       [0.59697205],\n",
       "       [0.55466014],\n",
       "       [0.62123816],\n",
       "       [0.34172467],\n",
       "       [0.47271949],\n",
       "       [0.22604245],\n",
       "       [0.64332256],\n",
       "       [0.51568756],\n",
       "       [0.75362776],\n",
       "       [0.5036139 ],\n",
       "       [0.4412318 ],\n",
       "       [0.61958358],\n",
       "       [0.32011433],\n",
       "       [0.40886436],\n",
       "       [0.66703759],\n",
       "       [0.84556313],\n",
       "       [0.73984752],\n",
       "       [0.80472657],\n",
       "       [0.45509339],\n",
       "       [0.41738123],\n",
       "       [0.94697442],\n",
       "       [0.45911029],\n",
       "       [0.37699536],\n",
       "       [0.80871951],\n",
       "       [0.60845627],\n",
       "       [0.71787842],\n",
       "       [0.76291162],\n",
       "       [0.75374575],\n",
       "       [0.61901426],\n",
       "       [0.25489233],\n",
       "       [0.78175701],\n",
       "       [0.65887017],\n",
       "       [0.70742604],\n",
       "       [0.5620939 ],\n",
       "       [0.25640241],\n",
       "       [0.44319461],\n",
       "       [0.88601268]])"
      ]
     },
     "execution_count": 29,
     "metadata": {},
     "output_type": "execute_result"
    }
   ],
   "source": []
  },
  {
   "cell_type": "code",
   "execution_count": 32,
   "metadata": {},
   "outputs": [
    {
     "data": {
      "text/plain": [
       "(80, 11)"
      ]
     },
     "execution_count": 32,
     "metadata": {},
     "output_type": "execute_result"
    }
   ],
   "source": [
    "np.concatenate([X,T_pred.reshape(-1,1)],axis=1).shape"
   ]
  }
 ],
 "metadata": {
  "kernelspec": {
   "display_name": "Python 3",
   "language": "python",
   "name": "python3"
  },
  "language_info": {
   "codemirror_mode": {
    "name": "ipython",
    "version": 3
   },
   "file_extension": ".py",
   "mimetype": "text/x-python",
   "name": "python",
   "nbconvert_exporter": "python",
   "pygments_lexer": "ipython3",
   "version": "3.11.8"
  }
 },
 "nbformat": 4,
 "nbformat_minor": 2
}
