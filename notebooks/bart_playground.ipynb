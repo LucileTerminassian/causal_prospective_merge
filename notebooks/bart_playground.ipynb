{
 "cells": [
  {
   "cell_type": "code",
   "execution_count": 1,
   "metadata": {},
   "outputs": [
    {
     "name": "stderr",
     "output_type": "stream",
     "text": [
      "WARNING (pytensor.tensor.blas): Using NumPy C-API based implementation for BLAS functions.\n"
     ]
    }
   ],
   "source": [
    "from pathlib import Path\n",
    "\n",
    "import arviz as az\n",
    "import matplotlib.pyplot as plt\n",
    "import numpy as np\n",
    "import pandas as pd\n",
    "import pymc as pm\n",
    "import pymc_bart as pmb\n",
    "import torch \n",
    "from sklearn.model_selection import train_test_split"
   ]
  },
  {
   "cell_type": "code",
   "execution_count": 2,
   "metadata": {},
   "outputs": [],
   "source": [
    "coal = np.loadtxt(pm.get_data(\"coal.csv\"))"
   ]
  },
  {
   "cell_type": "code",
   "execution_count": 3,
   "metadata": {},
   "outputs": [],
   "source": [
    "# discretize data\n",
    "years = int(coal.max() - coal.min())\n",
    "bins = years // 4\n",
    "hist, x_edges = np.histogram(coal, bins=bins)\n",
    "# compute the location of the centers of the discretized data\n",
    "x_centers = x_edges[:-1] + (x_edges[1] - x_edges[0]) / 2\n",
    "# xdata needs to be 2D for BART\n",
    "x_data = x_centers[:, None]\n",
    "# express data as the rate number of disaster per year\n",
    "y_data = hist"
   ]
  },
  {
   "cell_type": "code",
   "execution_count": 4,
   "metadata": {},
   "outputs": [],
   "source": [
    "n_host_sample = 80 \n",
    "sigma_error = 1 \n",
    "d = 10 \n",
    "A = torch.randn((d,d))\n",
    "A = 1/(torch.det(A)) * A\n",
    "\n",
    "T_allocation_host = torch.randn(d)\n",
    "T_allocation_host = 100/torch.norm(T_allocation_host)*T_allocation_host\n",
    "\n",
    "mu_nc = torch.randn(d)\n",
    "mu_nc = 1/torch.norm(mu_nc)*mu_nc\n",
    "\n",
    "mu_c = torch.randn(d)\n",
    "mu_c = 1/torch.norm(mu_c)*mu_c\n",
    "\n",
    "mu = torch.concat([mu_nc,mu_c])\n",
    "\n",
    "\n",
    "X_host_no_T = (torch.randn((n_host_sample,d)) @ A ) \n",
    "T_host = torch.bernoulli(torch.sigmoid(X_host_no_T@ T_allocation_host))\n",
    "X_host_times_T = (T_host.unsqueeze(dim=0).T * X_host_no_T)\n",
    "X_host = torch.concat([X_host_no_T,X_host_times_T],dim=1)\n",
    "\n",
    "Y_host = X_host @ mu\n",
    "Y_host = (1/Y_host.norm()) * Y_host + sigma_error * torch.randn_like(Y_host)"
   ]
  },
  {
   "cell_type": "markdown",
   "metadata": {},
   "source": [
    "## Causal Random Forests"
   ]
  },
  {
   "cell_type": "code",
   "execution_count": 5,
   "metadata": {},
   "outputs": [],
   "source": [
    "from xbcausalforest import XBCF"
   ]
  },
  {
   "cell_type": "code",
   "execution_count": 6,
   "metadata": {},
   "outputs": [],
   "source": [
    "n_host_sample = 80 \n",
    "sigma_error = 1 \n",
    "d = 10 \n",
    "A = torch.randn((d,d))\n",
    "A = 1/(torch.det(A)) * A\n",
    "\n",
    "T_allocation_host = torch.randn(d)\n",
    "T_allocation_host = 100/torch.norm(T_allocation_host)*T_allocation_host\n",
    "\n",
    "mu_nc = torch.randn(d)\n",
    "mu_nc = 1/torch.norm(mu_nc)*mu_nc\n",
    "\n",
    "mu_c = torch.randn(d)\n",
    "mu_c = 1/torch.norm(mu_c)*mu_c\n",
    "\n",
    "mu = torch.concat([mu_nc,mu_c])\n",
    "\n",
    "\n",
    "X_host_no_T = (torch.randn((n_host_sample,d)) @ A ) \n",
    "T_host = torch.bernoulli(torch.sigmoid(X_host_no_T@ T_allocation_host))\n",
    "X_host_times_T = (T_host.unsqueeze(dim=0).T * X_host_no_T)\n",
    "X_host = torch.concat([X_host_no_T,X_host_times_T],dim=1)\n",
    "\n",
    "Y_host = X_host @ mu\n",
    "Y_host = (1/Y_host.norm()) * Y_host + sigma_error * torch.randn_like(Y_host)\n",
    "\n",
    "Y = np.array(Y_host,dtype=np.float32)\n",
    "T = np.array(T_host,dtype=np.int32)\n",
    "X = np.array(X_host_no_T,dtype=np.float32)"
   ]
  },
  {
   "cell_type": "code",
   "execution_count": 7,
   "metadata": {},
   "outputs": [],
   "source": [
    "NUM_TREES_PR  = 200\n",
    "NUM_TREES_TRT = 100\n",
    "\n",
    "cf = XBCF(\n",
    "    #model=\"Normal\",\n",
    "    parallel=True, \n",
    "    num_sweeps=50, \n",
    "    burnin=15,\n",
    "    max_depth=250,\n",
    "    num_trees_pr=NUM_TREES_PR,\n",
    "    num_trees_trt=NUM_TREES_TRT,\n",
    "    num_cutpoints=100,\n",
    "    Nmin=1,\n",
    "    #mtry_pr=X1.shape[1], # default 0 seems to be 'all'\n",
    "    #mtry_trt=X.shape[1], \n",
    "    tau_pr = 0.6 * np.var(Y)/NUM_TREES_PR, #0.6 * np.var(y) / /NUM_TREES_PR,\n",
    "    tau_trt = 0.1 * np.var(Y)/NUM_TREES_TRT, #0.1 * np.var(y) / /NUM_TREES_TRT,\n",
    "    alpha_pr= 0.95, # shrinkage (splitting probability)\n",
    "    beta_pr= 2, # shrinkage (tree depth)\n",
    "    alpha_trt= 0.95, # shrinkage for treatment part\n",
    "    beta_trt= 2,\n",
    "    p_categorical_pr = 0,\n",
    "    p_categorical_trt = 0,\n",
    "    # standardize y and unstandardize for prediction\n",
    "         )"
   ]
  },
  {
   "cell_type": "code",
   "execution_count": 8,
   "metadata": {},
   "outputs": [],
   "source": [
    "kwargs_dict = {    \"tau_trt\":0.1,\n",
    "    \"parallel\":True}"
   ]
  },
  {
   "cell_type": "code",
   "execution_count": 9,
   "metadata": {},
   "outputs": [],
   "source": [
    "cf = XBCF(\n",
    "    # #model=\"Normal\",\n",
    "    # parallel=True, \n",
    "    num_sweeps=500, \n",
    "    burnin=15,\n",
    "    max_depth=250,\n",
    "    # num_trees_pr=NUM_TREES_PR,\n",
    "    # num_trees_trt=NUM_TREES_TRT,\n",
    "    # num_cutpoints=100,\n",
    "    # Nmin=1,\n",
    "    # #mtry_pr=X1.shape[1], # default 0 seems to be 'all'\n",
    "    # #mtry_trt=X.shape[1], \n",
    "    # tau_pr = 0.6 * np.var(Y)/NUM_TREES_PR, #0.6 * np.var(y) / /NUM_TREES_PR,\n",
    "    # tau_trt = 0.1 * np.var(Y)/NUM_TREES_TRT, #0.1 * np.var(y) / /NUM_TREES_TRT,\n",
    "    # alpha_pr= 0.95, # shrinkage (splitting probability)\n",
    "    # beta_pr= 2, # shrinkage (tree depth)\n",
    "    # alpha_trt= 0.95, # shrinkage for treatment part\n",
    "    # beta_trt= 2,\n",
    "    p_categorical_pr = 0,\n",
    "    p_categorical_trt = 0,\n",
    "    # standardize_target=True, # standardize y and unstandardize for prediction\n",
    "    **kwargs_dict\n",
    "         )"
   ]
  },
  {
   "cell_type": "code",
   "execution_count": 10,
   "metadata": {},
   "outputs": [
    {
     "data": {
      "text/plain": [
       "XBCF(num_sweeps = 500, burnin = 15, max_depth = 250, Nmin = 1, num_cutpoints = 100, no_split_penality = 4.605170185988092, mtry_pr = 10, mtry_trt = 10, p_categorical_pr = 0, p_categorical_trt = 0, num_trees_pr = 30, alpha_pr = 0.95, beta_pr = 1.25, tau_pr = 0.018455005884170532, kap_pr = 16.0, s_pr = 4.0, pr_scale = False, num_trees_trt = 10, alpha_trt = 0.25, beta_trt = 3.0, tau_trt = 0.009227502942085266, kap_trt = 16.0, s_trt = 4.0, trt_scale = False, verbose = False, parallel = True, set_random_seed = False, random_seed = 0, sample_weights_flag = True, a_scaling = True, b_scaling = True)"
      ]
     },
     "execution_count": 10,
     "metadata": {},
     "output_type": "execute_result"
    }
   ],
   "source": [
    "cf.fit(\n",
    "    x_t=np.zeros_like(X), # Covariates treatment effect\n",
    "    x=X, # Covariates outcome (including propensity score)\n",
    "    y=Y,  # Outcome\n",
    "    z=T, # Treatment group\n",
    ")"
   ]
  },
  {
   "cell_type": "code",
   "execution_count": 11,
   "metadata": {},
   "outputs": [
    {
     "data": {
      "text/plain": [
       "(80, 500)"
      ]
     },
     "execution_count": 11,
     "metadata": {},
     "output_type": "execute_result"
    }
   ],
   "source": [
    "cf.predict(X,return_mean=False).shape"
   ]
  },
  {
   "cell_type": "code",
   "execution_count": 12,
   "metadata": {},
   "outputs": [],
   "source": [
    "def setattrs(_self, **kwargs):\n",
    "    for k,v in kwargs.items():\n",
    "        setattr(_self, k, v)"
   ]
  },
  {
   "cell_type": "code",
   "execution_count": 13,
   "metadata": {},
   "outputs": [],
   "source": [
    "setattrs(cf, num_sweeps=50, burnin=15,)"
   ]
  },
  {
   "cell_type": "markdown",
   "metadata": {},
   "source": [
    "As can be seen from below, normal predict returns causal predictions and has a predictive version"
   ]
  },
  {
   "cell_type": "code",
   "execution_count": 14,
   "metadata": {},
   "outputs": [],
   "source": [
    "cf.sigma_draws"
   ]
  },
  {
   "cell_type": "code",
   "execution_count": 15,
   "metadata": {},
   "outputs": [
    {
     "data": {
      "text/plain": [
       "array([[0.56582728, 0.13651297, 0.06473039, ..., 0.01473864, 0.02674438,\n",
       "        0.03768395],\n",
       "       [0.56582728, 0.13651297, 0.06473039, ..., 0.01473864, 0.02674438,\n",
       "        0.03398762],\n",
       "       [0.45936897, 0.13651297, 0.08356354, ..., 0.01473864, 0.02398618,\n",
       "        0.03768395],\n",
       "       ...,\n",
       "       [0.45936897, 0.02096024, 0.08356354, ..., 0.01473864, 0.02398618,\n",
       "        0.03398762],\n",
       "       [0.45936897, 0.02096024, 0.08356354, ..., 0.01473864, 0.02398618,\n",
       "        0.03398762],\n",
       "       [0.56582728, 0.02096024, 0.06473039, ..., 0.01473864, 0.01233904,\n",
       "        0.03398762]])"
      ]
     },
     "execution_count": 15,
     "metadata": {},
     "output_type": "execute_result"
    }
   ],
   "source": [
    "cf.predict(X,X1=X,return_mean=False,return_muhat=False)"
   ]
  },
  {
   "cell_type": "code",
   "execution_count": 16,
   "metadata": {},
   "outputs": [],
   "source": [
    "from xbart import XBART"
   ]
  },
  {
   "cell_type": "code",
   "execution_count": 17,
   "metadata": {},
   "outputs": [
    {
     "data": {
      "text/plain": [
       "XBART(num_trees = 100, num_sweeps = 80, n_min = 1, num_cutpoints = 100, alpha = 0.95, beta = 1.25, tau = 0.01, burnin = 15, mtry = 10, max_depth_num = 250, kap = 16.0, s = 4.0, verbose = False, parallel = False, seed = 0, model_num = 0, no_split_penality = 4.605170185988092, sample_weights_flag = True, num_classes = 1)"
      ]
     },
     "execution_count": 17,
     "metadata": {},
     "output_type": "execute_result"
    }
   ],
   "source": [
    "xbt = XBART(num_trees=100, num_sweeps=80, burnin=15)\n",
    "xbt.fit(X,T)"
   ]
  },
  {
   "cell_type": "code",
   "execution_count": 18,
   "metadata": {},
   "outputs": [],
   "source": [
    "T_pred = xbt.predict(X)"
   ]
  },
  {
   "cell_type": "code",
   "execution_count": 19,
   "metadata": {},
   "outputs": [
    {
     "data": {
      "text/plain": [
       "(80, 10)"
      ]
     },
     "execution_count": 19,
     "metadata": {},
     "output_type": "execute_result"
    }
   ],
   "source": [
    "X.shape"
   ]
  },
  {
   "cell_type": "code",
   "execution_count": 20,
   "metadata": {},
   "outputs": [
    {
     "data": {
      "text/plain": [
       "(80, 11)"
      ]
     },
     "execution_count": 20,
     "metadata": {},
     "output_type": "execute_result"
    }
   ],
   "source": [
    "np.concatenate([X,T_pred.reshape(-1,1)],axis=1).shape"
   ]
  }
 ],
 "metadata": {
  "kernelspec": {
   "display_name": "pjake_kernel",
   "language": "python",
   "name": "pjake_kernel"
  },
  "language_info": {
   "codemirror_mode": {
    "name": "ipython",
    "version": 3
   },
   "file_extension": ".py",
   "mimetype": "text/x-python",
   "name": "python",
   "nbconvert_exporter": "python",
   "pygments_lexer": "ipython3",
   "version": "3.9.7"
  }
 },
 "nbformat": 4,
 "nbformat_minor": 2
}
