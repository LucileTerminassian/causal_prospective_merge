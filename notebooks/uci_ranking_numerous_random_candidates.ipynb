{
 "cells": [
  {
   "cell_type": "code",
   "execution_count": null,
   "metadata": {},
   "outputs": [],
   "source": [
    "import numpy as np\n",
    "import pandas as pd\n",
    "import torch\n",
    "torch.set_default_tensor_type(torch.FloatTensor) \n",
    "import copy\n",
    "import sys\n",
    "import os\n",
    "notebook_dir = os.getcwd()\n",
    "parent_dir = os.path.dirname(notebook_dir)\n",
    "# Add the parent directory to the Python path\n",
    "sys.path.append(parent_dir)\n",
    "\n",
    "from rct_data_generator import *\n",
    "from outcome_models import *\n",
    "from plotting_functions import *\n",
    "from mcmc_bayes_update import *\n",
    "from eig_comp_utils import *\n",
    "from research_exp_utils import *\n",
    "import uci_dataset as dataset"
   ]
  },
  {
   "cell_type": "code",
   "execution_count": null,
   "metadata": {},
   "outputs": [],
   "source": [
    "number_of_candidate_sites = 4\n",
    "min_sample_size_cand = 150\n",
    "max_sample_size_cand = 250\n",
    "host_sample_size = 200\n",
    "outcome_function = lambda X, T, eps: 1 + 1 * X['Sex'] - 1 * X['Weight.viscera'] + np.log(X['Weight.whole']) - \\\n",
    "    X['Height'] + 4 * T + 2* X['Weight.shucked']*T + 24* X['Weight.shell']*T + 0* X['Weight.shucked']*T + eps \n",
    "std_true_y = 1\n",
    "power_x = 1\n",
    "power_x_t = 1\n",
    "\n",
    "exp_parameters = {'number_of_candidate_sites': number_of_candidate_sites, 'min_sample_size_cand': min_sample_size_cand, \\\n",
    "                'max_sample_size_cand': max_sample_size_cand, 'host_sample_size': host_sample_size, 'outcome_function': outcome_function, \\\n",
    "                'std_true_y': std_true_y, 'power_x': power_x, 'power_x_t': power_x_t}\n",
    "\n",
    "initial_data = dataset.load_abalone()"
   ]
  },
  {
   "cell_type": "code",
   "execution_count": null,
   "metadata": {},
   "outputs": [],
   "source": [
    "def generating_random_sites_from(data, exp_parameters):\n",
    "\n",
    "    sites = {}\n",
    "\n",
    "    sample_size, num_features = np.shape(data)[0], np.shape(data)[1]\n",
    "    function_indices = {0:lambda X: np.log(X), 1:lambda X: np.sqrt(X) ,2:lambda X: X, 3:lambda X: X**2}\n",
    "    T = np.random.randint(2, size=sample_size)\n",
    "\n",
    "    number_of_candidate_sites, min_sample_size_cand, max_sample_size_cand = exp_parameters['number_of_candidate_sites'], \\\n",
    "        exp_parameters['min_sample_size_cand'], exp_parameters['max_sample_size_cand']\n",
    "    outcome_function, std_true_y, power_x, power_x_t = exp_parameters['outcome_function'], exp_parameters['std_true_y'], \\\n",
    "             exp_parameters['power_x'], exp_parameters['power_x_t']\n",
    "\n",
    "    for i in range (number_of_candidate_sites):\n",
    "        num_features_for_subsampling = np.random.randint(0, num_features)\n",
    "        random_coefs = [np.random.uniform(-10, 10) for _ in range(num_features_for_subsampling)]\n",
    "        random_fct_idx = [np.random.randint(0, 3) for _ in range(num_features_for_subsampling)]\n",
    "        p_assigned_to_site = lambda X, T, eps: np.sum([random_coefs[j]*function_indices[random_fct_idx[j]] for j in range (num_features_for_subsampling)])\n",
    "        sample_size = np.random.randint(min_sample_size_cand, max_sample_size_cand)\n",
    "        design_data_cand2 = generate_cand2(data, T, p_assigned_to_site, sample_size,\n",
    "                                            power_x, power_x_t, outcome_function, std_true_y) \n",
    "        sites[i] = design_data_cand2\n",
    "    \n",
    "    return sites\n",
    "\n"
   ]
  },
  {
   "cell_type": "code",
   "execution_count": null,
   "metadata": {},
   "outputs": [],
   "source": [
    "sites = generating_random_sites_from(initial_data, exp_parameters)"
   ]
  }
 ],
 "metadata": {
  "kernelspec": {
   "display_name": "pjake_kernel",
   "language": "python",
   "name": "pjake_kernel"
  },
  "language_info": {
   "codemirror_mode": {
    "name": "ipython",
    "version": 3
   },
   "file_extension": ".py",
   "mimetype": "text/x-python",
   "name": "python",
   "nbconvert_exporter": "python",
   "pygments_lexer": "ipython3",
   "version": "3.9.7"
  }
 },
 "nbformat": 4,
 "nbformat_minor": 2
}
