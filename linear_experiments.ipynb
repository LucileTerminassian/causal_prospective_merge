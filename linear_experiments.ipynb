{
 "cells": [
  {
   "cell_type": "code",
   "execution_count": 58,
   "metadata": {},
   "outputs": [],
   "source": [
    "import numpy as np\n",
    "import pandas as pd\n",
    "import torch\n",
    "torch.set_default_tensor_type(torch.FloatTensor) \n",
    "import copy\n",
    "\n",
    "from rct_data_generator import *\n",
    "from outcome_models import *\n",
    "from plotting_functions import *\n",
    "from mcmc_bayes_update import *\n",
    "from eig_comp_utils import *\n"
   ]
  },
  {
   "cell_type": "markdown",
   "metadata": {},
   "source": [
    "### 1. Simulating the data"
   ]
  },
  {
   "cell_type": "code",
   "execution_count": 59,
   "metadata": {},
   "outputs": [],
   "source": [
    "rng = np.random.RandomState(42)\n",
    "\n",
    "n_rct_before_split = 10**4\n",
    "n_host = 200\n",
    "\n",
    "power_x, power_x_t = 1, 1\n",
    "causal_param_first_index = 3\n",
    "outcome_function = lambda X, T, eps: 1 + 1 * X[:,0] - 1 * X[:,1] + 10 * T + 20* X[:,0]*T + 20* X[:,1]*T + eps \n",
    "std_true_y = 1 # Standard deviation for the true Y\n",
    "\n",
    "X0 = np.random.beta(12, 3, size= n_rct_before_split)\n",
    "X1 = np.random.normal(loc=4, scale=1, size=n_rct_before_split)\n",
    "x_distributions= {0: X0, 1: X1}\n",
    "\n",
    "p_assigned_to_host = lambda X_0, X_1, T, eps: sigmoid(1 + 2*X_0 - X_1 + T + eps)\n",
    "p_assigned_to_cand2 = lambda X_0, X_1, T, eps: sigmoid(1 + 2*X_0 - X_1 + T + eps)\n",
    "# p_assigned_to_cand2 = lambda X_0, X_1, T, eps: sigmoid(1 - 2*X_0 + eps)"
   ]
  },
  {
   "cell_type": "markdown",
   "metadata": {},
   "source": [
    "Simulation parameters"
   ]
  },
  {
   "cell_type": "code",
   "execution_count": 60,
   "metadata": {},
   "outputs": [],
   "source": [
    "# Prior parameters for Bayesian update on host\n",
    "prior_mean = np.array([0, 1, 0, 1, 0, -10])\n",
    "sigma_prior = 1\n",
    "\n",
    "# Hyperparameters for Bayesian update on host\n",
    "warmup_steps = 50\n",
    "max_tree_depth = 5\n",
    "sigma_rand_error = 1\n",
    "\n",
    "# Number of samples used to estimate outer expectation\n",
    "n_samples_for_expectation = 50\n",
    "m_samples_for_expectation = int(np.ceil(np.sqrt(n_samples_for_expectation)))\n",
    "\n",
    "# Incorporating sqrt constraint into MCMC samples\n",
    "n_mcmc = (n_samples_for_expectation * (m_samples_for_expectation+1)) "
   ]
  },
  {
   "cell_type": "markdown",
   "metadata": {},
   "source": [
    "### 2. EIG closed form for varying sample sizes"
   ]
  },
  {
   "cell_type": "code",
   "execution_count": 61,
   "metadata": {},
   "outputs": [],
   "source": [
    "def eig_closed_form_varying_sample_size(n_both_candidates_list, proportion, n_rct_before_split, x_distributions, p_assigned_to_cand2, n_host, power_x, power_x_t, outcome_function, std_true_y):\n",
    "\n",
    "    EIG_obs_closed_form_mirror, EIG_obs_closed_form_cand2 = [], []\n",
    "    EIG_caus_closed_form_mirror, EIG_caus_closed_form_cand2 = [], []\n",
    "\n",
    "    for length in n_both_candidates_list:\n",
    "\n",
    "        X_rct, T_rct = generate_rct(n_rct_before_split, x_distributions)\n",
    "        design_data_host, design_data_mirror = generate_host_and_mirror(X_rct, T_rct, p_assigned_to_cand2, n_host, length, power_x, power_x_t, outcome_function, std_true_y)\n",
    "\n",
    "\n",
    "        pre_X_cand2, pre_T_cand2 = generate_rct(n_rct_before_split, x_distributions)\n",
    "        design_data_cand2 = generate_cand2(pre_X_cand2, pre_T_cand2, p_assigned_to_cand2, proportion*length, \\\n",
    "                                            power_x, power_x_t, outcome_function, std_true_y)\n",
    "        \n",
    "        X_mirror, Y_mirror = design_data_mirror.drop(columns=['Y']), design_data_mirror['Y']\n",
    "        X_cand2, Y_cand2 = design_data_cand2.drop(columns=['Y']), design_data_cand2['Y']\n",
    "        print(np.shape(X_mirror))\n",
    "        \n",
    "        # Initialize prior parameters\n",
    "        beta_0, sigma_0_sq = prior_mean, 1\n",
    "        prior_hyperparameters = {'beta_0': beta_0, 'sigma_0_sq': sigma_0_sq}\n",
    "        bayes_reg = BayesianLinearRegression(prior_hyperparameters)\n",
    "\n",
    "        ### Bayesian update through host dataset\n",
    "        X_host, Y_host= design_data_host.drop(columns=['Y']), design_data_host['Y']\n",
    "        post_host_parameters = bayes_reg.fit(X_host, Y_host)\n",
    "        beta_post_host_vec = post_host_parameters['posterior_mean'].flatten()  # Extract posterior mean\n",
    "        cov_matrix_post_host = post_host_parameters['posterior_cov_matrix']\n",
    "\n",
    "        ## Bayesian update using the host dataset\n",
    "        X_torch, Y_torch = torch.tensor(X_host.values), torch.tensor(Y_host.values)\n",
    "        mcmc_host = MCMC_Bayesian_update(X_torch =X_torch, Y_torch = Y_torch, model =model_normal,\n",
    "                    mu_0= beta_0, sigma_prior = sigma_prior, sigma_rand_error = sigma_rand_error,\n",
    "                    sigma_rand_error_fixed = True, n_mcmc = n_mcmc, warmup_steps = warmup_steps, max_tree_depth=max_tree_depth)\n",
    "\n",
    "        X_mirror_arr, X_cand2_arr = X_mirror.values, X_cand2.values\n",
    "\n",
    "        EIG_obs_one_n_mirror = compute_EIG_obs_closed_form(X_mirror_arr,cov_matrix_post_host,sigma_rand_error)\n",
    "        EIG_obs_one_n_cand2 = compute_EIG_obs_closed_form(X_cand2_arr, cov_matrix_post_host, sigma_rand_error)\n",
    "\n",
    "        EIG_obs_closed_form_mirror.append(EIG_obs_one_n_mirror)    \n",
    "        EIG_obs_closed_form_cand2.append(EIG_obs_one_n_cand2)\n",
    "\n",
    "        EIG_caus_one_n_mirror = compute_EIG_causal_closed_form(X_mirror_arr, cov_matrix_post_host, sigma_rand_error, causal_param_first_index)\n",
    "        EIG_caus_one_n_cand2 = compute_EIG_causal_closed_form(X_cand2_arr, cov_matrix_post_host, sigma_rand_error, causal_param_first_index)\n",
    "\n",
    "        EIG_caus_closed_form_mirror.append(EIG_caus_one_n_mirror)    \n",
    "        EIG_caus_closed_form_cand2.append(EIG_caus_one_n_cand2)\n",
    "\n",
    "    EIG_obs_closed_form = np.vstack((EIG_obs_closed_form_mirror,EIG_obs_closed_form_cand2 ))\n",
    "    EIG_caus_closed_form = np.vstack((EIG_caus_closed_form_mirror,EIG_caus_closed_form_cand2 ))\n",
    "\n",
    "    return EIG_obs_closed_form, EIG_caus_closed_form\n"
   ]
  },
  {
   "cell_type": "code",
   "execution_count": 72,
   "metadata": {},
   "outputs": [
    {
     "name": "stdout",
     "output_type": "stream",
     "text": [
      "(100, 6)\n"
     ]
    },
    {
     "name": "stderr",
     "output_type": "stream",
     "text": [
      "Sample: 100%|██████████| 500/500 [00:20, 23.98it/s, step size=2.07e-02, acc. prob=0.803]\n"
     ]
    },
    {
     "name": "stdout",
     "output_type": "stream",
     "text": [
      "Inference ran for 0.35 minutes\n",
      "(200, 6)\n"
     ]
    },
    {
     "name": "stderr",
     "output_type": "stream",
     "text": [
      "Sample: 100%|██████████| 500/500 [00:21, 23.60it/s, step size=1.75e-02, acc. prob=0.903]\n"
     ]
    },
    {
     "name": "stdout",
     "output_type": "stream",
     "text": [
      "Inference ran for 0.35 minutes\n",
      "(500, 6)\n"
     ]
    },
    {
     "name": "stderr",
     "output_type": "stream",
     "text": [
      "Sample: 100%|██████████| 500/500 [00:21, 23.16it/s, step size=7.70e-03, acc. prob=0.936]"
     ]
    },
    {
     "name": "stdout",
     "output_type": "stream",
     "text": [
      "Inference ran for 0.36 minutes\n"
     ]
    },
    {
     "name": "stderr",
     "output_type": "stream",
     "text": [
      "\n"
     ]
    }
   ],
   "source": [
    "n_both_candidates_list = [100, 200, 500]\n",
    "proportion = 1.3 #n_cand2 = prorportion * n_both_candidates_list\n",
    "std_true_y = 1\n",
    "\n",
    "\n",
    "EIG_obs_closed_form, EIG_caus_closed_form = eig_closed_form_varying_sample_size(n_both_candidates_list, proportion, n_rct_before_split, x_distributions, p_assigned_to_cand2, n_host, power_x, power_x_t, outcome_function, std_true_y)"
   ]
  },
  {
   "cell_type": "code",
   "execution_count": 69,
   "metadata": {},
   "outputs": [
    {
     "data": {
      "text/plain": [
       "array([[ 9.6444903 , 10.27440171, 10.38293807],\n",
       "       [ 9.47666825,  9.99131537, 10.14145097]])"
      ]
     },
     "execution_count": 69,
     "metadata": {},
     "output_type": "execute_result"
    }
   ],
   "source": [
    "EIG_caus_closed_form"
   ]
  },
  {
   "cell_type": "code",
   "execution_count": 73,
   "metadata": {},
   "outputs": [
    {
     "data": {
      "image/png": "[encoded data removed]",
      "text/plain": [
       "<Figure size 1000x600 with 1 Axes>"
      ]
     },
     "metadata": {},
     "output_type": "display_data"
    }
   ],
   "source": [
    "plot_array(n_both_candidates_list, EIG_obs_closed_form, names=['mirror','cand2'], title= 'EIG obs')"
   ]
  },
  {
   "cell_type": "code",
   "execution_count": 74,
   "metadata": {},
   "outputs": [
    {
     "data": {
      "image/png": "[encoded data removed]",
      "text/plain": [
       "<Figure size 1000x600 with 1 Axes>"
      ]
     },
     "metadata": {},
     "output_type": "display_data"
    }
   ],
   "source": [
    "plot_array(n_both_candidates_list, EIG_caus_closed_form, names=['mirror','cand2'], title= 'EIG causal')"
   ]
  },
  {
   "cell_type": "markdown",
   "metadata": {},
   "source": [
    "### 3. EIG from samples for varying sample sizes"
   ]
  },
  {
   "cell_type": "code",
   "execution_count": 66,
   "metadata": {},
   "outputs": [],
   "source": [
    "def eig_from_samples_varying_sample_size(n_both_candidates_list, n_rct_before_split, x_distributions, p_assigned_to_cand2, n_host, power_x, power_x_t, outcome_function, std_true_y):\n",
    "\n",
    "    EIG_obs_samples_mirror, EIG_obs_samples_cand2 = [], []\n",
    "    EIG_caus_samples_mirror, EIG_caus_samples_cand2 = [], []\n",
    "\n",
    "    for length in n_both_candidates_list:\n",
    "\n",
    "        X_rct, T_rct = generate_rct(n_rct_before_split, x_distributions)\n",
    "        design_data_host, design_data_mirror = generate_host_and_mirror(X_rct, T_rct, p_assigned_to_cand2, n_host, length, power_x, power_x_t, outcome_function, std_true_y)\n",
    "\n",
    "\n",
    "        pre_X_cand2, pre_T_cand2 = generate_rct(n_rct_before_split, x_distributions)\n",
    "        design_data_cand2 = generate_cand2(pre_X_cand2, pre_T_cand2, p_assigned_to_cand2, length, \\\n",
    "                                            power_x, power_x_t, outcome_function, std_true_y)\n",
    "        \n",
    "        X_mirror, Y_mirror = design_data_mirror.drop(columns=['Y']), design_data_mirror['Y']\n",
    "        X_cand2, Y_cand2 = design_data_cand2.drop(columns=['Y']), design_data_cand2['Y']\n",
    "        print(np.shape(X_mirror))\n",
    "        \n",
    "        # Initialize prior parameters\n",
    "        beta_0, sigma_0_sq = prior_mean, 1\n",
    "        prior_hyperparameters = {'beta_0': beta_0, 'sigma_0_sq': sigma_0_sq}\n",
    "        bayes_reg = BayesianLinearRegression(prior_hyperparameters)\n",
    "\n",
    "        ### Bayesian update through host dataset\n",
    "        X_host, Y_host= design_data_host.drop(columns=['Y']), design_data_host['Y']\n",
    "        post_host_parameters = bayes_reg.fit(X_host, Y_host)\n",
    "        beta_post_host_vec = post_host_parameters['posterior_mean'].flatten()  # Extract posterior mean\n",
    "        cov_matrix_post_host = post_host_parameters['posterior_cov_matrix']\n",
    "\n",
    "        ## Bayesian update using the host dataset\n",
    "        X_torch, Y_torch = torch.tensor(X_host.values), torch.tensor(Y_host.values)\n",
    "        mcmc_host = MCMC_Bayesian_update(X_torch =X_torch, Y_torch = Y_torch, model = model_normal,\n",
    "                    mu_0= beta_0, sigma_prior = sigma_prior, sigma_rand_error = sigma_rand_error,\n",
    "                    sigma_rand_error_fixed = True, n_mcmc = n_mcmc, warmup_steps = warmup_steps, max_tree_depth=max_tree_depth)\n",
    "\n",
    "        beta_post_host = pd.DataFrame(mcmc_host.get_samples())\n",
    "        X_mirror_arr, X_cand2_arr = X_mirror.values, X_cand2.values\n",
    "\n",
    "        ## obs\n",
    "\n",
    "        Y_pred_mirror = predict_with_all_sampled_linear(beta_post_host, X_mirror_arr)\n",
    "        pred_list_mirror = predictions_in_EIG_obs_form(Y_pred_mirror, n_samples_for_expectation, m_samples_for_expectation)   \n",
    "\n",
    "        Y_pred_cand2 = predict_with_all_sampled_linear(beta_post_host, X_cand2_arr)\n",
    "        pred_list_cand2 = predictions_in_EIG_obs_form(Y_pred_cand2, n_samples_for_expectation, m_samples_for_expectation)  \n",
    "        \n",
    "        EIG_obs_one_n_mirror = compute_EIG_obs_from_samples(pred_list_mirror, sigma_rand_error)\n",
    "        EIG_obs_one_n_cand2 = compute_EIG_obs_from_samples(pred_list_cand2, sigma_rand_error)\n",
    "\n",
    "        EIG_obs_samples_mirror.append(EIG_obs_one_n_mirror)    \n",
    "        EIG_obs_samples_cand2.append(EIG_obs_one_n_cand2)\n",
    "\n",
    "        ## causal\n",
    "\n",
    "        sample_func = return_causal_samp_func_linear(X=X_torch,Y=Y_torch,causal_param_first_index=3,mu_0=beta_0,sigma_prior = sigma_prior,\n",
    "                                            sigma_rand_error = sigma_rand_error,sigma_rand_error_fixed = True,warmup_steps = warmup_steps, max_tree_depth=max_tree_depth)\n",
    "        \n",
    "        pred_func = lambda beta: beta @ (X_mirror).T\n",
    "        \n",
    "        pred_in_causal_form_mirror = predictions_in_EIG_causal_form(pred_func, theta_samples=beta_post_host.values[:40], theta_sampling_function=sample_func, n_non_causal_expectation=100, causal_param_first_index=3)\n",
    "        pred_in_causal_form_cand2 = predictions_in_EIG_causal_form(pred_func, theta_samples=beta_post_host.values[:40], theta_sampling_function=sample_func, n_non_causal_expectation=100, causal_param_first_index=3)\n",
    "\n",
    "\n",
    "        EIG_caus_one_n_mirror = compute_EIG_causal_from_samples(pred_list_mirror,pred_in_causal_form_mirror, sigma_rand_error)\n",
    "        EIG_caus_one_n_cand2 = compute_EIG_causal_from_samples(pred_list_cand2,pred_in_causal_form_cand2, sigma_rand_error)\n",
    "\n",
    "        EIG_caus_samples_mirror.append(EIG_caus_one_n_mirror)    \n",
    "        EIG_caus_samples_cand2.append(EIG_caus_one_n_cand2)\n",
    "\n",
    "    EIG_obs_closed_form = np.vstack((EIG_obs_samples_mirror,EIG_obs_samples_cand2 ))\n",
    "    EIG_caus_closed_form = np.vstack((EIG_caus_samples_mirror,EIG_caus_samples_cand2 ))\n",
    "\n",
    "    return EIG_obs_closed_form, EIG_caus_closed_form"
   ]
  },
  {
   "cell_type": "markdown",
   "metadata": {},
   "source": [
    "For both the mirror and cand2 datasets"
   ]
  },
  {
   "cell_type": "markdown",
   "metadata": {},
   "source": [
    "First, we calculate EIG using samples by getting the model predictions and putting them in the correct form"
   ]
  },
  {
   "cell_type": "code",
   "execution_count": 67,
   "metadata": {},
   "outputs": [
    {
     "ename": "NameError",
     "evalue": "name 'X_mirror' is not defined",
     "output_type": "error",
     "traceback": [
      "\u001b[0;31m---------------------------------------------------------------------------\u001b[0m",
      "\u001b[0;31mNameError\u001b[0m                                 Traceback (most recent call last)",
      "Cell \u001b[0;32mIn[67], line 1\u001b[0m\n\u001b[0;32m----> 1\u001b[0m X_mirror_arr \u001b[38;5;241m=\u001b[39m \u001b[43mX_mirror\u001b[49m\u001b[38;5;241m.\u001b[39mvalues\n\u001b[1;32m      2\u001b[0m Y_pred_mirror \u001b[38;5;241m=\u001b[39m predict_with_all_sampled_linear(beta_post_host, X_mirror_arr)\n\u001b[1;32m      4\u001b[0m pred_list_mirror \u001b[38;5;241m=\u001b[39m predictions_in_EIG_obs_form(Y_pred_mirror,n_samples_for_expectation,m_samples_for_expectation)\n",
      "\u001b[0;31mNameError\u001b[0m: name 'X_mirror' is not defined"
     ]
    }
   ],
   "source": [
    "X_mirror_arr = X_mirror.values\n",
    "Y_pred_mirror = predict_with_all_sampled_linear(beta_post_host, X_mirror_arr)\n",
    "\n",
    "pred_list_mirror = predictions_in_EIG_obs_form(Y_pred_mirror,n_samples_for_expectation,m_samples_for_expectation)"
   ]
  },
  {
   "cell_type": "code",
   "execution_count": null,
   "metadata": {},
   "outputs": [],
   "source": [
    "compute_EIG_obs_from_samples(pred_list_mirror, sigma_rand_error)"
   ]
  },
  {
   "cell_type": "markdown",
   "metadata": {},
   "source": [
    "Now to calculate for the causal"
   ]
  },
  {
   "cell_type": "code",
   "execution_count": null,
   "metadata": {},
   "outputs": [],
   "source": [
    "sample_func = return_causal_samp_func_linear(X=X_torch,Y=Y_torch,causal_param_first_index=3,mu_0=beta_0,sigma_prior = sigma_prior,\n",
    "                                            sigma_rand_error = sigma_rand_error,sigma_rand_error_fixed = True,warmup_steps = warmup_steps, max_tree_depth=max_tree_depth)\n",
    "pred_func = lambda beta: beta @ (X_mirror).T"
   ]
  },
  {
   "cell_type": "code",
   "execution_count": null,
   "metadata": {},
   "outputs": [],
   "source": [
    "pred_in_causal_form = predictions_in_EIG_causal_form(pred_func, theta_samples=beta_post_host.values[:40], theta_sampling_function=sample_func, n_non_causal_expectation=100, causal_param_first_index=3)"
   ]
  },
  {
   "cell_type": "code",
   "execution_count": null,
   "metadata": {},
   "outputs": [],
   "source": [
    "compute_EIG_causal_from_samples(pred_list_mirror,pred_in_causal_form, sigma_rand_error)"
   ]
  },
  {
   "cell_type": "markdown",
   "metadata": {},
   "source": [
    "Now, trying to calculate in closed form"
   ]
  },
  {
   "cell_type": "code",
   "execution_count": null,
   "metadata": {},
   "outputs": [],
   "source": [
    "compute_EIG_obs_closed_form(X_mirror_arr,cov_matrix_post_host,sigma_rand_error)"
   ]
  },
  {
   "cell_type": "code",
   "execution_count": null,
   "metadata": {},
   "outputs": [],
   "source": [
    "compute_EIG_causal_closed_form(X_mirror_arr, cov_matrix_post_host,sigma_rand_error, 3)"
   ]
  },
  {
   "cell_type": "markdown",
   "metadata": {},
   "source": [
    "For the cand2 dataset"
   ]
  },
  {
   "cell_type": "code",
   "execution_count": null,
   "metadata": {},
   "outputs": [],
   "source": [
    "X_cand2_arr = X_cand2.values\n",
    "Y_pred_cand2 = predict_with_all_sampled_linear(beta_post_host, X_cand2_arr)\n",
    "\n",
    "pred_list_cand2 = predictions_in_EIG_obs_form(Y_pred_cand2, n_samples_for_expectation, m_samples_for_expectation)"
   ]
  },
  {
   "cell_type": "code",
   "execution_count": null,
   "metadata": {},
   "outputs": [],
   "source": [
    "compute_EIG_obs_from_samples(pred_list_cand2, sigma_rand_error)"
   ]
  },
  {
   "cell_type": "markdown",
   "metadata": {},
   "source": [
    "Now, trying to calculate in closed form"
   ]
  },
  {
   "cell_type": "code",
   "execution_count": null,
   "metadata": {},
   "outputs": [],
   "source": [
    "compute_EIG_obs_closed_form(X_cand2_arr, cov_matrix_post_host, sigma_rand_error)"
   ]
  },
  {
   "cell_type": "code",
   "execution_count": null,
   "metadata": {},
   "outputs": [],
   "source": [
    "compute_EIG_causal_closed_form(X_cand2_arr, cov_matrix_post_host, sigma_rand_error, 3)"
   ]
  }
 ],
 "metadata": {
  "kernelspec": {
   "display_name": "pjake_kernel",
   "language": "python",
   "name": "pjake_kernel"
  },
  "language_info": {
   "codemirror_mode": {
    "name": "ipython",
    "version": 3
   },
   "file_extension": ".py",
   "mimetype": "text/x-python",
   "name": "python",
   "nbconvert_exporter": "python",
   "pygments_lexer": "ipython3",
   "version": "3.9.7"
  }
 },
 "nbformat": 4,
 "nbformat_minor": 2
}
