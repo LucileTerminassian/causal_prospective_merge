{
 "cells": [
  {
   "cell_type": "code",
   "execution_count": null,
   "metadata": {},
   "outputs": [],
   "source": [
    "import numpy as np\n",
    "import pandas as pd\n",
    "import torch\n",
    "torch.set_default_tensor_type(torch.FloatTensor) \n",
    "import copy\n",
    "\n",
    "from rct_data_generator import *\n",
    "from outcome_models import *\n",
    "from plotting_functions import *\n",
    "from mcmc_bayes_update import *\n",
    "from eig_comp_utils import *\n",
    "from research_exp_utils import *\n"
   ]
  },
  {
   "cell_type": "markdown",
   "metadata": {},
   "source": [
    "### 1. Simulating the data"
   ]
  },
  {
   "cell_type": "code",
   "execution_count": null,
   "metadata": {},
   "outputs": [],
   "source": [
    "rng = np.random.RandomState(42)\n",
    "\n",
    "n_rct_before_split = 10**6\n",
    "n_host = 200\n",
    "\n",
    "power_x, power_x_t = 1, 1\n",
    "causal_param_first_index = 3\n",
    "outcome_function = lambda X, T, eps: 1 + 1 * X[:,0] - 1 * X[:,1] + 10 * T + 20* X[:,0]*T + 20* X[:,1]*T + eps \n",
    "std_true_y = 1 # Standard deviation for the true Y\n",
    "\n",
    "X0 = np.random.beta(12, 3, size= n_rct_before_split)\n",
    "X1 = np.random.normal(loc=4, scale=1, size=n_rct_before_split)\n",
    "x_distributions= {0: X0, 1: X1}\n",
    "\n",
    "p_assigned_to_host = lambda X_0, X_1, T, eps: sigmoid(1 + 2*X_0 - X_1 + 5*T + eps)\n",
    "p_assigned_to_cand2 = lambda X_0, X_1, T, eps: sigmoid(1 + 2*X_0 - X_1 + 5*T + eps)\n",
    "# p_assigned_to_cand2 = lambda X_0, X_1, T, eps: sigmoid(1 - 2*X_0 + eps)"
   ]
  },
  {
   "cell_type": "markdown",
   "metadata": {},
   "source": [
    "Simulation parameters"
   ]
  },
  {
   "cell_type": "code",
   "execution_count": null,
   "metadata": {},
   "outputs": [],
   "source": [
    "# Prior parameters for Bayesian update on host\n",
    "prior_mean = np.array([0, 1, 0, 1, 0, 0])\n",
    "sigma_prior = 1\n",
    "\n",
    "# Hyperparameters for Bayesian update on host\n",
    "warmup_steps = 50\n",
    "max_tree_depth = 5\n",
    "sigma_rand_error = 1\n",
    "\n",
    "# Number of samples used to estimate outer expectation\n",
    "n_samples_for_expectation = 50\n",
    "m_samples_for_expectation = int(np.ceil(np.sqrt(n_samples_for_expectation)))\n",
    "\n",
    "# Incorporating sqrt constraint into MCMC samples\n",
    "n_mcmc = (n_samples_for_expectation * (m_samples_for_expectation+1)) "
   ]
  },
  {
   "cell_type": "markdown",
   "metadata": {},
   "source": [
    "### 2. EIG closed form for varying sample sizes"
   ]
  },
  {
   "cell_type": "code",
   "execution_count": null,
   "metadata": {},
   "outputs": [],
   "source": [
    "n_both_candidates_list = [200, 500, 1000]\n",
    "proportion = 1 #n_cand2 = prorportion * n_both_candidates_list\n",
    "std_true_y = 1\n",
    "\n",
    "EIG_obs_closed_form, EIG_caus_closed_form = eig_closed_form_varying_sample_size(generate_host_and_mirror, n_both_candidates_list, proportion, n_rct_before_split, x_distributions, \\\n",
    "                                        p_assigned_to_cand2, n_host, power_x, power_x_t, outcome_function, std_true_y, causal_param_first_index, \\\n",
    "                                        max_tree_depth, warmup_steps, sigma_rand_error, sigma_prior)"
   ]
  },
  {
   "cell_type": "code",
   "execution_count": null,
   "metadata": {},
   "outputs": [],
   "source": [
    "plot_array(n_both_candidates_list, EIG_obs_closed_form, names=['mirror','cand2'], title= 'EIG obs')"
   ]
  },
  {
   "cell_type": "code",
   "execution_count": null,
   "metadata": {},
   "outputs": [],
   "source": [
    "plot_array(n_both_candidates_list, EIG_caus_closed_form, names=['mirror','cand2'], title= 'EIG causal')"
   ]
  },
  {
   "cell_type": "markdown",
   "metadata": {},
   "source": [
    "### Exact experiment"
   ]
  },
  {
   "cell_type": "code",
   "execution_count": null,
   "metadata": {},
   "outputs": [],
   "source": [
    "n_both_candidates_list = [200, 500, 1000]\n",
    "proportion = 1 #n_cand2 = proportion * n_both_candidates_list\n",
    "std_true_y = 1\n",
    "\n",
    "\n",
    "EIG_obs_closed_form_exact, EIG_caus_closed_form_exact = eig_closed_form_varying_sample_size(generate_host_and_exact_mirror, n_both_candidates_list, proportion, n_rct_before_split, x_distributions, p_assigned_to_cand2, n_host, power_x, power_x_t, outcome_function, std_true_y)"
   ]
  },
  {
   "cell_type": "code",
   "execution_count": null,
   "metadata": {},
   "outputs": [],
   "source": [
    "plot_array(n_both_candidates_list, EIG_obs_closed_form_exact, names=['mirror','cand2'], title= 'EIG obs')"
   ]
  },
  {
   "cell_type": "code",
   "execution_count": null,
   "metadata": {},
   "outputs": [],
   "source": [
    "plot_array(n_both_candidates_list, EIG_caus_closed_form_exact, names=['mirror','cand2'], title= 'EIG obs')"
   ]
  },
  {
   "cell_type": "markdown",
   "metadata": {},
   "source": [
    "### 3. EIG from samples for varying sample sizes"
   ]
  },
  {
   "cell_type": "code",
   "execution_count": null,
   "metadata": {},
   "outputs": [],
   "source": []
  },
  {
   "cell_type": "code",
   "execution_count": null,
   "metadata": {},
   "outputs": [],
   "source": [
    "n_non_causal_expectation = 2\n",
    "EIG_obs_samples, EIG_caus_samples = eig_from_samples_varying_sample_size(n_both_candidates_list, n_rct_before_split, x_distributions, p_assigned_to_cand2, n_host, power_x, power_x_t, outcome_function, std_true_y)"
   ]
  },
  {
   "cell_type": "code",
   "execution_count": null,
   "metadata": {},
   "outputs": [],
   "source": [
    "plot_array(n_both_candidates_list, EIG_obs_samples, names=['mirror','cand2'], title= 'EIG obs from sample')"
   ]
  },
  {
   "cell_type": "code",
   "execution_count": null,
   "metadata": {},
   "outputs": [],
   "source": [
    "plot_array(n_both_candidates_list, EIG_obs_samples, names=['mirror','cand2'], title= 'EIG obs from sample')"
   ]
  }
 ],
 "metadata": {
  "kernelspec": {
   "display_name": "pjake_kernel",
   "language": "python",
   "name": "pjake_kernel"
  },
  "language_info": {
   "codemirror_mode": {
    "name": "ipython",
    "version": 3
   },
   "file_extension": ".py",
   "mimetype": "text/x-python",
   "name": "python",
   "nbconvert_exporter": "python",
   "pygments_lexer": "ipython3",
   "version": "3.9.7"
  }
 },
 "nbformat": 4,
 "nbformat_minor": 2
}
