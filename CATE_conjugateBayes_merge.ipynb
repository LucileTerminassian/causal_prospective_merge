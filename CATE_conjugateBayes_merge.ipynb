{
 "cells": [
  {
   "cell_type": "code",
   "execution_count": 51,
   "id": "fabd98cc",
   "metadata": {},
   "outputs": [],
   "source": [
    "%matplotlib inline\n",
    "import numpy as np\n",
    "import scipy.stats as stats\n",
    "import matplotlib.pyplot as plt\n",
    "from scipy.stats import entropy"
   ]
  },
  {
   "cell_type": "code",
   "execution_count": 45,
   "id": "60fd6fae",
   "metadata": {},
   "outputs": [],
   "source": [
    "class CATE_conjugateBayes_merge:\n",
    "    def __init__(self, prior='normal', likelihood='normal', prior_hyperparameters=None):\n",
    "        self.prior = prior\n",
    "        self.likelihood = likelihood\n",
    "        self.prior_hyperparameters = prior_hyperparameters\n",
    "        self.posterior_params = None\n",
    "\n",
    "        self._check_prior_hyperparameters()\n",
    "\n",
    "    def _check_prior_hyperparameters(self):\n",
    "        if self.prior_hyperparameters is None:\n",
    "            return\n",
    "\n",
    "        if self.prior == 'normal':\n",
    "            required_keys = ['mean', 'std']\n",
    "        elif self.prior == 'cauchy':\n",
    "            required_keys = ['alpha', 'beta']\n",
    "        elif self.prior == 'jeffreys':\n",
    "            required_keys = ['sigma']\n",
    "        else:\n",
    "            raise ValueError(\"Invalid prior. Currently supported priors: 'normal', 'cauchy', 'jeffreys'.\")\n",
    "\n",
    "        for key in required_keys:\n",
    "            if key not in self.prior_hyperparameters:\n",
    "                raise ValueError(f\"Missing hyperparameter '{key}' for the chosen prior '{self.prior}'.\")\n",
    "\n",
    "    def fit(self, X, T, Y):\n",
    "        # Calculate posterior parameters based on the chosen prior\n",
    "        if self.prior == 'normal':\n",
    "            prior = stats.norm(loc=self.prior_hyperparameters['mean'], scale=self.prior_hyperparameters['std'])\n",
    "        elif self.prior == 'cauchy':\n",
    "            prior = stats.cauchy(loc=self.prior_hyperparameters['alpha'], scale=self.prior_hyperparameters['beta'])\n",
    "        elif self.prior == 'jeffreys':\n",
    "            prior = stats.norm(loc=0, scale=self.prior_hyperparameters['sigma'])\n",
    "        else:\n",
    "            raise ValueError(\"Invalid prior. Currently supported priors: 'normal', 'cauchy', 'jeffreys'.\")\n",
    "\n",
    "        # Calculate posterior parameters using a simplified formula\n",
    "        posterior_mean = (prior.std()**2 * X * T + prior.mean()) / (prior.std()**2 * T**2 + 1)\n",
    "        posterior_std = np.sqrt(prior.std()**2 / (prior.std()**2 * T**2 + 1))\n",
    "\n",
    "        posterior = np.random.normal(loc=posterior_mean, scale=posterior_std, size=len(X))\n",
    "\n",
    "        self.posterior_params = {'mean': np.mean(posterior), 'std': np.std(posterior)}\n",
    "\n",
    "        return posterior\n",
    "\n"
   ]
  },
  {
   "cell_type": "code",
   "execution_count": 46,
   "id": "b3ffc3ae",
   "metadata": {},
   "outputs": [],
   "source": [
    "# Generate datasets\n",
    "np.random.seed(42)\n",
    "\n",
    "# Sigmoid function for treatment assignment\n",
    "def sigmoid(x):\n",
    "    return 1 / (1 + np.exp(-x))\n",
    "\n",
    "n_host = 1000\n",
    "X_host = np.random.normal(2, 1, n_host)\n",
    "T_host = sigmoid(1 + 2 * X_host + np.random.normal(0, 1, n_host))\n",
    "Y_host = 1 + 2 * X_host + 2 * T_host + np.random.normal(0, 1, n_host)\n",
    "\n",
    "n_candidate = 1000\n",
    "X_cand = np.random.normal(2, 1, n_candidate)\n",
    "T_cand = sigmoid(1 + 2 * X_cand + np.random.normal(0, 1, n_candidate))\n",
    "Y_cand = 1 + 2 * X_cand + 2 * T_cand + np.random.normal(0, 1, n_candidate)\n",
    "\n"
   ]
  },
  {
   "cell_type": "code",
   "execution_count": 47,
   "id": "8183b2b0",
   "metadata": {},
   "outputs": [],
   "source": [
    "# Initialize CATE_conjugateBayes_merge\n",
    "cate_bayes = CATE_conjugateBayes_merge(likelihood='normal', prior='normal', prior_hyperparameters={'mean': 0, 'std': 1})\n",
    "\n",
    "# Bayesian pass over the CATE function using the host data\n",
    "posterior_host = cate_bayes.fit(X_host, T_host, Y_host)\n",
    "\n",
    "# Bayesian pass over the CATE function using the host data\n",
    "posterior_cand = cate_bayes.fit(X_cand, T_cand, Y_cand)\n",
    "\n"
   ]
  },
  {
   "cell_type": "code",
   "execution_count": 49,
   "id": "6896ffd5",
   "metadata": {},
   "outputs": [
    {
     "data": {
      "image/png": "[encoded data removed]",
      "text/plain": [
       "<Figure size 576x360 with 1 Axes>"
      ]
     },
     "metadata": {
      "needs_background": "light"
     },
     "output_type": "display_data"
    },
    {
     "data": {
      "image/png": "[encoded data removed]",
      "text/plain": [
       "<Figure size 576x360 with 1 Axes>"
      ]
     },
     "metadata": {
      "needs_background": "light"
     },
     "output_type": "display_data"
    }
   ],
   "source": [
    "# Plot posterior after the Bayesian pass over the CATE function using the host data\n",
    "plt.figure(figsize=(8, 5))\n",
    "plt.hist(posterior_host, bins=30, density=True, alpha=0.5, color='blue')\n",
    "plt.title('Posterior Distribution after Bayesian Pass (Host Data)')\n",
    "plt.xlabel('Posterior Samples')\n",
    "plt.ylabel('Density')\n",
    "plt.show()\n",
    "\n",
    "\n",
    "# Plot updated posterior after the Bayesian update using the candidate data\n",
    "plt.figure(figsize=(8, 5))\n",
    "plt.hist(posterior_cand, bins=30, density=True, alpha=0.5, color='green')\n",
    "plt.title('Updated Posterior Distribution after Bayesian Update (Candidate Data)')\n",
    "plt.xlabel('Posterior Samples')\n",
    "plt.ylabel('Density')\n",
    "plt.show()"
   ]
  },
  {
   "cell_type": "code",
   "execution_count": 53,
   "id": "aec14ce9",
   "metadata": {},
   "outputs": [
    {
     "name": "stdout",
     "output_type": "stream",
     "text": [
      "KL Divergence between posteriors: 3.2813770643965428\n"
     ]
    }
   ],
   "source": [
    "# Assuming posterior_host and posterior_cand are the posterior distributions\n",
    "epsilon = 1e-10  \n",
    "# Small constant to avoid division by zero\n",
    "# Happens when the support are disjoints\n",
    "\n",
    "# Clip values to avoid zeros in the denominator\n",
    "posterior_host_clipped = np.clip(posterior_host, epsilon, None)\n",
    "posterior_cand_clipped = np.clip(posterior_cand, epsilon, None)\n",
    "\n",
    "kl_divergence = entropy(posterior_host_clipped, qk=posterior_cand_clipped)\n",
    "\n",
    "print(f\"KL Divergence between posteriors: {kl_divergence}\")"
   ]
  },
  {
   "cell_type": "code",
   "execution_count": null,
   "id": "7d0ac6a6",
   "metadata": {},
   "outputs": [],
   "source": []
  }
 ],
 "metadata": {
  "hide_input": false,
  "kernelspec": {
   "display_name": "Python 3 (ipykernel)",
   "language": "python",
   "name": "python3"
  },
  "language_info": {
   "codemirror_mode": {
    "name": "ipython",
    "version": 3
   },
   "file_extension": ".py",
   "mimetype": "text/x-python",
   "name": "python",
   "nbconvert_exporter": "python",
   "pygments_lexer": "ipython3",
   "version": "3.9.7"
  }
 },
 "nbformat": 4,
 "nbformat_minor": 5
}
