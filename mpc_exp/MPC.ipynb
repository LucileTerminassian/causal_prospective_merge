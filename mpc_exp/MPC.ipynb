{
 "cells": [
  {
   "cell_type": "code",
   "execution_count": 1,
   "metadata": {},
   "outputs": [
    {
     "name": "stderr",
     "output_type": "stream",
     "text": [
      "/Users/jake/miniconda3/envs/Crypten/lib/python3.7/site-packages/tqdm/auto.py:21: TqdmWarning: IProgress not found. Please update jupyter and ipywidgets. See https://ipywidgets.readthedocs.io/en/stable/user_install.html\n",
      "  from .autonotebook import tqdm as notebook_tqdm\n"
     ]
    }
   ],
   "source": [
    "import crypten\n",
    "import torch\n",
    "import sys\n",
    "import os\n",
    "from crypten.config import cfg\n",
    "import numpy as np\n",
    "from sklearn.preprocessing import StandardScaler\n",
    "from tqdm import tqdm\n",
    "# torch.set_default_tensor_type(torch.FloatTensor) \n",
    "\n",
    "notebook_dir = os.getcwd()\n",
    "parent_dir = os.path.dirname(notebook_dir)\n",
    "# Add the parent directory to the Python path\n",
    "\n",
    "sys.path.append(parent_dir)\n",
    "\n",
    "\n",
    "from privacy_utils import *\n",
    "import pandas as pd\n",
    "\n",
    "crypten.init()"
   ]
  },
  {
   "cell_type": "code",
   "execution_count": 2,
   "metadata": {},
   "outputs": [
    {
     "data": {
      "text/plain": [
       "{'communicator': {'verbose': False}, 'debug': {'debug_mode': False, 'validation_mode': False}, 'encoder': {'precision_bits': 16}, 'functions': {'max_method': 'log_reduction', 'exp_iterations': 8, 'reciprocal_method': 'NR', 'reciprocal_nr_iters': 10, 'reciprocal_log_iters': 1, 'reciprocal_all_pos': False, 'reciprocal_initial': None, 'sqrt_nr_iters': 3, 'sqrt_nr_initial': None, 'sigmoid_tanh_method': 'reciprocal', 'sigmoid_tanh_terms': 32, 'log_iterations': 2, 'log_exp_iterations': 8, 'log_order': 8, 'trig_iterations': 10, 'erf_iterations': 8}, 'mpc': {'active_security': False, 'provider': 'TFP', 'protocol': 'beaver'}, 'nn': {'dpsmpc': {'protocol': 'layer_estimation', 'skip_loss_forward': True, 'cache_pred_size': True}}}"
      ]
     },
     "execution_count": 2,
     "metadata": {},
     "output_type": "execute_result"
    }
   ],
   "source": [
    "crypten.cfg.config"
   ]
  },
  {
   "cell_type": "markdown",
   "metadata": {},
   "source": [
    "Implementing linear EIG calc in crypten"
   ]
  },
  {
   "cell_type": "code",
   "execution_count": 4,
   "metadata": {},
   "outputs": [],
   "source": [
    "n_host_sample = 2000 \n",
    "sigma_error = 1\n",
    "d = 10\n",
    "A = torch.randn((d,d))\n",
    "A = 1/(torch.det(A)) * A\n",
    "\n",
    "T_allocation_host = torch.randn(d)\n",
    "T_allocation_host = 100/torch.norm(T_allocation_host)*T_allocation_host\n",
    "\n",
    "mu_nc = torch.randn(d)\n",
    "mu_nc = 1/torch.norm(mu_nc)*mu_nc\n",
    "\n",
    "mu_c = torch.randn(d)\n",
    "mu_c = 1/torch.norm(mu_c)*mu_c\n",
    "\n",
    "mu = torch.concat([mu_nc,mu_c])"
   ]
  },
  {
   "cell_type": "code",
   "execution_count": 5,
   "metadata": {},
   "outputs": [],
   "source": [
    "X_host_no_T = (torch.randn((n_host_sample,d)) @ A ) \n",
    "T_host = torch.bernoulli(torch.sigmoid(X_host_no_T@ T_allocation_host))\n",
    "X_host_times_T = (T_host.unsqueeze(dim=0).T * X_host_no_T)\n",
    "X_host = torch.concat([X_host_no_T,X_host_times_T],dim=1)\n",
    "\n",
    "Y_host = X_host @ mu\n",
    "Y_host = (1/Y_host.std()) * (Y_host-Y_host.mean()) + sigma_error * torch.randn_like(Y_host)"
   ]
  },
  {
   "cell_type": "code",
   "execution_count": 6,
   "metadata": {},
   "outputs": [],
   "source": [
    "X_host_no_T = (torch.randn((n_host_sample,d)) @ A ) \n",
    "T_host = torch.bernoulli(torch.sigmoid(X_host_no_T@ T_allocation_host))\n",
    "X_host_times_T = (T_host.unsqueeze(dim=0).T * X_host_no_T)\n",
    "X_host = torch.concat([X_host_no_T,X_host_times_T],dim=1)"
   ]
  },
  {
   "cell_type": "code",
   "execution_count": 7,
   "metadata": {},
   "outputs": [],
   "source": [
    "sigma_error = 1\n",
    "prior_mean = torch.zeros(2 * d)\n",
    "beta_0, sigma_0_sq,inv_cov_0 = prior_mean, sigma_error,torch.eye(2*d)"
   ]
  },
  {
   "cell_type": "code",
   "execution_count": 8,
   "metadata": {},
   "outputs": [],
   "source": [
    "X_host_no_T_2 = (torch.randn((n_host_sample,d)) @ A ) \n",
    "T_host_2 = torch.bernoulli(torch.sigmoid(X_host_no_T@ T_allocation_host))\n",
    "X_host_times_T_2 = (T_host.unsqueeze(dim=0).T * X_host_no_T)\n",
    "X_host_2 = torch.concat([X_host_no_T,X_host_times_T],dim=1)"
   ]
  },
  {
   "cell_type": "code",
   "execution_count": 9,
   "metadata": {},
   "outputs": [],
   "source": [
    "sigma_error = 1\n",
    "prior_mean = torch.zeros(2 * d)\n",
    "beta_0, sigma_0_sq,inv_cov_0 = prior_mean, sigma_error,torch.eye(2*d)\n",
    "prior_hyperparameters = {'beta_0': beta_0, 'sigma_0_sq': sigma_0_sq,\"inv_cov_0\":inv_cov_0}\n",
    "bayesian_regression = BayesianLinearRegressionCrypt(prior_hyperparameters)\n",
    "bayesian_regression.set_causal_index(10)"
   ]
  },
  {
   "cell_type": "code",
   "execution_count": 10,
   "metadata": {},
   "outputs": [
    {
     "data": {
      "text/plain": [
       "{'posterior_mean': tensor([ 0.0759,  0.2098, -0.0218,  0.0189,  0.3198, -0.4664,  0.2373,  0.2579,\n",
       "         -0.3803, -0.1173,  0.0177,  0.1092, -0.1203,  0.0455,  0.0765, -0.1415,\n",
       "         -0.1087, -0.1111, -0.0222, -0.0344]),\n",
       " 'posterior_cov_matrix': tensor([[ 9.7254e-01, -1.1801e-02,  6.5765e-03, -3.8058e-03, -1.9723e-02,\n",
       "           2.5180e-03, -1.2882e-02, -1.6811e-02,  9.0497e-03, -2.1018e-02,\n",
       "          -1.4134e-02, -6.3362e-03,  3.1640e-03, -1.5578e-03, -1.0779e-02,\n",
       "           1.4501e-03, -7.0696e-03, -9.3083e-03,  4.9095e-03, -1.0913e-02],\n",
       "         [-1.1801e-02,  9.7235e-01, -1.1566e-02, -5.6973e-03, -1.6439e-02,\n",
       "          -1.5599e-03, -8.5832e-03, -1.1680e-04, -1.1509e-02, -2.2862e-02,\n",
       "          -6.3392e-03, -1.3618e-02, -5.5426e-03, -2.6311e-03, -8.5291e-03,\n",
       "          -4.7020e-04, -4.6188e-03, -1.0815e-03, -4.7218e-03, -1.1259e-02],\n",
       "         [ 6.5765e-03, -1.1566e-02,  9.6835e-01,  3.5425e-03,  1.2065e-02,\n",
       "          -1.2633e-03, -2.8886e-04, -1.1121e-02, -1.3734e-02, -3.3574e-03,\n",
       "           3.1870e-03, -5.5321e-03, -1.5591e-02,  1.1427e-03,  6.5334e-03,\n",
       "          -4.1683e-04,  1.3658e-04, -5.2228e-03, -6.4858e-03, -1.2517e-03],\n",
       "         [-3.8058e-03, -5.6973e-03,  3.5425e-03,  9.6042e-01, -4.0167e-03,\n",
       "           2.4274e-03, -4.4312e-03,  7.1741e-03,  2.3561e-02, -6.4405e-04,\n",
       "          -1.5308e-03, -2.6179e-03,  1.1216e-03, -1.7419e-02, -1.9077e-03,\n",
       "           1.3786e-03, -1.9737e-03,  3.0265e-03,  1.0519e-02, -5.8782e-04],\n",
       "         [-1.9723e-02, -1.6439e-02,  1.2065e-02, -4.0167e-03,  9.4673e-01,\n",
       "           1.1534e-02, -2.3791e-02, -9.2980e-03,  8.2862e-03, -3.4860e-02,\n",
       "          -1.0785e-02, -8.5307e-03,  6.5217e-03, -1.9694e-03, -2.7925e-02,\n",
       "           5.6087e-03, -1.2657e-02, -5.7409e-03,  5.0612e-03, -1.8204e-02],\n",
       "         [ 2.5180e-03, -1.5599e-03, -1.2633e-03,  2.4274e-03,  1.1534e-02,\n",
       "           9.7366e-01,  8.4042e-03,  6.7343e-03, -1.7056e-02, -7.7263e-03,\n",
       "           1.4271e-03, -4.8326e-04, -4.0732e-04,  1.4035e-03,  5.5751e-03,\n",
       "          -1.2589e-02,  4.1477e-03,  3.1916e-03, -8.1432e-03, -3.2987e-03],\n",
       "         [-1.2882e-02, -8.5833e-03, -2.8886e-04, -4.4312e-03, -2.3791e-02,\n",
       "           8.4042e-03,  9.7777e-01, -2.2265e-02,  1.9726e-02, -1.1972e-02,\n",
       "          -7.0487e-03, -4.6025e-03,  1.2691e-04, -2.0020e-03, -1.2636e-02,\n",
       "           4.1616e-03, -1.1486e-02, -1.1322e-02,  9.6697e-03, -6.6746e-03],\n",
       "         [-1.6811e-02, -1.1680e-04, -1.1121e-02,  7.1741e-03, -9.2980e-03,\n",
       "           6.7343e-03, -2.2265e-02,  9.4445e-01,  3.4597e-02, -2.0675e-04,\n",
       "          -9.2862e-03, -1.0726e-03, -5.2333e-03,  3.0034e-03, -5.7499e-03,\n",
       "           3.1987e-03, -1.1331e-02, -2.7086e-02,  1.6415e-02, -1.5903e-03],\n",
       "         [ 9.0497e-03, -1.1509e-02, -1.3734e-02,  2.3561e-02,  8.2862e-03,\n",
       "          -1.7056e-02,  1.9726e-02,  3.4597e-02,  9.2446e-01, -2.7491e-02,\n",
       "           4.8830e-03, -4.7346e-03, -6.4805e-03,  1.0574e-02,  5.0391e-03,\n",
       "          -8.1322e-03,  9.6575e-03,  1.6399e-02, -3.5068e-02, -1.1579e-02],\n",
       "         [-2.1018e-02, -2.2862e-02, -3.3574e-03, -6.4405e-04, -3.4860e-02,\n",
       "          -7.7263e-03, -1.1972e-02, -2.0675e-04, -2.7491e-02,  9.4287e-01,\n",
       "          -1.0911e-02, -1.1253e-02, -1.2685e-03, -6.1986e-04, -1.8185e-02,\n",
       "          -3.2637e-03, -6.6911e-03, -1.5829e-03, -1.1554e-02, -2.7803e-02],\n",
       "         [-1.4134e-02, -6.3392e-03,  3.1870e-03, -1.5308e-03, -1.0785e-02,\n",
       "           1.4271e-03, -7.0487e-03, -9.2862e-03,  4.8830e-03, -1.0911e-02,\n",
       "           9.8521e-01, -6.7376e-03,  3.2779e-03, -1.7169e-03, -1.1694e-02,\n",
       "           1.6098e-03, -7.6498e-03, -9.9008e-03,  5.3169e-03, -1.1651e-02],\n",
       "         [-6.3362e-03, -1.3618e-02, -5.5321e-03, -2.6179e-03, -8.5307e-03,\n",
       "          -4.8326e-04, -4.6025e-03, -1.0726e-03, -4.7346e-03, -1.1253e-02,\n",
       "          -6.7376e-03,  9.8580e-01, -5.7057e-03, -2.6835e-03, -9.1977e-03,\n",
       "          -5.2162e-04, -4.9062e-03, -1.1483e-03, -5.1338e-03, -1.2173e-02],\n",
       "         [ 3.1640e-03, -5.5426e-03, -1.5591e-02,  1.1216e-03,  6.5217e-03,\n",
       "          -4.0732e-04,  1.2691e-04, -5.2333e-03, -6.4805e-03, -1.2685e-03,\n",
       "           3.2779e-03, -5.7057e-03,  9.8397e-01,  1.3163e-03,  6.7670e-03,\n",
       "          -5.3763e-04,  2.1247e-04, -5.2913e-03, -6.9262e-03, -1.3714e-03],\n",
       "         [-1.5578e-03, -2.6311e-03,  1.1427e-03, -1.7419e-02, -1.9694e-03,\n",
       "           1.4035e-03, -2.0020e-03,  3.0034e-03,  1.0574e-02, -6.1986e-04,\n",
       "          -1.7169e-03, -2.6835e-03,  1.3163e-03,  9.8198e-01, -2.1921e-03,\n",
       "           1.5658e-03, -2.2218e-03,  2.8990e-03,  1.1286e-02, -5.4478e-04],\n",
       "         [-1.0779e-02, -8.5291e-03,  6.5334e-03, -1.9077e-03, -2.7925e-02,\n",
       "           5.5751e-03, -1.2636e-02, -5.7499e-03,  5.0391e-03, -1.8185e-02,\n",
       "          -1.1694e-02, -9.1977e-03,  6.7670e-03, -2.1921e-03,  9.7045e-01,\n",
       "           5.9051e-03, -1.3533e-02, -6.3600e-03,  5.4486e-03, -1.9494e-02],\n",
       "         [ 1.4501e-03, -4.7020e-04, -4.1683e-04,  1.3786e-03,  5.6087e-03,\n",
       "          -1.2589e-02,  4.1616e-03,  3.1987e-03, -8.1322e-03, -3.2637e-03,\n",
       "           1.6098e-03, -5.2162e-04, -5.3763e-04,  1.5658e-03,  5.9051e-03,\n",
       "           9.8705e-01,  4.4727e-03,  3.6160e-03, -8.8721e-03, -3.4431e-03],\n",
       "         [-7.0696e-03, -4.6188e-03,  1.3658e-04, -1.9737e-03, -1.2657e-02,\n",
       "           4.1477e-03, -1.1486e-02, -1.1331e-02,  9.6575e-03, -6.6911e-03,\n",
       "          -7.6498e-03, -4.9062e-03,  2.1247e-04, -2.2218e-03, -1.3533e-02,\n",
       "           4.4727e-03,  9.8782e-01, -1.2152e-02,  1.0480e-02, -7.1549e-03],\n",
       "         [-9.3083e-03, -1.0815e-03, -5.2228e-03,  3.0265e-03, -5.7409e-03,\n",
       "           3.1916e-03, -1.1322e-02, -2.7086e-02,  1.6399e-02, -1.5829e-03,\n",
       "          -9.9008e-03, -1.1483e-03, -5.2913e-03,  2.8990e-03, -6.3600e-03,\n",
       "           3.6160e-03, -1.2152e-02,  9.7141e-01,  1.7842e-02, -1.5932e-03],\n",
       "         [ 4.9095e-03, -4.7218e-03, -6.4858e-03,  1.0519e-02,  5.0612e-03,\n",
       "          -8.1432e-03,  9.6697e-03,  1.6415e-02, -3.5068e-02, -1.1554e-02,\n",
       "           5.3169e-03, -5.1338e-03, -6.9262e-03,  1.1286e-02,  5.4486e-03,\n",
       "          -8.8721e-03,  1.0480e-02,  1.7842e-02,  9.6227e-01, -1.2505e-02],\n",
       "         [-1.0913e-02, -1.1259e-02, -1.2517e-03, -5.8782e-04, -1.8204e-02,\n",
       "          -3.2987e-03, -6.6746e-03, -1.5903e-03, -1.1579e-02, -2.7803e-02,\n",
       "          -1.1651e-02, -1.2173e-02, -1.3714e-03, -5.4478e-04, -1.9494e-02,\n",
       "          -3.4431e-03, -7.1549e-03, -1.5932e-03, -1.2505e-02,  9.7038e-01]])}"
      ]
     },
     "execution_count": 10,
     "metadata": {},
     "output_type": "execute_result"
    }
   ],
   "source": [
    "bayesian_regression.fit(X_host,Y_host)"
   ]
  },
  {
   "cell_type": "code",
   "execution_count": 24,
   "metadata": {},
   "outputs": [
    {
     "name": "stdout",
     "output_type": "stream",
     "text": [
      "predicted\n"
     ]
    },
    {
     "name": "stderr",
     "output_type": "stream",
     "text": [
      "200it [00:01, 166.67it/s]\n",
      "200it [00:48,  4.08it/s]\n"
     ]
    },
    {
     "data": {
      "text/plain": [
       "{'torch': tensor(999.6143), 'crypt': tensor(999.6556)}"
      ]
     },
     "execution_count": 24,
     "metadata": {},
     "output_type": "execute_result"
    }
   ],
   "source": [
    "bayesian_regression.samples_obs_EIG_comparison(X_host.double(),200,400)"
   ]
  },
  {
   "cell_type": "code",
   "execution_count": null,
   "metadata": {},
   "outputs": [],
   "source": [
    "y_pred = torch.randn_like(Y_host)\n",
    "y_true = Y_host\n",
    "\n",
    "(0.5*(((y_true-y_pred).T @ (y_true-y_pred))))"
   ]
  },
  {
   "cell_type": "code",
   "execution_count": 13,
   "metadata": {},
   "outputs": [],
   "source": [
    "y_pred_crypt = crypten.mpc.MPCTensor(y_pred)\n",
    "y_true_crypt = crypten.mpc.MPCTensor(y_true)"
   ]
  },
  {
   "cell_type": "code",
   "execution_count": 14,
   "metadata": {},
   "outputs": [
    {
     "data": {
      "text/plain": [
       "tensor(-2900.4487)"
      ]
     },
     "execution_count": 14,
     "metadata": {},
     "output_type": "execute_result"
    }
   ],
   "source": [
    "log_liklihood_crypt(y_true,y_pred,1,decrypt = False)"
   ]
  },
  {
   "cell_type": "code",
   "execution_count": 15,
   "metadata": {},
   "outputs": [
    {
     "data": {
      "text/plain": [
       "tensor(-2900.4209)"
      ]
     },
     "execution_count": 15,
     "metadata": {},
     "output_type": "execute_result"
    }
   ],
   "source": [
    "log_liklihood_crypt(y_true_crypt,y_pred_crypt,1,decrypt = True)"
   ]
  },
  {
   "cell_type": "code",
   "execution_count": 16,
   "metadata": {},
   "outputs": [
    {
     "data": {
      "text/plain": [
       "tensor(8.6229)"
      ]
     },
     "execution_count": 16,
     "metadata": {},
     "output_type": "execute_result"
    }
   ],
   "source": [
    "log_sum_exp_crypt(y_true,decrypt=False)"
   ]
  },
  {
   "cell_type": "code",
   "execution_count": 17,
   "metadata": {},
   "outputs": [
    {
     "data": {
      "text/plain": [
       "tensor(8.5706)"
      ]
     },
     "execution_count": 17,
     "metadata": {},
     "output_type": "execute_result"
    }
   ],
   "source": [
    "log_sum_exp_crypt(y_true_crypt,decrypt = True)"
   ]
  },
  {
   "cell_type": "code",
   "execution_count": 18,
   "metadata": {},
   "outputs": [],
   "source": [
    "y_stack = torch.randn((10,len(y_pred_crypt)))\n",
    "y_stack_crypt = crypten.mpc.MPCTensor(y_stack)\n",
    "\n",
    "pred_list_torch = []\n",
    "pred_list_crypt = []\n",
    "\n",
    "for i in range(100):\n",
    "\n",
    "    y_stack = torch.randn((10,len(y_pred)))\n",
    "    y_stack_crypt = crypten.mpc.MPCTensor(y_stack)\n",
    "\n",
    "    pred_list_torch.append((y_pred,y_stack))\n",
    "    pred_list_crypt.append((y_pred_crypt,y_stack_crypt))\n",
    "\n",
    "normal_samples = torch.randn((100,len(y_pred)))"
   ]
  },
  {
   "cell_type": "code",
   "execution_count": 19,
   "metadata": {},
   "outputs": [
    {
     "name": "stderr",
     "output_type": "stream",
     "text": [
      "100it [00:00, 5808.56it/s]\n"
     ]
    },
    {
     "data": {
      "text/plain": [
       "tensor(2924.4329)"
      ]
     },
     "execution_count": 19,
     "metadata": {},
     "output_type": "execute_result"
    }
   ],
   "source": [
    "calc_posterior_predictive_entropy_torch(pred_list_torch,normal_samples, 1)"
   ]
  },
  {
   "cell_type": "code",
   "execution_count": 20,
   "metadata": {},
   "outputs": [
    {
     "name": "stderr",
     "output_type": "stream",
     "text": [
      "100it [00:10,  9.61it/s]\n"
     ]
    },
    {
     "data": {
      "text/plain": [
       "tensor(2924.3970)"
      ]
     },
     "execution_count": 20,
     "metadata": {},
     "output_type": "execute_result"
    }
   ],
   "source": [
    "calc_posterior_predictive_entropy_crypt(pred_list_crypt,normal_samples, 1,decrypt = True)"
   ]
  },
  {
   "cell_type": "code",
   "execution_count": 21,
   "metadata": {},
   "outputs": [
    {
     "name": "stderr",
     "output_type": "stream",
     "text": [
      "100it [00:10,  9.68it/s]\n"
     ]
    },
    {
     "data": {
      "text/plain": [
       "tensor(2924.3970)"
      ]
     },
     "execution_count": 21,
     "metadata": {},
     "output_type": "execute_result"
    }
   ],
   "source": [
    "compute_EIG_obs_from_samples_crypt(pred_list_crypt,normal_samples, 1)"
   ]
  },
  {
   "cell_type": "code",
   "execution_count": null,
   "metadata": {},
   "outputs": [],
   "source": [
    "log_posterior_predictive_torch(y_true, y_stack, sigma = 1,decrypt = False)"
   ]
  },
  {
   "cell_type": "code",
   "execution_count": null,
   "metadata": {},
   "outputs": [
    {
     "data": {
      "text/plain": [
       "tensor(-2870.8220)"
      ]
     },
     "execution_count": 19,
     "metadata": {},
     "output_type": "execute_result"
    }
   ],
   "source": [
    "log_posterior_predictive_crypten(y_true_crypt, y_stack_crypt, sigma = 1,decrypt = True)"
   ]
  },
  {
   "cell_type": "code",
   "execution_count": null,
   "metadata": {},
   "outputs": [
    {
     "name": "stderr",
     "output_type": "stream",
     "text": [
      "100it [00:10,  9.40it/s]\n"
     ]
    },
    {
     "data": {
      "text/plain": [
       "tensor(45.4246)"
      ]
     },
     "execution_count": 28,
     "metadata": {},
     "output_type": "execute_result"
    }
   ],
   "source": [
    "compute_EIG_obs_from_samples_crypt(pred_list_crypt,normal_samples, 1)"
   ]
  },
  {
   "cell_type": "code",
   "execution_count": null,
   "metadata": {},
   "outputs": [
    {
     "name": "stderr",
     "output_type": "stream",
     "text": [
      "100it [00:00, 3586.25it/s]\n"
     ]
    },
    {
     "data": {
      "text/plain": [
       "tensor(45.4600)"
      ]
     },
     "execution_count": 29,
     "metadata": {},
     "output_type": "execute_result"
    }
   ],
   "source": [
    "compute_EIG_obs_from_samples_torch(pred_list_torch,normal_samples, 1)"
   ]
  },
  {
   "cell_type": "code",
   "execution_count": null,
   "metadata": {},
   "outputs": [
    {
     "name": "stderr",
     "output_type": "stream",
     "text": [
      "100it [00:20,  4.84it/s]\n"
     ]
    },
    {
     "data": {
      "text/plain": [
       "tensor(0.)"
      ]
     },
     "execution_count": 32,
     "metadata": {},
     "output_type": "execute_result"
    }
   ],
   "source": [
    "compute_EIG_causal_from_samples_crypt(pred_list_crypt,pred_list_crypt,normal_samples,1)"
   ]
  },
  {
   "cell_type": "code",
   "execution_count": null,
   "metadata": {},
   "outputs": [
    {
     "name": "stderr",
     "output_type": "stream",
     "text": [
      "100it [00:00, 2298.69it/s]\n"
     ]
    },
    {
     "data": {
      "text/plain": [
       "tensor(0.)"
      ]
     },
     "execution_count": 35,
     "metadata": {},
     "output_type": "execute_result"
    }
   ],
   "source": [
    "compute_EIG_causal_from_samples_torch(pred_list_torch,pred_list_torch,normal_samples,1)"
   ]
  },
  {
   "cell_type": "code",
   "execution_count": null,
   "metadata": {},
   "outputs": [],
   "source": [
    "def compute_EIG_causal_from_samples_crypt(pred_list_unpaired, pred_list_paired,normal_samples, sigma):\n",
    "    \"\"\" \" Function to calculate causal information gain\"\"\"\n",
    "    # n_e = len(pred_list_unpaired[0][0])  # old len(pred_list_unpaired[0][0])\n",
    "    # return calc_posterior_predictive_entropy(\n",
    "    #     pred_list_unpaired, sigma\n",
    "    # ) - calc_posterior_predictive_entropy(pred_list_paired, sigma)\n",
    "\n",
    "    sample_list_crypten = crypten.mpc.MPCTensor(torch.zeros(len(min(pred_list_unpaired,pred_list_paired))))\n",
    "\n",
    "    for i,((y_pred, y_pred_multiple_paired),(_,y_pred_multiple_unpaired)) in tqdm(enumerate(zip(pred_list_paired,pred_list_unpaired))):\n",
    "        y_sample = y_pred + normal_samples[i]\n",
    "        sample_list_crypten[i]  =   log_posterior_predictive_crypten(y_sample, y_pred_multiple_paired, sigma) - log_posterior_predictive_crypten(y_sample, y_pred_multiple_unpaired,sigma)\n",
    "    return sample_list_crypten.mean().get_plain_text()\n",
    "\n",
    "def compute_EIG_causal_from_samples_torch(pred_list_unpaired, pred_list_paired,normal_samples, sigma):\n",
    "    \"\"\" \" Function to calculate causal information gain\"\"\"\n",
    "    # n_e = len(pred_list_unpaired[0][0])  # old len(pred_list_unpaired[0][0])\n",
    "    # return calc_posterior_predictive_entropy(\n",
    "    #     pred_list_unpaired, sigma\n",
    "    # ) - calc_posterior_predictive_entropy(pred_list_paired, sigma)\n",
    "\n",
    "    sample_list_crypten = torch.zeros(len(min(pred_list_unpaired,pred_list_paired)))\n",
    "\n",
    "    for i,((y_pred, y_pred_multiple_paired),(_,y_pred_multiple_unpaired)) in tqdm(enumerate(zip(pred_list_paired,pred_list_unpaired))):\n",
    "        y_sample = y_pred + normal_samples[i]\n",
    "        sample_list_crypten[i]  =   log_posterior_predictive_torch(y_sample, y_pred_multiple_paired, sigma) - log_posterior_predictive_torch(y_sample, y_pred_multiple_unpaired,sigma)\n",
    "    return sample_list_crypten.mean()"
   ]
  },
  {
   "cell_type": "code",
   "execution_count": null,
   "metadata": {},
   "outputs": [],
   "source": [
    "def compute_EIG_obs_from_samples_crypt(pred_list,normal_samples, sigma):\n",
    "    n_e = len(pred_list[0][0])\n",
    "    return (calc_posterior_predictive_entropy_crypt(pred_list,normal_samples=normal_samples, sigma=sigma) - n_e / 2 * (\n",
    "        1 + np.log(2 * np.pi * sigma**2)\n",
    "    )).get_plain_text()\n",
    "\n",
    "def compute_EIG_obs_from_samples_torch(pred_list,normal_samples, sigma):\n",
    "    n_e = len(pred_list[0][0])\n",
    "    return calc_posterior_predictive_entropy_torch(pred_list,normal_samples=normal_samples, sigma=sigma) - n_e / 2 * (1 + np.log(2 * np.pi * sigma**2))\n",
    "        "
   ]
  },
  {
   "cell_type": "code",
   "execution_count": null,
   "metadata": {},
   "outputs": [],
   "source": []
  },
  {
   "cell_type": "code",
   "execution_count": null,
   "metadata": {},
   "outputs": [],
   "source": [
    "def compute_EIG_causal_from_samples_crypt(pred_list_unpaired, pred_list_paired, sigma):\n",
    "    \"\"\" \" Function to calculate causal information gain\"\"\"\n",
    "    # n_e = len(pred_list_unpaired[0][0])  # old len(pred_list_unpaired[0][0])\n",
    "    # return calc_posterior_predictive_entropy(\n",
    "    #     pred_list_unpaired, sigma\n",
    "    # ) - calc_posterior_predictive_entropy(pred_list_paired, sigma)\n",
    "    n_e = len(pred_list_unpaired[0][0])  # old len(pred_list[0][0])\n",
    "    covariance = cov.CovViaDiagonal(sigma**2 * np.ones(n_e))\n",
    "    sample_list = []\n",
    "\n",
    "    for (y_pred, y_pred_multiple_paired),(_,y_pred_multiple_unpaired) in tqdm(zip(pred_list_paired,pred_list_unpaired)):\n",
    "        mvn = multivariate_normal(mean=y_pred, cov=covariance)\n",
    "        y_sample = mvn.rvs()\n",
    "        sample_list.append(\n",
    "            log_posterior_predictive(\n",
    "                y_sample, y_pred_multiple_paired, covariance\n",
    "            )\n",
    "            - log_posterior_predictive(\n",
    "                y_sample, y_pred_multiple_unpaired, covariance\n",
    "            ))\n",
    "    return sum(sample_list) / len(sample_list)"
   ]
  },
  {
   "cell_type": "code",
   "execution_count": null,
   "metadata": {},
   "outputs": [],
   "source": [
    "def calc_posterior_predictive_entropy_crypt(pred_list,normal_samples, sigma,decrypt = False):\n",
    "    n_e = len(pred_list[0][0])  # old len(pred_list[0][0])\n",
    "\n",
    "    sample_list_crypten = crypten.mpc.MPCTensor(torch.zeros(len(pred_list)))\n",
    "    \n",
    "    for i,(y_pred, y_pred_multiple) in tqdm(enumerate(pred_list)):\n",
    "\n",
    "        y_sample = y_pred + normal_samples[i]\n",
    "        sample_list_crypten[i] = log_posterior_predictive_crypten(y_sample,y_pred_multiple,sigma=sigma)\n",
    "    if decrypt:\n",
    "        return -sample_list_crypten.mean().get_plain_text()\n",
    "\n",
    "    else:\n",
    "        return -sample_list_crypten.mean()\n",
    "\n",
    "def calc_posterior_predictive_entropy_torch(pred_list,normal_samples, sigma):\n",
    "\n",
    "    sample_list_crypten = torch.zeros(len(pred_list))\n",
    "    \n",
    "    for i,(y_pred, y_pred_multiple) in tqdm(enumerate(pred_list)):\n",
    "\n",
    "        y_sample = y_pred + normal_samples[i]\n",
    "        sample_list_crypten[i] = log_posterior_predictive_torch(y_sample,y_pred_multiple,sigma=sigma)\n",
    "    return -sample_list_crypten.mean()"
   ]
  },
  {
   "cell_type": "code",
   "execution_count": null,
   "metadata": {},
   "outputs": [],
   "source": [
    "calc_posterior_predictive_entropy_crypt([([1],[1]),([2],[2])],1, 1)"
   ]
  },
  {
   "cell_type": "code",
   "execution_count": null,
   "metadata": {},
   "outputs": [
    {
     "data": {
      "text/plain": [
       "{'EIG_obs_torch': 4.844079971313477,\n",
       " 'EIG_obs_crypten': 4.8579254150390625,\n",
       " 'EIG_obs_DP': 0.324850514992293}"
      ]
     },
     "execution_count": 19,
     "metadata": {},
     "output_type": "execute_result"
    }
   ],
   "source": [
    "compare_obs_EIG_lin(X_host,X_host,torch.eye(X_host.shape[1]),DP=True,epsilon=10)"
   ]
  },
  {
   "cell_type": "code",
   "execution_count": null,
   "metadata": {},
   "outputs": [
    {
     "data": {
      "text/plain": [
       "{'EIG_caus_torch': 2.409762382507324,\n",
       " 'EIG_caus_crypten': 2.408233642578125,\n",
       " 'EIG_caus_DP': 4.11442765801425}"
      ]
     },
     "execution_count": 20,
     "metadata": {},
     "output_type": "execute_result"
    }
   ],
   "source": [
    "compare_caus_EIG_lin(X_host,X_host,torch.eye(X_host.shape[1]),d,DP=True,epsilon=10)"
   ]
  },
  {
   "cell_type": "code",
   "execution_count": null,
   "metadata": {},
   "outputs": [],
   "source": [
    "compare_obs_sum_EIG_lin(X_host,X_host,torch.eye(X_host.shape[1]),DP=True,epsilon=10)"
   ]
  },
  {
   "cell_type": "code",
   "execution_count": null,
   "metadata": {},
   "outputs": [
    {
     "data": {
      "text/plain": [
       "{'EIG_caus_torch': 0.7220475673675537,\n",
       " 'EIG_caus_crypten': 0.589385986328125,\n",
       " 'EIG_caus_DP': 38.9554611707243}"
      ]
     },
     "execution_count": 81,
     "metadata": {},
     "output_type": "execute_result"
    }
   ],
   "source": [
    "compare_caus_sum_EIG_lin(X_host,X_host,torch.eye(X_host.shape[1]),d,DP=True,epsilon=10)"
   ]
  },
  {
   "cell_type": "code",
   "execution_count": null,
   "metadata": {},
   "outputs": [],
   "source": [
    "def bairess_alg(encrypt,decrypted):\n",
    "    M = encrypt # make a copy to keep original M unmodified\n",
    "    N, sign, prev = len(M), 1, 1\n",
    "    for i in tqdm(range(N-1)):\n",
    "        if decrypted[i][i] == 0: # swap with another row having nonzero i's elem\n",
    "            swapto = next( (j for j in range(i+1,N) if decrypted[j][i] != 0), None )\n",
    "            if swapto is None:\n",
    "                return 0 # all M[*][i] are zero => zero determinant\n",
    "            M[i], M[swapto], sign = M[swapto], M[i], -sign\n",
    "        for j in (range(i+1,N)):\n",
    "            for k in range(i+1,N):\n",
    "                M[j][k] = ( M[j][k] * M[i][i] - M[j][i] * M[i][k] ).div(prev)\n",
    "        prev = M[i][i]\n",
    "    return sign * M[-1][-1]"
   ]
  },
  {
   "cell_type": "code",
   "execution_count": null,
   "metadata": {},
   "outputs": [],
   "source": [
    "XX_host = X_host.T @ X_host + np.eye(X_host.shape[1])\n",
    "XX_host_crypt = crypten.mpc.MPCTensor(XX_host)"
   ]
  },
  {
   "cell_type": "code",
   "execution_count": null,
   "metadata": {},
   "outputs": [],
   "source": [
    "# a = bairess_alg(XX_host_crypt,XX_host)"
   ]
  },
  {
   "cell_type": "markdown",
   "metadata": {},
   "source": [
    "## IDHP"
   ]
  },
  {
   "cell_type": "code",
   "execution_count": 25,
   "metadata": {},
   "outputs": [],
   "source": [
    "n_host = 400\n",
    "exp_parameters = {'number_of_candidate_sites': 20+1,\n",
    "                'min_sample_size_cand': 200, \n",
    "                'max_sample_size_cand': 400, \n",
    "                'host_sample_size': n_host,\n",
    "                'host_test_size': 2000,\n",
    "                'outcome_function': None, \n",
    "                'std_true_y': 1, \n",
    "                'power_x': 1, \n",
    "                'power_x_t': 1,\n",
    "                'coef_sample_width':5,\n",
    "                \"min_treat_group_size\":20}\n",
    "epsilon = 10"
   ]
  },
  {
   "cell_type": "code",
   "execution_count": 26,
   "metadata": {},
   "outputs": [],
   "source": [
    "data_with_groundtruth, x, t, y = get_data(\"IDHP\", \"\")\n",
    "XandT = pd.concat([x,t], axis=1)\n",
    "XandT = XandT.sample(n=10**4, replace=True, random_state=42)\n",
    "\n",
    "\n",
    "candidate_sites = generating_random_sites_from(XandT, data_with_groundtruth, exp_parameters, added_T_coef=20, binary_outcome=False)  \n",
    "\n",
    "host = candidate_sites[0][:n_host]\n",
    "XandT_host, Y_host = torch.from_numpy(host.drop(columns=[\"Y\"]).values), torch.from_numpy(host[\"Y\"].values)\n",
    "host_test = candidate_sites[0][n_host:]\n",
    "causal_param_first_index = np.shape(XandT)[1]\n",
    "\n",
    "candidate_sites = {key: value for key, value in candidate_sites.items() if key != 0}\n",
    "\n",
    "cov = torch.eye(XandT_host.shape[1])"
   ]
  },
  {
   "cell_type": "code",
   "execution_count": 29,
   "metadata": {},
   "outputs": [],
   "source": [
    "sigma_error = 1\n",
    "# prior_mean = torch.zeros(2 * d)\n",
    "beta_0, sigma_0_sq,inv_cov_0 = torch.zeros(XandT_host.shape[1]), sigma_error,cov\n",
    "prior_hyperparameters = {'beta_0': beta_0, 'sigma_0_sq': sigma_0_sq,\"inv_cov_0\":inv_cov_0}\n",
    "bayesian_regression = BayesianLinearRegressionCrypt(prior_hyperparameters)\n",
    "bayesian_regression.set_causal_index(26)"
   ]
  },
  {
   "cell_type": "code",
   "execution_count": 30,
   "metadata": {},
   "outputs": [
    {
     "data": {
      "text/plain": [
       "{'posterior_mean': tensor([-0.0343,  0.0498, -0.0581, -0.1656,  0.1223, -0.1185,  0.0850, -0.1454,\n",
       "         -0.0850,  0.0945, -0.1785,  0.0389,  0.2419, -0.0862, -0.0331,  0.0529,\n",
       "         -0.0343, -0.2307, -0.0343, -0.0240, -0.1955, -0.0653,  0.0000,  0.0338,\n",
       "          0.0018,  0.0204,  0.0990, -0.0246, -0.1138,  0.0635,  0.2034, -0.1863,\n",
       "          0.2246, -0.0905,  0.0000,  0.0990,  0.0000, -0.0905,  0.2419, -0.0284,\n",
       "          0.0705,  0.0000,  0.0990, -0.1429,  0.0990, -0.0240,  0.0000,  0.0000,\n",
       "          0.0000, -0.0905,  0.0000,  0.0000], dtype=torch.float64),\n",
       " 'posterior_cov_matrix': tensor([[ 0.8394,  0.0206, -0.0613,  ...,  0.0060,  0.0000, -0.0000],\n",
       "         [ 0.0206,  0.3548, -0.2308,  ..., -0.0339,  0.0000, -0.0000],\n",
       "         [-0.0613, -0.2308,  0.3138,  ...,  0.0245,  0.0000, -0.0000],\n",
       "         ...,\n",
       "         [ 0.0060, -0.0339,  0.0245,  ...,  0.9002,  0.0000, -0.0000],\n",
       "         [ 0.0000,  0.0000,  0.0000,  ...,  0.0000,  1.0000, -0.0000],\n",
       "         [ 0.0000,  0.0000,  0.0000,  ...,  0.0000,  0.0000,  1.0000]],\n",
       "        dtype=torch.float64)}"
      ]
     },
     "execution_count": 30,
     "metadata": {},
     "output_type": "execute_result"
    }
   ],
   "source": [
    "cov.shape\n",
    "bayesian_regression.fit(XandT_host, Y_host)"
   ]
  },
  {
   "cell_type": "code",
   "execution_count": 40,
   "metadata": {},
   "outputs": [
    {
     "name": "stderr",
     "output_type": "stream",
     "text": [
      "  0%|          | 0/20 [00:00<?, ?it/s]"
     ]
    },
    {
     "name": "stdout",
     "output_type": "stream",
     "text": [
      "predicted\n"
     ]
    },
    {
     "name": "stderr",
     "output_type": "stream",
     "text": [
      "200it [00:00, 229.64it/s]\n",
      "200it [00:48,  4.10it/s]\n",
      "  5%|▌         | 1/20 [00:49<15:46, 49.79s/it]"
     ]
    },
    {
     "name": "stdout",
     "output_type": "stream",
     "text": [
      "predicted\n"
     ]
    },
    {
     "name": "stderr",
     "output_type": "stream",
     "text": [
      "200it [00:00, 236.87it/s]\n",
      "200it [00:48,  4.11it/s]\n",
      " 10%|█         | 2/20 [01:39<14:54, 49.72s/it]"
     ]
    },
    {
     "name": "stdout",
     "output_type": "stream",
     "text": [
      "predicted\n"
     ]
    },
    {
     "name": "stderr",
     "output_type": "stream",
     "text": [
      "200it [00:00, 240.15it/s]\n",
      "200it [00:48,  4.10it/s]\n",
      " 15%|█▌        | 3/20 [02:29<14:05, 49.72s/it]"
     ]
    },
    {
     "name": "stdout",
     "output_type": "stream",
     "text": [
      "predicted\n"
     ]
    },
    {
     "name": "stderr",
     "output_type": "stream",
     "text": [
      "200it [00:00, 238.91it/s]\n",
      "200it [00:48,  4.08it/s]\n",
      " 20%|██        | 4/20 [03:19<13:16, 49.81s/it]"
     ]
    },
    {
     "name": "stdout",
     "output_type": "stream",
     "text": [
      "predicted\n"
     ]
    },
    {
     "name": "stderr",
     "output_type": "stream",
     "text": [
      "200it [00:00, 237.05it/s]\n",
      "200it [00:49,  4.03it/s]\n",
      " 25%|██▌       | 5/20 [04:09<12:31, 50.11s/it]"
     ]
    },
    {
     "name": "stdout",
     "output_type": "stream",
     "text": [
      "predicted\n"
     ]
    },
    {
     "name": "stderr",
     "output_type": "stream",
     "text": [
      "200it [00:00, 237.16it/s]\n",
      "200it [00:49,  4.08it/s]\n",
      " 30%|███       | 6/20 [04:59<11:40, 50.06s/it]"
     ]
    },
    {
     "name": "stdout",
     "output_type": "stream",
     "text": [
      "predicted\n"
     ]
    },
    {
     "name": "stderr",
     "output_type": "stream",
     "text": [
      "200it [00:00, 238.47it/s]\n",
      "200it [00:49,  4.05it/s]\n",
      " 35%|███▌      | 7/20 [05:50<10:52, 50.16s/it]"
     ]
    },
    {
     "name": "stdout",
     "output_type": "stream",
     "text": [
      "predicted\n"
     ]
    },
    {
     "name": "stderr",
     "output_type": "stream",
     "text": [
      "200it [00:00, 240.08it/s]\n",
      "200it [00:49,  4.01it/s]\n",
      " 40%|████      | 8/20 [06:40<10:04, 50.37s/it]"
     ]
    },
    {
     "name": "stdout",
     "output_type": "stream",
     "text": [
      "predicted\n"
     ]
    },
    {
     "name": "stderr",
     "output_type": "stream",
     "text": [
      "200it [00:00, 237.31it/s]\n",
      "200it [00:49,  4.07it/s]\n",
      " 45%|████▌     | 9/20 [07:31<09:13, 50.28s/it]"
     ]
    },
    {
     "name": "stdout",
     "output_type": "stream",
     "text": [
      "predicted\n"
     ]
    },
    {
     "name": "stderr",
     "output_type": "stream",
     "text": [
      "200it [00:00, 225.93it/s]\n",
      "200it [00:48,  4.10it/s]\n",
      " 50%|█████     | 10/20 [08:20<08:21, 50.15s/it]"
     ]
    },
    {
     "name": "stdout",
     "output_type": "stream",
     "text": [
      "predicted\n"
     ]
    },
    {
     "name": "stderr",
     "output_type": "stream",
     "text": [
      "200it [00:00, 236.61it/s]\n",
      "200it [00:49,  4.07it/s]\n",
      " 55%|█████▌    | 11/20 [09:10<07:31, 50.14s/it]"
     ]
    },
    {
     "name": "stdout",
     "output_type": "stream",
     "text": [
      "predicted\n"
     ]
    },
    {
     "name": "stderr",
     "output_type": "stream",
     "text": [
      "200it [00:00, 234.71it/s]\n",
      "200it [00:48,  4.09it/s]\n",
      " 60%|██████    | 12/20 [10:00<06:40, 50.08s/it]"
     ]
    },
    {
     "name": "stdout",
     "output_type": "stream",
     "text": [
      "predicted\n"
     ]
    },
    {
     "name": "stderr",
     "output_type": "stream",
     "text": [
      "200it [00:00, 232.70it/s]\n",
      "200it [00:49,  4.08it/s]\n",
      " 65%|██████▌   | 13/20 [10:50<05:50, 50.07s/it]"
     ]
    },
    {
     "name": "stdout",
     "output_type": "stream",
     "text": [
      "predicted\n"
     ]
    },
    {
     "name": "stderr",
     "output_type": "stream",
     "text": [
      "200it [00:00, 230.36it/s]\n",
      "200it [00:49,  4.03it/s]\n",
      " 70%|███████   | 14/20 [11:41<05:01, 50.26s/it]"
     ]
    },
    {
     "name": "stdout",
     "output_type": "stream",
     "text": [
      "predicted\n"
     ]
    },
    {
     "name": "stderr",
     "output_type": "stream",
     "text": [
      "200it [00:00, 232.67it/s]\n",
      "200it [00:49,  4.06it/s]\n",
      " 75%|███████▌  | 15/20 [12:31<04:11, 50.27s/it]"
     ]
    },
    {
     "name": "stdout",
     "output_type": "stream",
     "text": [
      "predicted\n"
     ]
    },
    {
     "name": "stderr",
     "output_type": "stream",
     "text": [
      "200it [00:00, 236.82it/s]\n",
      "200it [00:49,  4.05it/s]\n",
      " 80%|████████  | 16/20 [13:22<03:21, 50.28s/it]"
     ]
    },
    {
     "name": "stdout",
     "output_type": "stream",
     "text": [
      "predicted\n"
     ]
    },
    {
     "name": "stderr",
     "output_type": "stream",
     "text": [
      "200it [00:00, 232.38it/s]\n",
      "200it [00:49,  4.02it/s]\n",
      " 85%|████████▌ | 17/20 [14:12<02:31, 50.42s/it]"
     ]
    },
    {
     "name": "stdout",
     "output_type": "stream",
     "text": [
      "predicted\n"
     ]
    },
    {
     "name": "stderr",
     "output_type": "stream",
     "text": [
      "200it [00:00, 231.54it/s]\n",
      "200it [00:48,  4.08it/s]\n",
      " 90%|█████████ | 18/20 [15:02<01:40, 50.28s/it]"
     ]
    },
    {
     "name": "stdout",
     "output_type": "stream",
     "text": [
      "predicted\n"
     ]
    },
    {
     "name": "stderr",
     "output_type": "stream",
     "text": [
      "200it [00:00, 236.63it/s]\n",
      "200it [00:49,  4.06it/s]\n",
      " 95%|█████████▌| 19/20 [15:53<00:50, 50.25s/it]"
     ]
    },
    {
     "name": "stdout",
     "output_type": "stream",
     "text": [
      "predicted\n"
     ]
    },
    {
     "name": "stderr",
     "output_type": "stream",
     "text": [
      "200it [00:00, 233.36it/s]\n",
      "200it [00:49,  4.08it/s]\n",
      "100%|██████████| 20/20 [16:43<00:00, 50.16s/it]\n"
     ]
    }
   ],
   "source": [
    "privacy_results_index = {\n",
    "    'EIG_samples_torch':[],\n",
    "    'EIG_samples_crypten':[]\n",
    "}\n",
    "\n",
    "for _, candidate in tqdm(candidate_sites.items()):\n",
    "    \n",
    "    X_cand = torch.from_numpy(candidate.drop(columns=[\"Y\"]).values)\n",
    "    results_dict = bayesian_regression.samples_obs_EIG_comparison(X_cand.double(),200,400)\n",
    "\n",
    "    # obs_results_dict = compare_obs_sum_EIG_lin(XandT_host,X_cand,cov,DP=True,epsilon=epsilon)\n",
    "    # caus_results_dict = compare_caus_sum_EIG_lin(XandT_host,X_cand,cov,DP=True,causal_param_first_index=26,epsilon=epsilon)\n",
    "\n",
    "    privacy_results_index['EIG_samples_torch'].append( results_dict[\"torch\"] )\n",
    "    privacy_results_index['EIG_samples_crypten'].append( results_dict[\"crypt\"] )\n",
    "\n",
    "    # for key in caus_results_dict:\n",
    "    #     privacy_results_index[key].append( caus_results_dict[key] )\n",
    "    # print(obs_results_dict)\n",
    "    # print(caus_results_dict)"
   ]
  },
  {
   "cell_type": "code",
   "execution_count": 44,
   "metadata": {},
   "outputs": [
    {
     "data": {
      "text/plain": [
       "{'EIG_samples_torch': [tensor(416.7542),\n",
       "  tensor(513.5315),\n",
       "  tensor(570.7437),\n",
       "  tensor(134.8114),\n",
       "  tensor(549.7674),\n",
       "  tensor(436.4828),\n",
       "  tensor(516.9379),\n",
       "  tensor(472.6981),\n",
       "  tensor(477.7452),\n",
       "  tensor(686.7145),\n",
       "  tensor(460.5873),\n",
       "  tensor(648.7919),\n",
       "  tensor(729.6532),\n",
       "  tensor(666.6307),\n",
       "  tensor(612.0084),\n",
       "  tensor(493.9106),\n",
       "  tensor(754.9531),\n",
       "  tensor(431.4104),\n",
       "  tensor(477.1418),\n",
       "  tensor(466.6683)],\n",
       " 'EIG_samples_crypten': [tensor(1.1518e+09),\n",
       "  tensor(3.9566e+08),\n",
       "  tensor(1.8927e+09),\n",
       "  tensor(-1.3695e+09),\n",
       "  tensor(2.5606e+09),\n",
       "  tensor(9.7547e+08),\n",
       "  tensor(-4.2826e+09),\n",
       "  tensor(8.0783e+08),\n",
       "  tensor(1.1169e+09),\n",
       "  tensor(-7.3348e+08),\n",
       "  tensor(64155328.),\n",
       "  tensor(7.2780e+08),\n",
       "  tensor(3.6024e+09),\n",
       "  tensor(-2.1990e+09),\n",
       "  tensor(1.2309e+09),\n",
       "  tensor(-3.3766e+09),\n",
       "  tensor(-1.5381e+09),\n",
       "  tensor(2.0037e+08),\n",
       "  tensor(-1.7515e+09),\n",
       "  tensor(-4.7925e+08)]}"
      ]
     },
     "execution_count": 44,
     "metadata": {},
     "output_type": "execute_result"
    }
   ],
   "source": [
    "privacy_results_index"
   ]
  },
  {
   "cell_type": "code",
   "execution_count": 41,
   "metadata": {},
   "outputs": [],
   "source": [
    "import yaml\n",
    "import os\n",
    "from datetime import datetime"
   ]
  },
  {
   "cell_type": "code",
   "execution_count": 42,
   "metadata": {},
   "outputs": [
    {
     "data": {
      "text/plain": [
       "'05-22-01:21:07'"
      ]
     },
     "execution_count": 42,
     "metadata": {},
     "output_type": "execute_result"
    }
   ],
   "source": [
    "now = datetime.now()\n",
    "date_time_str = now.strftime(\"%m-%d %H:%M:%S\")\n",
    "date_time_str.replace(\" \",\"-\")"
   ]
  },
  {
   "cell_type": "code",
   "execution_count": null,
   "metadata": {},
   "outputs": [],
   "source": [
    "path_to='./'"
   ]
  },
  {
   "cell_type": "code",
   "execution_count": 43,
   "metadata": {},
   "outputs": [],
   "source": [
    "with open(os.path.join(path_to,date_time_str.replace(\" \",\"-\")+\"samples\"+\".metrics\"), 'w') as f:\n",
    "    yaml.dump(privacy_results_index, f)"
   ]
  },
  {
   "cell_type": "code",
   "execution_count": null,
   "metadata": {},
   "outputs": [],
   "source": [
    "privacy_results_index = {\n",
    "    'EIG_obs_torch':[],\n",
    "    'EIG_obs_crypten':[],\n",
    "    'EIG_obs_DP' : [],\n",
    "    'EIG_caus_torch':[],\n",
    "    'EIG_caus_crypten':[],\n",
    "    'EIG_caus_DP':[]\n",
    "}\n",
    "\n",
    "for _, candidate in tqdm(candidate_sites.items()):\n",
    "\n",
    "    X_cand = torch.from_numpy(candidate.drop(columns=[\"Y\"]).values)\n",
    "    obs_results_dict = compare_obs_sum_EIG_lin(XandT_host,X_cand,cov,DP=True,epsilon=epsilon)\n",
    "    caus_results_dict = compare_caus_sum_EIG_lin(XandT_host,X_cand,cov,DP=True,causal_param_first_index=26,epsilon=epsilon)\n",
    "\n",
    "    for key in obs_results_dict:\n",
    "        privacy_results_index[key].append( obs_results_dict[key] )\n",
    "\n",
    "    for key in caus_results_dict:\n",
    "        privacy_results_index[key].append( caus_results_dict[key] )\n",
    "    print(obs_results_dict)\n",
    "    print(caus_results_dict)"
   ]
  },
  {
   "cell_type": "code",
   "execution_count": null,
   "metadata": {},
   "outputs": [],
   "source": [
    "import scipy"
   ]
  },
  {
   "cell_type": "code",
   "execution_count": null,
   "metadata": {},
   "outputs": [
    {
     "data": {
      "text/plain": [
       "1580.3901645546716"
      ]
     },
     "execution_count": 44,
     "metadata": {},
     "output_type": "execute_result"
    }
   ],
   "source": [
    "((np.array(privacy_results_index[\"EIG_caus_crypten\"])-np.array(privacy_results_index[\"EIG_caus_DP\"]))**2).mean()"
   ]
  },
  {
   "cell_type": "code",
   "execution_count": null,
   "metadata": {},
   "outputs": [
    {
     "data": {
      "text/plain": [
       "KendalltauResult(correlation=0.3636831673644744, pvalue=0.026667942877584984)"
      ]
     },
     "execution_count": 45,
     "metadata": {},
     "output_type": "execute_result"
    }
   ],
   "source": [
    "scipy.stats.kendalltau(privacy_results_index[\"EIG_caus_crypten\"],privacy_results_index[\"EIG_caus_DP\"])"
   ]
  },
  {
   "cell_type": "code",
   "execution_count": null,
   "metadata": {},
   "outputs": [
    {
     "data": {
      "text/plain": [
       "'05-17-10:05:58'"
      ]
     },
     "execution_count": 39,
     "metadata": {},
     "output_type": "execute_result"
    }
   ],
   "source": [
    "now = datetime.now()\n",
    "date_time_str = now.strftime(\"%m-%d %H:%M:%S\")\n",
    "date_time_str.replace(\" \",\"-\")"
   ]
  },
  {
   "cell_type": "code",
   "execution_count": null,
   "metadata": {},
   "outputs": [],
   "source": [
    "with open(os.path.join(path_to,date_time_str.replace(\" \",\"-\")+\"e=\"+str(epsilon)+\".metrics\"), 'w') as f:\n",
    "    yaml.dump(privacy_results_index, f)"
   ]
  },
  {
   "cell_type": "code",
   "execution_count": null,
   "metadata": {},
   "outputs": [
    {
     "data": {
      "text/plain": [
       "{'EIG_caus_DP': [404.6473315157036,\n",
       "  403.77588404050664,\n",
       "  400.0575454058906,\n",
       "  401.9664029969986,\n",
       "  399.8655207077245,\n",
       "  404.44127426818625,\n",
       "  397.7400546216603,\n",
       "  398.0855507591822,\n",
       "  395.6082049029357,\n",
       "  401.2757817616515,\n",
       "  400.02413435082804,\n",
       "  402.08336540805317,\n",
       "  399.8309840701867,\n",
       "  400.14435270943017,\n",
       "  400.44773561153977,\n",
       "  402.1969765565662,\n",
       "  398.06473937253116,\n",
       "  401.4645357727816,\n",
       "  396.34878771541287,\n",
       "  399.71473320353795],\n",
       " 'EIG_caus_crypten': [94.63760375976562,\n",
       "  99.75857543945312,\n",
       "  95.61798095703125,\n",
       "  94.29258728027344,\n",
       "  101.47918701171875,\n",
       "  95.46809387207031,\n",
       "  93.87242126464844,\n",
       "  92.14152526855469,\n",
       "  97.64878845214844,\n",
       "  101.52085876464844,\n",
       "  95.14735412597656,\n",
       "  98.9700927734375,\n",
       "  94.94633483886719,\n",
       "  100.62191772460938,\n",
       "  95.46809387207031,\n",
       "  97.84297180175781,\n",
       "  94.56358337402344,\n",
       "  95.81211853027344,\n",
       "  94.94633483886719,\n",
       "  96.82487487792969],\n",
       " 'EIG_caus_torch': [94.97021629571817,\n",
       "  101.61620694999041,\n",
       "  95.91348725583379,\n",
       "  95.12429837149315,\n",
       "  101.96478677542288,\n",
       "  95.71918948680704,\n",
       "  94.69391325169265,\n",
       "  92.59585898981132,\n",
       "  98.76111636256292,\n",
       "  103.11153744520314,\n",
       "  96.03125792877208,\n",
       "  101.3419510982253,\n",
       "  95.76683358097993,\n",
       "  100.85317214316375,\n",
       "  95.71918948680704,\n",
       "  98.95190621410659,\n",
       "  95.30080623335795,\n",
       "  96.04851695361978,\n",
       "  95.76683358097992,\n",
       "  97.30199481635537],\n",
       " 'EIG_obs_DP': [824.210731545423,\n",
       "  816.6052972619636,\n",
       "  815.702056664245,\n",
       "  823.0195536839195,\n",
       "  820.8785148950252,\n",
       "  813.4321481185566,\n",
       "  820.0400023913835,\n",
       "  814.478986311499,\n",
       "  817.6133771488089,\n",
       "  811.5156434841778,\n",
       "  821.4899365707673,\n",
       "  814.4797127077715,\n",
       "  820.3140633328907,\n",
       "  815.3051771010184,\n",
       "  818.3326688638891,\n",
       "  816.3621447639728,\n",
       "  812.874951771074,\n",
       "  819.3317789994619,\n",
       "  819.7428586666495,\n",
       "  821.3574445661621],\n",
       " 'EIG_obs_crypten': [201.02809143066406,\n",
       "  207.69900512695312,\n",
       "  202.25796508789062,\n",
       "  196.57058715820312,\n",
       "  202.3166961669922,\n",
       "  200.10447692871094,\n",
       "  197.92710876464844,\n",
       "  188.7776336669922,\n",
       "  198.0946807861328,\n",
       "  203.75938415527344,\n",
       "  200.4051513671875,\n",
       "  199.59906005859375,\n",
       "  199.5818634033203,\n",
       "  202.1062774658203,\n",
       "  200.86660766601562,\n",
       "  200.78533935546875,\n",
       "  198.713623046875,\n",
       "  200.99205017089844,\n",
       "  197.8126983642578,\n",
       "  206.7509765625],\n",
       " 'EIG_obs_torch': [202.4293197685155,\n",
       "  208.74793817610805,\n",
       "  203.78185823844822,\n",
       "  197.46912655722932,\n",
       "  204.36159183161445,\n",
       "  200.7809454766605,\n",
       "  199.25832593835696,\n",
       "  189.24836153399957,\n",
       "  199.7024090955864,\n",
       "  204.53980872061044,\n",
       "  201.52917091466878,\n",
       "  200.5770650906498,\n",
       "  200.16807826543337,\n",
       "  203.36307667086052,\n",
       "  201.39233354494186,\n",
       "  201.67609911786747,\n",
       "  199.21376424230698,\n",
       "  202.5405389905346,\n",
       "  198.19245327680494,\n",
       "  207.98570699994974]}"
      ]
     },
     "execution_count": 196,
     "metadata": {},
     "output_type": "execute_result"
    }
   ],
   "source": [
    "results_dict[\"EIG_obs_DP\"]"
   ]
  },
  {
   "cell_type": "code",
   "execution_count": null,
   "metadata": {},
   "outputs": [],
   "source": [
    "import glob\n",
    "import scipy"
   ]
  },
  {
   "cell_type": "code",
   "execution_count": null,
   "metadata": {},
   "outputs": [],
   "source": [
    "n_runs = 3\n",
    "err_samples_crypt = np.zeros(n_runs*20)\n",
    "# err_samples_obs = np.zeros(n_runs*20)\n",
    "\n",
    "# err_crypten_caus = np.zeros(n_runs*20)\n",
    "# err_DP_caus = np.zeros(n_runs*20)\n",
    "\n",
    "# rho_crypt_obs = np.zeros(n_runs)\n",
    "# rho_crypt_caus = np.zeros(n_runs)\n",
    "\n",
    "# rho_DP_obs = np.zeros(n_runs)\n",
    "# rho_DP_caus = np.zeros(n_runs)\n",
    "\n",
    "i = 0\n",
    "for path in glob.glob(path_to):\n",
    "    \n",
    "    print(path)\n",
    "    print(i)\n",
    "    with open(path, \"r\") as f:\n",
    "        results_dict = yaml.unsafe_load(f)\n",
    "\n",
    "    err_samples_crypt[20*i:20*i+20] = ((((np.array(results_dict[\"EIG_samples_crypten\"])-np.array(results_dict[\"EIG_obs_DP\"]))/np.array(results_dict[\"EIG_obs_torch\"])))**2).mean()\n",
    "    # err_crypten_obs[20*i:20*i+20] = ((((np.array(results_dict[\"EIG_obs_torch\"])-np.array(results_dict[\"EIG_obs_crypten\"]))/np.array(results_dict[\"EIG_obs_torch\"])))**2).mean()\n",
    "\n",
    "    # err_DP_caus[20*i:20*i+20] = ((((np.array(results_dict[\"EIG_caus_torch\"])-np.array(results_dict[\"EIG_caus_DP\"]))/np.array(results_dict[\"EIG_obs_torch\"])))**2).mean()\n",
    "    # err_crypten_caus[20*i:20*i+20] = ((((np.array(results_dict[\"EIG_caus_torch\"])-np.array(results_dict[\"EIG_caus_crypten\"]))/np.array(results_dict[\"EIG_obs_torch\"])))**2).mean()\n",
    "    \n",
    "    # rho_crypt_obs[i] = scipy.stats.kendalltau(np.array(results_dict[\"EIG_obs_torch\"]),np.array(results_dict[\"EIG_obs_crypten\"]))[0]\n",
    "    # rho_crypt_caus[i] = scipy.stats.kendalltau(np.array(results_dict[\"EIG_caus_torch\"]),np.array(results_dict[\"EIG_caus_crypten\"]))[0]\n",
    "\n",
    "    # rho_DP_obs[i] = scipy.stats.kendalltau(np.array(results_dict[\"EIG_obs_torch\"]),np.array(results_dict[\"EIG_obs_DP\"]))[0]\n",
    "    # rho_DP_caus[i] = scipy.stats.kendalltau(np.array(results_dict[\"EIG_caus_torch\"]),np.array(results_dict[\"EIG_caus_DP\"]))[0]\n",
    "\n",
    "    i+=1\n",
    "    "
   ]
  },
  {
   "cell_type": "code",
   "execution_count": null,
   "metadata": {},
   "outputs": [],
   "source": [
    "X_cand = torch.from_numpy(candidate_sites[1].drop(columns=[\"Y\"]).values)\n",
    "X_host = XandT_host\n",
    "XX_cand = X_cand.T @ X_cand\n",
    "X_host_plus_cov = X_host.T @ X_host + cov\n",
    "\n",
    "XX_cand = X_cand.T @ X_cand\n",
    "X_host_plus_cov = X_host.T @ X_host + cov\n",
    "XX_cand_causal,X_host_plus_cov = XX_cand[causal_param_first_index:,causal_param_first_index:],X_host_plus_cov[causal_param_first_index:,causal_param_first_index:]\n",
    "_,EIG_torch = torch.slogdet(XX_cand_causal + X_host_plus_cov )\n",
    "# results_dict[\"EIG_caus_torch\"] = EIG_torch.item()\n",
    "\n",
    "X_host_crypten = crypten.mpc.MPCTensor(X_host_plus_cov)\n",
    "XX_cand_crypten = crypten.mpc.MPCTensor(XX_cand_causal)\n",
    "# EIG_crypten = logdet_Crypten((XX_cand_crypten + X_host_crypten)/len(X_host_crypten))\n",
    "# EIG_crypten = EIG_crypten + (len(X_host_crypten))*np.log(len(X_host_crypten))\n",
    "# EIG_crypten = EIG_crypten.get_plain_text()\n",
    "# # EIG_crypten = logdet_Crypten(XX_cand_crypten + X_host_crypten).get_plain_text()\n",
    "# results_dict[\"EIG_caus_crypten\"] = EIG_crypten.item()"
   ]
  },
  {
   "cell_type": "code",
   "execution_count": null,
   "metadata": {},
   "outputs": [
    {
     "data": {
      "text/plain": [
       "tensor([10.6538,  9.1013,  2.5659,  3.7679,  7.8559, 11.6188, 10.2894,  2.3844,\n",
       "         0.9200,  1.8434,  1.4379,  1.3063,  0.9156,  1.8771,  0.6737,  1.1941,\n",
       "         0.4228,  1.5718,  0.1074,  1.1360,  0.5188,  1.2187,  0.1577,  0.2538,\n",
       "         0.4782,  1.0884])"
      ]
     },
     "execution_count": 33,
     "metadata": {},
     "output_type": "execute_result"
    }
   ],
   "source": [
    "L,D = chol_LD_Crypten(((XX_cand_crypten + X_host_crypten))/(len(X_host_crypten)))\n",
    "c = D.get_plain_text()\n",
    "c"
   ]
  },
  {
   "cell_type": "code",
   "execution_count": null,
   "metadata": {},
   "outputs": [
    {
     "data": {
      "text/plain": [
       "tensor(93.7979)"
      ]
     },
     "execution_count": 34,
     "metadata": {},
     "output_type": "execute_result"
    }
   ],
   "source": [
    "D_log_enc = D.log()\n",
    "(D_log_enc.sum() + len(D_log_enc)*np.log(len(X_host_crypten))).get_plain_text()"
   ]
  },
  {
   "cell_type": "code",
   "execution_count": null,
   "metadata": {},
   "outputs": [
    {
     "data": {
      "text/plain": [
       "tensor(93.7979)"
      ]
     },
     "execution_count": 35,
     "metadata": {},
     "output_type": "execute_result"
    }
   ],
   "source": [
    "EIG_crypten = logdet_Crypten((XX_cand_crypten + X_host_crypten)/len(X_host_crypten))\n",
    "EIG_crypten = EIG_crypten + (len(X_host_crypten))*np.log(len(X_host_crypten))\n",
    "EIG_crypten = EIG_crypten.get_plain_text()\n",
    "EIG_crypten"
   ]
  },
  {
   "cell_type": "code",
   "execution_count": null,
   "metadata": {},
   "outputs": [
    {
     "data": {
      "text/plain": [
       "tensor(93.7979)"
      ]
     },
     "execution_count": 36,
     "metadata": {},
     "output_type": "execute_result"
    }
   ],
   "source": [
    "X_host_crypten = crypten.mpc.MPCTensor(X_host_plus_cov)\n",
    "XX_cand_crypten = crypten.mpc.MPCTensor(XX_cand_causal)\n",
    "EIG_crypten = logdet_Crypten((XX_cand_crypten + X_host_crypten)/len(X_host_crypten))\n",
    "EIG_crypten = EIG_crypten + (len(X_host_crypten))*np.log(len(X_host_crypten))\n",
    "EIG_crypten = EIG_crypten.get_plain_text()\n",
    "EIG_crypten"
   ]
  },
  {
   "cell_type": "code",
   "execution_count": null,
   "metadata": {},
   "outputs": [
    {
     "data": {
      "text/plain": [
       "tensor([10.6538,  9.1049,  2.5721,  3.7707,  7.8567, 11.6305, 10.2932,  2.3923,\n",
       "         0.9210,  1.8537,  1.4483,  1.3142,  0.9343,  1.8853,  0.7476,  1.1985,\n",
       "         0.4526,  1.5894,  0.1266,  1.1368,  0.5195,  1.2198,  0.1578,  0.2547,\n",
       "         0.4785,  1.1141], dtype=torch.float64)"
      ]
     },
     "execution_count": 37,
     "metadata": {},
     "output_type": "execute_result"
    }
   ],
   "source": [
    "torch.linalg.ldl_factor((XX_cand_causal + (X_host_plus_cov))/(len(X_host_crypten)))[0].diag()"
   ]
  },
  {
   "cell_type": "code",
   "execution_count": null,
   "metadata": {},
   "outputs": [],
   "source": [
    "torch.linalg.(XX_cand_crypten + X_host_crypten)"
   ]
  },
  {
   "cell_type": "code",
   "execution_count": null,
   "metadata": {},
   "outputs": [],
   "source": [
    "(XX_cand_crypten + X_host_crypten)/len(X_host_crypten)"
   ]
  },
  {
   "cell_type": "code",
   "execution_count": null,
   "metadata": {},
   "outputs": [],
   "source": [
    "# scipy.stats.kendalltau(privacy_results_index[\"EIG_obs_torch\"],privacy_results_index[\"EIG_obs_crypten\"])"
   ]
  },
  {
   "cell_type": "code",
   "execution_count": null,
   "metadata": {},
   "outputs": [
    {
     "data": {
      "text/plain": [
       "KendalltauResult(correlation=-0.42857142857142855, pvalue=0.17886904761904762)"
      ]
     },
     "execution_count": 61,
     "metadata": {},
     "output_type": "execute_result"
    }
   ],
   "source": [
    "scipy.stats.kendalltau(privacy_results_index[\"EIG_obs_torch\"],privacy_results_index[\"EIG_obs_DP\"])"
   ]
  },
  {
   "cell_type": "code",
   "execution_count": null,
   "metadata": {},
   "outputs": [
    {
     "data": {
      "text/plain": [
       "KendalltauResult(correlation=0.9285714285714285, pvalue=0.0003968253968253968)"
      ]
     },
     "execution_count": 62,
     "metadata": {},
     "output_type": "execute_result"
    }
   ],
   "source": [
    "scipy.stats.kendalltau(privacy_results_index[\"EIG_caus_torch\"],privacy_results_index[\"EIG_caus_crypten\"])"
   ]
  },
  {
   "cell_type": "code",
   "execution_count": null,
   "metadata": {},
   "outputs": [
    {
     "data": {
      "text/plain": [
       "KendalltauResult(correlation=0.9999999999999998, pvalue=4.96031746031746e-05)"
      ]
     },
     "execution_count": 63,
     "metadata": {},
     "output_type": "execute_result"
    }
   ],
   "source": [
    "scipy.stats.kendalltau(privacy_results_index[\"EIG_caus_torch\"],privacy_results_index[\"EIG_caus_DP\"])"
   ]
  },
  {
   "cell_type": "code",
   "execution_count": null,
   "metadata": {},
   "outputs": [],
   "source": [
    "# privacy_results_index"
   ]
  },
  {
   "cell_type": "code",
   "execution_count": null,
   "metadata": {},
   "outputs": [],
   "source": [
    "X_cand = torch.from_numpy(candidate_sites[1].drop(columns=[\"Y\"]).values)\n",
    "X_host = XandT_host\n",
    "XX_cand = X_cand.T @ X_cand\n",
    "X_host_plus_cov = X_host.T @ X_host + cov\n",
    "\n",
    "X_host_crypten = crypten.mpc.MPCTensor(X_host_plus_cov)\n",
    "XX_cand_crypten = crypten.mpc.MPCTensor(XX_cand)"
   ]
  },
  {
   "cell_type": "code",
   "execution_count": null,
   "metadata": {},
   "outputs": [
    {
     "data": {
      "text/plain": [
       "torch.return_types.slogdet(\n",
       "sign=tensor(1., dtype=torch.float64),\n",
       "logabsdet=tensor(33.2117, dtype=torch.float64))"
      ]
     },
     "execution_count": 21,
     "metadata": {},
     "output_type": "execute_result"
    }
   ],
   "source": [
    "torch.slogdet(XX_cand @ (torch.linalg.inv(X_host.T @ X_host + cov)) + torch.eye(X_host.shape[1]))"
   ]
  },
  {
   "cell_type": "code",
   "execution_count": null,
   "metadata": {},
   "outputs": [],
   "source": [
    "(torch.linalg.inv(X_host.T @ X_host + cov))"
   ]
  },
  {
   "cell_type": "code",
   "execution_count": null,
   "metadata": {},
   "outputs": [],
   "source": [
    "X_host.T @ X_host + cov"
   ]
  },
  {
   "cell_type": "code",
   "execution_count": null,
   "metadata": {},
   "outputs": [],
   "source": [
    "# _,EIG_torch = torch.slogdet(XX_cand + X_host_plus_cov)\n",
    "\n",
    "\n",
    "# X_host_crypten = crypten.mpc.MPCTensor(X_host_plus_cov)\n",
    "# XX_cand_crypten = crypten.mpc.MPCTensor(XX_cand)\n",
    "# EIG_crypten = logdet_Crypten((XX_cand_crypten + X_host_crypten)/len(X_host_crypten))\n",
    "# EIG_crypten = EIG_crypten + (len(X_host_crypten))*np.log(len(X_host_crypten))\n",
    "# EIG_crypten = EIG_crypten.get_plain_text()"
   ]
  },
  {
   "cell_type": "code",
   "execution_count": null,
   "metadata": {},
   "outputs": [
    {
     "data": {
      "text/plain": [
       "tensor([26.0385, 24.9869,  6.4785,  9.4489, 25.4464, 21.2184, 26.3486,  6.0280,\n",
       "         1.8504,  5.1149,  4.4550,  3.2219,  2.4657,  5.1556,  2.1764,  2.7899,\n",
       "         1.0656,  4.5261,  0.6062,  3.1365,  2.6383,  2.9467,  1.2423,  0.9740,\n",
       "         1.7569,  1.9678,  4.5486,  4.5080,  1.2372,  1.6612,  4.2541,  4.1332,\n",
       "         4.5958,  1.2259,  0.4055,  0.9586,  0.8002,  0.6709,  0.5280,  0.9208,\n",
       "         0.4119,  0.6002,  0.2506,  0.8482,  0.0638,  0.5889,  0.3364,  0.6258,\n",
       "         0.1008,  0.0970,  0.2468,  0.4970], dtype=torch.float64)"
      ]
     },
     "execution_count": 49,
     "metadata": {},
     "output_type": "execute_result"
    }
   ],
   "source": [
    "torch.linalg.ldl_factor((XX_cand + (X_host_plus_cov))/(len(X_host_crypten)))[0].diag()"
   ]
  },
  {
   "cell_type": "code",
   "execution_count": null,
   "metadata": {},
   "outputs": [
    {
     "data": {
      "text/plain": [
       "tensor([26.0385, 24.9867,  6.2116,  9.3439, 25.4461, 21.0718, 26.3146,  5.9456,\n",
       "         1.8418,  5.0188,  4.3654,  3.1265,  2.3131,  5.1201,  1.3296,  2.7410,\n",
       "         0.5140,  4.1803, -0.5827,  3.1584,  2.6378,  2.9510,  1.2583,  0.9779,\n",
       "         2.0186,  2.5489,  4.6111,  4.4948,  1.2250,  1.7019,  4.2661,  4.1044,\n",
       "         4.5725,  1.2283,  0.4050,  0.9675,  0.8370,  0.7172,  0.5478,  0.9367,\n",
       "         0.4517,  0.6215,  0.2865,  0.8487,  0.0627,  0.5888,  0.3372,  0.6263,\n",
       "         0.1008,  0.0971,  0.2511,  0.5187])"
      ]
     },
     "execution_count": 47,
     "metadata": {},
     "output_type": "execute_result"
    }
   ],
   "source": [
    "L,D = chol_LD_Crypten(((X_cand_crypten + X_host_crypten))/(len(X_host_crypten)))\n",
    "c = D.get_plain_text()\n",
    "c"
   ]
  },
  {
   "cell_type": "code",
   "execution_count": null,
   "metadata": {},
   "outputs": [],
   "source": [
    "XX_cand = X_cand.T @ X_cand\n",
    "X_host_plus_cov = X_host.T @ X_host + cov\n",
    "# X_host_plus_cov_inv = torch.linalg.inv(X_host_plus_cov)\n",
    "_,EIG_torch = torch.slogdet((XX_cand + X_host_plus_cov))\n",
    "\n",
    "X_host_crypten = crypten.mpc.MPCTensor(X_host_plus_cov)\n",
    "X_cand_crypten = crypten.mpc.MPCTensor(XX_cand)\n",
    "# EIG_crypten = logdet_Crypten(X_cand_crypten @ X_host_crypten + torch.eye(XX_cand.shape[0])).get_plain_text()"
   ]
  },
  {
   "cell_type": "code",
   "execution_count": null,
   "metadata": {},
   "outputs": [],
   "source": [
    "L,D = chol_LD_Crypten(((X_cand_crypten + X_host_crypten)/len(X_host_crypten)**(0.5)))\n",
    "c = D.get_plain_text()"
   ]
  },
  {
   "cell_type": "code",
   "execution_count": null,
   "metadata": {},
   "outputs": [
    {
     "data": {
      "text/plain": [
       "tensor(6.3718e-06, dtype=torch.float64)"
      ]
     },
     "execution_count": 24,
     "metadata": {},
     "output_type": "execute_result"
    }
   ],
   "source": [
    "((XX_cand @ X_host_plus_cov_inv - (X_cand_crypten @ X_host_crypten).get_plain_text())**2).mean()"
   ]
  },
  {
   "cell_type": "code",
   "execution_count": null,
   "metadata": {},
   "outputs": [],
   "source": []
  },
  {
   "cell_type": "code",
   "execution_count": null,
   "metadata": {},
   "outputs": [
    {
     "data": {
      "text/plain": [
       "tensor(-7.5649e+08)"
      ]
     },
     "execution_count": 43,
     "metadata": {},
     "output_type": "execute_result"
    }
   ],
   "source": [
    "D_log_enc = D.log()\n",
    "(D_log_enc.sum() + len(D_log_enc)*np.log(len(X_host_crypten))).get_plain_text()"
   ]
  },
  {
   "cell_type": "code",
   "execution_count": null,
   "metadata": {},
   "outputs": [
    {
     "data": {
      "text/plain": [
       "tensor(149.2690)"
      ]
     },
     "execution_count": 28,
     "metadata": {},
     "output_type": "execute_result"
    }
   ],
   "source": [
    "np.log(c).sum() + len(c)*np.log(len(X_host_crypten))"
   ]
  },
  {
   "cell_type": "code",
   "execution_count": null,
   "metadata": {},
   "outputs": [
    {
     "data": {
      "text/plain": [
       "torch.return_types.slogdet(\n",
       "sign=tensor(1., dtype=torch.float64),\n",
       "logabsdet=tensor(234.1446, dtype=torch.float64))"
      ]
     },
     "execution_count": 30,
     "metadata": {},
     "output_type": "execute_result"
    }
   ],
   "source": [
    "torch.slogdet((XX_cand + X_host_plus_cov)) "
   ]
  },
  {
   "cell_type": "code",
   "execution_count": null,
   "metadata": {},
   "outputs": [],
   "source": [
    "b = torch.linalg.ldl_factor((XX_cand + X_host_plus_cov_inv) /len(X_host_plus_cov_inv))[0].diag()"
   ]
  },
  {
   "cell_type": "code",
   "execution_count": null,
   "metadata": {},
   "outputs": [
    {
     "data": {
      "text/plain": [
       "tensor(183.1560, dtype=torch.float64)"
      ]
     },
     "execution_count": 31,
     "metadata": {},
     "output_type": "execute_result"
    }
   ],
   "source": [
    "np.log(b).sum()+len(b)*np.log(100)"
   ]
  },
  {
   "cell_type": "code",
   "execution_count": null,
   "metadata": {},
   "outputs": [],
   "source": []
  },
  {
   "cell_type": "code",
   "execution_count": null,
   "metadata": {},
   "outputs": [],
   "source": []
  },
  {
   "cell_type": "code",
   "execution_count": null,
   "metadata": {},
   "outputs": [],
   "source": [
    "torch.log(torch.abs(a)[0].diag())"
   ]
  },
  {
   "cell_type": "code",
   "execution_count": null,
   "metadata": {},
   "outputs": [
    {
     "data": {
      "text/plain": [
       "tensor([[14.7693,  0.0000,  0.0000,  ...,  0.0000,  0.0000,  0.0000],\n",
       "        [ 2.3290, 14.8053,  0.0000,  ...,  0.0000,  0.0000,  0.0000],\n",
       "        [ 1.6013, 12.2576,  7.8191,  ...,  0.0000,  0.0000,  0.0000],\n",
       "        ...,\n",
       "        [ 0.1361,  0.1618, -0.0268,  ...,  1.4702,  0.0000,  0.0000],\n",
       "        [ 0.2039,  0.0804, -0.0923,  ..., -0.0915,  1.6310,  0.0000],\n",
       "        [ 1.8290,  0.0403,  0.1559,  ..., -0.2588, -0.1564,  2.6115]],\n",
       "       dtype=torch.float64)"
      ]
     },
     "execution_count": 66,
     "metadata": {},
     "output_type": "execute_result"
    }
   ],
   "source": [
    "torch.linalg.cholesky(XX_cand + X_host_plus_cov_inv +torch.eye(XX_cand.shape[0]))"
   ]
  },
  {
   "cell_type": "code",
   "execution_count": null,
   "metadata": {},
   "outputs": [
    {
     "data": {
      "text/plain": [
       "tensor(-30831.2644, dtype=torch.float64)"
      ]
     },
     "execution_count": 67,
     "metadata": {},
     "output_type": "execute_result"
    }
   ],
   "source": [
    "torch.prod(a[0].diag())"
   ]
  },
  {
   "cell_type": "code",
   "execution_count": null,
   "metadata": {},
   "outputs": [],
   "source": [
    "def choleski(a):\n",
    "    n = len(a)\n",
    "    for k in range(n):\n",
    "        a[k,k] = (a[k,k] -  a[k,0:k] @ a[k,0:k]).sqrt()\n",
    "        for i in range(k+1,n):\n",
    "            a[i,k] = (a[i,k] - a[i,0:k] @ a[k,0:k])/a[k,k]\n",
    "    for k in range(1,n): a[0:k,k] = 0.0\n",
    "    return a"
   ]
  },
  {
   "cell_type": "code",
   "execution_count": null,
   "metadata": {},
   "outputs": [],
   "source": [
    "a = choleski(X_cand_crypten @ X_host_crypten + torch.eye(XX_cand.shape[0]))"
   ]
  },
  {
   "cell_type": "code",
   "execution_count": null,
   "metadata": {},
   "outputs": [],
   "source": [
    "a_correct = choleski(X_cand_crypten @ X_host_crypten + torch.eye(XX_cand.shape[0]))"
   ]
  },
  {
   "cell_type": "code",
   "execution_count": null,
   "metadata": {},
   "outputs": [],
   "source": [
    "plain_text = a.get_plain_text()"
   ]
  },
  {
   "cell_type": "code",
   "execution_count": null,
   "metadata": {},
   "outputs": [
    {
     "data": {
      "text/plain": [
       "tensor([ 1.3731e+00,  1.0809e+00,  1.1151e+00,  1.0815e+00,  1.0622e+00,\n",
       "         1.0787e+00,  8.6667e-01,  1.0089e+00,  1.0988e+00,  9.0668e-01,\n",
       "         1.0940e+00,  1.1447e+00,  1.1266e+00,  1.0273e+00, -2.0645e+09,\n",
       "         1.9799e+09, -2.3924e+08, -7.5471e+08, -1.2316e+09,  1.2787e+09,\n",
       "        -7.4276e+08, -1.7109e+09, -2.0575e+09, -1.2524e+09,  2.3476e+08,\n",
       "        -3.9914e+08, -2.7453e+08,  6.4315e+07, -2.7571e+08, -1.7941e+09,\n",
       "        -5.8454e+08, -1.8026e+09, -2.0025e+09,  2.7680e+08, -1.0890e+09,\n",
       "        -9.9119e+08,  1.2683e+09,  5.8616e+08, -1.1281e+09,  4.5381e+08,\n",
       "         1.2214e+09, -1.5685e+09,  2.1241e+09, -1.5466e+09, -1.7308e+09,\n",
       "        -4.6608e+08, -6.3313e+08, -5.2956e+08, -5.5944e+08, -5.4547e+08,\n",
       "         1.4762e+09,  1.7846e+09])"
      ]
     },
     "execution_count": 41,
     "metadata": {},
     "output_type": "execute_result"
    }
   ],
   "source": [
    "torch.diag(plain_text)"
   ]
  },
  {
   "cell_type": "code",
   "execution_count": null,
   "metadata": {},
   "outputs": [
    {
     "data": {
      "text/plain": [
       "tensor([ 1.8814,  1.1676,  1.2472,  1.1714,  1.1313,  1.1658,  0.7538,  1.0200,\n",
       "         1.2116,  0.8259,  1.2012,  1.3140,  1.2728,  1.0577, -2.5659,  1.4263,\n",
       "         1.3614,  1.7462,  1.2629,  1.2134,  1.1926,  1.2353,  1.0685,  1.2052,\n",
       "         1.0732,  1.2899,  0.8869,  1.2257,  1.2417,  1.2375,  1.3422,  1.2943,\n",
       "         1.2717,  1.2162,  1.2337,  1.1995,  1.2212,  1.2369,  1.2307,  1.1978,\n",
       "         1.1960,  1.2608,  1.1825,  1.1426,  1.1508,  1.1650,  1.2741,  1.2078,\n",
       "         1.1424,  1.2924,  1.1560,  1.1995])"
      ]
     },
     "execution_count": 34,
     "metadata": {},
     "output_type": "execute_result"
    }
   ],
   "source": [
    "X_cand_crypten.sq"
   ]
  },
  {
   "cell_type": "code",
   "execution_count": null,
   "metadata": {},
   "outputs": [
    {
     "data": {
      "text/plain": [
       "tensor(1.9748e-05)"
      ]
     },
     "execution_count": 33,
     "metadata": {},
     "output_type": "execute_result"
    }
   ],
   "source": [
    "((D.get_plain_text()-D_true)**2).mean()"
   ]
  },
  {
   "cell_type": "code",
   "execution_count": null,
   "metadata": {},
   "outputs": [],
   "source": [
    "L_true,D_true = chol_LD_torch(XX_cand @ X_host_plus_cov_inv +torch.eye(XX_cand.shape[0]))"
   ]
  },
  {
   "cell_type": "code",
   "execution_count": null,
   "metadata": {},
   "outputs": [],
   "source": [
    "L,D = chol_LD_Crypten((X_cand_crypten @ X_host_crypten + torch.eye(XX_cand.shape[0])))\n",
    "D.get_plain_text()"
   ]
  },
  {
   "cell_type": "code",
   "execution_count": null,
   "metadata": {},
   "outputs": [
    {
     "name": "stderr",
     "output_type": "stream",
     "text": [
      "100%|██████████| 51/51 [22:10<00:00, 26.08s/it]\n"
     ]
    },
    {
     "data": {
      "text/plain": [
       "MPCTensor(\n",
       "\t_tensor=73350087966301\n",
       "\tplain_text=HIDDEN\n",
       "\tptype=ptype.arithmetic\n",
       ")"
      ]
     },
     "execution_count": 32,
     "metadata": {},
     "output_type": "execute_result"
    }
   ],
   "source": [
    "a = bairess_alg(X_cand_crypten @ X_host_crypten + torch.eye(XX_cand.shape[0]),(XX_cand @ X_host_plus_cov_inv + torch.eye(XX_cand.shape[0])))\n",
    "a"
   ]
  },
  {
   "cell_type": "code",
   "execution_count": null,
   "metadata": {},
   "outputs": [
    {
     "data": {
      "text/plain": [
       "tensor(20.8359)"
      ]
     },
     "execution_count": 34,
     "metadata": {},
     "output_type": "execute_result"
    }
   ],
   "source": [
    "torch.log(a.get_plain_text())"
   ]
  },
  {
   "cell_type": "code",
   "execution_count": null,
   "metadata": {},
   "outputs": [
    {
     "data": {
      "text/plain": [
       "tensor(2.5102e+10)"
      ]
     },
     "execution_count": 36,
     "metadata": {},
     "output_type": "execute_result"
    }
   ],
   "source": [
    "(a.log()).get_plain_text()"
   ]
  },
  {
   "cell_type": "code",
   "execution_count": null,
   "metadata": {},
   "outputs": [],
   "source": [
    "def householder(a):\n",
    "    n = len(a)\n",
    "    for k in range(n-2):\n",
    "        u = a[k+1:n,k]\n",
    "        uMag = math.sqrt(np.dot(u,u))\n",
    "        if u[0] < 0.0: uMag = -uMag\n",
    "        u[0] = u[0] + uMag\n",
    "        h = np.dot(u,u)/2.0\n",
    "        v = np.dot(a[k+1:n,k+1:n],u)/h\n",
    "        g = np.dot(u,v)/(2.0*h)\n",
    "        v = v - g*u\n",
    "        a[k+1:n,k+1:n] = a[k+1:n,k+1:n] - np.outer(v,u)  \\\n",
    "                         -np.outer(u,v)\n",
    "    return np.diagonal(a),np.diagonal(a,1)"
   ]
  },
  {
   "cell_type": "code",
   "execution_count": null,
   "metadata": {},
   "outputs": [],
   "source": [
    "d_plain = D.get_plain_text()"
   ]
  },
  {
   "cell_type": "code",
   "execution_count": null,
   "metadata": {},
   "outputs": [
    {
     "data": {
      "text/plain": [
       "tensor([ 5.6834,  7.4158, -0.2931, 26.2756,  1.4323,  2.0508,  2.2263,  2.4757,\n",
       "         2.1785,  2.3619,  2.5277,  0.4344, -1.3256, 20.7987, 26.1783,  1.2382,\n",
       "         0.3080, -2.7296,  8.1274,  1.6298,  2.5500,  0.7549,  2.6070,  1.8040,\n",
       "         1.6967,  1.1568,  0.9444,  1.0805,  1.0641,  1.0747,  1.0839,  1.0892,\n",
       "         1.1012,  1.0755,  1.1101,  1.0678,  1.0797,  1.0913,  1.0876,  1.0640,\n",
       "         1.1266,  1.0649,  1.0638,  1.0567,  1.0213,  1.0413,  1.0454,  1.0862,\n",
       "         1.0321,  1.2468,  1.0170,  1.0797])"
      ]
     },
     "execution_count": 59,
     "metadata": {},
     "output_type": "execute_result"
    }
   ],
   "source": [
    "torch.abs(d_plain)"
   ]
  },
  {
   "cell_type": "code",
   "execution_count": null,
   "metadata": {},
   "outputs": [
    {
     "data": {
      "text/plain": [
       "tensor([[ 1.0000e+00,  0.0000e+00,  0.0000e+00,  ...,  0.0000e+00,\n",
       "          0.0000e+00,  0.0000e+00],\n",
       "        [ 4.3465e-01,  1.0000e+00,  0.0000e+00,  ...,  0.0000e+00,\n",
       "          0.0000e+00,  0.0000e+00],\n",
       "        [ 2.5124e-01,  5.5630e-01,  1.0000e+00,  ...,  0.0000e+00,\n",
       "          0.0000e+00,  0.0000e+00],\n",
       "        ...,\n",
       "        [-1.9073e-03,  6.5613e-04, -4.5166e-03,  ...,  1.0000e+00,\n",
       "          0.0000e+00,  0.0000e+00],\n",
       "        [ 1.8311e-04, -7.6294e-05,  7.7820e-04,  ..., -1.6479e-03,\n",
       "          1.0000e+00,  0.0000e+00],\n",
       "        [-5.2643e-03,  1.6479e-03, -4.6844e-03,  ..., -1.8845e-02,\n",
       "         -7.0801e-03,  1.0000e+00]])"
      ]
     },
     "execution_count": 60,
     "metadata": {},
     "output_type": "execute_result"
    }
   ],
   "source": [
    "L.get_plain_text()"
   ]
  },
  {
   "cell_type": "code",
   "execution_count": null,
   "metadata": {},
   "outputs": [
    {
     "data": {
      "text/plain": [
       "torch.return_types.linalg_lu_factor(\n",
       "LU=tensor([[ 5.6900e+00,  1.5797e+01,  7.4488e-01,  ..., -5.2595e-01,\n",
       "          2.4484e+00,  5.8242e-01],\n",
       "        [ 9.9708e-01, -5.0926e+00, -5.2313e-01,  ...,  2.6421e-01,\n",
       "         -7.7259e-01, -2.3422e-01],\n",
       "        [ 2.5166e-01, -1.5067e-01,  2.0935e+00,  ..., -4.6215e-01,\n",
       "         -3.4607e-01,  3.5035e-02],\n",
       "        ...,\n",
       "        [-1.8953e-03, -5.9370e-03, -1.9955e-04,  ...,  1.2441e+00,\n",
       "         -1.3452e-02, -8.8851e-03],\n",
       "        [ 1.9717e-04,  6.4983e-04, -3.1833e-05,  ..., -2.0259e-03,\n",
       "          1.0179e+00,  1.1374e-03],\n",
       "        [-5.2064e-03, -1.5931e-02, -1.9270e-03,  ..., -2.3199e-02,\n",
       "         -4.9377e-03,  1.0888e+00]], dtype=torch.float64),\n",
       "pivots=tensor([15, 15,  3,  4,  5,  6,  7,  8,  9, 10, 11, 12, 13, 14, 15, 16, 17, 18,\n",
       "        19, 20, 21, 22, 23, 24, 25, 26, 27, 28, 29, 30, 31, 32, 33, 34, 35, 36,\n",
       "        37, 38, 39, 40, 41, 42, 43, 44, 45, 46, 47, 48, 49, 50, 51, 52],\n",
       "       dtype=torch.int32))"
      ]
     },
     "execution_count": 61,
     "metadata": {},
     "output_type": "execute_result"
    }
   ],
   "source": [
    "torch.linalg.lu_factor(XX_cand @ X_host_plus_cov_inv + torch.eye(XX_cand.shape[0]))"
   ]
  },
  {
   "cell_type": "code",
   "execution_count": null,
   "metadata": {},
   "outputs": [],
   "source": []
  },
  {
   "cell_type": "code",
   "execution_count": null,
   "metadata": {},
   "outputs": [],
   "source": [
    "with crypten.mpc.ConfigManager(\"reciprocal_nr_iters\", 100):\n",
    "    XX_cand_caus = X_cand.T @ X_cand\n",
    "    X_host_plus_cov = X_host.T @ X_host + cov\n",
    "    XX_cand_causal,X_host_plus_cov = XX_cand_caus[causal_param_first_index:,causal_param_first_index:],X_host_plus_cov[causal_param_first_index:,causal_param_first_index:]\n",
    "    X_host_plus_cov_inv_caus = torch.linalg.inv(X_host_plus_cov)\n",
    "    _,EIG_torch_caus = torch.slogdet(XX_cand_causal @ X_host_plus_cov_inv_caus + torch.eye(X_host_plus_cov_inv_caus.shape[0]))\n",
    "\n",
    "    X_host_crypten = crypten.mpc.MPCTensor(X_host_plus_cov_inv)\n",
    "    XX_cand_crypten = crypten.mpc.MPCTensor(XX_cand_causal)\n",
    "    EIG_crypten_caus = logdet_Crypten(XX_cand_crypten @ X_host_crypten + torch.eye(X_host_plus_cov_inv_caus.shape[0])).get_plain_text()"
   ]
  },
  {
   "cell_type": "code",
   "execution_count": null,
   "metadata": {},
   "outputs": [
    {
     "name": "stdout",
     "output_type": "stream",
     "text": [
      "tensor(12.4140, dtype=torch.float64) tensor(11.0452)\n"
     ]
    }
   ],
   "source": [
    "print(EIG_torch_caus,EIG_crypten_caus)"
   ]
  },
  {
   "cell_type": "code",
   "execution_count": null,
   "metadata": {},
   "outputs": [],
   "source": [
    "D_plain = D.get_plain_text()"
   ]
  },
  {
   "cell_type": "code",
   "execution_count": null,
   "metadata": {},
   "outputs": [
    {
     "data": {
      "text/plain": [
       "tensor(20.7083)"
      ]
     },
     "execution_count": 118,
     "metadata": {},
     "output_type": "execute_result"
    }
   ],
   "source": [
    "torch.log(torch.abs(D_plain)).sum()"
   ]
  },
  {
   "cell_type": "code",
   "execution_count": null,
   "metadata": {},
   "outputs": [
    {
     "data": {
      "text/plain": [
       "tensor(nan)"
      ]
     },
     "execution_count": 113,
     "metadata": {},
     "output_type": "execute_result"
    }
   ],
   "source": [
    "torch.log(D_plain).sum()"
   ]
  },
  {
   "cell_type": "markdown",
   "metadata": {},
   "source": [
    "## Misc"
   ]
  },
  {
   "cell_type": "code",
   "execution_count": null,
   "metadata": {},
   "outputs": [],
   "source": [
    "# if type(X_host) is torch.Tensor:\n",
    "# \n",
    "cov = np.eye(X_host.shape[1])\n",
    "y = np.zeros(len(X_host))\n",
    "\n",
    "Z = get_diff_private_version(X_host,y)\n",
    "\n",
    "XX_host = Z[\"XX\"]\n",
    "\n",
    "_,logdet_1 = np.linalg.slogdet(X_cand.T @ X_cand + XX_host + cov)\n",
    "_,logdet_2 = np.linalg.slogdet(XX_host + cov)"
   ]
  },
  {
   "cell_type": "code",
   "execution_count": null,
   "metadata": {},
   "outputs": [],
   "source": [
    "X = np.array(X_host)\n",
    "y = np.array(Y_host)"
   ]
  },
  {
   "cell_type": "code",
   "execution_count": null,
   "metadata": {},
   "outputs": [
    {
     "data": {
      "text/plain": [
       "4069.0527"
      ]
     },
     "execution_count": 12,
     "metadata": {},
     "output_type": "execute_result"
    }
   ],
   "source": [
    "y .dot(y)"
   ]
  },
  {
   "cell_type": "code",
   "execution_count": null,
   "metadata": {},
   "outputs": [],
   "source": [
    "# sufficient statistics\n",
    "S = {'XX': X.T.dot(X),\n",
    "        'Xy': X.T.dot(y),\n",
    "        'yy': y .dot(y)\n",
    "        }\n",
    "\n",
    "posteriors = {}\n",
    "\n",
    "# if 'non-private' in methods:\n",
    "#     posteriors['non-private'] = run_non_private(model_prior_params, S, N)\n",
    "\n",
    "\n",
    "#posteriors['naive'] = run_naive(model_prior_params, S, N, sensitivity_x, sensitivity_y, epsilon)"
   ]
  },
  {
   "cell_type": "code",
   "execution_count": null,
   "metadata": {},
   "outputs": [],
   "source": [
    "X = np.array(X_host)\n",
    "y = np.array(Y_host)\n",
    "\n",
    "sensitivity_x, sensitivity_y = get_sensativitiy(X,y)\n",
    "\n",
    "epsilon = 1"
   ]
  },
  {
   "cell_type": "code",
   "execution_count": null,
   "metadata": {},
   "outputs": [],
   "source": [
    "data_dim = S['XX'].shape[0]\n",
    "\n",
    "XX_comps = data_dim * (data_dim + 1) / 2  # upper triangular, not counting last column which is X\n",
    "X_comps = data_dim  # last column\n",
    "Xy_comps = data_dim\n",
    "yy_comps = 1\n",
    "sensitivity = XX_comps * sum(sensitivity_x[:-1]) ** 2 \\\n",
    "                + X_comps * sum(sensitivity_x[:-1]) \\\n",
    "                + Xy_comps * sum(sensitivity_x[:-1]) * sensitivity_y \\\n",
    "                + yy_comps * sensitivity_y ** 2\n",
    "\n",
    "Z = {key: np.random.laplace(loc=val, scale=sensitivity / epsilon) for key, val in S.items()}\n",
    "\n",
    "# symmetrize Z_XX since we only want to add noise to upper triangle\n",
    "Z['XX'] = symmetrize(Z['XX'])\n",
    "\n",
    "Z['X'] = Z['XX'][:, 0][:, None]"
   ]
  },
  {
   "cell_type": "code",
   "execution_count": null,
   "metadata": {},
   "outputs": [
    {
     "data": {
      "text/plain": [
       "2205.008211286303"
      ]
     },
     "execution_count": 16,
     "metadata": {},
     "output_type": "execute_result"
    }
   ],
   "source": [
    "Z[\"X\"].mean()"
   ]
  },
  {
   "cell_type": "code",
   "execution_count": null,
   "metadata": {},
   "outputs": [
    {
     "data": {
      "text/plain": [
       "-8.1423976e-05"
      ]
     },
     "execution_count": 17,
     "metadata": {},
     "output_type": "execute_result"
    }
   ],
   "source": [
    "X_host.mean()"
   ]
  },
  {
   "cell_type": "code",
   "execution_count": null,
   "metadata": {},
   "outputs": [
    {
     "data": {
      "text/plain": [
       "dict_keys(['XX', 'Xy', 'yy', 'X'])"
      ]
     },
     "execution_count": 18,
     "metadata": {},
     "output_type": "execute_result"
    }
   ],
   "source": [
    "Z.keys()"
   ]
  },
  {
   "cell_type": "code",
   "execution_count": null,
   "metadata": {},
   "outputs": [],
   "source": [
    "priv_XX = torch.tensor(Z[\"XX\"])"
   ]
  },
  {
   "cell_type": "code",
   "execution_count": null,
   "metadata": {},
   "outputs": [
    {
     "data": {
      "text/plain": [
       "0.018392561"
      ]
     },
     "execution_count": 20,
     "metadata": {},
     "output_type": "execute_result"
    }
   ],
   "source": [
    "(X_host.T @ X_host).mean()"
   ]
  },
  {
   "cell_type": "code",
   "execution_count": null,
   "metadata": {},
   "outputs": [
    {
     "data": {
      "text/plain": [
       "numpy.ndarray"
      ]
     },
     "execution_count": 21,
     "metadata": {},
     "output_type": "execute_result"
    }
   ],
   "source": [
    "type(X_host)"
   ]
  },
  {
   "cell_type": "code",
   "execution_count": null,
   "metadata": {},
   "outputs": [
    {
     "data": {
      "text/plain": [
       "tensor(455.8781, dtype=torch.float64)"
      ]
     },
     "execution_count": 22,
     "metadata": {},
     "output_type": "execute_result"
    }
   ],
   "source": [
    "priv_XX.mean()"
   ]
  },
  {
   "cell_type": "code",
   "execution_count": null,
   "metadata": {},
   "outputs": [
    {
     "data": {
      "text/plain": [
       "(-1.0, 186.1891397270062)"
      ]
     },
     "execution_count": 23,
     "metadata": {},
     "output_type": "execute_result"
    }
   ],
   "source": [
    "np.linalg.slogdet(priv_XX +np.eye(X_host.shape[1]) )"
   ]
  },
  {
   "cell_type": "code",
   "execution_count": null,
   "metadata": {},
   "outputs": [],
   "source": [
    "torch.linalg.slogdet(X_host.T @ X_host +np.eye(X_host.shape[1]))"
   ]
  },
  {
   "cell_type": "code",
   "execution_count": null,
   "metadata": {},
   "outputs": [
    {
     "data": {
      "text/plain": [
       "tensor([[ 4.1798, -0.1939,  2.3292,  5.1394, -4.4555,  1.1445,  1.1193, -4.0168,\n",
       "          1.9040,  2.1432,  2.0106, -0.1350,  1.0632,  2.4952, -2.1895,  0.5696,\n",
       "          0.4913, -1.8778,  0.8573,  0.9238],\n",
       "        [-0.1939,  7.7291, -3.9290, -1.8749,  2.1200, -0.8760,  2.3354, -1.7791,\n",
       "         -4.5772, -2.4300, -0.1276,  3.8359, -1.8889, -0.8781,  1.1507, -0.5232,\n",
       "          1.0409, -0.9258, -2.3725, -1.2714],\n",
       "        [ 2.3292, -3.9290,  6.9166,  4.7498,  0.2810,  1.2035, -3.9490,  0.9760,\n",
       "          2.9695,  2.4714,  1.0389, -1.9428,  3.3068,  2.2264,  0.1712,  0.6588,\n",
       "         -2.0021,  0.6660,  1.3276,  1.1224],\n",
       "        [ 5.1394, -1.8749,  4.7498,  8.8634, -5.6383,  1.4736,  0.3408, -4.7306,\n",
       "          4.0217,  3.2184,  2.4766, -0.9318,  2.1888,  4.2901, -2.7647,  0.7033,\n",
       "          0.1061, -2.2913,  1.8564,  1.4242],\n",
       "        [-4.4555,  2.1200,  0.2810, -5.6383,  7.8555, -3.6295, -2.4313,  2.7517,\n",
       "         -3.7156, -4.4249, -2.1930,  1.1223,  0.1595, -2.7562,  3.9227, -1.7315,\n",
       "         -1.2646,  1.3895, -1.9021, -2.2339],\n",
       "        [ 1.1445, -0.8760,  1.2035,  1.4736, -3.6295,  3.7191, -1.7640,  1.9995,\n",
       "         -0.2303,  2.9022,  0.5573, -0.4787,  0.6681,  0.7215, -1.7306,  1.7948,\n",
       "         -0.9322,  1.0175, -0.1101,  1.4842],\n",
       "        [ 1.1193,  2.3354, -3.9490,  0.3408, -2.4313, -1.7640,  6.5227, -5.6990,\n",
       "          2.9905,  2.3930,  0.5080,  1.0620, -2.0391,  0.1502, -1.2957, -0.9410,\n",
       "          3.3711, -2.8296,  1.5891,  1.2518],\n",
       "        [-4.0168, -1.7791,  0.9760, -4.7306,  2.7517,  1.9995, -5.6990, 13.9231,\n",
       "         -6.0072, -5.0839, -1.8946, -0.8911,  0.6199, -2.2757,  1.3766,  1.0046,\n",
       "         -2.8275,  6.7955, -2.8448, -2.3381],\n",
       "        [ 1.9040, -4.5772,  2.9695,  4.0217, -3.7156, -0.2303,  2.9905, -6.0072,\n",
       "          8.5949,  5.2201,  0.8347, -2.3706,  1.3655,  1.8319, -1.9175, -0.1143,\n",
       "          1.5652, -2.8276,  4.3747,  2.5348],\n",
       "        [ 2.1432, -2.4300,  2.4714,  3.2184, -4.4249,  2.9022,  2.3930, -5.0839,\n",
       "          5.2201, 15.1777,  0.9417, -1.2354,  1.0828,  1.3990, -2.2090,  1.4562,\n",
       "          1.2285, -2.3253,  2.5364,  7.5490],\n",
       "        [ 2.0106, -0.1276,  1.0389,  2.4766, -2.1930,  0.5573,  0.5080, -1.8946,\n",
       "          0.8347,  0.9417,  2.0308, -0.1420,  1.0559,  2.5022, -2.1676,  0.5354,\n",
       "          0.5140, -1.8840,  0.8077,  0.9061],\n",
       "        [-0.1350,  3.8359, -1.9428, -0.9318,  1.1223, -0.4787,  1.0620, -0.8911,\n",
       "         -2.3706, -1.2354, -0.1420,  3.7978, -1.8980, -0.8963,  1.1442, -0.5012,\n",
       "          1.0635, -0.8960, -2.3778, -1.2521],\n",
       "        [ 1.0632, -1.8889,  3.3068,  2.1888,  0.1595,  0.6681, -2.0391,  0.6199,\n",
       "          1.3655,  1.0828,  1.0559, -1.8980,  3.3160,  2.2124,  0.1622,  0.6595,\n",
       "         -2.0230,  0.6453,  1.3231,  1.1085],\n",
       "        [ 2.4952, -0.8781,  2.2264,  4.2901, -2.7562,  0.7215,  0.1502, -2.2757,\n",
       "          1.8319,  1.3990,  2.5022, -0.8963,  2.2124,  4.2691, -2.7244,  0.7049,\n",
       "          0.1215, -2.3071,  1.8473,  1.3898],\n",
       "        [-2.1895,  1.1507,  0.1712, -2.7647,  3.9227, -1.7306, -1.2957,  1.3766,\n",
       "         -1.9175, -2.2090, -2.1676,  1.1442,  0.1622, -2.7244,  3.9098, -1.7249,\n",
       "         -1.2474,  1.3324, -1.8961, -2.2116],\n",
       "        [ 0.5696, -0.5232,  0.6588,  0.7033, -1.7315,  1.7948, -0.9410,  1.0046,\n",
       "         -0.1143,  1.4562,  0.5354, -0.5012,  0.6595,  0.7049, -1.7249,  1.8441,\n",
       "         -0.9313,  1.0366, -0.1422,  1.4570],\n",
       "        [ 0.4913,  1.0409, -2.0021,  0.1061, -1.2646, -0.9322,  3.3711, -2.8275,\n",
       "          1.5652,  1.2285,  0.5140,  1.0635, -2.0230,  0.1215, -1.2474, -0.9313,\n",
       "          3.3437, -2.8433,  1.5669,  1.2691],\n",
       "        [-1.8778, -0.9258,  0.6660, -2.2913,  1.3895,  1.0175, -2.8296,  6.7955,\n",
       "         -2.8276, -2.3253, -1.8840, -0.8960,  0.6453, -2.3071,  1.3324,  1.0366,\n",
       "         -2.8433,  6.7493, -2.8291, -2.3440],\n",
       "        [ 0.8573, -2.3725,  1.3276,  1.8564, -1.9021, -0.1101,  1.5891, -2.8448,\n",
       "          4.3747,  2.5364,  0.8077, -2.3778,  1.3231,  1.8473, -1.8961, -0.1422,\n",
       "          1.5669, -2.8291,  4.3340,  2.5845],\n",
       "        [ 0.9238, -1.2714,  1.1224,  1.4242, -2.2339,  1.4842,  1.2518, -2.3381,\n",
       "          2.5348,  7.5490,  0.9061, -1.2521,  1.1085,  1.3898, -2.2116,  1.4570,\n",
       "          1.2691, -2.3440,  2.5845,  7.5815]], dtype=torch.float64)"
      ]
     },
     "execution_count": 139,
     "metadata": {},
     "output_type": "execute_result"
    }
   ],
   "source": [
    "priv_X - X_host.T @ X_host"
   ]
  },
  {
   "cell_type": "code",
   "execution_count": null,
   "metadata": {},
   "outputs": [
    {
     "data": {
      "text/plain": [
       "0.061485384"
      ]
     },
     "execution_count": 140,
     "metadata": {},
     "output_type": "execute_result"
    }
   ],
   "source": [
    "X[:,0].max()"
   ]
  },
  {
   "cell_type": "code",
   "execution_count": null,
   "metadata": {},
   "outputs": [
    {
     "data": {
      "text/plain": [
       "-0.059155844"
      ]
     },
     "execution_count": 141,
     "metadata": {},
     "output_type": "execute_result"
    }
   ],
   "source": [
    "X[:,0].min()"
   ]
  },
  {
   "cell_type": "code",
   "execution_count": null,
   "metadata": {},
   "outputs": [],
   "source": [
    "def get_sensativitiy(X,y):\n",
    "\n",
    "    sens_x = np.zeros(X.shape[1])\n",
    "\n",
    "    for i in range((X.shape[1])):\n",
    "        sens_x[i] = X[:,i].max() - X[:,i].min()\n",
    "    \n",
    "    sens_y = y.max() - y.min()\n",
    "\n",
    "    return sens_x,sens_y"
   ]
  }
 ],
 "metadata": {
  "kernelspec": {
   "display_name": "Crypten",
   "language": "python",
   "name": "python3"
  },
  "language_info": {
   "codemirror_mode": {
    "name": "ipython",
    "version": 3
   },
   "file_extension": ".py",
   "mimetype": "text/x-python",
   "name": "python",
   "nbconvert_exporter": "python",
   "pygments_lexer": "ipython3",
   "version": "3.7.12"
  }
 },
 "nbformat": 4,
 "nbformat_minor": 2
}
