{
 "cells": [
  {
   "cell_type": "code",
   "execution_count": 1,
   "metadata": {},
   "outputs": [
    {
     "name": "stderr",
     "output_type": "stream",
     "text": [
      "/Users/jake/Python/causal_prospective_merge/.conda/lib/python3.11/site-packages/torch/__init__.py:696: UserWarning: torch.set_default_tensor_type() is deprecated as of PyTorch 2.1, please use torch.set_default_dtype() and torch.set_default_device() as alternatives. (Triggered internally at /Users/runner/work/_temp/anaconda/conda-bld/pytorch_1708025536958/work/torch/csrc/tensor/python_tensor.cpp:453.)\n",
      "  _C._set_default_tensor_type(t)\n",
      "/Users/jake/Python/causal_prospective_merge/.conda/lib/python3.11/site-packages/tqdm/auto.py:21: TqdmWarning: IProgress not found. Please update jupyter and ipywidgets. See https://ipywidgets.readthedocs.io/en/stable/user_install.html\n",
      "  from .autonotebook import tqdm as notebook_tqdm\n"
     ]
    }
   ],
   "source": [
    "import torch\n",
    "torch.set_default_tensor_type(torch.FloatTensor) \n",
    "import copy\n",
    "\n",
    "from rct_data_generator import *\n",
    "from outcome_models import *\n",
    "from plotting_functions import *\n",
    "from mcmc_bayes_update import *\n",
    "from eig_comp_utils import *\n",
    "from research_exp_utils import *\n",
    "from rct_data_generator import generate_host_and_mirror\n"
   ]
  },
  {
   "cell_type": "markdown",
   "metadata": {},
   "source": [
    "## Set-up"
   ]
  },
  {
   "cell_type": "code",
   "execution_count": 2,
   "metadata": {},
   "outputs": [],
   "source": [
    "n_host_sample = 100 \n",
    "sigma_error = 1 \n",
    "d = 10 \n",
    "A = torch.randn((d,d))\n",
    "A = 1/(torch.det(A)) * A\n",
    "\n",
    "T_allocation_host = torch.randn(d)\n",
    "T_allocation_host = 100/torch.norm(T_allocation_host)*T_allocation_host\n",
    "\n",
    "mu_nc = torch.randn(d)\n",
    "mu_nc = 1/torch.norm(mu_nc)*mu_nc\n",
    "\n",
    "mu_c = torch.randn(d)\n",
    "mu_c = 1/torch.norm(mu_c)*mu_c\n",
    "\n",
    "mu = torch.concat([mu_nc,mu_c])"
   ]
  },
  {
   "cell_type": "code",
   "execution_count": 3,
   "metadata": {},
   "outputs": [],
   "source": [
    "\n",
    "X_host_no_T = (torch.randn((n_host_sample,d)) @ A ) \n",
    "T_host = torch.bernoulli(torch.sigmoid(X_host_no_T@ T_allocation_host))\n",
    "X_host_times_T = (T_host.unsqueeze(dim=0).T * X_host_no_T)\n",
    "X_host = torch.concat([X_host_no_T,X_host_times_T],dim=1)\n",
    "\n",
    "Y_host = X_host @ mu\n",
    "Y_host = (1/Y_host.norm()) * Y_host + sigma_error * torch.randn_like(Y_host)\n"
   ]
  },
  {
   "cell_type": "code",
   "execution_count": 4,
   "metadata": {},
   "outputs": [],
   "source": [
    "prior_mean = torch.zeros(2 * d)\n",
    "beta_0, sigma_0_sq,inv_cov_0 = prior_mean, sigma_error,torch.eye(2*d)\n",
    "prior_hyperparameters = {'beta_0': beta_0, 'sigma_0_sq': sigma_0_sq,\"inv_cov_0\":inv_cov_0}\n",
    "bayesian_regression = BayesianLinearRegression(prior_hyperparameters)\n",
    "bayesian_regression.set_causal_index(10)"
   ]
  },
  {
   "cell_type": "code",
   "execution_count": 5,
   "metadata": {},
   "outputs": [
    {
     "data": {
      "text/plain": [
       "{'posterior_mean': tensor([-0.0993, -0.4288,  0.1954,  0.1010,  0.1545, -0.2526,  0.0726,  0.3289,\n",
       "          0.0246,  0.1450,  0.4419,  0.3629,  0.3544, -0.3680, -0.3977, -0.5572,\n",
       "         -0.2526, -0.1299, -0.0577, -0.2675]),\n",
       " 'posterior_cov_matrix': tensor([[ 3.5682e-01,  1.2320e-01, -9.3331e-02, -1.2754e-01,  7.8837e-02,\n",
       "           1.4067e-01, -7.6041e-02,  2.5061e-02, -1.4616e-03, -1.8630e-01,\n",
       "          -1.0920e-01,  1.4244e-02, -2.2028e-02, -1.2258e-02,  1.5998e-02,\n",
       "           1.0973e-02,  2.2834e-02,  3.4346e-02, -2.5485e-02,  4.6799e-02],\n",
       "         [ 1.2320e-01,  2.1868e-01, -1.3813e-02, -5.9499e-02,  2.1279e-01,\n",
       "           7.9516e-02, -1.6701e-02,  1.3430e-01, -5.6237e-02, -4.9815e-02,\n",
       "           6.6499e-03, -7.2574e-02, -1.3676e-03, -1.2394e-02,  2.3465e-02,\n",
       "          -1.1726e-02, -2.0050e-02, -2.5891e-02, -2.2355e-02, -1.1038e-02],\n",
       "         [-9.3331e-02, -1.3813e-02,  2.4772e-01,  6.0934e-02,  1.2825e-01,\n",
       "          -1.0334e-01, -1.8265e-02,  5.1199e-04,  3.3621e-02,  9.8286e-02,\n",
       "          -1.2534e-02, -1.6726e-03, -1.1233e-01, -4.8385e-03, -8.2580e-03,\n",
       "          -1.0900e-02,  3.5953e-03,  4.5525e-03, -5.5619e-02, -2.0894e-02],\n",
       "         [-1.2754e-01, -5.9499e-02,  6.0934e-02,  3.4760e-01, -7.6012e-03,\n",
       "          -7.4479e-02,  3.4675e-02, -4.8606e-02, -7.5210e-03,  4.0911e-02,\n",
       "          -1.3004e-02, -1.5845e-02,  5.1672e-03, -1.6014e-01, -1.5277e-02,\n",
       "          -6.1881e-03, -8.4021e-03, -2.7312e-03, -1.2957e-02,  2.1999e-02],\n",
       "         [ 7.8837e-02,  2.1279e-01,  1.2825e-01, -7.6013e-03,  7.5132e-01,\n",
       "          -3.6699e-02, -1.0189e-01,  1.2221e-01, -1.9969e-01,  1.8340e-02,\n",
       "           1.4037e-02,  2.0771e-02, -8.2537e-04, -1.2119e-02, -4.9541e-02,\n",
       "          -1.0121e-02, -2.3940e-02,  5.3926e-02, -3.2356e-02, -2.1714e-02],\n",
       "         [ 1.4067e-01,  7.9516e-02, -1.0334e-01, -7.4479e-02, -3.6699e-02,\n",
       "           2.7627e-01,  4.4598e-02,  2.8610e-02,  4.3162e-02, -8.4122e-02,\n",
       "           4.5176e-03, -1.3430e-02, -8.1431e-03, -8.4779e-03, -5.9385e-03,\n",
       "          -1.1114e-01, -2.4660e-02,  2.9316e-04, -2.9701e-02, -4.0116e-03],\n",
       "         [-7.6041e-02, -1.6701e-02, -1.8265e-02,  3.4675e-02, -1.0189e-01,\n",
       "           4.4598e-02,  1.8653e-01, -4.3500e-03,  5.1888e-02,  3.4183e-02,\n",
       "           2.3745e-02, -2.6380e-02,  8.7493e-03, -5.4038e-03, -2.0833e-02,\n",
       "          -2.5822e-02, -1.2064e-01, -1.6390e-02, -1.4593e-02, -1.4411e-02],\n",
       "         [ 2.5061e-02,  1.3430e-01,  5.1199e-04, -4.8606e-02,  1.2221e-01,\n",
       "           2.8610e-02, -4.3500e-03,  2.7695e-01, -1.0189e-01, -2.3228e-02,\n",
       "           3.9535e-02, -2.9414e-02,  6.2957e-03,  1.2234e-03,  5.6401e-02,\n",
       "           1.4160e-03, -9.8917e-03, -1.5082e-01,  3.0892e-02, -8.8009e-03],\n",
       "         [-1.4616e-03, -5.6237e-02,  3.3621e-02, -7.5210e-03, -1.9969e-01,\n",
       "           4.3162e-02,  5.1888e-02, -1.0189e-01,  2.1621e-01,  3.5840e-02,\n",
       "          -3.2513e-02, -2.0615e-02, -5.1537e-02, -2.8573e-04, -2.7067e-02,\n",
       "          -2.9800e-02, -1.0179e-02,  2.7030e-02, -1.1347e-01, -2.0640e-02],\n",
       "         [-1.8630e-01, -4.9815e-02,  9.8286e-02,  4.0911e-02,  1.8340e-02,\n",
       "          -8.4122e-02,  3.4183e-02, -2.3228e-02,  3.5840e-02,  1.9976e-01,\n",
       "           3.9405e-02, -1.6816e-02, -5.2514e-03,  2.3285e-02, -1.9925e-02,\n",
       "          -1.8425e-02, -1.4270e-02, -4.1585e-03, -2.3182e-02, -9.8734e-02],\n",
       "         [-1.0920e-01,  6.6499e-03, -1.2534e-02, -1.3004e-02,  1.4037e-02,\n",
       "           4.5176e-03,  2.3745e-02,  3.9535e-02, -3.2513e-02,  3.9405e-02,\n",
       "           4.3108e-01,  1.3554e-01, -1.0959e-01, -1.2560e-01,  5.7587e-02,\n",
       "           1.5143e-01, -8.8296e-02,  1.0088e-02,  7.6062e-03, -1.8982e-01],\n",
       "         [ 1.4244e-02, -7.2574e-02, -1.6726e-03, -1.5845e-02,  2.0771e-02,\n",
       "          -1.3430e-02, -2.6380e-02, -2.9414e-02, -2.0615e-02, -1.6816e-02,\n",
       "           1.3554e-01,  3.0279e-01, -9.5341e-03, -5.9055e-02,  1.8385e-01,\n",
       "           7.5780e-02,  2.2592e-03,  1.3107e-01, -3.6248e-02, -5.8979e-02],\n",
       "         [-2.2028e-02, -1.3677e-03, -1.1233e-01,  5.1672e-03, -8.2545e-04,\n",
       "          -8.1431e-03,  8.7493e-03,  6.2957e-03, -5.1537e-02, -5.2514e-03,\n",
       "          -1.0959e-01, -9.5341e-03,  3.9808e-01,  4.3004e-02,  1.1771e-01,\n",
       "          -1.3786e-01, -5.0980e-03,  1.6549e-02,  4.3097e-02,  9.0658e-02],\n",
       "         [-1.2258e-02, -1.2394e-02, -4.8385e-03, -1.6014e-01, -1.2119e-02,\n",
       "          -8.4779e-03, -5.4038e-03,  1.2234e-03, -2.8575e-04,  2.3285e-02,\n",
       "          -1.2560e-01, -5.9055e-02,  4.3004e-02,  5.2898e-01, -1.1904e-03,\n",
       "          -3.5554e-02,  3.8369e-02, -6.3293e-02, -7.0691e-02,  1.4860e-02],\n",
       "         [ 1.5998e-02,  2.3465e-02, -8.2580e-03, -1.5277e-02, -4.9541e-02,\n",
       "          -5.9385e-03, -2.0833e-02,  5.6401e-02, -2.7067e-02, -1.9925e-02,\n",
       "           5.7587e-02,  1.8385e-01,  1.1771e-01, -1.1904e-03,  7.8317e-01,\n",
       "          -3.3936e-02, -1.0157e-01,  9.3635e-02, -1.9673e-01,  2.9729e-02],\n",
       "         [ 1.0973e-02, -1.1726e-02, -1.0900e-02, -6.1881e-03, -1.0121e-02,\n",
       "          -1.1114e-01, -2.5822e-02,  1.4160e-03, -2.9800e-02, -1.8425e-02,\n",
       "           1.5143e-01,  7.5780e-02, -1.3786e-01, -3.5554e-02, -3.3936e-02,\n",
       "           4.4200e-01,  8.5791e-02,  2.2035e-02,  2.3131e-02, -7.6782e-02],\n",
       "         [ 2.2834e-02, -2.0050e-02,  3.5953e-03, -8.4021e-03, -2.3940e-02,\n",
       "          -2.4660e-02, -1.2064e-01, -9.8917e-03, -1.0179e-02, -1.4270e-02,\n",
       "          -8.8296e-02,  2.2592e-03, -5.0980e-03,  3.8369e-02, -1.0157e-01,\n",
       "           8.5791e-02,  3.1335e-01,  2.6673e-02,  3.1900e-02,  2.8599e-02],\n",
       "         [ 3.4346e-02, -2.5891e-02,  4.5525e-03, -2.7312e-03,  5.3926e-02,\n",
       "           2.9318e-04, -1.6390e-02, -1.5082e-01,  2.7030e-02, -4.1585e-03,\n",
       "           1.0088e-02,  1.3107e-01,  1.6549e-02, -6.3293e-02,  9.3635e-02,\n",
       "           2.2035e-02,  2.6673e-02,  4.0687e-01, -8.7769e-02, -2.4670e-02],\n",
       "         [-2.5485e-02, -2.2355e-02, -5.5619e-02, -1.2957e-02, -3.2356e-02,\n",
       "          -2.9701e-02, -1.4593e-02,  3.0892e-02, -1.1347e-01, -2.3182e-02,\n",
       "           7.6062e-03, -3.6248e-02,  4.3097e-02, -7.0691e-02, -1.9673e-01,\n",
       "           2.3131e-02,  3.1900e-02, -8.7769e-02,  3.0852e-01,  3.9275e-02],\n",
       "         [ 4.6799e-02, -1.1038e-02, -2.0894e-02,  2.1999e-02, -2.1714e-02,\n",
       "          -4.0116e-03, -1.4411e-02, -8.8009e-03, -2.0640e-02, -9.8734e-02,\n",
       "          -1.8982e-01, -5.8979e-02,  9.0658e-02,  1.4860e-02,  2.9729e-02,\n",
       "          -7.6782e-02,  2.8599e-02, -2.4670e-02,  3.9275e-02,  2.8468e-01]])}"
      ]
     },
     "execution_count": 5,
     "metadata": {},
     "output_type": "execute_result"
    }
   ],
   "source": [
    "bayesian_regression.fit(X_host,Y_host)"
   ]
  },
  {
   "cell_type": "code",
   "execution_count": 6,
   "metadata": {},
   "outputs": [
    {
     "data": {
      "text/plain": [
       "(4.686799916529671, 0.5021537110448984)"
      ]
     },
     "execution_count": 6,
     "metadata": {},
     "output_type": "execute_result"
    }
   ],
   "source": [
    "bayesian_regression.closed_form_obs_EIG(X_host),bayesian_regression.closed_form_causal_EIG(X_host)"
   ]
  },
  {
   "cell_type": "code",
   "execution_count": 7,
   "metadata": {},
   "outputs": [
    {
     "name": "stderr",
     "output_type": "stream",
     "text": [
      "/Users/jake/Python/causal_prospective_merge/.conda/lib/python3.11/site-packages/scipy/stats/_multivariate.py:758: RuntimeWarning: covariance is not symmetric positive-semidefinite.\n",
      "  out = random_state.multivariate_normal(mean, cov, size)\n"
     ]
    },
    {
     "data": {
      "text/plain": [
       "(7.164575598259461, 4.122947296239175)"
      ]
     },
     "execution_count": 7,
     "metadata": {},
     "output_type": "execute_result"
    }
   ],
   "source": [
    "bayesian_regression.samples_obs_EIG(X_host,100,10),bayesian_regression.samples_causal_EIG(X_host,100,10)"
   ]
  },
  {
   "cell_type": "code",
   "execution_count": 8,
   "metadata": {},
   "outputs": [],
   "source": [
    "T_zero = torch.zeros_like(T_host)\n",
    "T_one = 1 - T_zero\n",
    "\n",
    "X_host_times_T_zero = (T_zero.unsqueeze(dim=0).T * X_host_no_T)\n",
    "X_host_times_T_one = (T_one.unsqueeze(dim=0).T * X_host_no_T)\n",
    "\n",
    "X_host_T_zero = torch.concat([X_host_no_T,X_host_times_T_zero],dim=1)\n",
    "X_host_T_one = torch.concat([X_host_no_T,X_host_times_T_one],dim=1)\n",
    "\n",
    "Y_host = X_host @ mu\n",
    "Y_host = (1/Y_host.norm()) * Y_host + sigma_error * torch.randn_like(Y_host)"
   ]
  },
  {
   "cell_type": "code",
   "execution_count": 9,
   "metadata": {},
   "outputs": [
    {
     "data": {
      "text/plain": [
       "(3.700399792443208, -0.4842464130415651)"
      ]
     },
     "execution_count": 9,
     "metadata": {},
     "output_type": "execute_result"
    }
   ],
   "source": [
    "bayesian_regression.closed_form_obs_EIG(X_host_T_zero),bayesian_regression.closed_form_causal_EIG(X_host_T_zero)"
   ]
  },
  {
   "cell_type": "code",
   "execution_count": 10,
   "metadata": {},
   "outputs": [
    {
     "data": {
      "text/plain": [
       "(4.634569417680041, 1.3264991103249884)"
      ]
     },
     "execution_count": 10,
     "metadata": {},
     "output_type": "execute_result"
    }
   ],
   "source": [
    "bayesian_regression.samples_obs_EIG(X_host_T_zero,100,500),bayesian_regression.samples_causal_EIG(X_host_T_zero,100,500)"
   ]
  },
  {
   "cell_type": "code",
   "execution_count": 11,
   "metadata": {},
   "outputs": [
    {
     "data": {
      "text/plain": [
       "(4.354952490316906, 0.17030628483213306)"
      ]
     },
     "execution_count": 11,
     "metadata": {},
     "output_type": "execute_result"
    }
   ],
   "source": [
    "bayesian_regression.closed_form_obs_EIG(X_host_T_one),bayesian_regression.closed_form_causal_EIG(X_host_T_one)"
   ]
  },
  {
   "cell_type": "code",
   "execution_count": 12,
   "metadata": {},
   "outputs": [
    {
     "data": {
      "text/plain": [
       "(5.315682526527723, 2.840860429568238)"
      ]
     },
     "execution_count": 12,
     "metadata": {},
     "output_type": "execute_result"
    }
   ],
   "source": [
    "bayesian_regression.samples_obs_EIG(X_host_T_one,100,150),bayesian_regression.samples_causal_EIG(X_host_T_one,100,150)"
   ]
  },
  {
   "cell_type": "markdown",
   "metadata": {},
   "source": [
    "## Experiment"
   ]
  },
  {
   "cell_type": "code",
   "execution_count": 13,
   "metadata": {},
   "outputs": [],
   "source": [
    "n_host_sample = 200 \n",
    "sigma_error = 1 \n",
    "d = 10 \n",
    "n_repeats = 40\n"
   ]
  },
  {
   "cell_type": "markdown",
   "metadata": {},
   "source": [
    "## BART"
   ]
  },
  {
   "cell_type": "code",
   "execution_count": 14,
   "metadata": {},
   "outputs": [],
   "source": [
    "from outcome_models import BayesianCausalForest"
   ]
  },
  {
   "cell_type": "code",
   "execution_count": 15,
   "metadata": {},
   "outputs": [],
   "source": [
    "prior_hyperparameters = {'sigma_0_sq':1,'p_categorical_pr':0,'p_categorical_trt':0 }\n",
    "bcf = BayesianCausalForest(prior_hyperparameters)"
   ]
  },
  {
   "cell_type": "code",
   "execution_count": 16,
   "metadata": {},
   "outputs": [],
   "source": [
    "X_host_np = np.array(X_host,dtype=np.float32)\n",
    "T_host_np = np.array(T_host,dtype=np.int32)\n",
    "Y_host_np = np.array(Y_host,dtype=np.float32)"
   ]
  },
  {
   "cell_type": "code",
   "execution_count": 17,
   "metadata": {},
   "outputs": [],
   "source": [
    "bcf.store_train_data(X=X_host_np,T=T_host_np,Y=Y_host_np)"
   ]
  },
  {
   "cell_type": "code",
   "execution_count": 18,
   "metadata": {},
   "outputs": [],
   "source": [
    "n_samples_inner_expectation=50\n",
    "n_samples_outer_expectation=50\n",
    "X = X_host_np\n",
    "T = T_host_np\n",
    "\n",
    "n_samples = n_samples_outer_expectation*(n_samples_inner_expectation+1)\n"
   ]
  },
  {
   "cell_type": "code",
   "execution_count": 19,
   "metadata": {},
   "outputs": [],
   "source": [
    "predicitions = bcf.posterior_sample_predictions(X=X, T=T,  n_samples=n_samples)"
   ]
  },
  {
   "cell_type": "code",
   "execution_count": 20,
   "metadata": {},
   "outputs": [],
   "source": [
    "from eig_comp_utils import predictions_in_EIG_obs_form,compute_EIG_obs_from_samples"
   ]
  },
  {
   "cell_type": "code",
   "execution_count": 21,
   "metadata": {},
   "outputs": [],
   "source": [
    "pred_in_form = predictions_in_EIG_obs_form(predicitions.T,n_outer_expectation=n_samples_outer_expectation,m_inner_expectation=n_samples_inner_expectation)"
   ]
  },
  {
   "cell_type": "code",
   "execution_count": 30,
   "metadata": {},
   "outputs": [
    {
     "data": {
      "text/plain": [
       "2.1825973409419532"
      ]
     },
     "execution_count": 30,
     "metadata": {},
     "output_type": "execute_result"
    }
   ],
   "source": [
    "compute_EIG_obs_from_samples(pred_in_form,1)"
   ]
  },
  {
   "cell_type": "code",
   "execution_count": 31,
   "metadata": {},
   "outputs": [
    {
     "data": {
      "text/plain": [
       "1.2830443155226305"
      ]
     },
     "execution_count": 31,
     "metadata": {},
     "output_type": "execute_result"
    }
   ],
   "source": [
    "bcf.samples_obs_EIG(X_host_np,T_host_np,n_samples_inner_expectation=50,n_samples_outer_expectation=50)"
   ]
  },
  {
   "cell_type": "code",
   "execution_count": 25,
   "metadata": {},
   "outputs": [],
   "source": [
    "pred = pred.T "
   ]
  },
  {
   "cell_type": "code",
   "execution_count": 26,
   "metadata": {},
   "outputs": [
    {
     "data": {
      "text/plain": [
       "(150, 100)"
      ]
     },
     "execution_count": 26,
     "metadata": {},
     "output_type": "execute_result"
    }
   ],
   "source": [
    "(pred- Y_host_np).shape"
   ]
  },
  {
   "cell_type": "code",
   "execution_count": 27,
   "metadata": {},
   "outputs": [],
   "source": [
    "T = np.random.randint(0,2,size=100)"
   ]
  },
  {
   "cell_type": "code",
   "execution_count": 28,
   "metadata": {},
   "outputs": [
    {
     "data": {
      "text/plain": [
       "array([0, 1, 0, 0, 0, 0, 1, 1, 1, 0, 0, 1, 1, 1, 1, 1, 0, 0, 0, 0, 0, 0,\n",
       "       1, 0, 0, 1, 1, 1, 0, 1, 1, 1, 0, 0, 1, 0, 1, 0, 1, 0, 1, 1, 1, 0,\n",
       "       0, 0, 0, 1, 0, 1, 1, 1, 0, 1, 1, 1, 0, 1, 0, 1, 0, 0, 1, 1, 0, 1,\n",
       "       0, 0, 0, 1, 0, 0, 0, 1, 0, 1, 0, 0, 0, 0, 0, 1, 0, 0, 1, 1, 0, 0,\n",
       "       1, 0, 0, 1, 1, 1, 1, 1, 0, 1, 0, 0])"
      ]
     },
     "execution_count": 28,
     "metadata": {},
     "output_type": "execute_result"
    }
   ],
   "source": [
    "T"
   ]
  },
  {
   "cell_type": "code",
   "execution_count": 29,
   "metadata": {},
   "outputs": [
    {
     "ename": "IndexError",
     "evalue": "too many indices for array: array is 2-dimensional, but 3 were indexed",
     "output_type": "error",
     "traceback": [
      "\u001b[0;31m---------------------------------------------------------------------------\u001b[0m",
      "\u001b[0;31mIndexError\u001b[0m                                Traceback (most recent call last)",
      "Cell \u001b[0;32mIn[29], line 1\u001b[0m\n\u001b[0;32m----> 1\u001b[0m \u001b[43mpred\u001b[49m\u001b[43m[\u001b[49m\u001b[43m:\u001b[49m\u001b[43m,\u001b[49m\u001b[43m:\u001b[49m\u001b[43m,\u001b[49m\u001b[38;5;241;43m1\u001b[39;49m\u001b[43m]\u001b[49m\n",
      "\u001b[0;31mIndexError\u001b[0m: too many indices for array: array is 2-dimensional, but 3 were indexed"
     ]
    }
   ],
   "source": [
    "pred[:,:,1]"
   ]
  },
  {
   "cell_type": "code",
   "execution_count": null,
   "metadata": {},
   "outputs": [
    {
     "data": {
      "text/plain": [
       "array([[-0.27826393, -0.26635271, -0.26018044, ..., -0.24245816,\n",
       "        -0.23516247, -0.24750389],\n",
       "       [-0.31057554, -0.1626953 , -0.24562265, ..., -0.24173723,\n",
       "        -0.19809073, -0.27968158],\n",
       "       [-0.0212074 , -0.16190154, -0.23623946, ..., -0.23977634,\n",
       "        -0.21797352, -0.28044146],\n",
       "       ...,\n",
       "       [-0.08591532, -0.31005134, -0.23185605, ..., -0.2383347 ,\n",
       "        -0.25160518, -0.26212767],\n",
       "       [-0.0473603 , -0.02099823,  0.01353105, ...,  0.00777841,\n",
       "        -0.16268113, -0.00635422],\n",
       "       [-0.14408347, -0.07653664, -0.23156936, ..., -0.23383851,\n",
       "        -0.23836371, -0.2869225 ]])"
      ]
     },
     "execution_count": 70,
     "metadata": {},
     "output_type": "execute_result"
    }
   ],
   "source": [
    "pred[np.arange((pred.shape[0])),:,T]"
   ]
  },
  {
   "cell_type": "code",
   "execution_count": null,
   "metadata": {},
   "outputs": [
    {
     "data": {
      "text/plain": [
       "(100, 150)"
      ]
     },
     "execution_count": 44,
     "metadata": {},
     "output_type": "execute_result"
    }
   ],
   "source": [
    "pred[:,:,0].shape"
   ]
  },
  {
   "cell_type": "code",
   "execution_count": null,
   "metadata": {},
   "outputs": [
    {
     "data": {
      "text/plain": [
       "XBCF(num_sweeps = 100, burnin = 15, max_depth = 250, Nmin = 1, num_cutpoints = 100, no_split_penality = 4.605170185988092, mtry_pr = 20, mtry_trt = 20, p_categorical_pr = 0, p_categorical_trt = 0, num_trees_pr = 30, alpha_pr = 0.95, beta_pr = 1.25, tau_pr = 0.018378095626831056, kap_pr = 16.0, s_pr = 4.0, pr_scale = False, num_trees_trt = 10, alpha_trt = 0.25, beta_trt = 3.0, tau_trt = 0.009189047813415528, kap_trt = 16.0, s_trt = 4.0, trt_scale = False, verbose = False, parallel = False, set_random_seed = False, random_seed = 0, sample_weights_flag = True, a_scaling = True, b_scaling = True)"
      ]
     },
     "execution_count": 20,
     "metadata": {},
     "output_type": "execute_result"
    }
   ],
   "source": [
    "bcf.model.fit(\n",
    "        x_t=bcf.X_train, # Covariates treatment effect\n",
    "        x=bcf.X_train_prog, # Covariates outcome (including propensity score)\n",
    "        y=bcf.Y_train,  # Outcome\n",
    "        z=bcf.T_train, # Treatment group\n",
    "        )"
   ]
  },
  {
   "cell_type": "code",
   "execution_count": null,
   "metadata": {},
   "outputs": [
    {
     "data": {
      "text/plain": [
       "(100, 100)"
      ]
     },
     "execution_count": 21,
     "metadata": {},
     "output_type": "execute_result"
    }
   ],
   "source": [
    "pred_0.shape"
   ]
  },
  {
   "cell_type": "code",
   "execution_count": null,
   "metadata": {},
   "outputs": [
    {
     "data": {
      "text/plain": [
       "(100, 100, 1)"
      ]
     },
     "execution_count": 22,
     "metadata": {},
     "output_type": "execute_result"
    }
   ],
   "source": [
    "np.expand_dims(pred_0,axis=2).shape"
   ]
  },
  {
   "cell_type": "code",
   "execution_count": null,
   "metadata": {},
   "outputs": [
    {
     "data": {
      "text/plain": [
       "array([[[ 0.04913624,  0.04913624],\n",
       "        [ 0.00871902,  0.00871902],\n",
       "        [-0.51544197, -0.51544197],\n",
       "        ...,\n",
       "        [-0.04524   , -0.04524   ],\n",
       "        [ 0.14792401,  0.14792401],\n",
       "        [-0.04184422, -0.04184422]],\n",
       "\n",
       "       [[ 0.22082462,  0.22082462],\n",
       "        [-0.0692701 , -0.0692701 ],\n",
       "        [ 0.00254678,  0.00254678],\n",
       "        ...,\n",
       "        [-0.17167079, -0.17167079],\n",
       "        [ 0.43322948,  0.43322948],\n",
       "        [-0.15339206, -0.15339206]],\n",
       "\n",
       "       [[-0.0161834 , -0.0161834 ],\n",
       "        [-0.14554069, -0.14554069],\n",
       "        [-0.08925596, -0.08925596],\n",
       "        ...,\n",
       "        [-0.14696226, -0.14696226],\n",
       "        [ 0.22852622,  0.22852622],\n",
       "        [-0.12987373, -0.12987373]],\n",
       "\n",
       "       ...,\n",
       "\n",
       "       [[ 0.1145945 ,  0.1145945 ],\n",
       "        [ 0.16093073,  0.16093073],\n",
       "        [ 0.25959919,  0.25959919],\n",
       "        ...,\n",
       "        [ 0.35443366,  0.35443366],\n",
       "        [ 0.23965383,  0.23965383],\n",
       "        [ 0.42399624,  0.42399624]],\n",
       "\n",
       "       [[ 0.34570552,  0.34570552],\n",
       "        [ 0.18532383,  0.18532383],\n",
       "        [ 0.38121015,  0.38121015],\n",
       "        ...,\n",
       "        [ 0.22643927,  0.22643927],\n",
       "        [ 0.75281033,  0.75281033],\n",
       "        [ 0.17332478,  0.17332478]],\n",
       "\n",
       "       [[-0.06826783, -0.06826783],\n",
       "        [ 0.09673646,  0.09673646],\n",
       "        [-0.1580266 , -0.1580266 ],\n",
       "        ...,\n",
       "        [ 0.14047105,  0.14047105],\n",
       "        [ 0.27796793,  0.27796793],\n",
       "        [ 0.35140614,  0.35140614]]])"
      ]
     },
     "execution_count": 23,
     "metadata": {},
     "output_type": "execute_result"
    }
   ],
   "source": [
    "np.concatenate([np.expand_dims(pred_1,axis=2),np.expand_dims(pred_1,axis=2)],axis = 2)"
   ]
  },
  {
   "cell_type": "code",
   "execution_count": null,
   "metadata": {},
   "outputs": [
    {
     "ename": "IndexError",
     "evalue": "tuple index out of range",
     "output_type": "error",
     "traceback": [
      "\u001b[0;31m---------------------------------------------------------------------------\u001b[0m",
      "\u001b[0;31mIndexError\u001b[0m                                Traceback (most recent call last)",
      "Cell \u001b[0;32mIn[24], line 1\u001b[0m\n\u001b[0;32m----> 1\u001b[0m \u001b[43mbcf\u001b[49m\u001b[38;5;241;43m.\u001b[39;49m\u001b[43msamples_obs_EIG\u001b[49m\u001b[43m(\u001b[49m\u001b[43mX_host_np\u001b[49m\u001b[43m,\u001b[49m\u001b[38;5;241;43m100\u001b[39;49m\u001b[43m,\u001b[49m\u001b[38;5;241;43m100\u001b[39;49m\u001b[43m)\u001b[49m\n",
      "File \u001b[0;32m~/Python/causal_prospective_merge/outcome_models.py:239\u001b[0m, in \u001b[0;36mBayesianCausalForest.samples_obs_EIG\u001b[0;34m(self, X, n_samples_outer_expectation, n_samples_inner_expectation)\u001b[0m\n\u001b[1;32m    237\u001b[0m n_samples \u001b[38;5;241m=\u001b[39m n_samples_outer_expectation\u001b[38;5;241m*\u001b[39m(n_samples_inner_expectation\u001b[38;5;241m+\u001b[39m\u001b[38;5;241m1\u001b[39m)\n\u001b[1;32m    238\u001b[0m predicitions \u001b[38;5;241m=\u001b[39m \u001b[38;5;28mself\u001b[39m\u001b[38;5;241m.\u001b[39mposterior_sample_predictions(X\u001b[38;5;241m=\u001b[39mX,   n_samples\u001b[38;5;241m=\u001b[39mn_samples)\n\u001b[0;32m--> 239\u001b[0m predictions_in_form \u001b[38;5;241m=\u001b[39m \u001b[43mpredictions_in_EIG_obs_form\u001b[49m\u001b[43m(\u001b[49m\u001b[43mpredicitions\u001b[49m\u001b[43m,\u001b[49m\u001b[43m \u001b[49m\u001b[43mn_samples_outer_expectation\u001b[49m\u001b[43m,\u001b[49m\u001b[43m \u001b[49m\u001b[43mn_samples_inner_expectation\u001b[49m\u001b[43m)\u001b[49m   \n\u001b[1;32m    240\u001b[0m \u001b[38;5;28;01mreturn\u001b[39;00m compute_EIG_obs_from_samples(predictions_in_form, \u001b[38;5;28mself\u001b[39m\u001b[38;5;241m.\u001b[39msigma_0_sq\u001b[38;5;241m*\u001b[39m\u001b[38;5;241m*\u001b[39m(\u001b[38;5;241m1\u001b[39m\u001b[38;5;241m/\u001b[39m\u001b[38;5;241m2\u001b[39m))\n",
      "File \u001b[0;32m~/Python/causal_prospective_merge/eig_comp_utils.py:76\u001b[0m, in \u001b[0;36mpredictions_in_EIG_obs_form\u001b[0;34m(Y_pred_vec, n_outer_expectation, m_inner_expectation)\u001b[0m\n\u001b[1;32m     73\u001b[0m predictions_list \u001b[38;5;241m=\u001b[39m []\n\u001b[1;32m     75\u001b[0m \u001b[38;5;28;01mfor\u001b[39;00m i \u001b[38;5;129;01min\u001b[39;00m \u001b[38;5;28mrange\u001b[39m(n_outer_expectation):\n\u001b[0;32m---> 76\u001b[0m     predictions_list\u001b[38;5;241m.\u001b[39mappend((\u001b[43mY_pred_vec\u001b[49m\u001b[43m[\u001b[49m\u001b[43mi\u001b[49m\u001b[43m]\u001b[49m, \n\u001b[1;32m     77\u001b[0m          Y_pred_vec[ m_inner_expectation \u001b[38;5;241m*\u001b[39m i \u001b[38;5;241m+\u001b[39m n_outer_expectation: m_inner_expectation \u001b[38;5;241m*\u001b[39m (i\u001b[38;5;241m+\u001b[39m\u001b[38;5;241m1\u001b[39m) \u001b[38;5;241m+\u001b[39m n_outer_expectation]))\n\u001b[1;32m     78\u001b[0m \u001b[38;5;28;01mreturn\u001b[39;00m predictions_list\n",
      "\u001b[0;31mIndexError\u001b[0m: tuple index out of range"
     ]
    }
   ],
   "source": [
    "bcf.samples_obs_EIG(X_host_np,100,100)"
   ]
  }
 ],
 "metadata": {
  "kernelspec": {
   "display_name": "Python 3",
   "language": "python",
   "name": "python3"
  },
  "language_info": {
   "codemirror_mode": {
    "name": "ipython",
    "version": 3
   },
   "file_extension": ".py",
   "mimetype": "text/x-python",
   "name": "python",
   "nbconvert_exporter": "python",
   "pygments_lexer": "ipython3",
   "version": "3.11.8"
  }
 },
 "nbformat": 4,
 "nbformat_minor": 2
}
