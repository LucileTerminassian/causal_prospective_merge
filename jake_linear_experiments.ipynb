{
 "cells": [
  {
   "cell_type": "code",
   "execution_count": 1,
   "metadata": {},
   "outputs": [
    {
     "name": "stderr",
     "output_type": "stream",
     "text": [
      "/Users/lucile/causal_info_gain/pjake/lib/python3.9/site-packages/torch/__init__.py:696: UserWarning: torch.set_default_tensor_type() is deprecated as of PyTorch 2.1, please use torch.set_default_dtype() and torch.set_default_device() as alternatives. (Triggered internally at /Users/runner/work/pytorch/pytorch/pytorch/torch/csrc/tensor/python_tensor.cpp:453.)\n",
      "  _C._set_default_tensor_type(t)\n"
     ]
    }
   ],
   "source": [
    "import torch\n",
    "torch.set_default_tensor_type(torch.FloatTensor) \n",
    "import copy\n",
    "\n",
    "from rct_data_generator import *\n",
    "from outcome_models import *\n",
    "from plotting_functions import *\n",
    "from mcmc_bayes_update import *\n",
    "from eig_comp_utils import *\n",
    "from research_exp_utils import *\n",
    "from rct_data_generator import generate_host_and_mirror\n"
   ]
  },
  {
   "cell_type": "markdown",
   "metadata": {},
   "source": [
    "## Set-up"
   ]
  },
  {
   "cell_type": "code",
   "execution_count": 2,
   "metadata": {},
   "outputs": [],
   "source": [
    "n_host_sample = 100 \n",
    "sigma_error = 1 \n",
    "d = 10 \n",
    "A = torch.randn((d,d))\n",
    "A = 1/(torch.det(A)) * A\n",
    "\n",
    "T_allocation_host = torch.randn(d)\n",
    "T_allocation_host = 100/torch.norm(T_allocation_host)*T_allocation_host\n",
    "\n",
    "mu_nc = torch.randn(d)\n",
    "mu_nc = 1/torch.norm(mu_nc)*mu_nc\n",
    "\n",
    "mu_c = torch.randn(d)\n",
    "mu_c = 1/torch.norm(mu_c)*mu_c\n",
    "\n",
    "mu = torch.concat([mu_nc,mu_c])"
   ]
  },
  {
   "cell_type": "code",
   "execution_count": 3,
   "metadata": {},
   "outputs": [],
   "source": [
    "\n",
    "X_host = (torch.randn((n_host_sample,d)) @ A ) \n",
    "T_host = torch.bernoulli(torch.sigmoid(X_host@ T_allocation_host))\n",
    "X_host_times_T = (T_host.unsqueeze(dim=0).T * X_host)\n",
    "X_host = torch.concat([X_host,X_host_times_T],dim=1)\n",
    "\n",
    "Y_host = X_host @ mu\n",
    "Y_host = (1/Y_host.norm()) * Y_host + sigma_error * torch.randn_like(Y_host)\n"
   ]
  },
  {
   "cell_type": "code",
   "execution_count": 4,
   "metadata": {},
   "outputs": [],
   "source": [
    "prior_mean = torch.zeros(2 * d)\n",
    "beta_0, sigma_0_sq,inv_cov_0 = prior_mean, sigma_error,torch.eye(2*d)\n",
    "prior_hyperparameters = {'beta_0': beta_0, 'sigma_0_sq': sigma_0_sq,\"inv_cov_0\":inv_cov_0}\n",
    "bayesian_regression = BayesianLinearRegression(prior_hyperparameters)\n",
    "bayesian_regression.set_causal_index(10)"
   ]
  },
  {
   "cell_type": "code",
   "execution_count": 5,
   "metadata": {},
   "outputs": [
    {
     "data": {
      "text/plain": [
       "{'posterior_mean': tensor([ 0.2233,  0.2265, -0.1417,  0.0726, -0.3332, -0.1722, -0.2942, -0.1452,\n",
       "         -0.1194, -0.0381,  0.1880,  0.2240, -0.3335,  0.1367, -0.1961, -0.1363,\n",
       "         -0.2950, -0.1171,  0.0082, -0.0962]),\n",
       " 'posterior_cov_matrix': tensor([[ 9.4951e-01, -1.1141e-02, -8.7745e-03, -1.8464e-02,  2.9733e-02,\n",
       "           1.4875e-02, -1.9158e-02,  1.6286e-02,  2.7513e-02,  7.0635e-03,\n",
       "          -3.0318e-02, -9.4217e-03, -7.8773e-03, -1.0796e-02,  1.3936e-02,\n",
       "           3.6941e-03, -6.7244e-03,  8.8176e-03,  1.2982e-02,  3.7619e-03],\n",
       "         [-1.1141e-02,  9.4890e-01,  9.0535e-03, -1.1704e-02, -4.8561e-03,\n",
       "           2.6976e-03,  2.0075e-02, -5.6910e-03, -2.1122e-03,  1.3550e-02,\n",
       "          -9.3713e-03, -3.0418e-02,  1.9708e-03, -1.0242e-02, -2.9833e-03,\n",
       "          -1.2402e-03,  1.3428e-02, -1.8781e-03, -1.4864e-03,  8.0111e-03],\n",
       "         [-8.7745e-03,  9.0535e-03,  9.5006e-01,  5.1317e-03, -5.1153e-03,\n",
       "          -1.4573e-02, -1.8569e-02, -2.6021e-04,  5.8763e-03, -1.1252e-02,\n",
       "          -8.1181e-03,  1.9703e-03, -2.8772e-02,  3.9875e-03, -9.1158e-04,\n",
       "          -6.7778e-03, -1.1914e-02,  2.6080e-04,  5.7448e-03, -5.4581e-03],\n",
       "         [-1.8464e-02, -1.1704e-02,  5.1317e-03,  9.0776e-01,  2.6017e-03,\n",
       "           1.6633e-02, -3.4427e-02,  7.7935e-03,  8.5753e-03,  2.3464e-02,\n",
       "          -1.0626e-02, -1.0243e-02,  4.2257e-03, -4.9864e-02, -1.7828e-03,\n",
       "           6.0878e-03, -1.4797e-02,  2.3098e-03,  2.3756e-03,  1.3389e-02],\n",
       "         [ 2.9733e-02, -4.8561e-03, -5.1153e-03,  2.6017e-03,  9.4358e-01,\n",
       "          -2.2021e-02,  1.6039e-02, -2.0147e-02, -2.5420e-02,  3.9518e-03,\n",
       "           1.3800e-02, -3.0859e-03, -1.0431e-03, -1.8807e-03, -2.8596e-02,\n",
       "          -8.3624e-03,  9.4813e-03, -8.3624e-03, -1.0760e-02,  4.4079e-03],\n",
       "         [ 1.4875e-02,  2.6976e-03, -1.4573e-02,  1.6633e-02, -2.2021e-02,\n",
       "           9.7363e-01,  2.2044e-02, -8.2220e-03, -1.6876e-02, -8.5480e-03,\n",
       "           3.1737e-03, -1.3758e-03, -6.8646e-03,  5.5329e-03, -7.9942e-03,\n",
       "          -8.6398e-03,  8.1693e-03, -2.0882e-03, -5.0356e-03, -2.1080e-03],\n",
       "         [-1.9158e-02,  2.0075e-02, -1.8569e-02, -3.4427e-02,  1.6039e-02,\n",
       "           2.2044e-02,  9.2505e-01,  3.0387e-03,  2.4155e-02,  2.4575e-03,\n",
       "          -6.7541e-03,  1.3654e-02, -1.1839e-02, -1.4762e-02,  9.5673e-03,\n",
       "           8.6293e-03, -4.0786e-02, -4.3059e-05,  1.2689e-02, -1.4298e-03],\n",
       "         [ 1.6286e-02, -5.6910e-03, -2.6021e-04,  7.7935e-03, -2.0147e-02,\n",
       "          -8.2220e-03,  3.0387e-03,  9.7650e-01, -1.3301e-02, -7.5875e-03,\n",
       "           8.6676e-03, -1.8502e-03,  1.4105e-04,  2.1910e-03, -8.3079e-03,\n",
       "          -2.2171e-03, -2.6776e-04, -1.2448e-02, -5.2927e-03, -4.2957e-03],\n",
       "         [ 2.7513e-02, -2.1122e-03,  5.8763e-03,  8.5753e-03, -2.5420e-02,\n",
       "          -1.6876e-02,  2.4155e-02, -1.3301e-02,  9.7019e-01, -5.9732e-03,\n",
       "           1.2707e-02, -1.6065e-03,  5.6455e-03,  2.2229e-03, -1.0587e-02,\n",
       "          -5.2534e-03,  1.2537e-02, -5.2653e-03, -1.2438e-02, -1.3243e-03],\n",
       "         [ 7.0635e-03,  1.3550e-02, -1.1252e-02,  2.3464e-02,  3.9518e-03,\n",
       "          -8.5480e-03,  2.4575e-03, -7.5875e-03, -5.9732e-03,  9.8287e-01,\n",
       "           3.5616e-03,  8.0014e-03, -5.5111e-03,  1.3252e-02,  4.4831e-03,\n",
       "          -2.1924e-03, -1.4996e-03, -4.2544e-03, -1.2982e-03, -9.5230e-03],\n",
       "         [-3.0318e-02, -9.3713e-03, -8.1181e-03, -1.0626e-02,  1.3800e-02,\n",
       "           3.1737e-03, -6.7541e-03,  8.6676e-03,  1.2707e-02,  3.5616e-03,\n",
       "           9.6812e-01, -9.5036e-03, -8.1822e-03, -1.1962e-02,  1.5272e-02,\n",
       "           4.3645e-03, -8.1470e-03,  9.4514e-03,  1.4047e-02,  4.0244e-03],\n",
       "         [-9.4217e-03, -3.0418e-02,  1.9703e-03, -1.0243e-02, -3.0859e-03,\n",
       "          -1.3758e-03,  1.3654e-02, -1.8502e-03, -1.6065e-03,  8.0014e-03,\n",
       "          -9.5036e-03,  9.6870e-01,  2.3893e-03, -1.0603e-02, -3.1841e-03,\n",
       "          -1.2398e-03,  1.4085e-02, -1.9371e-03, -1.6540e-03,  8.3328e-03],\n",
       "         [-7.8773e-03,  1.9708e-03, -2.8772e-02,  4.2257e-03, -1.0431e-03,\n",
       "          -6.8646e-03, -1.1839e-02,  1.4105e-04,  5.6455e-03, -5.5111e-03,\n",
       "          -8.1822e-03,  2.3893e-03,  9.7036e-01,  4.2215e-03, -9.8735e-04,\n",
       "          -6.9828e-03, -1.2492e-02,  1.9996e-04,  5.8953e-03, -5.7298e-03],\n",
       "         [-1.0796e-02, -1.0242e-02,  3.9875e-03, -4.9864e-02, -1.8807e-03,\n",
       "           5.5329e-03, -1.4762e-02,  2.1910e-03,  2.2229e-03,  1.3252e-02,\n",
       "          -1.1962e-02, -1.0603e-02,  4.2215e-03,  9.4697e-01, -1.1224e-03,\n",
       "           6.8877e-03, -1.6775e-02,  2.7685e-03,  3.2099e-03,  1.4220e-02],\n",
       "         [ 1.3936e-02, -2.9833e-03, -9.1158e-04, -1.7828e-03, -2.8596e-02,\n",
       "          -7.9942e-03,  9.5673e-03, -8.3079e-03, -1.0587e-02,  4.4831e-03,\n",
       "           1.5272e-02, -3.1841e-03, -9.8735e-04, -1.1224e-03,  9.6974e-01,\n",
       "          -9.1067e-03,  1.0686e-02, -9.1069e-03, -1.1820e-02,  4.2711e-03],\n",
       "         [ 3.6941e-03, -1.2402e-03, -6.7778e-03,  6.0878e-03, -8.3624e-03,\n",
       "          -8.6398e-03,  8.6293e-03, -2.2171e-03, -5.2534e-03, -2.1924e-03,\n",
       "           4.3645e-03, -1.2398e-03, -6.9828e-03,  6.8877e-03, -9.1067e-03,\n",
       "           9.9063e-01,  9.4403e-03, -2.6004e-03, -5.8906e-03, -2.4846e-03],\n",
       "         [-6.7244e-03,  1.3428e-02, -1.1914e-02, -1.4797e-02,  9.4813e-03,\n",
       "           8.1693e-03, -4.0786e-02, -2.6776e-04,  1.2537e-02, -1.4996e-03,\n",
       "          -8.1470e-03,  1.4085e-02, -1.2492e-02, -1.6775e-02,  1.0686e-02,\n",
       "           9.4403e-03,  9.5657e-01,  4.2375e-04,  1.3887e-02, -1.1299e-03],\n",
       "         [ 8.8176e-03, -1.8781e-03,  2.6080e-04,  2.3098e-03, -8.3624e-03,\n",
       "          -2.0882e-03, -4.3059e-05, -1.2448e-02, -5.2653e-03, -4.2544e-03,\n",
       "           9.4514e-03, -1.9371e-03,  1.9996e-04,  2.7685e-03, -9.1069e-03,\n",
       "          -2.6004e-03,  4.2375e-04,  9.8710e-01, -5.8553e-03, -4.4408e-03],\n",
       "         [ 1.2982e-02, -1.4864e-03,  5.7448e-03,  2.3756e-03, -1.0760e-02,\n",
       "          -5.0356e-03,  1.2689e-02, -5.2927e-03, -1.2438e-02, -1.2982e-03,\n",
       "           1.4047e-02, -1.6540e-03,  5.8953e-03,  3.2099e-03, -1.1820e-02,\n",
       "          -5.8906e-03,  1.3887e-02, -5.8553e-03,  9.8658e-01, -1.5438e-03],\n",
       "         [ 3.7619e-03,  8.0111e-03, -5.4581e-03,  1.3389e-02,  4.4079e-03,\n",
       "          -2.1080e-03, -1.4298e-03, -4.2957e-03, -1.3243e-03, -9.5230e-03,\n",
       "           4.0244e-03,  8.3328e-03, -5.7298e-03,  1.4220e-02,  4.2711e-03,\n",
       "          -2.4846e-03, -1.1299e-03, -4.4408e-03, -1.5438e-03,  9.9011e-01]])}"
      ]
     },
     "execution_count": 5,
     "metadata": {},
     "output_type": "execute_result"
    }
   ],
   "source": [
    "bayesian_regression.fit(X_host,Y_host)"
   ]
  },
  {
   "cell_type": "code",
   "execution_count": 6,
   "metadata": {},
   "outputs": [
    {
     "data": {
      "text/plain": [
       "(0.34826900645664116, 0.10570795656747894)"
      ]
     },
     "execution_count": 6,
     "metadata": {},
     "output_type": "execute_result"
    }
   ],
   "source": [
    "bayesian_regression.closed_form_obs_EIG(X_host),bayesian_regression.closed_form_causal_EIG(X_host)"
   ]
  },
  {
   "cell_type": "code",
   "execution_count": 7,
   "metadata": {},
   "outputs": [
    {
     "data": {
      "text/plain": [
       "(0.19875191273797554, -1.1396286689349324)"
      ]
     },
     "execution_count": 7,
     "metadata": {},
     "output_type": "execute_result"
    }
   ],
   "source": [
    "bayesian_regression.samples_obs_EIG(X_host,100,10),bayesian_regression.samples_causal_EIG(X_host,100,10)"
   ]
  },
  {
   "cell_type": "markdown",
   "metadata": {},
   "source": [
    "## Experiment"
   ]
  },
  {
   "cell_type": "code",
   "execution_count": null,
   "metadata": {},
   "outputs": [],
   "source": [
    "n_host_sample = 100 \n",
    "sigma_error = 1 \n",
    "d = 10 \n",
    "n_repeats = 40\n",
    "\n",
    "results_dict = {}"
   ]
  }
 ],
 "metadata": {
  "kernelspec": {
   "display_name": "pjake_kernel",
   "language": "python",
   "name": "pjake_kernel"
  },
  "language_info": {
   "codemirror_mode": {
    "name": "ipython",
    "version": 3
   },
   "file_extension": ".py",
   "mimetype": "text/x-python",
   "name": "python",
   "nbconvert_exporter": "python",
   "pygments_lexer": "ipython3",
   "version": "3.9.7"
  }
 },
 "nbformat": 4,
 "nbformat_minor": 2
}
