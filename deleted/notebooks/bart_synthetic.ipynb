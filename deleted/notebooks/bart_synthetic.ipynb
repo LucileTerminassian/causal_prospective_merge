{
 "cells": [
  {
   "cell_type": "code",
   "execution_count": 1,
   "metadata": {},
   "outputs": [
    {
     "name": "stderr",
     "output_type": "stream",
     "text": [
      "/Users/lucile/causal_info_gain/pjake/lib/python3.9/site-packages/torch/__init__.py:696: UserWarning: torch.set_default_tensor_type() is deprecated as of PyTorch 2.1, please use torch.set_default_dtype() and torch.set_default_device() as alternatives. (Triggered internally at /Users/runner/work/pytorch/pytorch/pytorch/torch/csrc/tensor/python_tensor.cpp:453.)\n",
      "  _C._set_default_tensor_type(t)\n"
     ]
    }
   ],
   "source": [
    "import numpy as np\n",
    "import pandas as pd\n",
    "import torch\n",
    "torch.set_default_tensor_type(torch.FloatTensor) \n",
    "import copy\n",
    "import sys\n",
    "import os\n",
    "\n",
    "notebook_dir = os.getcwd()\n",
    "parent_dir = os.path.dirname(notebook_dir)\n",
    "# Add the parent directory to the Python path\n",
    "sys.path.append(parent_dir)\n",
    "\n",
    "\n",
    "from rct_data_generator import *\n",
    "from outcome_models import *\n",
    "from plotting_functions import *\n",
    "from mcmc_bayes_update import *\n",
    "from eig_comp_utils import *\n",
    "from research_exp_utils import *\n"
   ]
  },
  {
   "cell_type": "markdown",
   "metadata": {},
   "source": [
    "### 1. Simulating the data"
   ]
  },
  {
   "cell_type": "code",
   "execution_count": 2,
   "metadata": {},
   "outputs": [],
   "source": [
    "rng = np.random.RandomState(42)\n",
    "\n",
    "n_rct_before_split = 10**5\n",
    "n_host = 200\n",
    "sigma_prior = 1\n",
    "sigma_rand_error = 1\n",
    "include_intercept = 1  # 0 if no intercept\n",
    "power_x, power_x_t = 1, 0 # keep them 1 and 0 for BART\n",
    "\n",
    "X0 = np.random.beta(12, 3, size=n_rct_before_split)\n",
    "X1 = np.random.normal(loc=4, scale=1, size=n_rct_before_split)\n",
    "X2 = np.random.beta(1, 7, size=n_rct_before_split)\n",
    "x_distributions = {\"X_0\": X0, \"X_1\": X1, \"X_2\": X2}\n",
    "d = (\n",
    "    include_intercept\n",
    "    + len(x_distributions) * (power_x)\n",
    "    + 1\n",
    "    + len(x_distributions) * (power_x_t)\n",
    ")\n",
    "\n",
    "p_assigned_to_host = lambda X, T, eps: sigmoid(\n",
    "    1 + 2 * X[\"X_0\"] - X[\"X_1\"] + 2 * T + eps\n",
    ")\n",
    "p_assigned_to_cand2 = lambda X, T, eps: sigmoid(\n",
    "    1 + 2 * X[\"X_0\"] - X[\"X_1\"] + 2 * T + eps\n",
    ")\n",
    "\n",
    "\n",
    "causal_param_first_index = power_x*len(x_distributions) + include_intercept \n",
    "\n",
    "outcome_function = (\n",
    "    # y = 1 + 1*X_0 - 1*X_1 + 1*X_2 + 4*T + 2*X_0*T + 2*X_1*T + 0*X_2*T + eps\n",
    "    lambda X, T, eps: include_intercept  # intercept, non-causal => 0 no intercept\n",
    "    + 1 * X[\"X_0\"]  # non-causal\n",
    "    - 1 * X[\"X_1\"]  # non-causal\n",
    "    + 1 * X[\"X_2\"]  # non-causal\n",
    "    + 4 * T  # causal\n",
    "    + 2 * X[\"X_0\"] * T  # causal\n",
    "    + 2 * X[\"X_1\"] * T  # causal\n",
    "    + 0 * X[\"X_2\"] * T  # causal\n",
    "    + eps\n",
    ")\n"
   ]
  },
  {
   "cell_type": "markdown",
   "metadata": {},
   "source": [
    "Simulation parameters"
   ]
  },
  {
   "cell_type": "code",
   "execution_count": 3,
   "metadata": {},
   "outputs": [],
   "source": [
    "# Prior parameters for Bayesian update on host\n",
    "prior_mean = np.array([0, 1, 0, 0, 0])\n",
    "assert len(prior_mean) == d, \"Shape error\"\n",
    "\n",
    "beta_0, sigma_0_sq, inv_cov_0 = (\n",
    "    prior_mean,\n",
    "    sigma_rand_error**2,\n",
    "    1 / sigma_prior * np.eye(len(prior_mean)),\n",
    ")\n",
    "prior_hyperparameters = {\n",
    "    \"beta_0\": beta_0,\n",
    "    \"sigma_0_sq\": sigma_0_sq,\n",
    "    \"inv_cov_0\": inv_cov_0,\n",
    "}\n"
   ]
  },
  {
   "cell_type": "code",
   "execution_count": 4,
   "metadata": {},
   "outputs": [],
   "source": [
    "n_both_candidates_list = [200, 500, 1000]\n",
    "proportion = 1  # n_cand2 = prorportion * n_both_candidates_list\n",
    "std_true_y = 1\n",
    "\n",
    "data_parameters = {\n",
    "    \"n_both_candidates_list\": n_both_candidates_list,\n",
    "    \"proportion\": proportion,\n",
    "    \"n_rct_before_split\": n_rct_before_split,\n",
    "    \"x_distributions\": x_distributions,\n",
    "    \"p_assigned_to_cand2\": p_assigned_to_cand2,\n",
    "    \"p_assigned_to_host\": p_assigned_to_host,\n",
    "    \"n_host\": n_host,\n",
    "    \"power_x\": power_x,\n",
    "    \"power_x_t\": power_x_t,\n",
    "    \"outcome_function\": outcome_function,\n",
    "    \"std_true_y\": std_true_y,\n",
    "    \"causal_param_first_index\": causal_param_first_index,\n",
    "}"
   ]
  },
  {
   "cell_type": "code",
   "execution_count": 5,
   "metadata": {},
   "outputs": [],
   "source": [
    "n_seeds = 3\n",
    "\n",
    "text_l1 = \"p_assigned_to_host=p_assigned_to_cand2, n_samples_for_expectation = 30,\"\n",
    "text_l2 = \"m_samples_for_expectation = 500, n_host = 200, sigma_prior = 1, sigma_rand_error = 1,\"\n",
    "text_l3 = \"outcome_function = 1 + 1 * X[:,0] - 1 * X[:,1] + 1 * X[:,2] + 1 * T + 2* X[:,0]*T + 2* X[:,1]*T +2* X[:,2]*T + eps\""
   ]
  },
  {
   "cell_type": "code",
   "execution_count": 6,
   "metadata": {},
   "outputs": [],
   "source": [
    "n_samples_outer_expectation_obs = 100\n",
    "n_samples_inner_expectation_obs = 200\n",
    "n_samples_outer_expectation_caus = 100\n",
    "n_samples_inner_expectation_caus = 200\n",
    "\n",
    "sampling_parameters = {'n_samples_inner_expectation_obs':n_samples_inner_expectation_obs, 'n_samples_outer_expectation_obs':n_samples_outer_expectation_obs, \\\n",
    "                       'n_samples_inner_expectation_caus':n_samples_inner_expectation_caus, 'n_samples_outer_expectation_caus':n_samples_outer_expectation_caus}\n",
    "\n",
    "prior_hyperparameters = {'sigma_0_sq':1, 'p_categorical_pr':0, 'p_categorical_trt':0 }\n",
    "predictive_model_parameters={\"num_trees_pr\":200,\"num_trees_trt\":100}\n",
    "conditional_model_param={\"num_trees_pr\":200}"
   ]
  },
  {
   "cell_type": "code",
   "execution_count": 7,
   "metadata": {},
   "outputs": [
    {
     "data": {
      "text/html": [
       "<div>\n",
       "<style scoped>\n",
       "    .dataframe tbody tr th:only-of-type {\n",
       "        vertical-align: middle;\n",
       "    }\n",
       "\n",
       "    .dataframe tbody tr th {\n",
       "        vertical-align: top;\n",
       "    }\n",
       "\n",
       "    .dataframe thead th {\n",
       "        text-align: right;\n",
       "    }\n",
       "</style>\n",
       "<table border=\"1\" class=\"dataframe\">\n",
       "  <thead>\n",
       "    <tr style=\"text-align: right;\">\n",
       "      <th></th>\n",
       "      <th>intercept</th>\n",
       "      <th>X_0</th>\n",
       "      <th>X_1</th>\n",
       "      <th>X_2</th>\n",
       "      <th>T</th>\n",
       "      <th>Y</th>\n",
       "    </tr>\n",
       "  </thead>\n",
       "  <tbody>\n",
       "    <tr>\n",
       "      <th>0</th>\n",
       "      <td>1.0</td>\n",
       "      <td>0.684468</td>\n",
       "      <td>3.731272</td>\n",
       "      <td>0.005716</td>\n",
       "      <td>1.0</td>\n",
       "      <td>11.576195</td>\n",
       "    </tr>\n",
       "    <tr>\n",
       "      <th>1</th>\n",
       "      <td>1.0</td>\n",
       "      <td>0.726912</td>\n",
       "      <td>2.990434</td>\n",
       "      <td>0.124904</td>\n",
       "      <td>1.0</td>\n",
       "      <td>12.197125</td>\n",
       "    </tr>\n",
       "    <tr>\n",
       "      <th>2</th>\n",
       "      <td>1.0</td>\n",
       "      <td>0.842183</td>\n",
       "      <td>2.393865</td>\n",
       "      <td>0.079854</td>\n",
       "      <td>1.0</td>\n",
       "      <td>9.126950</td>\n",
       "    </tr>\n",
       "    <tr>\n",
       "      <th>3</th>\n",
       "      <td>1.0</td>\n",
       "      <td>0.971674</td>\n",
       "      <td>4.241098</td>\n",
       "      <td>0.090034</td>\n",
       "      <td>1.0</td>\n",
       "      <td>12.164292</td>\n",
       "    </tr>\n",
       "    <tr>\n",
       "      <th>4</th>\n",
       "      <td>1.0</td>\n",
       "      <td>0.850703</td>\n",
       "      <td>2.857284</td>\n",
       "      <td>0.062603</td>\n",
       "      <td>1.0</td>\n",
       "      <td>11.643892</td>\n",
       "    </tr>\n",
       "    <tr>\n",
       "      <th>...</th>\n",
       "      <td>...</td>\n",
       "      <td>...</td>\n",
       "      <td>...</td>\n",
       "      <td>...</td>\n",
       "      <td>...</td>\n",
       "      <td>...</td>\n",
       "    </tr>\n",
       "    <tr>\n",
       "      <th>195</th>\n",
       "      <td>1.0</td>\n",
       "      <td>0.908877</td>\n",
       "      <td>3.147704</td>\n",
       "      <td>0.413192</td>\n",
       "      <td>0.0</td>\n",
       "      <td>-0.064853</td>\n",
       "    </tr>\n",
       "    <tr>\n",
       "      <th>196</th>\n",
       "      <td>1.0</td>\n",
       "      <td>0.878676</td>\n",
       "      <td>4.792592</td>\n",
       "      <td>0.000466</td>\n",
       "      <td>1.0</td>\n",
       "      <td>13.395566</td>\n",
       "    </tr>\n",
       "    <tr>\n",
       "      <th>197</th>\n",
       "      <td>1.0</td>\n",
       "      <td>0.752993</td>\n",
       "      <td>2.713725</td>\n",
       "      <td>0.078947</td>\n",
       "      <td>1.0</td>\n",
       "      <td>9.917758</td>\n",
       "    </tr>\n",
       "    <tr>\n",
       "      <th>198</th>\n",
       "      <td>1.0</td>\n",
       "      <td>0.815468</td>\n",
       "      <td>4.384909</td>\n",
       "      <td>0.163494</td>\n",
       "      <td>1.0</td>\n",
       "      <td>11.419038</td>\n",
       "    </tr>\n",
       "    <tr>\n",
       "      <th>199</th>\n",
       "      <td>1.0</td>\n",
       "      <td>0.824802</td>\n",
       "      <td>3.669270</td>\n",
       "      <td>0.008941</td>\n",
       "      <td>1.0</td>\n",
       "      <td>11.539169</td>\n",
       "    </tr>\n",
       "  </tbody>\n",
       "</table>\n",
       "<p>200 rows × 6 columns</p>\n",
       "</div>"
      ],
      "text/plain": [
       "     intercept       X_0       X_1       X_2    T          Y\n",
       "0          1.0  0.684468  3.731272  0.005716  1.0  11.576195\n",
       "1          1.0  0.726912  2.990434  0.124904  1.0  12.197125\n",
       "2          1.0  0.842183  2.393865  0.079854  1.0   9.126950\n",
       "3          1.0  0.971674  4.241098  0.090034  1.0  12.164292\n",
       "4          1.0  0.850703  2.857284  0.062603  1.0  11.643892\n",
       "..         ...       ...       ...       ...  ...        ...\n",
       "195        1.0  0.908877  3.147704  0.413192  0.0  -0.064853\n",
       "196        1.0  0.878676  4.792592  0.000466  1.0  13.395566\n",
       "197        1.0  0.752993  2.713725  0.078947  1.0   9.917758\n",
       "198        1.0  0.815468  4.384909  0.163494  1.0  11.419038\n",
       "199        1.0  0.824802  3.669270  0.008941  1.0  11.539169\n",
       "\n",
       "[200 rows x 6 columns]"
      ]
     },
     "execution_count": 7,
     "metadata": {},
     "output_type": "execute_result"
    }
   ],
   "source": [
    "exact_data = generate_exact_data_varying_sample_size(\n",
    "    data_parameters, include_intercept=bool(include_intercept)\n",
    ")\n",
    "exact_data[200][\"host\"]"
   ]
  },
  {
   "cell_type": "code",
   "execution_count": null,
   "metadata": {},
   "outputs": [
    {
     "name": "stdout",
     "output_type": "stream",
     "text": [
      "Sampling from Posterior\n",
      "Getting conditional samples\n"
     ]
    },
    {
     "name": "stderr",
     "output_type": "stream",
     "text": [
      "  0%|          | 0/100 [00:00<?, ?it/s]/Users/lucile/causal_info_gain/pjake/lib/python3.9/site-packages/xbcausalforest/xbcf_python.py:286: RuntimeWarning: divide by zero encountered in double_scalars\n",
      "  self.params[\"tau_trt\"] = 0.1 * np.var(y) / self.params[\"num_trees_trt\"]\n",
      "100%|██████████| 100/100 [03:28<00:00,  2.09s/it]\n"
     ]
    },
    {
     "name": "stdout",
     "output_type": "stream",
     "text": [
      "Sampling from Posterior\n",
      "Getting conditional samples\n"
     ]
    },
    {
     "name": "stderr",
     "output_type": "stream",
     "text": [
      "100%|██████████| 100/100 [03:29<00:00,  2.10s/it]\n"
     ]
    },
    {
     "name": "stdout",
     "output_type": "stream",
     "text": [
      "Sampling from Posterior\n",
      "Getting conditional samples\n"
     ]
    },
    {
     "name": "stderr",
     "output_type": "stream",
     "text": [
      "100%|██████████| 100/100 [03:31<00:00,  2.12s/it]\n"
     ]
    },
    {
     "name": "stdout",
     "output_type": "stream",
     "text": [
      "Sampling from Posterior\n",
      "Getting conditional samples\n"
     ]
    },
    {
     "name": "stderr",
     "output_type": "stream",
     "text": [
      "100%|██████████| 100/100 [03:28<00:00,  2.09s/it]\n"
     ]
    }
   ],
   "source": [
    "\n",
    "dict_additional_plots_obs_from_samples, dict_additional_plots_caus_from_samples = (\n",
    "    bart_eig_from_samples_varying_sample_size(\n",
    "        exact_data,\n",
    "        data_parameters,\n",
    "        prior_hyperparameters,\n",
    "        predictive_model_parameters,\n",
    "        conditional_model_param,\n",
    "        sampling_parameters\n",
    "    )\n",
    ")"
   ]
  },
  {
   "cell_type": "code",
   "execution_count": null,
   "metadata": {},
   "outputs": [
    {
     "name": "stdout",
     "output_type": "stream",
     "text": [
      "Sampling from Posterior\n"
     ]
    }
   ],
   "source": [
    "EIG_obs_closed_form_across_seeds, EIG_caus_closed_form_across_seeds = [], []\n",
    "\n",
    "for i in range(n_seeds):\n",
    "    nonexact_data = generate_data_varying_sample_size(\n",
    "        data_parameters, include_intercept=bool(include_intercept)\n",
    "    )\n",
    "    EIGs = bart_eig_from_samples_varying_sample_size(\n",
    "        nonexact_data,\n",
    "        data_parameters,\n",
    "        prior_hyperparameters,\n",
    "        predictive_model_parameters,\n",
    "        conditional_model_param,\n",
    "        sampling_parameters\n",
    "    )\n",
    "    EIG_obs_closed_form_across_seeds.append(\n",
    "        [cand_values for cand_values in EIGs[0].values()]\n",
    "    )\n",
    "    EIG_caus_closed_form_across_seeds.append(\n",
    "        [cand_values for cand_values in EIGs[1].values()]\n",
    "    )\n",
    "\n",
    "\n",
    "EIG_obs_closed_form_across_seeds = np.vstack(EIG_obs_closed_form_across_seeds)  \n",
    "EIG_caus_closed_form_across_seeds = np.vstack(EIG_caus_closed_form_across_seeds)\n"
   ]
  },
  {
   "cell_type": "code",
   "execution_count": null,
   "metadata": {},
   "outputs": [],
   "source": [
    "text_l1 = \"p_assigned_to_host=p_assigned_to_cand2, approx 0.8 treated in host\"\n",
    "text_l2 = (\n",
    "    \"n_samples_inner_expectation_obs = \"\n",
    "    + str(n_samples_inner_expectation_obs)\n",
    "    + \"n_samples_outer_expectation_obs = \"\n",
    "    + str(n_samples_outer_expectation_obs)\n",
    "    + \", n_host = \"\n",
    "    + str(n_host)\n",
    "    + \", sigma_prior = sigma_rand_error = \"\n",
    "    + str(sigma_rand_error)\n",
    ")\n",
    "text_l4 = (\n",
    "    \"n_host = 200, sigma_prior = sigma_rand_error = 1, n_samples_inner_expectation_caus = \"\n",
    "    + str(n_samples_inner_expectation_caus)\n",
    ")"
   ]
  },
  {
   "cell_type": "code",
   "execution_count": null,
   "metadata": {},
   "outputs": [],
   "source": [
    "path_obs_closed_form = \"\"\n",
    "\n",
    "plot_array(\n",
    "    x=n_both_candidates_list,  # sample sizes\n",
    "    arr=EIG_obs_closed_form_across_seeds,\n",
    "    axis_names=[\"Sample size of candidate datasets\", \"EIG predictive\"],\n",
    "    dict_additional_plots=dict_additional_plots_obs_from_samples,\n",
    "    text=text_l1 + \"\\n\" + text_l2 + \"\\n\" + text_l3,\n",
    "    title=\"EIG predictive complementary - EIG predictive twin\",\n",
    ")"
   ]
  },
  {
   "cell_type": "code",
   "execution_count": null,
   "metadata": {},
   "outputs": [],
   "source": [
    "# path_obs_samples = '/Users/lucile/causal_info_gain/plots/eig_obs_samples'\n",
    "path_caus_samples = 0\n",
    "\n",
    "plot_array(\n",
    "    x = n_both_candidates_list,\n",
    "    arr = EIG_caus_closed_form_across_seeds,\n",
    "    axis_names=[\"Sample size of candidate datasets\", \"EIG predictive\"],\n",
    "    dict_additional_plots=dict_additional_plots_caus_from_samples,\n",
    "    text=text_l1 + \"\\n\" + text_l2 + \"\\n\" + text_l3 + \"\\n\" + text_l4,\n",
    "    title=\"EIG predictive complementary - EIG predictive twin\"\n",
    ")"
   ]
  },
  {
   "cell_type": "code",
   "execution_count": null,
   "metadata": {},
   "outputs": [],
   "source": []
  }
 ],
 "metadata": {
  "kernelspec": {
   "display_name": "pjake_kernel",
   "language": "python",
   "name": "pjake_kernel"
  },
  "language_info": {
   "codemirror_mode": {
    "name": "ipython",
    "version": 3
   },
   "file_extension": ".py",
   "mimetype": "text/x-python",
   "name": "python",
   "nbconvert_exporter": "python",
   "pygments_lexer": "ipython3",
   "version": "3.9.7"
  }
 },
 "nbformat": 4,
 "nbformat_minor": 2
}
